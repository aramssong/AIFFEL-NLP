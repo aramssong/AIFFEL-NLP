{
 "cells": [
  {
   "cell_type": "markdown",
   "id": "0eed7f48",
   "metadata": {},
   "source": [
    "# [GD-2] SentencePiece 사용하기"
   ]
  },
  {
   "cell_type": "markdown",
   "id": "b02f8552",
   "metadata": {},
   "source": [
    "---"
   ]
  },
  {
   "cell_type": "markdown",
   "id": "a5faca7b",
   "metadata": {},
   "source": [
    "# 🗼 목차\n",
    "Step 0. 라이브러리 불러오기  \n",
    "Step 1. 데이터 전처리  \n",
    "Step 2. 데이터 분석  \n",
    "Step 3. SentencePiece 모델 학습  \n",
    "Step 4. Tokenizer 함수 작성  \n",
    "Step 5. 모델 학습  \n",
    "Step 6. SentencePiece model 변경 (bpe)  \n",
    "Step 7. vocab_size 조정"
   ]
  },
  {
   "cell_type": "markdown",
   "id": "289ed725",
   "metadata": {},
   "source": [
    "---"
   ]
  },
  {
   "cell_type": "markdown",
   "id": "97e31e6f",
   "metadata": {},
   "source": [
    "# Step 0. 라이브러리 불러오기"
   ]
  },
  {
   "cell_type": "code",
   "execution_count": 1,
   "id": "30825561",
   "metadata": {
    "scrolled": true
   },
   "outputs": [
    {
     "name": "stdout",
     "output_type": "stream",
     "text": [
      "2.6.0\n",
      "1.22.2\n",
      "0.5.2\n"
     ]
    }
   ],
   "source": [
    "import tensorflow as tf\n",
    "import numpy as np\n",
    "import pandas as pd\n",
    "import matplotlib.pyplot as plt\n",
    "import konlpy\n",
    "\n",
    "import warnings\n",
    "warnings.filterwarnings(\"ignore\")\n",
    "\n",
    "print(tf.__version__)\n",
    "print(np.__version__)\n",
    "print(konlpy.__version__)"
   ]
  },
  {
   "cell_type": "markdown",
   "id": "d6eab920",
   "metadata": {},
   "source": [
    "---"
   ]
  },
  {
   "cell_type": "markdown",
   "id": "b43dd55d",
   "metadata": {},
   "source": [
    "# Step 1. 데이터 전처리"
   ]
  },
  {
   "cell_type": "markdown",
   "id": "e105c860",
   "metadata": {},
   "source": [
    "## 1.1 데이터 불러오기"
   ]
  },
  {
   "cell_type": "code",
   "execution_count": 2,
   "id": "3f6dfc63",
   "metadata": {},
   "outputs": [
    {
     "data": {
      "text/html": [
       "<div>\n",
       "<style scoped>\n",
       "    .dataframe tbody tr th:only-of-type {\n",
       "        vertical-align: middle;\n",
       "    }\n",
       "\n",
       "    .dataframe tbody tr th {\n",
       "        vertical-align: top;\n",
       "    }\n",
       "\n",
       "    .dataframe thead th {\n",
       "        text-align: right;\n",
       "    }\n",
       "</style>\n",
       "<table border=\"1\" class=\"dataframe\">\n",
       "  <thead>\n",
       "    <tr style=\"text-align: right;\">\n",
       "      <th></th>\n",
       "      <th>id</th>\n",
       "      <th>document</th>\n",
       "      <th>label</th>\n",
       "    </tr>\n",
       "  </thead>\n",
       "  <tbody>\n",
       "    <tr>\n",
       "      <th>0</th>\n",
       "      <td>8112052</td>\n",
       "      <td>어릴때보고 지금다시봐도 재밌어요ㅋㅋ</td>\n",
       "      <td>1</td>\n",
       "    </tr>\n",
       "    <tr>\n",
       "      <th>1</th>\n",
       "      <td>8132799</td>\n",
       "      <td>디자인을 배우는 학생으로, 외국디자이너와 그들이 일군 전통을 통해 발전해가는 문화산...</td>\n",
       "      <td>1</td>\n",
       "    </tr>\n",
       "    <tr>\n",
       "      <th>2</th>\n",
       "      <td>4655635</td>\n",
       "      <td>폴리스스토리 시리즈는 1부터 뉴까지 버릴께 하나도 없음.. 최고.</td>\n",
       "      <td>1</td>\n",
       "    </tr>\n",
       "    <tr>\n",
       "      <th>3</th>\n",
       "      <td>9251303</td>\n",
       "      <td>와.. 연기가 진짜 개쩔구나.. 지루할거라고 생각했는데 몰입해서 봤다.. 그래 이런...</td>\n",
       "      <td>1</td>\n",
       "    </tr>\n",
       "    <tr>\n",
       "      <th>4</th>\n",
       "      <td>10067386</td>\n",
       "      <td>안개 자욱한 밤하늘에 떠 있는 초승달 같은 영화.</td>\n",
       "      <td>1</td>\n",
       "    </tr>\n",
       "  </tbody>\n",
       "</table>\n",
       "</div>"
      ],
      "text/plain": [
       "         id                                           document  label\n",
       "0   8112052                                어릴때보고 지금다시봐도 재밌어요ㅋㅋ      1\n",
       "1   8132799  디자인을 배우는 학생으로, 외국디자이너와 그들이 일군 전통을 통해 발전해가는 문화산...      1\n",
       "2   4655635               폴리스스토리 시리즈는 1부터 뉴까지 버릴께 하나도 없음.. 최고.      1\n",
       "3   9251303  와.. 연기가 진짜 개쩔구나.. 지루할거라고 생각했는데 몰입해서 봤다.. 그래 이런...      1\n",
       "4  10067386                        안개 자욱한 밤하늘에 떠 있는 초승달 같은 영화.      1"
      ]
     },
     "execution_count": 2,
     "metadata": {},
     "output_type": "execute_result"
    }
   ],
   "source": [
    "data = pd.read_table('~/aiffel/nsmc/ratings.txt')\n",
    "data.head()"
   ]
  },
  {
   "cell_type": "code",
   "execution_count": 3,
   "id": "bcc9d793",
   "metadata": {},
   "outputs": [
    {
     "name": "stdout",
     "output_type": "stream",
     "text": [
      "데이터 개수 :  200000\n"
     ]
    }
   ],
   "source": [
    "print('데이터 개수 : ', len(data))"
   ]
  },
  {
   "cell_type": "markdown",
   "id": "0665be8b",
   "metadata": {},
   "source": [
    "## 1.2 결측치 제거"
   ]
  },
  {
   "cell_type": "code",
   "execution_count": 4,
   "id": "550d8598",
   "metadata": {},
   "outputs": [],
   "source": [
    "orig_len = len(data)"
   ]
  },
  {
   "cell_type": "markdown",
   "id": "ea68f6a9",
   "metadata": {},
   "source": [
    "* `document` 컬럼에 결측치가 8개가 있다."
   ]
  },
  {
   "cell_type": "code",
   "execution_count": 5,
   "id": "dd1376d6",
   "metadata": {},
   "outputs": [
    {
     "data": {
      "text/plain": [
       "id          0\n",
       "document    8\n",
       "label       0\n",
       "dtype: int64"
      ]
     },
     "execution_count": 5,
     "metadata": {},
     "output_type": "execute_result"
    }
   ],
   "source": [
    "data.isnull().sum()"
   ]
  },
  {
   "cell_type": "markdown",
   "id": "6ea262ba",
   "metadata": {},
   "source": [
    "* `dropna`를 사용하여 결측치를 제거해주자."
   ]
  },
  {
   "cell_type": "code",
   "execution_count": 6,
   "id": "874359e3",
   "metadata": {},
   "outputs": [
    {
     "name": "stdout",
     "output_type": "stream",
     "text": [
      "결측치 제거 후 데이터 개수 :  199992\n"
     ]
    }
   ],
   "source": [
    "data_dropna = data.dropna(axis = 0)\n",
    "\n",
    "print('결측치 제거 후 데이터 개수 : ', len(data_dropna))"
   ]
  },
  {
   "cell_type": "markdown",
   "id": "bca5378c",
   "metadata": {},
   "source": [
    "## 1.3 중복 제거"
   ]
  },
  {
   "cell_type": "markdown",
   "id": "970aa954",
   "metadata": {},
   "source": [
    "- 데이터프레임에서 중복 제거하려면 pandas의 `df.drop_duplicates`를 사용하면 된다."
   ]
  },
  {
   "cell_type": "code",
   "execution_count": 7,
   "id": "c0b767d2",
   "metadata": {},
   "outputs": [
    {
     "name": "stdout",
     "output_type": "stream",
     "text": [
      "중복 제거 후 데이터 개수 :  194543\n"
     ]
    }
   ],
   "source": [
    "cleaned_corpus = data_dropna.drop_duplicates(['document'])\n",
    "\n",
    "print('중복 제거 후 데이터 개수 : ', len(cleaned_corpus))"
   ]
  },
  {
   "cell_type": "markdown",
   "id": "f0d8aa1b",
   "metadata": {},
   "source": [
    "* 200,000개의 데이터에서 결측치, 중복 제거하여 194,543개의 데이터가 남았다."
   ]
  },
  {
   "cell_type": "code",
   "execution_count": 8,
   "id": "98424804",
   "metadata": {},
   "outputs": [
    {
     "name": "stdout",
     "output_type": "stream",
     "text": [
      "전처리 전 데이터 개수 :  200000\n",
      "결측치 제거 후 데이터 개수 :  199992\n",
      "중복 제거 후 데이터 개수 :  194543\n"
     ]
    }
   ],
   "source": [
    "print('전처리 전 데이터 개수 : ', len(data))\n",
    "print('결측치 제거 후 데이터 개수 : ', len(data_dropna))\n",
    "print('중복 제거 후 데이터 개수 : ', len(cleaned_corpus))"
   ]
  },
  {
   "cell_type": "markdown",
   "id": "8500ac92",
   "metadata": {},
   "source": [
    "---"
   ]
  },
  {
   "cell_type": "markdown",
   "id": "20e1ae51",
   "metadata": {},
   "source": [
    "# Step 2. 데이터 분석"
   ]
  },
  {
   "cell_type": "markdown",
   "id": "9489f4dc",
   "metadata": {},
   "source": [
    "- 결측치, 중복을 제거한 데이터프레임에서 리뷰만 가져와 `review` 변수에 할당하였다."
   ]
  },
  {
   "cell_type": "code",
   "execution_count": 9,
   "id": "f69e02e0",
   "metadata": {},
   "outputs": [],
   "source": [
    "review = cleaned_corpus['document']"
   ]
  },
  {
   "cell_type": "markdown",
   "id": "593b23a5",
   "metadata": {},
   "source": [
    "- 각 리뷰의 길이를 구하여 `corpus_length`라는 컬럼을 생성하여 기존 데이터프레임에 추가하였다."
   ]
  },
  {
   "cell_type": "code",
   "execution_count": 10,
   "id": "7184d59d",
   "metadata": {},
   "outputs": [],
   "source": [
    "new_review = []\n",
    "\n",
    "for i in review:\n",
    "    new_review.append(len(i))"
   ]
  },
  {
   "cell_type": "code",
   "execution_count": 11,
   "id": "82f75a81",
   "metadata": {},
   "outputs": [
    {
     "data": {
      "text/html": [
       "<div>\n",
       "<style scoped>\n",
       "    .dataframe tbody tr th:only-of-type {\n",
       "        vertical-align: middle;\n",
       "    }\n",
       "\n",
       "    .dataframe tbody tr th {\n",
       "        vertical-align: top;\n",
       "    }\n",
       "\n",
       "    .dataframe thead th {\n",
       "        text-align: right;\n",
       "    }\n",
       "</style>\n",
       "<table border=\"1\" class=\"dataframe\">\n",
       "  <thead>\n",
       "    <tr style=\"text-align: right;\">\n",
       "      <th></th>\n",
       "      <th>id</th>\n",
       "      <th>document</th>\n",
       "      <th>label</th>\n",
       "      <th>corpus_length</th>\n",
       "    </tr>\n",
       "  </thead>\n",
       "  <tbody>\n",
       "    <tr>\n",
       "      <th>0</th>\n",
       "      <td>8112052</td>\n",
       "      <td>어릴때보고 지금다시봐도 재밌어요ㅋㅋ</td>\n",
       "      <td>1</td>\n",
       "      <td>19</td>\n",
       "    </tr>\n",
       "    <tr>\n",
       "      <th>1</th>\n",
       "      <td>8132799</td>\n",
       "      <td>디자인을 배우는 학생으로, 외국디자이너와 그들이 일군 전통을 통해 발전해가는 문화산...</td>\n",
       "      <td>1</td>\n",
       "      <td>137</td>\n",
       "    </tr>\n",
       "    <tr>\n",
       "      <th>2</th>\n",
       "      <td>4655635</td>\n",
       "      <td>폴리스스토리 시리즈는 1부터 뉴까지 버릴께 하나도 없음.. 최고.</td>\n",
       "      <td>1</td>\n",
       "      <td>36</td>\n",
       "    </tr>\n",
       "    <tr>\n",
       "      <th>3</th>\n",
       "      <td>9251303</td>\n",
       "      <td>와.. 연기가 진짜 개쩔구나.. 지루할거라고 생각했는데 몰입해서 봤다.. 그래 이런...</td>\n",
       "      <td>1</td>\n",
       "      <td>54</td>\n",
       "    </tr>\n",
       "    <tr>\n",
       "      <th>4</th>\n",
       "      <td>10067386</td>\n",
       "      <td>안개 자욱한 밤하늘에 떠 있는 초승달 같은 영화.</td>\n",
       "      <td>1</td>\n",
       "      <td>27</td>\n",
       "    </tr>\n",
       "    <tr>\n",
       "      <th>...</th>\n",
       "      <td>...</td>\n",
       "      <td>...</td>\n",
       "      <td>...</td>\n",
       "      <td>...</td>\n",
       "    </tr>\n",
       "    <tr>\n",
       "      <th>199995</th>\n",
       "      <td>8963373</td>\n",
       "      <td>포켓 몬스터 짜가 ㅡㅡ;;</td>\n",
       "      <td>0</td>\n",
       "      <td>14</td>\n",
       "    </tr>\n",
       "    <tr>\n",
       "      <th>199996</th>\n",
       "      <td>3302770</td>\n",
       "      <td>쓰.레.기</td>\n",
       "      <td>0</td>\n",
       "      <td>5</td>\n",
       "    </tr>\n",
       "    <tr>\n",
       "      <th>199997</th>\n",
       "      <td>5458175</td>\n",
       "      <td>완전 사이코영화. 마지막은 더욱더 이 영화의질을 떨어트린다.</td>\n",
       "      <td>0</td>\n",
       "      <td>33</td>\n",
       "    </tr>\n",
       "    <tr>\n",
       "      <th>199998</th>\n",
       "      <td>6908648</td>\n",
       "      <td>왜난 재미없었지 ㅠㅠ 라따뚜이 보고나서 스머프 봐서 그런가 ㅋㅋ</td>\n",
       "      <td>0</td>\n",
       "      <td>35</td>\n",
       "    </tr>\n",
       "    <tr>\n",
       "      <th>199999</th>\n",
       "      <td>8548411</td>\n",
       "      <td>포풍저그가나가신다영차영차영차</td>\n",
       "      <td>0</td>\n",
       "      <td>15</td>\n",
       "    </tr>\n",
       "  </tbody>\n",
       "</table>\n",
       "<p>194543 rows × 4 columns</p>\n",
       "</div>"
      ],
      "text/plain": [
       "              id                                           document  label  \\\n",
       "0        8112052                                어릴때보고 지금다시봐도 재밌어요ㅋㅋ      1   \n",
       "1        8132799  디자인을 배우는 학생으로, 외국디자이너와 그들이 일군 전통을 통해 발전해가는 문화산...      1   \n",
       "2        4655635               폴리스스토리 시리즈는 1부터 뉴까지 버릴께 하나도 없음.. 최고.      1   \n",
       "3        9251303  와.. 연기가 진짜 개쩔구나.. 지루할거라고 생각했는데 몰입해서 봤다.. 그래 이런...      1   \n",
       "4       10067386                        안개 자욱한 밤하늘에 떠 있는 초승달 같은 영화.      1   \n",
       "...          ...                                                ...    ...   \n",
       "199995   8963373                                     포켓 몬스터 짜가 ㅡㅡ;;      0   \n",
       "199996   3302770                                              쓰.레.기      0   \n",
       "199997   5458175                  완전 사이코영화. 마지막은 더욱더 이 영화의질을 떨어트린다.      0   \n",
       "199998   6908648                왜난 재미없었지 ㅠㅠ 라따뚜이 보고나서 스머프 봐서 그런가 ㅋㅋ      0   \n",
       "199999   8548411                                    포풍저그가나가신다영차영차영차      0   \n",
       "\n",
       "        corpus_length  \n",
       "0                  19  \n",
       "1                 137  \n",
       "2                  36  \n",
       "3                  54  \n",
       "4                  27  \n",
       "...               ...  \n",
       "199995             14  \n",
       "199996              5  \n",
       "199997             33  \n",
       "199998             35  \n",
       "199999             15  \n",
       "\n",
       "[194543 rows x 4 columns]"
      ]
     },
     "execution_count": 11,
     "metadata": {},
     "output_type": "execute_result"
    }
   ],
   "source": [
    "cleaned_corpus['corpus_length'] = new_review\n",
    "cleaned_corpus"
   ]
  },
  {
   "cell_type": "markdown",
   "id": "bb3d2110",
   "metadata": {},
   "source": [
    "## 2.1 문장 길이 확인\n",
    "* 문장의 길이 분포를 시각화하여 확인해보자."
   ]
  },
  {
   "cell_type": "code",
   "execution_count": 12,
   "id": "3dde322f",
   "metadata": {
    "scrolled": true
   },
   "outputs": [
    {
     "name": "stdout",
     "output_type": "stream",
     "text": [
      "Data Size: 194543\n",
      "문장의 최단 길이: 1\n",
      "문장의 최장 길이: 142\n",
      "문장의 평균 길이: 36\n"
     ]
    },
    {
     "data": {
      "image/png": "[encoded data removed]",
      "text/plain": [
       "<Figure size 432x288 with 1 Axes>"
      ]
     },
     "metadata": {
      "needs_background": "light"
     },
     "output_type": "display_data"
    }
   ],
   "source": [
    "min_len = 999   # 임의로 절대로 min_len이 될 수 없는 수로 설정\n",
    "max_len = 0     # 임의로 절대로 max_len이 될 수 없는 수로 설정\n",
    "sum_len = 0\n",
    "\n",
    "print(\"Data Size:\", len(cleaned_corpus))\n",
    "\n",
    "for sen in review:\n",
    "    length = len(sen)\n",
    "    if min_len > length: min_len = length\n",
    "    if max_len < length: max_len = length\n",
    "    sum_len += length\n",
    "\n",
    "print(\"문장의 최단 길이:\", min_len)\n",
    "print(\"문장의 최장 길이:\", max_len)\n",
    "print(\"문장의 평균 길이:\", sum_len // len(review))\n",
    "\n",
    "sentence_length = np.zeros((max_len), dtype=np.int)\n",
    "\n",
    "for sen in review:\n",
    "    sentence_length[len(sen)-1] += 1\n",
    "\n",
    "plt.bar(range(max_len), sentence_length, width=1.0)\n",
    "plt.title(\"Sentence Length Distribution\")\n",
    "plt.show()"
   ]
  },
  {
   "cell_type": "markdown",
   "id": "22058a99",
   "metadata": {},
   "source": [
    "### 2.1.1 길이가 1인 문장\n",
    "* 길이가 1인 문장이 무엇인지 확인해보자."
   ]
  },
  {
   "cell_type": "code",
   "execution_count": 13,
   "id": "c362f18c",
   "metadata": {},
   "outputs": [],
   "source": [
    "def check_sentence_with_length(review, length):\n",
    "    count = 0\n",
    "    \n",
    "    for sen in review:\n",
    "        if len(sen) == length:\n",
    "            print(sen)\n",
    "            count += 1\n",
    "            if count > 100: return"
   ]
  },
  {
   "cell_type": "markdown",
   "id": "b8017040",
   "metadata": {},
   "source": [
    "* , ㅇ, ㅋ, ㅆ 등 의미없는 것들이 있는 반면, 굿, 짱, 잼, 쉣 등 의미가 담긴 단어가 있는 것을 확인할 수 있다."
   ]
  },
  {
   "cell_type": "code",
   "execution_count": 14,
   "id": "3f8b9470",
   "metadata": {
    "scrolled": true
   },
   "outputs": [
    {
     "name": "stdout",
     "output_type": "stream",
     "text": [
      "굿\n",
      "핡\n",
      "휴\n",
      "시\n",
      "ㅋ\n",
      "ㅇ\n",
      "‥\n",
      "O\n",
      "갑\n",
      "ㅎ\n",
      ".\n",
      "올\n",
      "헷\n",
      "g\n",
      "♥\n",
      "짱\n",
      "ㅆ\n",
      "굳\n",
      "잼\n",
      "ㅁ\n",
      "?\n",
      "애\n",
      "흠\n",
      "!\n",
      "찜\n",
      "b\n",
      ",\n",
      "1\n",
      "9\n",
      "♬\n",
      "ㅗ\n",
      "ㄳ\n",
      "ㄴ\n",
      "호\n",
      "a\n",
      "d\n",
      "f\n",
      "음\n",
      "헐\n",
      "캬\n",
      "린\n",
      "업\n",
      "乃\n",
      "ㅠ\n",
      ";\n",
      "·\n",
      "k\n",
      "움\n",
      "ㄱ\n",
      "쩜\n",
      "-\n",
      "군\n",
      "ㅉ\n",
      "훗\n",
      "z\n",
      "쨩\n",
      "뿌\n",
      "♡\n",
      "하\n",
      "h\n",
      "ㅍ\n",
      "꽉\n",
      "토\n",
      "귯\n",
      "아\n",
      "오\n",
      "ㅣ\n",
      "봐\n",
      "웅\n",
      "네\n",
      "ㅂ\n",
      "꿈\n",
      "헉\n",
      "와\n",
      "뻑\n",
      "걍\n",
      "헝\n",
      "우\n",
      "즛\n",
      "풉\n",
      "4\n",
      "쀍\n",
      "ㄹ\n",
      "삼\n",
      "쒯\n",
      "즐\n",
      "함\n",
      "0\n",
      "진\n",
      "악\n",
      "풋\n",
      "쩝\n",
      "욜\n",
      "ㄷ\n",
      "흐\n",
      "싫\n",
      "ㅜ\n",
      "잏\n",
      "허\n",
      "엿\n",
      "쉣\n"
     ]
    }
   ],
   "source": [
    "check_sentence_with_length(review, 1)"
   ]
  },
  {
   "cell_type": "markdown",
   "id": "8d04287b",
   "metadata": {},
   "source": [
    "### 2.1.2 길이가 긴 문장\n",
    "* 대부분 데이터가 앞 쪽에 몰려있지만 최장길이 142 부근에도 데이터가 제법 있는 것으로 확인이 된다.\n",
    "* 어떠한 문장인지 확인해보자."
   ]
  },
  {
   "cell_type": "code",
   "execution_count": 15,
   "id": "a879fae1",
   "metadata": {
    "scrolled": true
   },
   "outputs": [
    {
     "name": "stdout",
     "output_type": "stream",
     "text": [
      "영화 초반을 보면서 ' 좀 허항된 . 황당한 코믹스런 ' 연출이 되겠다란 생각을 하고 보기시작했는데 .. 연주가 처음 시작되는 부분에서 저도 모르게 눈가가 초촉해 지기시작하더군요 .. 이유는 모르겠네요 ... 자유에 대한 갈증과 박해에 대한 내용을 &gt\n"
     ]
    }
   ],
   "source": [
    "check_sentence_with_length(review, 142)"
   ]
  },
  {
   "cell_type": "markdown",
   "id": "82c51a9c",
   "metadata": {},
   "source": [
    "* 문장의 수가 140 이상인 문장 길이의 데이터에 어떠한 것이 있는지 인덱스로 추출해보자."
   ]
  },
  {
   "cell_type": "code",
   "execution_count": 16,
   "id": "35c86b64",
   "metadata": {
    "scrolled": true
   },
   "outputs": [
    {
     "name": "stdout",
     "output_type": "stream",
     "text": [
      "Outlier Index: 2\n",
      "Outlier Index: 3\n",
      "Outlier Index: 4\n",
      "Outlier Index: 5\n",
      "Outlier Index: 6\n",
      "Outlier Index: 7\n",
      "Outlier Index: 8\n",
      "Outlier Index: 9\n",
      "Outlier Index: 10\n",
      "Outlier Index: 11\n",
      "Outlier Index: 12\n",
      "Outlier Index: 13\n",
      "Outlier Index: 14\n",
      "Outlier Index: 15\n",
      "Outlier Index: 16\n",
      "Outlier Index: 17\n",
      "Outlier Index: 18\n",
      "Outlier Index: 19\n",
      "Outlier Index: 20\n",
      "Outlier Index: 21\n",
      "Outlier Index: 22\n",
      "Outlier Index: 23\n",
      "Outlier Index: 24\n",
      "Outlier Index: 25\n",
      "Outlier Index: 26\n",
      "Outlier Index: 27\n",
      "Outlier Index: 28\n",
      "Outlier Index: 29\n",
      "Outlier Index: 30\n",
      "Outlier Index: 31\n",
      "Outlier Index: 32\n",
      "Outlier Index: 33\n",
      "Outlier Index: 34\n",
      "Outlier Index: 35\n",
      "Outlier Index: 36\n",
      "Outlier Index: 37\n",
      "Outlier Index: 38\n",
      "Outlier Index: 39\n",
      "Outlier Index: 40\n",
      "Outlier Index: 41\n",
      "Outlier Index: 42\n",
      "Outlier Index: 43\n",
      "Outlier Index: 44\n",
      "Outlier Index: 45\n",
      "Outlier Index: 46\n",
      "Outlier Index: 47\n",
      "Outlier Index: 48\n",
      "Outlier Index: 49\n",
      "Outlier Index: 50\n",
      "Outlier Index: 51\n",
      "Outlier Index: 52\n",
      "Outlier Index: 53\n",
      "Outlier Index: 54\n",
      "Outlier Index: 55\n",
      "Outlier Index: 56\n",
      "Outlier Index: 57\n",
      "Outlier Index: 58\n",
      "Outlier Index: 59\n",
      "Outlier Index: 60\n",
      "Outlier Index: 61\n",
      "Outlier Index: 62\n",
      "Outlier Index: 63\n",
      "Outlier Index: 64\n",
      "Outlier Index: 65\n",
      "Outlier Index: 66\n",
      "Outlier Index: 67\n",
      "Outlier Index: 68\n",
      "Outlier Index: 69\n",
      "Outlier Index: 70\n",
      "Outlier Index: 71\n",
      "Outlier Index: 72\n",
      "Outlier Index: 73\n",
      "Outlier Index: 74\n",
      "Outlier Index: 75\n",
      "Outlier Index: 76\n",
      "Outlier Index: 77\n",
      "Outlier Index: 78\n",
      "Outlier Index: 79\n",
      "Outlier Index: 80\n",
      "Outlier Index: 81\n",
      "Outlier Index: 82\n",
      "Outlier Index: 83\n",
      "Outlier Index: 84\n",
      "Outlier Index: 85\n",
      "Outlier Index: 86\n",
      "Outlier Index: 87\n",
      "Outlier Index: 88\n",
      "Outlier Index: 89\n",
      "Outlier Index: 90\n",
      "Outlier Index: 91\n",
      "Outlier Index: 92\n",
      "Outlier Index: 93\n",
      "Outlier Index: 94\n",
      "Outlier Index: 95\n",
      "Outlier Index: 96\n",
      "Outlier Index: 97\n",
      "Outlier Index: 98\n",
      "Outlier Index: 99\n",
      "Outlier Index: 100\n",
      "Outlier Index: 101\n",
      "Outlier Index: 102\n",
      "Outlier Index: 103\n",
      "Outlier Index: 104\n",
      "Outlier Index: 105\n",
      "Outlier Index: 106\n",
      "Outlier Index: 107\n",
      "Outlier Index: 108\n",
      "Outlier Index: 109\n",
      "Outlier Index: 110\n",
      "Outlier Index: 111\n",
      "Outlier Index: 112\n",
      "Outlier Index: 113\n",
      "Outlier Index: 114\n",
      "Outlier Index: 115\n",
      "Outlier Index: 116\n",
      "Outlier Index: 117\n",
      "Outlier Index: 118\n",
      "Outlier Index: 119\n",
      "Outlier Index: 120\n",
      "Outlier Index: 121\n",
      "Outlier Index: 122\n",
      "Outlier Index: 123\n",
      "Outlier Index: 124\n",
      "Outlier Index: 125\n",
      "Outlier Index: 126\n",
      "Outlier Index: 127\n",
      "Outlier Index: 128\n",
      "Outlier Index: 129\n",
      "Outlier Index: 130\n",
      "Outlier Index: 131\n",
      "Outlier Index: 132\n",
      "Outlier Index: 133\n",
      "Outlier Index: 134\n",
      "Outlier Index: 135\n",
      "Outlier Index: 136\n",
      "Outlier Index: 137\n",
      "Outlier Index: 138\n",
      "Outlier Index: 139\n",
      "Outlier Index: 140\n"
     ]
    }
   ],
   "source": [
    "for idx, _sum in enumerate(sentence_length):\n",
    "    # 문장의 수가 140 이상인 문장 길이를 추출합니다.\n",
    "    if _sum >= 140:\n",
    "        print(\"Outlier Index:\", idx+1)"
   ]
  },
  {
   "cell_type": "code",
   "execution_count": 17,
   "id": "68aba12f",
   "metadata": {
    "scrolled": false
   },
   "outputs": [
    {
     "data": {
      "text/plain": [
       "array([ 124,  460,  793, 1222, 1469, 1882, 2187, 2270, 2440, 3379, 4459,\n",
       "       5711, 5970, 5848, 5518, 5265, 5005, 4947, 4806, 4626, 4542, 4436,\n",
       "       4264, 4129, 4073, 3973, 3865, 3809, 3743, 3665, 3561, 3566, 3353,\n",
       "       3339, 3036, 2831, 2736, 2736, 2775, 2856, 2486, 2486, 2495, 2625,\n",
       "       2599, 2257, 1660, 1311, 1079,  968,  893,  844,  799,  789,  765,\n",
       "        678,  686,  654,  658,  648,  614,  554,  600,  555,  544,  554,\n",
       "        528,  528,  473,  493,  443,  477,  469,  443,  403,  437,  422,\n",
       "        388,  398,  365,  372,  398,  380,  381,  326,  350,  327,  308,\n",
       "        333,  332,  260,  286,  300,  281,  291,  255,  261,  271,  283,\n",
       "        246,  231,  233,  223,  224,  244,  221,  223,  216,  211,  198,\n",
       "        185,  206,  199,  215,  177,  178,  178,  219,  198,  199,  195,\n",
       "        183,  221,  192,  226,  194,  218,  218,  247,  245,  252,  276,\n",
       "        304,  350,  380,  452,  514,  589,  802, 1328,    0,    1])"
      ]
     },
     "execution_count": 17,
     "metadata": {},
     "output_type": "execute_result"
    }
   ],
   "source": [
    "sentence_length"
   ]
  },
  {
   "cell_type": "markdown",
   "id": "7b1715b3",
   "metadata": {},
   "source": [
    "## 2.2 최장 길이(max_len) 정하기"
   ]
  },
  {
   "cell_type": "markdown",
   "id": "badff610",
   "metadata": {},
   "source": [
    "- 데이터의 길이 별 분포를 확인하기 위해 `box plot`을 그려보았다."
   ]
  },
  {
   "cell_type": "code",
   "execution_count": 18,
   "id": "0e3165e2",
   "metadata": {
    "scrolled": false
   },
   "outputs": [
    {
     "data": {
      "image/png": "[encoded data removed]",
      "text/plain": [
       "<Figure size 360x720 with 1 Axes>"
      ]
     },
     "metadata": {
      "needs_background": "light"
     },
     "output_type": "display_data"
    }
   ],
   "source": [
    "text_len = [len(sen) for sen in review]\n",
    "\n",
    "plt.figure(figsize = (5,10))\n",
    "plt.boxplot(text_len)\n",
    "plt.show()"
   ]
  },
  {
   "cell_type": "markdown",
   "id": "d849f056",
   "metadata": {},
   "source": [
    "- 조금 더 정확한 수치를 파악하기 위해서 사분위수를 구하였다.\n",
    "- [[Pandas로 사분위수 구하기]](https://sosomemo.tistory.com/34)\n",
    "- [[box plot 참고 자료]](https://leebaro.tistory.com/entry/%EB%B0%95%EC%8A%A4-%ED%94%8C%EB%A1%AFbox-plot-%EC%84%A4%EB%AA%85)"
   ]
  },
  {
   "cell_type": "code",
   "execution_count": 19,
   "id": "e7e7453f",
   "metadata": {},
   "outputs": [
    {
     "name": "stdout",
     "output_type": "stream",
     "text": [
      "Q1 =  16.0\n",
      "Q2 =  27.0\n",
      "Q3 =  43.0\n",
      "IQR =  27.0\n",
      "MAX =  83.5\n"
     ]
    }
   ],
   "source": [
    "num = pd.Series(text_len)\n",
    "\n",
    "Q1 = num.quantile(.25)\n",
    "Q2 = num.quantile(.5)\n",
    "Q3 = num.quantile(.75)\n",
    "IQR = Q3 - Q1\n",
    "MAX = Q3 + (1.5 * IQR)\n",
    "\n",
    "print('Q1 = ', Q1)  # 제 1사분위수\n",
    "print('Q2 = ', Q2)  # 중위수\n",
    "print('Q3 = ', Q3)   #제 3사분위수\n",
    "print('IQR = ', IQR)  # 사분위간 범위\n",
    "print('MAX = ', MAX)  # 최댓값"
   ]
  },
  {
   "cell_type": "code",
   "execution_count": 20,
   "id": "164eaa39",
   "metadata": {},
   "outputs": [
    {
     "name": "stdout",
     "output_type": "stream",
     "text": [
      "=3\n"
     ]
    }
   ],
   "source": [
    "# below_threshold_len : 데이터의 몇 %가 최대 길이 안에 들어오는지 계산하는 함수\n",
    "\n",
    "def below_threshold_len(max_len, nested_list):\n",
    "    cnt = 0\n",
    "    for s in nested_list:\n",
    "        if(len(s) <= max_len):\n",
    "            cnt = cnt + 1\n",
    "    print('전체 샘플 중 길이가 %s 이하인 샘플의 비율: %s'%(max_len, (cnt / len(nested_list))*100))\n",
    "print('=3')"
   ]
  },
  {
   "cell_type": "markdown",
   "id": "d1c7d7da",
   "metadata": {},
   "source": [
    "- 너무 많은 데이터를 제거하면 안 될 것 같아 `max_len`을 100, 또는 최댓값인 83으로 설정하였으나 정확도가 매우 떨어져 제3사분위수로 설정하여 진행해보았다."
   ]
  },
  {
   "cell_type": "code",
   "execution_count": 21,
   "id": "7ac6d618",
   "metadata": {},
   "outputs": [
    {
     "name": "stdout",
     "output_type": "stream",
     "text": [
      "전체 샘플 중 길이가 142 이하인 샘플의 비율: 100.0\n",
      "전체 샘플 중 길이가 83 이하인 샘플의 비율: 91.43839665266805\n",
      "전체 샘플 중 길이가 60 이하인 샘플의 비율: 85.86739178484962\n",
      "전체 샘플 중 길이가 43 이하인 샘플의 비율: 75.63160843618121\n"
     ]
    }
   ],
   "source": [
    "below_threshold_len(max_len, review)\n",
    "below_threshold_len(83, review)   # 최댓값 \n",
    "below_threshold_len(60, review)  \n",
    "below_threshold_len(43, review)   # 제 3사분위수"
   ]
  },
  {
   "cell_type": "code",
   "execution_count": 22,
   "id": "95e0b33f",
   "metadata": {},
   "outputs": [
    {
     "data": {
      "image/png": "[encoded data removed]",
      "text/plain": [
       "<Figure size 432x288 with 1 Axes>"
      ]
     },
     "metadata": {
      "needs_background": "light"
     },
     "output_type": "display_data"
    }
   ],
   "source": [
    "max_len = 43\n",
    "\n",
    "# 길이 조건에 맞는 문장만 선택합니다.\n",
    "filtered_corpus = [s for s in review if len(s) <= max_len]\n",
    "\n",
    "removed_data = cleaned_corpus[cleaned_corpus['corpus_length']<= max_len]\n",
    "\n",
    "# 분포도를 다시 그려봅니다.\n",
    "sentence_length = np.zeros((max_len), dtype=np.int)\n",
    "\n",
    "for sen in filtered_corpus:\n",
    "    sentence_length[len(sen)-1] += 1\n",
    "\n",
    "plt.bar(range(max_len), sentence_length, width=1.0)\n",
    "plt.title(\"Sentence Length Distribution\")\n",
    "plt.show()"
   ]
  },
  {
   "cell_type": "code",
   "execution_count": 23,
   "id": "19849b94",
   "metadata": {},
   "outputs": [
    {
     "data": {
      "text/html": [
       "<div>\n",
       "<style scoped>\n",
       "    .dataframe tbody tr th:only-of-type {\n",
       "        vertical-align: middle;\n",
       "    }\n",
       "\n",
       "    .dataframe tbody tr th {\n",
       "        vertical-align: top;\n",
       "    }\n",
       "\n",
       "    .dataframe thead th {\n",
       "        text-align: right;\n",
       "    }\n",
       "</style>\n",
       "<table border=\"1\" class=\"dataframe\">\n",
       "  <thead>\n",
       "    <tr style=\"text-align: right;\">\n",
       "      <th></th>\n",
       "      <th>id</th>\n",
       "      <th>document</th>\n",
       "      <th>label</th>\n",
       "      <th>corpus_length</th>\n",
       "    </tr>\n",
       "  </thead>\n",
       "  <tbody>\n",
       "    <tr>\n",
       "      <th>0</th>\n",
       "      <td>8112052</td>\n",
       "      <td>어릴때보고 지금다시봐도 재밌어요ㅋㅋ</td>\n",
       "      <td>1</td>\n",
       "      <td>19</td>\n",
       "    </tr>\n",
       "    <tr>\n",
       "      <th>2</th>\n",
       "      <td>4655635</td>\n",
       "      <td>폴리스스토리 시리즈는 1부터 뉴까지 버릴께 하나도 없음.. 최고.</td>\n",
       "      <td>1</td>\n",
       "      <td>36</td>\n",
       "    </tr>\n",
       "    <tr>\n",
       "      <th>4</th>\n",
       "      <td>10067386</td>\n",
       "      <td>안개 자욱한 밤하늘에 떠 있는 초승달 같은 영화.</td>\n",
       "      <td>1</td>\n",
       "      <td>27</td>\n",
       "    </tr>\n",
       "    <tr>\n",
       "      <th>5</th>\n",
       "      <td>2190435</td>\n",
       "      <td>사랑을 해본사람이라면 처음부터 끝까지 웃을수 있는영화</td>\n",
       "      <td>1</td>\n",
       "      <td>29</td>\n",
       "    </tr>\n",
       "    <tr>\n",
       "      <th>6</th>\n",
       "      <td>9279041</td>\n",
       "      <td>완전 감동입니다 다시봐도 감동</td>\n",
       "      <td>1</td>\n",
       "      <td>16</td>\n",
       "    </tr>\n",
       "    <tr>\n",
       "      <th>...</th>\n",
       "      <td>...</td>\n",
       "      <td>...</td>\n",
       "      <td>...</td>\n",
       "      <td>...</td>\n",
       "    </tr>\n",
       "    <tr>\n",
       "      <th>199995</th>\n",
       "      <td>8963373</td>\n",
       "      <td>포켓 몬스터 짜가 ㅡㅡ;;</td>\n",
       "      <td>0</td>\n",
       "      <td>14</td>\n",
       "    </tr>\n",
       "    <tr>\n",
       "      <th>199996</th>\n",
       "      <td>3302770</td>\n",
       "      <td>쓰.레.기</td>\n",
       "      <td>0</td>\n",
       "      <td>5</td>\n",
       "    </tr>\n",
       "    <tr>\n",
       "      <th>199997</th>\n",
       "      <td>5458175</td>\n",
       "      <td>완전 사이코영화. 마지막은 더욱더 이 영화의질을 떨어트린다.</td>\n",
       "      <td>0</td>\n",
       "      <td>33</td>\n",
       "    </tr>\n",
       "    <tr>\n",
       "      <th>199998</th>\n",
       "      <td>6908648</td>\n",
       "      <td>왜난 재미없었지 ㅠㅠ 라따뚜이 보고나서 스머프 봐서 그런가 ㅋㅋ</td>\n",
       "      <td>0</td>\n",
       "      <td>35</td>\n",
       "    </tr>\n",
       "    <tr>\n",
       "      <th>199999</th>\n",
       "      <td>8548411</td>\n",
       "      <td>포풍저그가나가신다영차영차영차</td>\n",
       "      <td>0</td>\n",
       "      <td>15</td>\n",
       "    </tr>\n",
       "  </tbody>\n",
       "</table>\n",
       "<p>147136 rows × 4 columns</p>\n",
       "</div>"
      ],
      "text/plain": [
       "              id                              document  label  corpus_length\n",
       "0        8112052                   어릴때보고 지금다시봐도 재밌어요ㅋㅋ      1             19\n",
       "2        4655635  폴리스스토리 시리즈는 1부터 뉴까지 버릴께 하나도 없음.. 최고.      1             36\n",
       "4       10067386           안개 자욱한 밤하늘에 떠 있는 초승달 같은 영화.      1             27\n",
       "5        2190435         사랑을 해본사람이라면 처음부터 끝까지 웃을수 있는영화      1             29\n",
       "6        9279041                      완전 감동입니다 다시봐도 감동      1             16\n",
       "...          ...                                   ...    ...            ...\n",
       "199995   8963373                        포켓 몬스터 짜가 ㅡㅡ;;      0             14\n",
       "199996   3302770                                 쓰.레.기      0              5\n",
       "199997   5458175     완전 사이코영화. 마지막은 더욱더 이 영화의질을 떨어트린다.      0             33\n",
       "199998   6908648   왜난 재미없었지 ㅠㅠ 라따뚜이 보고나서 스머프 봐서 그런가 ㅋㅋ      0             35\n",
       "199999   8548411                       포풍저그가나가신다영차영차영차      0             15\n",
       "\n",
       "[147136 rows x 4 columns]"
      ]
     },
     "execution_count": 23,
     "metadata": {},
     "output_type": "execute_result"
    }
   ],
   "source": [
    "removed_data"
   ]
  },
  {
   "cell_type": "code",
   "execution_count": 24,
   "id": "1fcabbed",
   "metadata": {},
   "outputs": [
    {
     "data": {
      "text/plain": [
       "array([ 124,  460,  793, 1222, 1469, 1882, 2187, 2270, 2440, 3379, 4459,\n",
       "       5711, 5970, 5848, 5518, 5265, 5005, 4947, 4806, 4626, 4542, 4436,\n",
       "       4264, 4129, 4073, 3973, 3865, 3809, 3743, 3665, 3561, 3566, 3353,\n",
       "       3339, 3036, 2831, 2736, 2736, 2775, 2856, 2486, 2486, 2495])"
      ]
     },
     "execution_count": 24,
     "metadata": {},
     "output_type": "execute_result"
    }
   ],
   "source": [
    "sentence_length"
   ]
  },
  {
   "cell_type": "code",
   "execution_count": 25,
   "id": "69207763",
   "metadata": {},
   "outputs": [
    {
     "name": "stdout",
     "output_type": "stream",
     "text": [
      "전처리 전 데이터 개수 :  200000\n",
      "결측치 제거 후 데이터 개수 :  199992\n",
      "중복 제거 후 데이터 개수 :  194543\n",
      "maxlen 설정 후 데이터 개수 :  147136\n",
      "최종 데이터 양(%) :  73.568\n"
     ]
    }
   ],
   "source": [
    "print('전처리 전 데이터 개수 : ', len(data))\n",
    "print('결측치 제거 후 데이터 개수 : ', len(data_dropna))\n",
    "print('중복 제거 후 데이터 개수 : ', len(cleaned_corpus))\n",
    "print('maxlen 설정 후 데이터 개수 : ', len(removed_data))\n",
    "print('최종 데이터 양(%) : ', (len(removed_data) / len(data) * 100))"
   ]
  },
  {
   "cell_type": "markdown",
   "id": "01db2533",
   "metadata": {},
   "source": [
    "---"
   ]
  },
  {
   "cell_type": "markdown",
   "id": "53d2d019",
   "metadata": {},
   "source": [
    "# Step 3. SentencePiece 모델 학습\n",
    "- model_type으로 디폴트 적용이 되어 있는 `unigram`으로 하여 SentencePiece 모델을 학습해보자.\n",
    "- `vocab_size`는 8,000으로 하여 우선 진행해보기로 한다.  \n",
    "- ▼ SentencePiece 관련 자료  \n",
    "[[참고 자료1]](https://paul-hyun.github.io/vocab-with-sentencepiece/)\n",
    "[[참고 자료2]](https://data-make.tistory.com/692)\n",
    "[[참고 자료3]](http://tensorboy.com/bpe-sentencepiece) "
   ]
  },
  {
   "cell_type": "code",
   "execution_count": 26,
   "id": "2b3b19ac",
   "metadata": {
    "scrolled": true
   },
   "outputs": [
    {
     "name": "stderr",
     "output_type": "stream",
     "text": [
      "sentencepiece_trainer.cc(177) LOG(INFO) Running command: --input=/aiffel/aiffel/sp_tokenizer/data/korean-english-park.train.ko.temp --model_prefix=korean_spm --vocab_size=8000\n",
      "sentencepiece_trainer.cc(77) LOG(INFO) Starts training with : \n",
      "trainer_spec {\n",
      "  input: /aiffel/aiffel/sp_tokenizer/data/korean-english-park.train.ko.temp\n",
      "  input_format: \n",
      "  model_prefix: korean_spm\n",
      "  model_type: UNIGRAM\n",
      "  vocab_size: 8000\n",
      "  self_test_sample_size: 0\n",
      "  character_coverage: 0.9995\n",
      "  input_sentence_size: 0\n",
      "  shuffle_input_sentence: 1\n",
      "  seed_sentencepiece_size: 1000000\n",
      "  shrinking_factor: 0.75\n",
      "  max_sentence_length: 4192\n",
      "  num_threads: 16\n",
      "  num_sub_iterations: 2\n",
      "  max_sentencepiece_length: 16\n",
      "  split_by_unicode_script: 1\n",
      "  split_by_number: 1\n",
      "  split_by_whitespace: 1\n",
      "  split_digits: 0\n",
      "  treat_whitespace_as_suffix: 0\n",
      "  allow_whitespace_only_pieces: 0\n",
      "  required_chars: \n",
      "  byte_fallback: 0\n",
      "  vocabulary_output_piece_score: 1\n",
      "  train_extremely_large_corpus: 0\n",
      "  hard_vocab_limit: 1\n",
      "  use_all_vocab: 0\n",
      "  unk_id: 0\n",
      "  bos_id: 1\n",
      "  eos_id: 2\n",
      "  pad_id: -1\n",
      "  unk_piece: <unk>\n",
      "  bos_piece: <s>\n",
      "  eos_piece: </s>\n",
      "  pad_piece: <pad>\n",
      "  unk_surface:  ⁇ \n",
      "}\n",
      "normalizer_spec {\n",
      "  name: nmt_nfkc\n",
      "  add_dummy_prefix: 1\n",
      "  remove_extra_whitespaces: 1\n",
      "  escape_whitespaces: 1\n",
      "  normalization_rule_tsv: \n",
      "}\n",
      "denormalizer_spec {}\n",
      "trainer_interface.cc(329) LOG(INFO) SentenceIterator is not specified. Using MultiFileSentenceIterator.\n",
      "trainer_interface.cc(178) LOG(INFO) Loading corpus: /aiffel/aiffel/sp_tokenizer/data/korean-english-park.train.ko.temp\n",
      "trainer_interface.cc(385) LOG(INFO) Loaded all 147136 sentences\n",
      "trainer_interface.cc(400) LOG(INFO) Adding meta_piece: <unk>\n",
      "trainer_interface.cc(400) LOG(INFO) Adding meta_piece: <s>\n",
      "trainer_interface.cc(400) LOG(INFO) Adding meta_piece: </s>\n",
      "trainer_interface.cc(405) LOG(INFO) Normalizing sentences...\n",
      "trainer_interface.cc(466) LOG(INFO) all chars count=3488286\n",
      "trainer_interface.cc(477) LOG(INFO) Done: 99.95% characters are covered.\n",
      "trainer_interface.cc(487) LOG(INFO) Alphabet size=1765\n",
      "trainer_interface.cc(488) LOG(INFO) Final character coverage=0.9995\n",
      "trainer_interface.cc(520) LOG(INFO) Done! preprocessed 147136 sentences.\n",
      "unigram_model_trainer.cc(139) LOG(INFO) Making suffix array...\n",
      "unigram_model_trainer.cc(143) LOG(INFO) Extracting frequent sub strings...\n",
      "unigram_model_trainer.cc(194) LOG(INFO) Initialized 213776 seed sentencepieces\n",
      "trainer_interface.cc(526) LOG(INFO) Tokenizing input sentences with whitespace: 147136\n",
      "trainer_interface.cc(537) LOG(INFO) Done! 243347\n",
      "unigram_model_trainer.cc(489) LOG(INFO) Using 243347 sentences for EM training\n",
      "unigram_model_trainer.cc(505) LOG(INFO) EM sub_iter=0 size=111109 obj=15.2798 num_tokens=571024 num_tokens/piece=5.13931\n",
      "unigram_model_trainer.cc(505) LOG(INFO) EM sub_iter=1 size=103270 obj=14.2298 num_tokens=574642 num_tokens/piece=5.56446\n",
      "unigram_model_trainer.cc(505) LOG(INFO) EM sub_iter=0 size=77410 obj=14.3514 num_tokens=600068 num_tokens/piece=7.75182\n",
      "unigram_model_trainer.cc(505) LOG(INFO) EM sub_iter=1 size=77298 obj=14.2909 num_tokens=601067 num_tokens/piece=7.77597\n",
      "unigram_model_trainer.cc(505) LOG(INFO) EM sub_iter=0 size=57967 obj=14.5563 num_tokens=633130 num_tokens/piece=10.9222\n",
      "unigram_model_trainer.cc(505) LOG(INFO) EM sub_iter=1 size=57965 obj=14.4875 num_tokens=633405 num_tokens/piece=10.9274\n",
      "unigram_model_trainer.cc(505) LOG(INFO) EM sub_iter=0 size=43473 obj=14.7776 num_tokens=664262 num_tokens/piece=15.2799\n",
      "unigram_model_trainer.cc(505) LOG(INFO) EM sub_iter=1 size=43473 obj=14.7096 num_tokens=664268 num_tokens/piece=15.28\n",
      "unigram_model_trainer.cc(505) LOG(INFO) EM sub_iter=0 size=32604 obj=15.0347 num_tokens=697358 num_tokens/piece=21.3887\n",
      "unigram_model_trainer.cc(505) LOG(INFO) EM sub_iter=1 size=32604 obj=14.9641 num_tokens=697399 num_tokens/piece=21.39\n",
      "unigram_model_trainer.cc(505) LOG(INFO) EM sub_iter=0 size=24453 obj=15.3248 num_tokens=731204 num_tokens/piece=29.9024\n",
      "unigram_model_trainer.cc(505) LOG(INFO) EM sub_iter=1 size=24453 obj=15.2514 num_tokens=731202 num_tokens/piece=29.9023\n",
      "unigram_model_trainer.cc(505) LOG(INFO) EM sub_iter=0 size=18339 obj=15.6498 num_tokens=766208 num_tokens/piece=41.7802\n",
      "unigram_model_trainer.cc(505) LOG(INFO) EM sub_iter=1 size=18339 obj=15.5713 num_tokens=766222 num_tokens/piece=41.781\n",
      "unigram_model_trainer.cc(505) LOG(INFO) EM sub_iter=0 size=13754 obj=16.0015 num_tokens=802590 num_tokens/piece=58.3532\n",
      "unigram_model_trainer.cc(505) LOG(INFO) EM sub_iter=1 size=13754 obj=15.9139 num_tokens=802591 num_tokens/piece=58.3533\n",
      "unigram_model_trainer.cc(505) LOG(INFO) EM sub_iter=0 size=10315 obj=16.3842 num_tokens=841890 num_tokens/piece=81.618\n",
      "unigram_model_trainer.cc(505) LOG(INFO) EM sub_iter=1 size=10315 obj=16.2753 num_tokens=842037 num_tokens/piece=81.6323\n",
      "unigram_model_trainer.cc(505) LOG(INFO) EM sub_iter=0 size=8800 obj=16.5531 num_tokens=864741 num_tokens/piece=98.266\n",
      "unigram_model_trainer.cc(505) LOG(INFO) EM sub_iter=1 size=8800 obj=16.4946 num_tokens=864747 num_tokens/piece=98.2667\n",
      "trainer_interface.cc(615) LOG(INFO) Saving model: korean_spm.model\n",
      "trainer_interface.cc(626) LOG(INFO) Saving vocabs: korean_spm.vocab\n"
     ]
    },
    {
     "name": "stdout",
     "output_type": "stream",
     "text": [
      "-rw-r--r-- 1 root root 721922 Mar 22 07:37 korean_spm_25000.model\r\n",
      "-rw-r--r-- 1 root root 506744 Mar 22 07:37 korean_spm_25000.vocab\r\n",
      "-rw-r--r-- 1 root root 703107 Mar 22 07:54 korean_spm_bpe_25000.model\r\n",
      "-rw-r--r-- 1 root root 429299 Mar 22 07:54 korean_spm_bpe_25000.vocab\r\n",
      "-rw-r--r-- 1 root root 370646 Mar 22 08:23 korean_spm_bpe.model\r\n",
      "-rw-r--r-- 1 root root 115848 Mar 22 08:23 korean_spm_bpe.vocab\r\n",
      "-rw-r--r-- 1 root root 375259 Mar 22 08:27 korean_spm.model\r\n",
      "-rw-r--r-- 1 root root 144741 Mar 22 08:27 korean_spm.vocab\r\n"
     ]
    }
   ],
   "source": [
    "import sentencepiece as spm\n",
    "import os\n",
    "temp_file = os.getenv('HOME')+'/aiffel/sp_tokenizer/data/korean-english-park.train.ko.temp'\n",
    "\n",
    "vocab_size = 8000\n",
    "\n",
    "with open(temp_file, 'w') as f:\n",
    "    for row in removed_data['document']:   # 이전 스텝에서 정제했던 corpus를 활용합니다.\n",
    "        f.write(str(row) + '\\n')\n",
    "\n",
    "spm.SentencePieceTrainer.Train(\n",
    "    '--input={} --model_prefix=korean_spm --vocab_size={}'.format(temp_file, vocab_size)    \n",
    ")\n",
    "#위 Train에서  --model_type = 'unigram'이 디폴트 적용되어 있습니다. --model_type = 'bpe' 로 옵션을 주어 변경할 수 있습니다.\n",
    "\n",
    "!ls -l korean_spm*"
   ]
  },
  {
   "cell_type": "code",
   "execution_count": 27,
   "id": "7e3b602a",
   "metadata": {},
   "outputs": [
    {
     "name": "stdout",
     "output_type": "stream",
     "text": [
      "[1616, 10, 409, 16, 1586, 10, 160, 13, 4]\n",
      "['▁아버지', '가', '방', '에', '들어', '가', '신', '다', '.']\n",
      "아버지가방에들어가신다.\n"
     ]
    }
   ],
   "source": [
    "s = spm.SentencePieceProcessor()\n",
    "s.Load('korean_spm.model')\n",
    "\n",
    "# SentencePiece를 활용한 sentence -> encoding\n",
    "tokensIDs = s.EncodeAsIds('아버지가방에들어가신다.')\n",
    "print(tokensIDs)\n",
    "\n",
    "# SentencePiece를 활용한 sentence -> encoded pieces\n",
    "print(s.SampleEncodeAsPieces('아버지가방에들어가신다.',1, 0.0))\n",
    "\n",
    "# SentencePiece를 활용한 encoding -> sentence 복원\n",
    "print(s.DecodeIds(tokensIDs))"
   ]
  },
  {
   "cell_type": "markdown",
   "id": "cca5cb23",
   "metadata": {},
   "source": [
    "---"
   ]
  },
  {
   "cell_type": "markdown",
   "id": "31a77bd0",
   "metadata": {},
   "source": [
    "# Step 4. Tokenizer 함수 작성\n",
    "- 매개변수로 토큰화된 문장의 list를 전달하는 대신 온전한 문장의 list를 전달한다. \n",
    "- 생성된 vocab 파일을 읽어와 { <word> : <idx> } 형태를 가지는 word_index 사전과 { <idx> : <word>} 형태를 가지는 index_word 사전을 생성하고 함께 반환한다.  \n",
    "- 리턴값인 tensor 는 앞의 함수와 동일하게 토큰화한 후 Encoding된 문장이기에 바로 학습에 사용할 수 있게 Padding해야 한다."
   ]
  },
  {
   "cell_type": "code",
   "execution_count": 28,
   "id": "ef4a2435",
   "metadata": {},
   "outputs": [],
   "source": [
    "def sp_tokenize(s, corpus):\n",
    "\n",
    "    tensor = []\n",
    "\n",
    "    for sen in corpus:\n",
    "        tensor.append(s.EncodeAsIds(sen))\n",
    "\n",
    "    with open(\"./korean_spm.vocab\", 'r') as f:\n",
    "        vocab = f.readlines()\n",
    "\n",
    "    word_index = {}\n",
    "    index_word = {}\n",
    "\n",
    "    for idx, line in enumerate(vocab):\n",
    "        word = line.split(\"\\t\")[0]\n",
    "\n",
    "        word_index.update({idx:word})\n",
    "        index_word.update({word:idx})\n",
    "\n",
    "    tensor = tf.keras.preprocessing.sequence.pad_sequences(tensor, padding='post')\n",
    "\n",
    "    return tensor, word_index, index_word"
   ]
  },
  {
   "cell_type": "code",
   "execution_count": 29,
   "id": "93f19fc7",
   "metadata": {},
   "outputs": [
    {
     "name": "stdout",
     "output_type": "stream",
     "text": [
      "[[ 476 3136   15 1092 3057    4    0    0    0    0]\n",
      " [1539 2140  219  540   10    3   18 7910  814    7]]\n"
     ]
    }
   ],
   "source": [
    "#sp_tokenize(s, corpus) 사용예제\n",
    "\n",
    "my_corpus = ['나는 밥을 먹었습니다.', '그러나 여전히 ㅠㅠ 배가 고픕니다...']\n",
    "tensor, word_index, index_word = sp_tokenize(s, my_corpus)\n",
    "print(tensor)"
   ]
  },
  {
   "cell_type": "markdown",
   "id": "9531f1df",
   "metadata": {},
   "source": [
    "---"
   ]
  },
  {
   "cell_type": "markdown",
   "id": "a71d648e",
   "metadata": {},
   "source": [
    "# Step 5. 모델 학습"
   ]
  },
  {
   "cell_type": "markdown",
   "id": "8b543c00",
   "metadata": {},
   "source": [
    "## 5.1 데이터 분리"
   ]
  },
  {
   "cell_type": "code",
   "execution_count": 30,
   "id": "5accda9e",
   "metadata": {},
   "outputs": [],
   "source": [
    "tensor, word_index, index_word = sp_tokenize(s, removed_data['document'])"
   ]
  },
  {
   "cell_type": "code",
   "execution_count": 31,
   "id": "470c6d7b",
   "metadata": {},
   "outputs": [
    {
     "data": {
      "text/plain": [
       "array([[1183,  174,  281, ...,    0,    0,    0],\n",
       "       [3102, 1838,  583, ...,    0,    0,    0],\n",
       "       [  51,  175,  331, ...,    0,    0,    0],\n",
       "       ...,\n",
       "       [  84, 5122,   29, ...,    0,    0,    0],\n",
       "       [  48,  343, 4997, ...,    0,    0,    0],\n",
       "       [1414, 1611,  395, ...,    0,    0,    0]], dtype=int32)"
      ]
     },
     "execution_count": 31,
     "metadata": {},
     "output_type": "execute_result"
    }
   ],
   "source": [
    "tensor"
   ]
  },
  {
   "cell_type": "code",
   "execution_count": 32,
   "id": "6e549262",
   "metadata": {},
   "outputs": [
    {
     "data": {
      "text/plain": [
       "147136"
      ]
     },
     "execution_count": 32,
     "metadata": {},
     "output_type": "execute_result"
    }
   ],
   "source": [
    "len(tensor)"
   ]
  },
  {
   "cell_type": "code",
   "execution_count": 33,
   "id": "10b78c5c",
   "metadata": {},
   "outputs": [],
   "source": [
    "removed_label = np.array(removed_data['label'])"
   ]
  },
  {
   "cell_type": "code",
   "execution_count": 34,
   "id": "a6cca413",
   "metadata": {
    "scrolled": true
   },
   "outputs": [
    {
     "data": {
      "text/plain": [
       "array([1, 1, 1, ..., 0, 0, 0])"
      ]
     },
     "execution_count": 34,
     "metadata": {},
     "output_type": "execute_result"
    }
   ],
   "source": [
    "removed_label"
   ]
  },
  {
   "cell_type": "code",
   "execution_count": 35,
   "id": "a855f071",
   "metadata": {},
   "outputs": [],
   "source": [
    "from sklearn.model_selection import train_test_split\n",
    "\n",
    "x_train, x_val, y_train, y_val = train_test_split(tensor, removed_label, test_size = 0.2)\n",
    "x_train, x_test, y_train, y_test = train_test_split(x_train, y_train, test_size = 0.2)"
   ]
  },
  {
   "cell_type": "code",
   "execution_count": 36,
   "id": "460c9b07",
   "metadata": {},
   "outputs": [
    {
     "name": "stdout",
     "output_type": "stream",
     "text": [
      "train 데이터 개수 :  94166\n",
      "val 데이터 개수 :  29428\n",
      "test 데이터 개수 :  23542\n",
      "리뷰 데이터 총 개수 :  147136\n",
      "---------------------\n",
      "train label 데이터 개수 :  94166\n",
      "val label 데이터 개수 :  29428\n",
      "test label 데이터 개수 :  23542\n",
      "라벨 데이터 총 개수 :  147136\n"
     ]
    }
   ],
   "source": [
    "print('train 데이터 개수 : ', len(x_train))\n",
    "print('val 데이터 개수 : ', len(x_val))\n",
    "print('test 데이터 개수 : ', len(x_test))\n",
    "print('리뷰 데이터 총 개수 : ', len(x_train)+len(x_val)+len(x_test))\n",
    "\n",
    "print('---------------------')\n",
    "\n",
    "print('train label 데이터 개수 : ', len(y_train))\n",
    "print('val label 데이터 개수 : ', len(y_val))\n",
    "print('test label 데이터 개수 : ', len(y_test))\n",
    "print('라벨 데이터 총 개수 : ', len(y_train)+len(y_val)+len(y_test))"
   ]
  },
  {
   "cell_type": "markdown",
   "id": "86351df8",
   "metadata": {},
   "source": [
    "## 5.2 모델 구성 및 훈련 (RNN 모델)"
   ]
  },
  {
   "cell_type": "code",
   "execution_count": 37,
   "id": "9030b57c",
   "metadata": {
    "scrolled": true
   },
   "outputs": [
    {
     "name": "stdout",
     "output_type": "stream",
     "text": [
      "Model: \"sequential\"\n",
      "_________________________________________________________________\n",
      "Layer (type)                 Output Shape              Param #   \n",
      "=================================================================\n",
      "embedding (Embedding)        (None, None, 16)          160000    \n",
      "_________________________________________________________________\n",
      "lstm (LSTM)                  (None, 8)                 800       \n",
      "_________________________________________________________________\n",
      "dense (Dense)                (None, 8)                 72        \n",
      "_________________________________________________________________\n",
      "dense_1 (Dense)              (None, 1)                 9         \n",
      "=================================================================\n",
      "Total params: 160,881\n",
      "Trainable params: 160,881\n",
      "Non-trainable params: 0\n",
      "_________________________________________________________________\n"
     ]
    }
   ],
   "source": [
    "vocab_size = 10000   # 단어사진 크기\n",
    "word_vector_dim = 16  # 단어 하나를 표현하는 임베딩 벡터의 차원수 (변경 가능한 하이퍼파라마터)\n",
    "\n",
    "model = tf.keras.Sequential()\n",
    "model.add(tf.keras.layers.Embedding(vocab_size, word_vector_dim, input_shape = (None,)))\n",
    "model.add(tf.keras.layers.LSTM(8))  # LSTM 레이어 사용 & LSTM 벡터의 차원 수 변경 가능\n",
    "model.add(tf.keras.layers.Dense(8, activation = 'relu'))\n",
    "model.add(tf.keras.layers.Dense(1, activation = 'sigmoid')) # 최종 출력은 긍정/부정을 나타내는 1dim\n",
    "\n",
    "model.summary()"
   ]
  },
  {
   "cell_type": "code",
   "execution_count": 38,
   "id": "5be2d249",
   "metadata": {
    "scrolled": false
   },
   "outputs": [
    {
     "name": "stdout",
     "output_type": "stream",
     "text": [
      "Epoch 1/10\n",
      "184/184 [==============================] - 10s 42ms/step - loss: 0.6932 - accuracy: 0.5023 - val_loss: 0.6931 - val_accuracy: 0.5037\n",
      "Epoch 2/10\n",
      "184/184 [==============================] - 8s 41ms/step - loss: 0.6908 - accuracy: 0.5066 - val_loss: 0.6195 - val_accuracy: 0.7608\n",
      "Epoch 3/10\n",
      "184/184 [==============================] - 7s 41ms/step - loss: 0.4608 - accuracy: 0.8087 - val_loss: 0.3787 - val_accuracy: 0.8350\n",
      "Epoch 4/10\n",
      "184/184 [==============================] - 8s 42ms/step - loss: 0.3411 - accuracy: 0.8577 - val_loss: 0.3612 - val_accuracy: 0.8414\n",
      "Epoch 5/10\n",
      "184/184 [==============================] - 7s 40ms/step - loss: 0.3177 - accuracy: 0.8681 - val_loss: 0.3632 - val_accuracy: 0.8377\n",
      "Epoch 6/10\n",
      "184/184 [==============================] - 7s 41ms/step - loss: 0.3067 - accuracy: 0.8728 - val_loss: 0.3609 - val_accuracy: 0.8405\n",
      "Epoch 7/10\n",
      "184/184 [==============================] - 7s 41ms/step - loss: 0.2985 - accuracy: 0.8764 - val_loss: 0.3612 - val_accuracy: 0.8403\n",
      "Epoch 8/10\n",
      "184/184 [==============================] - 7s 41ms/step - loss: 0.2917 - accuracy: 0.8789 - val_loss: 0.3719 - val_accuracy: 0.8412\n",
      "Epoch 9/10\n",
      "184/184 [==============================] - 7s 40ms/step - loss: 0.2822 - accuracy: 0.8824 - val_loss: 0.3649 - val_accuracy: 0.8404\n",
      "Epoch 10/10\n",
      "184/184 [==============================] - 7s 40ms/step - loss: 0.2704 - accuracy: 0.8868 - val_loss: 0.3839 - val_accuracy: 0.8411\n"
     ]
    }
   ],
   "source": [
    "model.compile(optimizer = 'adam',\n",
    "              loss = 'binary_crossentropy',\n",
    "              metrics = ['accuracy'])\n",
    "\n",
    "epochs = 10\n",
    "\n",
    "history = model.fit(x_train,\n",
    "                    y_train,\n",
    "                    epochs = epochs,\n",
    "                    batch_size = 512,\n",
    "                    validation_data = (x_val, y_val),\n",
    "                    verbose = 1)"
   ]
  },
  {
   "cell_type": "code",
   "execution_count": 39,
   "id": "25abe243",
   "metadata": {},
   "outputs": [
    {
     "name": "stdout",
     "output_type": "stream",
     "text": [
      "736/736 - 3s - loss: 0.3918 - accuracy: 0.8397\n",
      "[0.391817182302475, 0.8397332429885864]\n"
     ]
    }
   ],
   "source": [
    "results = model.evaluate(x_test, y_test, verbose = 2)\n",
    "print(results)"
   ]
  },
  {
   "cell_type": "code",
   "execution_count": 40,
   "id": "41fc21d7",
   "metadata": {},
   "outputs": [
    {
     "name": "stdout",
     "output_type": "stream",
     "text": [
      "dict_keys(['loss', 'accuracy', 'val_loss', 'val_accuracy'])\n"
     ]
    }
   ],
   "source": [
    "history_dict = history.history\n",
    "\n",
    "print(history_dict.keys())"
   ]
  },
  {
   "cell_type": "markdown",
   "id": "58fa27c8",
   "metadata": {},
   "source": [
    "- 위에서 모델 학습하며 나온 `accuracy`와 `loss`를 그래프로 시각화하였다.\n",
    "- loss 값은 에포크 3 ~ 4에서 급격히 떨어졌으며, accuracy도 에포크 3 ~ 4에서 급격히 올라간 것을 확인할 수 있다."
   ]
  },
  {
   "cell_type": "code",
   "execution_count": 41,
   "id": "929a90cc",
   "metadata": {},
   "outputs": [
    {
     "data": {
      "image/png": "[encoded data removed]",
      "text/plain": [
       "<Figure size 1440x360 with 2 Axes>"
      ]
     },
     "metadata": {
      "needs_background": "light"
     },
     "output_type": "display_data"
    }
   ],
   "source": [
    "acc = history_dict['accuracy']\n",
    "val_acc = history_dict['val_accuracy']\n",
    "\n",
    "loss = history_dict['loss']\n",
    "val_loss = history_dict['val_loss']\n",
    "\n",
    "epochs = range(1, len(acc) + 1)\n",
    "\n",
    "plt.figure(figsize=(20,5))\n",
    "\n",
    "plt.subplot(1, 2, 1)\n",
    "plt.plot(epochs, loss, 'b', label = 'Training loss')\n",
    "plt.plot(epochs, val_loss, 'r', label = 'Validation loss')\n",
    "plt.title('Training and validation loss')\n",
    "plt.xlabel('Epochs')\n",
    "plt.ylabel('Loss')\n",
    "plt.legend()\n",
    "\n",
    "plt.subplot(1, 2, 2)\n",
    "plt.plot(epochs, acc, 'b', label = 'Training acc')\n",
    "plt.plot(epochs, val_acc, 'r', label = 'Validation acc')\n",
    "plt.title('Training and validation accuracy')\n",
    "plt.xlabel('Epochs')\n",
    "plt.ylabel('Accuracy')\n",
    "plt.legend()\n",
    "\n",
    "plt.show()"
   ]
  },
  {
   "cell_type": "markdown",
   "id": "ec101bdf",
   "metadata": {},
   "source": [
    "---"
   ]
  },
  {
   "cell_type": "markdown",
   "id": "e1d8370f",
   "metadata": {},
   "source": [
    "# Step 6. SentencePiece model 변경 (bpe)\n",
    "- model_type으로 unigram이 아닌 `bpe`로 하여 SentencePiece 모델을 학습해보자.\n",
    "- vocab_size는 동일하게 8,000으로 한다.\n",
    "- BPE(Byte Pair Encoding)\n",
    "    - 모든 단어를 문자(바이트)들의 집합으로 취급하여 자주 등장하는 문자 쌍을 합치면, 접두어나 접미어의 의미를 캐치할 수 있고, 처음 등장하는 단어는 문자(알파벳)들의 조합으로 나타내어 OOV 문제를 완전히 해결할 수 있다.\n",
    "    - 하지만 어떤 기준으로 결합해서 문장을 복원할 지에 대한 해결책이 크게 없기에 완벽하다 할 수 없다."
   ]
  },
  {
   "cell_type": "markdown",
   "id": "30c6e2ac",
   "metadata": {},
   "source": [
    "## 6.1 SentencePiece 모델 학습"
   ]
  },
  {
   "cell_type": "code",
   "execution_count": 42,
   "id": "da4e4aee",
   "metadata": {},
   "outputs": [
    {
     "name": "stderr",
     "output_type": "stream",
     "text": [
      "sentencepiece_trainer.cc(177) LOG(INFO) Running command: --input=/aiffel/aiffel/sp_tokenizer/data/korean-english-park.train.ko.temp --model_prefix=korean_spm_bpe --model_type=bpe --vocab_size=8000\n",
      "sentencepiece_trainer.cc(77) LOG(INFO) Starts training with : \n",
      "trainer_spec {\n",
      "  input: /aiffel/aiffel/sp_tokenizer/data/korean-english-park.train.ko.temp\n",
      "  input_format: \n",
      "  model_prefix: korean_spm_bpe\n",
      "  model_type: BPE\n",
      "  vocab_size: 8000\n",
      "  self_test_sample_size: 0\n",
      "  character_coverage: 0.9995\n",
      "  input_sentence_size: 0\n",
      "  shuffle_input_sentence: 1\n",
      "  seed_sentencepiece_size: 1000000\n",
      "  shrinking_factor: 0.75\n",
      "  max_sentence_length: 4192\n",
      "  num_threads: 16\n",
      "  num_sub_iterations: 2\n",
      "  max_sentencepiece_length: 16\n",
      "  split_by_unicode_script: 1\n",
      "  split_by_number: 1\n",
      "  split_by_whitespace: 1\n",
      "  split_digits: 0\n",
      "  treat_whitespace_as_suffix: 0\n",
      "  allow_whitespace_only_pieces: 0\n",
      "  required_chars: \n",
      "  byte_fallback: 0\n",
      "  vocabulary_output_piece_score: 1\n",
      "  train_extremely_large_corpus: 0\n",
      "  hard_vocab_limit: 1\n",
      "  use_all_vocab: 0\n",
      "  unk_id: 0\n",
      "  bos_id: 1\n",
      "  eos_id: 2\n",
      "  pad_id: -1\n",
      "  unk_piece: <unk>\n",
      "  bos_piece: <s>\n",
      "  eos_piece: </s>\n",
      "  pad_piece: <pad>\n",
      "  unk_surface:  ⁇ \n",
      "}\n",
      "normalizer_spec {\n",
      "  name: nmt_nfkc\n",
      "  add_dummy_prefix: 1\n",
      "  remove_extra_whitespaces: 1\n",
      "  escape_whitespaces: 1\n",
      "  normalization_rule_tsv: \n",
      "}\n",
      "denormalizer_spec {}\n",
      "trainer_interface.cc(329) LOG(INFO) SentenceIterator is not specified. Using MultiFileSentenceIterator.\n",
      "trainer_interface.cc(178) LOG(INFO) Loading corpus: /aiffel/aiffel/sp_tokenizer/data/korean-english-park.train.ko.temp\n",
      "trainer_interface.cc(385) LOG(INFO) Loaded all 147136 sentences\n",
      "trainer_interface.cc(400) LOG(INFO) Adding meta_piece: <unk>\n",
      "trainer_interface.cc(400) LOG(INFO) Adding meta_piece: <s>\n",
      "trainer_interface.cc(400) LOG(INFO) Adding meta_piece: </s>\n",
      "trainer_interface.cc(405) LOG(INFO) Normalizing sentences...\n",
      "trainer_interface.cc(466) LOG(INFO) all chars count=3488286\n",
      "trainer_interface.cc(477) LOG(INFO) Done: 99.95% characters are covered.\n",
      "trainer_interface.cc(487) LOG(INFO) Alphabet size=1765\n",
      "trainer_interface.cc(488) LOG(INFO) Final character coverage=0.9995\n",
      "trainer_interface.cc(520) LOG(INFO) Done! preprocessed 147136 sentences.\n",
      "trainer_interface.cc(526) LOG(INFO) Tokenizing input sentences with whitespace: 147136\n",
      "trainer_interface.cc(537) LOG(INFO) Done! 243347\n",
      "bpe_model_trainer.cc(167) LOG(INFO) Updating active symbols. max_freq=55990 min_freq=69\n",
      "bpe_model_trainer.cc(258) LOG(INFO) Added: freq=7657 size=20 all=91862 active=8566 piece=▁진\n",
      "bpe_model_trainer.cc(258) LOG(INFO) Added: freq=5511 size=40 all=94781 active=11485 piece=▁스\n",
      "bpe_model_trainer.cc(258) LOG(INFO) Added: freq=3925 size=60 all=98834 active=15538 piece=▁연기\n",
      "bpe_model_trainer.cc(258) LOG(INFO) Added: freq=3378 size=80 all=102043 active=18747 piece=▁주\n",
      "bpe_model_trainer.cc(258) LOG(INFO) Added: freq=2709 size=100 all=104419 active=21123 piece=었다\n",
      "bpe_model_trainer.cc(167) LOG(INFO) Updating active symbols. max_freq=2703 min_freq=58\n",
      "bpe_model_trainer.cc(258) LOG(INFO) Added: freq=2354 size=120 all=107203 active=7843 piece=▁일\n",
      "bpe_model_trainer.cc(258) LOG(INFO) Added: freq=2058 size=140 all=108881 active=9521 piece=▁끝\n",
      "bpe_model_trainer.cc(258) LOG(INFO) Added: freq=1859 size=160 all=111391 active=12031 piece=▁저\n",
      "bpe_model_trainer.cc(258) LOG(INFO) Added: freq=1696 size=180 all=113424 active=14064 piece=면서\n",
      "bpe_model_trainer.cc(258) LOG(INFO) Added: freq=1569 size=200 all=115191 active=15831 piece=▁되\n",
      "bpe_model_trainer.cc(167) LOG(INFO) Updating active symbols. max_freq=1566 min_freq=50\n",
      "bpe_model_trainer.cc(258) LOG(INFO) Added: freq=1462 size=220 all=116990 active=7496 piece=▁불\n",
      "bpe_model_trainer.cc(258) LOG(INFO) Added: freq=1309 size=240 all=119133 active=9639 piece=▁지금\n",
      "bpe_model_trainer.cc(258) LOG(INFO) Added: freq=1234 size=260 all=121249 active=11754 piece=▁살\n",
      "bpe_model_trainer.cc(258) LOG(INFO) Added: freq=1148 size=280 all=123223 active=13728 piece=▁초\n",
      "bpe_model_trainer.cc(258) LOG(INFO) Added: freq=1081 size=300 all=124698 active=15203 piece=▁모르\n",
      "bpe_model_trainer.cc(167) LOG(INFO) Updating active symbols. max_freq=1079 min_freq=45\n",
      "bpe_model_trainer.cc(258) LOG(INFO) Added: freq=1015 size=320 all=126065 active=7573 piece=▁ᄏ\n",
      "bpe_model_trainer.cc(258) LOG(INFO) Added: freq=963 size=340 all=128155 active=9663 piece=정도\n",
      "bpe_model_trainer.cc(258) LOG(INFO) Added: freq=903 size=360 all=130263 active=11771 piece=▁차\n",
      "bpe_model_trainer.cc(258) LOG(INFO) Added: freq=864 size=380 all=131869 active=13377 piece=▁결말\n",
      "bpe_model_trainer.cc(258) LOG(INFO) Added: freq=808 size=400 all=133234 active=14742 piece=▁솔\n",
      "bpe_model_trainer.cc(167) LOG(INFO) Updating active symbols. max_freq=807 min_freq=42\n",
      "bpe_model_trainer.cc(258) LOG(INFO) Added: freq=767 size=420 all=134659 active=8078 piece=▁원작\n",
      "bpe_model_trainer.cc(258) LOG(INFO) Added: freq=737 size=440 all=135985 active=9404 piece=▁잼있\n",
      "bpe_model_trainer.cc(258) LOG(INFO) Added: freq=718 size=460 all=136994 active=10413 piece=▁그런\n",
      "bpe_model_trainer.cc(258) LOG(INFO) Added: freq=682 size=480 all=138404 active=11823 piece=던데\n",
      "bpe_model_trainer.cc(258) LOG(INFO) Added: freq=654 size=500 all=139962 active=13381 piece=타임\n",
      "bpe_model_trainer.cc(167) LOG(INFO) Updating active symbols. max_freq=653 min_freq=39\n",
      "bpe_model_trainer.cc(258) LOG(INFO) Added: freq=628 size=520 all=141426 active=8399 piece=▁그리고\n",
      "bpe_model_trainer.cc(258) LOG(INFO) Added: freq=602 size=540 all=142556 active=9529 piece=▁약\n",
      "bpe_model_trainer.cc(258) LOG(INFO) Added: freq=585 size=560 all=144038 active=11011 piece=▁오랜\n",
      "bpe_model_trainer.cc(258) LOG(INFO) Added: freq=561 size=580 all=145197 active=12170 piece=▁왜이\n",
      "bpe_model_trainer.cc(258) LOG(INFO) Added: freq=546 size=600 all=146339 active=13312 piece=있다\n",
      "bpe_model_trainer.cc(167) LOG(INFO) Updating active symbols. max_freq=545 min_freq=36\n",
      "bpe_model_trainer.cc(258) LOG(INFO) Added: freq=525 size=620 all=147653 active=8537 piece=영화가\n",
      "bpe_model_trainer.cc(258) LOG(INFO) Added: freq=508 size=640 all=148944 active=9828 piece=▁받\n",
      "bpe_model_trainer.cc(258) LOG(INFO) Added: freq=496 size=660 all=150439 active=11323 piece=없음\n",
      "bpe_model_trainer.cc(258) LOG(INFO) Added: freq=479 size=680 all=152043 active=12927 piece=▁부족\n",
      "bpe_model_trainer.cc(258) LOG(INFO) Added: freq=469 size=700 all=152905 active=13789 piece=▁로맨\n",
      "bpe_model_trainer.cc(167) LOG(INFO) Updating active symbols. max_freq=468 min_freq=34\n",
      "bpe_model_trainer.cc(258) LOG(INFO) Added: freq=455 size=720 all=154047 active=8782 piece=리오\n",
      "bpe_model_trainer.cc(258) LOG(INFO) Added: freq=445 size=740 all=155045 active=9780 piece=▁재미가\n",
      "bpe_model_trainer.cc(258) LOG(INFO) Added: freq=436 size=760 all=156200 active=10935 piece=훌륭\n",
      "bpe_model_trainer.cc(258) LOG(INFO) Added: freq=427 size=780 all=157472 active=12207 piece=▁제대로\n",
      "bpe_model_trainer.cc(258) LOG(INFO) Added: freq=415 size=800 all=158472 active=13207 piece=▁6\n",
      "bpe_model_trainer.cc(167) LOG(INFO) Updating active symbols. max_freq=415 min_freq=32\n",
      "bpe_model_trainer.cc(258) LOG(INFO) Added: freq=408 size=820 all=159758 active=9197 piece=▁담\n",
      "bpe_model_trainer.cc(258) LOG(INFO) Added: freq=397 size=840 all=160716 active=10155 piece=이라는\n",
      "bpe_model_trainer.cc(258) LOG(INFO) Added: freq=389 size=860 all=162188 active=11627 piece=▁영화로\n",
      "bpe_model_trainer.cc(258) LOG(INFO) Added: freq=378 size=880 all=163246 active=12685 piece=▁봤어요\n",
      "bpe_model_trainer.cc(258) LOG(INFO) Added: freq=369 size=900 all=164183 active=13622 piece=말이\n",
      "bpe_model_trainer.cc(167) LOG(INFO) Updating active symbols. max_freq=369 min_freq=30\n",
      "bpe_model_trainer.cc(258) LOG(INFO) Added: freq=358 size=920 all=165268 active=9194 piece=▁전쟁\n",
      "bpe_model_trainer.cc(258) LOG(INFO) Added: freq=346 size=940 all=166609 active=10535 piece=▁영화중\n",
      "bpe_model_trainer.cc(258) LOG(INFO) Added: freq=339 size=960 all=167586 active=11512 piece=▁재미없음\n",
      "bpe_model_trainer.cc(258) LOG(INFO) Added: freq=331 size=980 all=168476 active=12402 piece=▁시대\n",
      "bpe_model_trainer.cc(258) LOG(INFO) Added: freq=324 size=1000 all=169597 active=13523 piece=▁보게\n",
      "bpe_model_trainer.cc(167) LOG(INFO) Updating active symbols. max_freq=323 min_freq=28\n",
      "bpe_model_trainer.cc(258) LOG(INFO) Added: freq=317 size=1020 all=170281 active=9146 piece=▁T\n",
      "bpe_model_trainer.cc(258) LOG(INFO) Added: freq=310 size=1040 all=171188 active=10053 piece=▁모르겠\n",
      "bpe_model_trainer.cc(258) LOG(INFO) Added: freq=301 size=1060 all=171965 active=10830 piece=한거\n",
      "bpe_model_trainer.cc(258) LOG(INFO) Added: freq=295 size=1080 all=172855 active=11720 piece=▁초딩\n",
      "bpe_model_trainer.cc(258) LOG(INFO) Added: freq=289 size=1100 all=173871 active=12736 piece=▁블\n",
      "bpe_model_trainer.cc(167) LOG(INFO) Updating active symbols. max_freq=289 min_freq=27\n",
      "bpe_model_trainer.cc(258) LOG(INFO) Added: freq=284 size=1120 all=174604 active=9408 piece=▁등\n",
      "bpe_model_trainer.cc(258) LOG(INFO) Added: freq=278 size=1140 all=175691 active=10495 piece=▁볼수\n",
      "bpe_model_trainer.cc(258) LOG(INFO) Added: freq=270 size=1160 all=176462 active=11266 piece=▁없이\n",
      "bpe_model_trainer.cc(258) LOG(INFO) Added: freq=263 size=1180 all=177043 active=11847 piece=영화다\n",
      "bpe_model_trainer.cc(258) LOG(INFO) Added: freq=258 size=1200 all=178103 active=12907 piece=▁투\n",
      "bpe_model_trainer.cc(167) LOG(INFO) Updating active symbols. max_freq=258 min_freq=26\n",
      "bpe_model_trainer.cc(258) LOG(INFO) Added: freq=253 size=1220 all=179069 active=9828 piece=▁여주인공\n",
      "bpe_model_trainer.cc(258) LOG(INFO) Added: freq=247 size=1240 all=180032 active=10791 piece=▁궁금\n",
      "bpe_model_trainer.cc(258) LOG(INFO) Added: freq=242 size=1260 all=180840 active=11598 piece=굉장\n",
      "bpe_model_trainer.cc(258) LOG(INFO) Added: freq=238 size=1280 all=181603 active=12361 piece=▁훨씬\n",
      "bpe_model_trainer.cc(258) LOG(INFO) Added: freq=234 size=1300 all=182528 active=13286 piece=▁엄마\n",
      "bpe_model_trainer.cc(167) LOG(INFO) Updating active symbols. max_freq=234 min_freq=25\n",
      "bpe_model_trainer.cc(258) LOG(INFO) Added: freq=229 size=1320 all=183433 active=9991 piece=▁흔\n",
      "bpe_model_trainer.cc(258) LOG(INFO) Added: freq=225 size=1340 all=184338 active=10896 piece=대한\n",
      "bpe_model_trainer.cc(258) LOG(INFO) Added: freq=221 size=1360 all=185342 active=11900 piece=▁다운\n",
      "bpe_model_trainer.cc(258) LOG(INFO) Added: freq=217 size=1380 all=186094 active=12652 piece=▁!!\n",
      "bpe_model_trainer.cc(258) LOG(INFO) Added: freq=214 size=1400 all=186982 active=13540 piece=▁말도\n",
      "bpe_model_trainer.cc(167) LOG(INFO) Updating active symbols. max_freq=214 min_freq=24\n",
      "bpe_model_trainer.cc(258) LOG(INFO) Added: freq=210 size=1420 all=187680 active=10042 piece=▁트\n",
      "bpe_model_trainer.cc(258) LOG(INFO) Added: freq=208 size=1440 all=188420 active=10782 piece=▁아님\n",
      "bpe_model_trainer.cc(258) LOG(INFO) Added: freq=204 size=1460 all=189297 active=11659 piece=▁부분\n",
      "bpe_model_trainer.cc(258) LOG(INFO) Added: freq=202 size=1480 all=190038 active=12400 piece=▁평점을\n",
      "bpe_model_trainer.cc(258) LOG(INFO) Added: freq=199 size=1500 all=190815 active=13177 piece=▁구성\n",
      "bpe_model_trainer.cc(167) LOG(INFO) Updating active symbols. max_freq=199 min_freq=23\n",
      "bpe_model_trainer.cc(258) LOG(INFO) Added: freq=196 size=1520 all=191701 active=10399 piece=▁tv\n",
      "bpe_model_trainer.cc(258) LOG(INFO) Added: freq=193 size=1540 all=192210 active=10908 piece=시키\n",
      "bpe_model_trainer.cc(258) LOG(INFO) Added: freq=190 size=1560 all=193163 active=11861 piece=▁평점에\n",
      "bpe_model_trainer.cc(258) LOG(INFO) Added: freq=187 size=1580 all=193855 active=12553 piece=할때\n",
      "bpe_model_trainer.cc(258) LOG(INFO) Added: freq=185 size=1600 all=194715 active=13413 piece=▁사람이\n",
      "bpe_model_trainer.cc(167) LOG(INFO) Updating active symbols. max_freq=185 min_freq=22\n",
      "bpe_model_trainer.cc(258) LOG(INFO) Added: freq=182 size=1620 all=195659 active=10665 piece=▁판타지\n",
      "bpe_model_trainer.cc(258) LOG(INFO) Added: freq=178 size=1640 all=196397 active=11403 piece=▁운\n",
      "bpe_model_trainer.cc(258) LOG(INFO) Added: freq=176 size=1660 all=197157 active=12163 piece=▁애들\n",
      "bpe_model_trainer.cc(258) LOG(INFO) Added: freq=173 size=1680 all=197730 active=12736 piece=▁페\n",
      "bpe_model_trainer.cc(258) LOG(INFO) Added: freq=171 size=1700 all=198313 active=13319 piece=▁매력적인\n",
      "bpe_model_trainer.cc(167) LOG(INFO) Updating active symbols. max_freq=170 min_freq=22\n",
      "bpe_model_trainer.cc(258) LOG(INFO) Added: freq=167 size=1720 all=198743 active=10339 piece=▁왔\n",
      "bpe_model_trainer.cc(258) LOG(INFO) Added: freq=166 size=1740 all=199365 active=10961 piece=▁명작이다\n",
      "bpe_model_trainer.cc(258) LOG(INFO) Added: freq=164 size=1760 all=200037 active=11633 piece=정도로\n",
      "bpe_model_trainer.cc(258) LOG(INFO) Added: freq=162 size=1780 all=200663 active=12259 piece=▁유머\n",
      "bpe_model_trainer.cc(258) LOG(INFO) Added: freq=159 size=1800 all=201338 active=12934 piece=▁봤네요\n",
      "bpe_model_trainer.cc(167) LOG(INFO) Updating active symbols. max_freq=159 min_freq=21\n",
      "bpe_model_trainer.cc(258) LOG(INFO) Added: freq=156 size=1820 all=201727 active=10448 piece=스런\n",
      "bpe_model_trainer.cc(258) LOG(INFO) Added: freq=154 size=1840 all=202730 active=11451 piece=▁최악이다\n",
      "bpe_model_trainer.cc(258) LOG(INFO) Added: freq=152 size=1860 all=203212 active=11933 piece=▁알았다\n",
      "bpe_model_trainer.cc(258) LOG(INFO) Added: freq=150 size=1880 all=203691 active=12412 piece=▁것도\n",
      "bpe_model_trainer.cc(258) LOG(INFO) Added: freq=148 size=1900 all=204146 active=12867 piece=▁쩔\n",
      "bpe_model_trainer.cc(167) LOG(INFO) Updating active symbols. max_freq=148 min_freq=21\n",
      "bpe_model_trainer.cc(258) LOG(INFO) Added: freq=146 size=1920 all=204920 active=10954 piece=▁싫어\n",
      "bpe_model_trainer.cc(258) LOG(INFO) Added: freq=144 size=1940 all=205397 active=11431 piece=▁놓\n",
      "bpe_model_trainer.cc(258) LOG(INFO) Added: freq=142 size=1960 all=206136 active=12170 piece=▁샤\n",
      "bpe_model_trainer.cc(258) LOG(INFO) Added: freq=141 size=1980 all=206937 active=12971 piece=▁살인\n",
      "bpe_model_trainer.cc(258) LOG(INFO) Added: freq=140 size=2000 all=207670 active=13704 piece=좋아요\n",
      "bpe_model_trainer.cc(167) LOG(INFO) Updating active symbols. max_freq=140 min_freq=20\n",
      "bpe_model_trainer.cc(258) LOG(INFO) Added: freq=138 size=2020 all=208315 active=10962 piece=▁초등\n",
      "bpe_model_trainer.cc(258) LOG(INFO) Added: freq=136 size=2040 all=208829 active=11476 piece=아아\n",
      "bpe_model_trainer.cc(258) LOG(INFO) Added: freq=134 size=2060 all=209402 active=12049 piece=사가\n",
      "bpe_model_trainer.cc(258) LOG(INFO) Added: freq=133 size=2080 all=210322 active=12969 piece=▁애들이\n",
      "bpe_model_trainer.cc(258) LOG(INFO) Added: freq=132 size=2100 all=210807 active=13454 piece=▁안나오\n",
      "bpe_model_trainer.cc(167) LOG(INFO) Updating active symbols. max_freq=132 min_freq=19\n",
      "bpe_model_trainer.cc(258) LOG(INFO) Added: freq=131 size=2120 all=211431 active=11133 piece=▁아름답고\n",
      "bpe_model_trainer.cc(258) LOG(INFO) Added: freq=129 size=2140 all=212066 active=11768 piece=내는\n",
      "bpe_model_trainer.cc(258) LOG(INFO) Added: freq=128 size=2160 all=212793 active=12495 piece=▁눈이\n",
      "bpe_model_trainer.cc(258) LOG(INFO) Added: freq=127 size=2180 all=213439 active=13141 piece=▁바라\n",
      "bpe_model_trainer.cc(258) LOG(INFO) Added: freq=126 size=2200 all=214140 active=13842 piece=▁음악이\n",
      "bpe_model_trainer.cc(167) LOG(INFO) Updating active symbols. max_freq=126 min_freq=19\n",
      "bpe_model_trainer.cc(258) LOG(INFO) Added: freq=124 size=2220 all=214576 active=11139 piece=▁류\n",
      "bpe_model_trainer.cc(258) LOG(INFO) Added: freq=123 size=2240 all=215253 active=11816 piece=았던\n",
      "bpe_model_trainer.cc(258) LOG(INFO) Added: freq=122 size=2260 all=215686 active=12249 piece=에서는\n",
      "bpe_model_trainer.cc(258) LOG(INFO) Added: freq=121 size=2280 all=216441 active=13004 piece=▁취향\n",
      "bpe_model_trainer.cc(258) LOG(INFO) Added: freq=120 size=2300 all=216846 active=13409 piece=▁것은\n",
      "bpe_model_trainer.cc(167) LOG(INFO) Updating active symbols. max_freq=120 min_freq=19\n",
      "bpe_model_trainer.cc(258) LOG(INFO) Added: freq=119 size=2320 all=217255 active=11252 piece=▁눈을\n",
      "bpe_model_trainer.cc(258) LOG(INFO) Added: freq=118 size=2340 all=217792 active=11789 piece=▁아빠\n",
      "bpe_model_trainer.cc(258) LOG(INFO) Added: freq=117 size=2360 all=218260 active=12257 piece=▁이뻐\n",
      "bpe_model_trainer.cc(258) LOG(INFO) Added: freq=116 size=2380 all=218682 active=12678 piece=▁앞으로\n",
      "bpe_model_trainer.cc(258) LOG(INFO) Added: freq=114 size=2400 all=219319 active=13315 piece=나이\n",
      "bpe_model_trainer.cc(167) LOG(INFO) Updating active symbols. max_freq=114 min_freq=18\n",
      "bpe_model_trainer.cc(258) LOG(INFO) Added: freq=113 size=2420 all=219949 active=11535 piece=▁쩌\n",
      "bpe_model_trainer.cc(258) LOG(INFO) Added: freq=112 size=2440 all=220425 active=12011 piece=른다\n",
      "bpe_model_trainer.cc(258) LOG(INFO) Added: freq=111 size=2460 all=220833 active=12419 piece=프로\n",
      "bpe_model_trainer.cc(258) LOG(INFO) Added: freq=110 size=2480 all=221410 active=12996 piece=방송\n",
      "bpe_model_trainer.cc(258) LOG(INFO) Added: freq=109 size=2500 all=222005 active=13591 piece=▁이야기를\n",
      "bpe_model_trainer.cc(167) LOG(INFO) Updating active symbols. max_freq=109 min_freq=18\n",
      "bpe_model_trainer.cc(258) LOG(INFO) Added: freq=108 size=2520 all=222569 active=11665 piece=▁재미없어요\n",
      "bpe_model_trainer.cc(258) LOG(INFO) Added: freq=107 size=2540 all=223196 active=12292 piece=▁기분이\n",
      "bpe_model_trainer.cc(258) LOG(INFO) Added: freq=106 size=2560 all=223770 active=12866 piece=▁사랑이\n",
      "bpe_model_trainer.cc(258) LOG(INFO) Added: freq=105 size=2580 all=224214 active=13310 piece=▁모자\n",
      "bpe_model_trainer.cc(258) LOG(INFO) Added: freq=104 size=2600 all=224723 active=13819 piece=▁안됨\n",
      "bpe_model_trainer.cc(167) LOG(INFO) Updating active symbols. max_freq=104 min_freq=17\n",
      "bpe_model_trainer.cc(258) LOG(INFO) Added: freq=103 size=2620 all=225267 active=11780 piece=고싶은\n",
      "bpe_model_trainer.cc(258) LOG(INFO) Added: freq=102 size=2640 all=225789 active=12302 piece=▁왜케\n",
      "bpe_model_trainer.cc(258) LOG(INFO) Added: freq=101 size=2660 all=226150 active=12663 piece=▁설명\n",
      "bpe_model_trainer.cc(258) LOG(INFO) Added: freq=100 size=2680 all=226820 active=13333 piece=할까\n",
      "bpe_model_trainer.cc(258) LOG(INFO) Added: freq=99 size=2700 all=227577 active=14090 piece=▁단연\n",
      "bpe_model_trainer.cc(167) LOG(INFO) Updating active symbols. max_freq=99 min_freq=17\n",
      "bpe_model_trainer.cc(258) LOG(INFO) Added: freq=98 size=2720 all=228016 active=11815 piece=성애\n",
      "bpe_model_trainer.cc(258) LOG(INFO) Added: freq=97 size=2740 all=228414 active=12213 piece=인물\n",
      "bpe_model_trainer.cc(258) LOG(INFO) Added: freq=96 size=2760 all=229022 active=12821 piece=되어\n",
      "bpe_model_trainer.cc(258) LOG(INFO) Added: freq=96 size=2780 all=229655 active=13454 piece=▁나왔으면\n",
      "bpe_model_trainer.cc(258) LOG(INFO) Added: freq=95 size=2800 all=230161 active=13960 piece=▁웃기고\n",
      "bpe_model_trainer.cc(167) LOG(INFO) Updating active symbols. max_freq=95 min_freq=16\n",
      "bpe_model_trainer.cc(258) LOG(INFO) Added: freq=94 size=2820 all=230660 active=12003 piece=▁젊은\n",
      "bpe_model_trainer.cc(258) LOG(INFO) Added: freq=93 size=2840 all=231229 active=12572 piece=같음\n",
      "bpe_model_trainer.cc(258) LOG(INFO) Added: freq=93 size=2860 all=231842 active=13185 piece=▁최고입니다\n",
      "bpe_model_trainer.cc(258) LOG(INFO) Added: freq=92 size=2880 all=232411 active=13754 piece=▁아이들\n",
      "bpe_model_trainer.cc(258) LOG(INFO) Added: freq=91 size=2900 all=232861 active=14204 piece=▁엉성한\n",
      "bpe_model_trainer.cc(167) LOG(INFO) Updating active symbols. max_freq=91 min_freq=16\n",
      "bpe_model_trainer.cc(258) LOG(INFO) Added: freq=90 size=2920 all=233220 active=11996 piece=이를\n",
      "bpe_model_trainer.cc(258) LOG(INFO) Added: freq=89 size=2940 all=233628 active=12404 piece=▁늦\n",
      "bpe_model_trainer.cc(258) LOG(INFO) Added: freq=89 size=2960 all=234139 active=12915 piece=▁말할\n",
      "bpe_model_trainer.cc(258) LOG(INFO) Added: freq=88 size=2980 all=234648 active=13424 piece=대가\n",
      "bpe_model_trainer.cc(258) LOG(INFO) Added: freq=88 size=3000 all=235069 active=13845 piece=▁점수가\n",
      "bpe_model_trainer.cc(167) LOG(INFO) Updating active symbols. max_freq=88 min_freq=16\n",
      "bpe_model_trainer.cc(258) LOG(INFO) Added: freq=87 size=3020 all=235605 active=12285 piece=▁보러\n",
      "bpe_model_trainer.cc(258) LOG(INFO) Added: freq=86 size=3040 all=235908 active=12588 piece=제목\n",
      "bpe_model_trainer.cc(258) LOG(INFO) Added: freq=86 size=3060 all=236414 active=13094 piece=▁마세요\n",
      "bpe_model_trainer.cc(258) LOG(INFO) Added: freq=85 size=3080 all=236804 active=13484 piece=하다니\n",
      "bpe_model_trainer.cc(258) LOG(INFO) Added: freq=84 size=3100 all=237360 active=14040 piece=▁40\n",
      "bpe_model_trainer.cc(167) LOG(INFO) Updating active symbols. max_freq=84 min_freq=15\n",
      "bpe_model_trainer.cc(258) LOG(INFO) Added: freq=83 size=3120 all=237643 active=12150 piece=냄새\n",
      "bpe_model_trainer.cc(258) LOG(INFO) Added: freq=83 size=3140 all=238278 active=12785 piece=▁빼고는\n",
      "bpe_model_trainer.cc(258) LOG(INFO) Added: freq=82 size=3160 all=238670 active=13177 piece=한건\n",
      "bpe_model_trainer.cc(258) LOG(INFO) Added: freq=82 size=3180 all=239032 active=13539 piece=▁이해하기\n",
      "bpe_model_trainer.cc(258) LOG(INFO) Added: freq=81 size=3200 all=239360 active=13867 piece=▁없어요\n",
      "bpe_model_trainer.cc(167) LOG(INFO) Updating active symbols. max_freq=81 min_freq=15\n",
      "bpe_model_trainer.cc(258) LOG(INFO) Added: freq=80 size=3220 all=239983 active=12590 piece=▁70\n",
      "bpe_model_trainer.cc(258) LOG(INFO) Added: freq=80 size=3240 all=240368 active=12975 piece=♥♥♥♥\n",
      "bpe_model_trainer.cc(258) LOG(INFO) Added: freq=79 size=3260 all=240701 active=13308 piece=▁이럴\n",
      "bpe_model_trainer.cc(258) LOG(INFO) Added: freq=78 size=3280 all=240916 active=13523 piece=▁센\n",
      "bpe_model_trainer.cc(258) LOG(INFO) Added: freq=78 size=3300 all=241329 active=13936 piece=▁화끈\n",
      "bpe_model_trainer.cc(167) LOG(INFO) Updating active symbols. max_freq=78 min_freq=15\n",
      "bpe_model_trainer.cc(258) LOG(INFO) Added: freq=77 size=3320 all=241603 active=12318 piece=공감\n",
      "bpe_model_trainer.cc(258) LOG(INFO) Added: freq=77 size=3340 all=242060 active=12775 piece=비디오\n",
      "bpe_model_trainer.cc(258) LOG(INFO) Added: freq=76 size=3360 all=242487 active=13202 piece=져서\n",
      "bpe_model_trainer.cc(258) LOG(INFO) Added: freq=76 size=3380 all=242817 active=13532 piece=▁아까울\n",
      "bpe_model_trainer.cc(258) LOG(INFO) Added: freq=75 size=3400 all=243268 active=13983 piece=▁제로\n",
      "bpe_model_trainer.cc(167) LOG(INFO) Updating active symbols. max_freq=75 min_freq=15\n",
      "bpe_model_trainer.cc(258) LOG(INFO) Added: freq=74 size=3420 all=243439 active=12324 piece=▁척\n",
      "bpe_model_trainer.cc(258) LOG(INFO) Added: freq=74 size=3440 all=243954 active=12839 piece=나네요\n",
      "bpe_model_trainer.cc(258) LOG(INFO) Added: freq=73 size=3460 all=244422 active=13307 piece=줘야\n",
      "bpe_model_trainer.cc(258) LOG(INFO) Added: freq=73 size=3480 all=244939 active=13824 piece=▁귀엽다\n",
      "bpe_model_trainer.cc(258) LOG(INFO) Added: freq=72 size=3500 all=245163 active=14048 piece=되지\n",
      "bpe_model_trainer.cc(167) LOG(INFO) Updating active symbols. max_freq=72 min_freq=14\n",
      "bpe_model_trainer.cc(258) LOG(INFO) Added: freq=72 size=3520 all=245634 active=12681 piece=▁찌질\n",
      "bpe_model_trainer.cc(258) LOG(INFO) Added: freq=71 size=3540 all=245968 active=13015 piece=려요\n",
      "bpe_model_trainer.cc(258) LOG(INFO) Added: freq=71 size=3560 all=246435 active=13482 piece=▁신비\n",
      "bpe_model_trainer.cc(258) LOG(INFO) Added: freq=71 size=3580 all=246749 active=13796 piece=▁같습니다\n",
      "bpe_model_trainer.cc(258) LOG(INFO) Added: freq=70 size=3600 all=247095 active=14142 piece=▁아프\n",
      "bpe_model_trainer.cc(167) LOG(INFO) Updating active symbols. max_freq=70 min_freq=14\n",
      "bpe_model_trainer.cc(258) LOG(INFO) Added: freq=70 size=3620 all=247303 active=12548 piece=▁이런영화는\n",
      "bpe_model_trainer.cc(258) LOG(INFO) Added: freq=69 size=3640 all=247730 active=12975 piece=▁맨날\n",
      "bpe_model_trainer.cc(258) LOG(INFO) Added: freq=69 size=3660 all=248156 active=13401 piece=▁느낄수\n",
      "bpe_model_trainer.cc(258) LOG(INFO) Added: freq=68 size=3680 all=248325 active=13570 piece=노래\n",
      "bpe_model_trainer.cc(258) LOG(INFO) Added: freq=68 size=3700 all=248940 active=14185 piece=▁희생\n",
      "bpe_model_trainer.cc(167) LOG(INFO) Updating active symbols. max_freq=68 min_freq=14\n",
      "bpe_model_trainer.cc(258) LOG(INFO) Added: freq=67 size=3720 all=249124 active=12597 piece=▁챙\n",
      "bpe_model_trainer.cc(258) LOG(INFO) Added: freq=67 size=3740 all=249597 active=13070 piece=▁상업\n",
      "bpe_model_trainer.cc(258) LOG(INFO) Added: freq=67 size=3760 all=249819 active=13292 piece=▁소소한\n",
      "bpe_model_trainer.cc(258) LOG(INFO) Added: freq=66 size=3780 all=249973 active=13446 piece=▁팀\n",
      "bpe_model_trainer.cc(258) LOG(INFO) Added: freq=66 size=3800 all=250508 active=13981 piece=▁받을\n",
      "bpe_model_trainer.cc(167) LOG(INFO) Updating active symbols. max_freq=66 min_freq=14\n",
      "bpe_model_trainer.cc(258) LOG(INFO) Added: freq=66 size=3820 all=250823 active=12831 piece=▁김기덕\n",
      "bpe_model_trainer.cc(258) LOG(INFO) Added: freq=66 size=3840 all=251029 active=13037 piece=▁볼만했다\n",
      "bpe_model_trainer.cc(258) LOG(INFO) Added: freq=65 size=3860 all=251540 active=13548 piece=▁조절\n",
      "bpe_model_trainer.cc(258) LOG(INFO) Added: freq=65 size=3880 all=251761 active=13769 piece=▁진부하고\n",
      "bpe_model_trainer.cc(258) LOG(INFO) Added: freq=64 size=3900 all=252271 active=14279 piece=요일\n",
      "bpe_model_trainer.cc(167) LOG(INFO) Updating active symbols. max_freq=64 min_freq=13\n",
      "bpe_model_trainer.cc(258) LOG(INFO) Added: freq=64 size=3920 all=252781 active=13094 piece=▁가치가\n",
      "bpe_model_trainer.cc(258) LOG(INFO) Added: freq=63 size=3940 all=253006 active=13319 piece=던지\n",
      "bpe_model_trainer.cc(258) LOG(INFO) Added: freq=63 size=3960 all=253419 active=13732 piece=▁일깨\n",
      "bpe_model_trainer.cc(258) LOG(INFO) Added: freq=63 size=3980 all=253759 active=14072 piece=▁잔인한\n",
      "bpe_model_trainer.cc(258) LOG(INFO) Added: freq=62 size=4000 all=253972 active=14285 piece=▁컬\n",
      "bpe_model_trainer.cc(167) LOG(INFO) Updating active symbols. max_freq=62 min_freq=13\n",
      "bpe_model_trainer.cc(258) LOG(INFO) Added: freq=62 size=4020 all=254330 active=13049 piece=▁쓸데\n",
      "bpe_model_trainer.cc(258) LOG(INFO) Added: freq=62 size=4040 all=254708 active=13427 piece=▁집에서\n",
      "bpe_model_trainer.cc(258) LOG(INFO) Added: freq=61 size=4060 all=255101 active=13820 piece=ᅮᅮᅮ\n",
      "bpe_model_trainer.cc(258) LOG(INFO) Added: freq=61 size=4080 all=255525 active=14244 piece=▁말아먹\n",
      "bpe_model_trainer.cc(258) LOG(INFO) Added: freq=60 size=4100 all=255704 active=14423 piece=▁헬\n",
      "bpe_model_trainer.cc(167) LOG(INFO) Updating active symbols. max_freq=60 min_freq=13\n",
      "bpe_model_trainer.cc(258) LOG(INFO) Added: freq=60 size=4120 all=256148 active=13208 piece=▁부실\n",
      "bpe_model_trainer.cc(258) LOG(INFO) Added: freq=60 size=4140 all=256464 active=13524 piece=▁할머니\n",
      "bpe_model_trainer.cc(258) LOG(INFO) Added: freq=59 size=4160 all=256909 active=13969 piece=복을\n",
      "bpe_model_trainer.cc(258) LOG(INFO) Added: freq=59 size=4180 all=257346 active=14406 piece=▁생에\n",
      "bpe_model_trainer.cc(258) LOG(INFO) Added: freq=59 size=4200 all=257571 active=14631 piece=▁조니뎁\n",
      "bpe_model_trainer.cc(167) LOG(INFO) Updating active symbols. max_freq=59 min_freq=13\n",
      "bpe_model_trainer.cc(258) LOG(INFO) Added: freq=58 size=4220 all=257905 active=13196 piece=더빙\n",
      "bpe_model_trainer.cc(258) LOG(INFO) Added: freq=58 size=4240 all=258585 active=13875 piece=▁다만\n",
      "bpe_model_trainer.cc(258) LOG(INFO) Added: freq=58 size=4260 all=258827 active=14117 piece=그래서\n",
      "bpe_model_trainer.cc(258) LOG(INFO) Added: freq=58 size=4280 all=259192 active=14482 piece=▁궁금하다\n",
      "bpe_model_trainer.cc(258) LOG(INFO) Added: freq=57 size=4300 all=259461 active=14751 piece=루즈\n",
      "bpe_model_trainer.cc(167) LOG(INFO) Updating active symbols. max_freq=57 min_freq=13\n",
      "bpe_model_trainer.cc(258) LOG(INFO) Added: freq=57 size=4320 all=259777 active=13270 piece=▁반성\n",
      "bpe_model_trainer.cc(258) LOG(INFO) Added: freq=57 size=4340 all=260130 active=13623 piece=적이지\n",
      "bpe_model_trainer.cc(258) LOG(INFO) Added: freq=57 size=4360 all=260286 active=13779 piece=▁잘하고\n",
      "bpe_model_trainer.cc(258) LOG(INFO) Added: freq=56 size=4380 all=260509 active=14002 piece=배경\n",
      "bpe_model_trainer.cc(258) LOG(INFO) Added: freq=56 size=4400 all=261046 active=14539 piece=▁아냐\n",
      "bpe_model_trainer.cc(167) LOG(INFO) Updating active symbols. max_freq=56 min_freq=12\n",
      "bpe_model_trainer.cc(258) LOG(INFO) Added: freq=56 size=4420 all=261261 active=13265 piece=▁잊을수\n",
      "bpe_model_trainer.cc(258) LOG(INFO) Added: freq=55 size=4440 all=261550 active=13554 piece=발견\n",
      "bpe_model_trainer.cc(258) LOG(INFO) Added: freq=55 size=4460 all=262059 active=14063 piece=▁어지\n",
      "bpe_model_trainer.cc(258) LOG(INFO) Added: freq=55 size=4480 all=262399 active=14403 piece=▁동성애\n",
      "bpe_model_trainer.cc(258) LOG(INFO) Added: freq=55 size=4500 all=262524 active=14528 piece=▁오래전에\n",
      "bpe_model_trainer.cc(167) LOG(INFO) Updating active symbols. max_freq=55 min_freq=12\n",
      "bpe_model_trainer.cc(258) LOG(INFO) Added: freq=54 size=4520 all=262903 active=13503 piece=인도\n",
      "bpe_model_trainer.cc(258) LOG(INFO) Added: freq=54 size=4540 all=263203 active=13803 piece=▁직접\n",
      "bpe_model_trainer.cc(258) LOG(INFO) Added: freq=54 size=4560 all=263564 active=14164 piece=▁아니지\n",
      "bpe_model_trainer.cc(258) LOG(INFO) Added: freq=53 size=4580 all=263711 active=14311 piece=▁곽\n",
      "bpe_model_trainer.cc(258) LOG(INFO) Added: freq=53 size=4600 all=264299 active=14899 piece=주연\n",
      "bpe_model_trainer.cc(167) LOG(INFO) Updating active symbols. max_freq=53 min_freq=12\n",
      "bpe_model_trainer.cc(258) LOG(INFO) Added: freq=53 size=4620 all=264571 active=13447 piece=▁평균\n",
      "bpe_model_trainer.cc(258) LOG(INFO) Added: freq=53 size=4640 all=264858 active=13734 piece=▁꼭보세요\n",
      "bpe_model_trainer.cc(258) LOG(INFO) Added: freq=52 size=4660 all=265189 active=14065 piece=슨의\n",
      "bpe_model_trainer.cc(258) LOG(INFO) Added: freq=52 size=4680 all=265677 active=14553 piece=▁둘째\n",
      "bpe_model_trainer.cc(258) LOG(INFO) Added: freq=52 size=4700 all=265913 active=14788 piece=▁아깝네\n",
      "bpe_model_trainer.cc(167) LOG(INFO) Updating active symbols. max_freq=52 min_freq=12\n",
      "bpe_model_trainer.cc(258) LOG(INFO) Added: freq=51 size=4720 all=266044 active=13424 piece=▁쿵\n",
      "bpe_model_trainer.cc(258) LOG(INFO) Added: freq=51 size=4740 all=266628 active=14008 piece=어린\n",
      "bpe_model_trainer.cc(258) LOG(INFO) Added: freq=51 size=4760 all=267018 active=14398 piece=▁사무\n",
      "bpe_model_trainer.cc(258) LOG(INFO) Added: freq=51 size=4780 all=267481 active=14861 piece=점대가\n",
      "bpe_model_trainer.cc(258) LOG(INFO) Added: freq=51 size=4800 all=267648 active=15028 piece=▁억지감동\n",
      "bpe_model_trainer.cc(167) LOG(INFO) Updating active symbols. max_freq=51 min_freq=12\n",
      "bpe_model_trainer.cc(258) LOG(INFO) Added: freq=50 size=4820 all=268101 active=13819 piece=햇다\n",
      "bpe_model_trainer.cc(258) LOG(INFO) Added: freq=50 size=4840 all=268393 active=14111 piece=재밋음\n",
      "bpe_model_trainer.cc(258) LOG(INFO) Added: freq=50 size=4860 all=268587 active=14305 piece=▁생각난다\n",
      "bpe_model_trainer.cc(258) LOG(INFO) Added: freq=49 size=4880 all=269025 active=14743 piece=제로\n",
      "bpe_model_trainer.cc(258) LOG(INFO) Added: freq=49 size=4900 all=269334 active=15052 piece=▁좋네\n",
      "bpe_model_trainer.cc(167) LOG(INFO) Updating active symbols. max_freq=49 min_freq=12\n",
      "bpe_model_trainer.cc(258) LOG(INFO) Added: freq=49 size=4920 all=269609 active=13734 piece=▁어디로\n",
      "bpe_model_trainer.cc(258) LOG(INFO) Added: freq=49 size=4940 all=269715 active=13840 piece=▁보았습니다\n",
      "bpe_model_trainer.cc(258) LOG(INFO) Added: freq=48 size=4960 all=270167 active=14292 piece=아오\n",
      "bpe_model_trainer.cc(258) LOG(INFO) Added: freq=48 size=4980 all=270631 active=14756 piece=▁반복\n",
      "bpe_model_trainer.cc(258) LOG(INFO) Added: freq=48 size=5000 all=270917 active=15041 piece=방사수\n",
      "bpe_model_trainer.cc(167) LOG(INFO) Updating active symbols. max_freq=48 min_freq=11\n",
      "bpe_model_trainer.cc(258) LOG(INFO) Added: freq=48 size=5020 all=271188 active=13803 piece=▁전쟁의\n",
      "bpe_model_trainer.cc(258) LOG(INFO) Added: freq=48 size=5040 all=271401 active=14016 piece=▁한국에서\n",
      "bpe_model_trainer.cc(258) LOG(INFO) Added: freq=47 size=5060 all=271870 active=14485 piece=자고\n",
      "bpe_model_trainer.cc(258) LOG(INFO) Added: freq=47 size=5080 all=272114 active=14729 piece=▁이쁨\n",
      "bpe_model_trainer.cc(258) LOG(INFO) Added: freq=47 size=5100 all=272338 active=14953 piece=▁애들은\n",
      "bpe_model_trainer.cc(167) LOG(INFO) Updating active symbols. max_freq=47 min_freq=11\n",
      "bpe_model_trainer.cc(258) LOG(INFO) Added: freq=47 size=5120 all=272548 active=13826 piece=▁실망이다\n",
      "bpe_model_trainer.cc(258) LOG(INFO) Added: freq=46 size=5140 all=272769 active=14047 piece=뭐지\n",
      "bpe_model_trainer.cc(258) LOG(INFO) Added: freq=46 size=5160 all=273142 active=14420 piece=▁볼때\n",
      "bpe_model_trainer.cc(258) LOG(INFO) Added: freq=46 size=5180 all=273413 active=14691 piece=▁높아서\n",
      "bpe_model_trainer.cc(258) LOG(INFO) Added: freq=46 size=5200 all=273481 active=14759 piece=극장에서\n",
      "bpe_model_trainer.cc(167) LOG(INFO) Updating active symbols. max_freq=46 min_freq=11\n",
      "bpe_model_trainer.cc(258) LOG(INFO) Added: freq=45 size=5220 all=273635 active=13791 piece=▁옷\n",
      "bpe_model_trainer.cc(258) LOG(INFO) Added: freq=45 size=5240 all=274217 active=14373 piece=울뿐\n",
      "bpe_model_trainer.cc(258) LOG(INFO) Added: freq=45 size=5260 all=274663 active=14819 piece=▁보구\n",
      "bpe_model_trainer.cc(258) LOG(INFO) Added: freq=45 size=5280 all=274939 active=15095 piece=지루해\n",
      "bpe_model_trainer.cc(258) LOG(INFO) Added: freq=45 size=5300 all=275067 active=15223 piece=▁웃겼다\n",
      "bpe_model_trainer.cc(167) LOG(INFO) Updating active symbols. max_freq=45 min_freq=11\n",
      "bpe_model_trainer.cc(258) LOG(INFO) Added: freq=45 size=5320 all=275188 active=13872 piece=▁인생영화\n",
      "bpe_model_trainer.cc(258) LOG(INFO) Added: freq=44 size=5340 all=275494 active=14178 piece=본색\n",
      "bpe_model_trainer.cc(258) LOG(INFO) Added: freq=44 size=5360 all=275803 active=14487 piece=▁상관\n",
      "bpe_model_trainer.cc(258) LOG(INFO) Added: freq=44 size=5380 all=276085 active=14769 piece=인영화\n",
      "bpe_model_trainer.cc(258) LOG(INFO) Added: freq=44 size=5400 all=276285 active=14969 piece=▁적어도\n",
      "bpe_model_trainer.cc(167) LOG(INFO) Updating active symbols. max_freq=44 min_freq=11\n",
      "bpe_model_trainer.cc(258) LOG(INFO) Added: freq=44 size=5420 all=276371 active=13901 piece=▁좋아하지만\n",
      "bpe_model_trainer.cc(258) LOG(INFO) Added: freq=43 size=5440 all=276731 active=14261 piece=못해\n",
      "bpe_model_trainer.cc(258) LOG(INFO) Added: freq=43 size=5460 all=277199 active=14729 piece=▁당연\n",
      "bpe_model_trainer.cc(258) LOG(INFO) Added: freq=43 size=5480 all=277436 active=14966 piece=▁했음\n",
      "bpe_model_trainer.cc(258) LOG(INFO) Added: freq=43 size=5500 all=277656 active=15186 piece=▁알았음\n",
      "bpe_model_trainer.cc(167) LOG(INFO) Updating active symbols. max_freq=43 min_freq=11\n",
      "bpe_model_trainer.cc(258) LOG(INFO) Added: freq=43 size=5520 all=277820 active=14045 piece=▁갠적으로\n",
      "bpe_model_trainer.cc(258) LOG(INFO) Added: freq=42 size=5540 all=277956 active=14181 piece=광고\n",
      "bpe_model_trainer.cc(258) LOG(INFO) Added: freq=42 size=5560 all=278547 active=14772 piece=지섭\n",
      "bpe_model_trainer.cc(258) LOG(INFO) Added: freq=42 size=5580 all=278863 active=15088 piece=▁보며\n",
      "bpe_model_trainer.cc(258) LOG(INFO) Added: freq=42 size=5600 all=279106 active=15331 piece=다는걸\n",
      "bpe_model_trainer.cc(167) LOG(INFO) Updating active symbols. max_freq=42 min_freq=11\n",
      "bpe_model_trainer.cc(258) LOG(INFO) Added: freq=42 size=5620 all=279277 active=14095 piece=▁에라이\n",
      "bpe_model_trainer.cc(258) LOG(INFO) Added: freq=42 size=5640 all=279439 active=14257 piece=▁슬픈영화\n",
      "bpe_model_trainer.cc(258) LOG(INFO) Added: freq=41 size=5660 all=279682 active=14500 piece=둥이\n",
      "bpe_model_trainer.cc(258) LOG(INFO) Added: freq=41 size=5680 all=280259 active=15077 piece=혼자\n",
      "bpe_model_trainer.cc(258) LOG(INFO) Added: freq=41 size=5700 all=280520 active=15338 piece=▁절망\n",
      "bpe_model_trainer.cc(167) LOG(INFO) Updating active symbols. max_freq=41 min_freq=10\n",
      "bpe_model_trainer.cc(258) LOG(INFO) Added: freq=41 size=5720 all=280901 active=14389 piece=..,,\n",
      "bpe_model_trainer.cc(258) LOG(INFO) Added: freq=41 size=5740 all=280955 active=14443 piece=▁적절한\n",
      "bpe_model_trainer.cc(258) LOG(INFO) Added: freq=41 size=5760 all=281132 active=14620 piece=.............\n",
      "bpe_model_trainer.cc(258) LOG(INFO) Added: freq=40 size=5780 all=281483 active=14971 piece=미스\n",
      "bpe_model_trainer.cc(258) LOG(INFO) Added: freq=40 size=5800 all=281993 active=15481 piece=치의\n",
      "bpe_model_trainer.cc(167) LOG(INFO) Updating active symbols. max_freq=40 min_freq=10\n",
      "bpe_model_trainer.cc(258) LOG(INFO) Added: freq=40 size=5820 all=282218 active=14303 piece=▁절제\n",
      "bpe_model_trainer.cc(258) LOG(INFO) Added: freq=40 size=5840 all=282422 active=14507 piece=▁생각나\n",
      "bpe_model_trainer.cc(258) LOG(INFO) Added: freq=40 size=5860 all=282600 active=14685 piece=▁최고네요\n",
      "bpe_model_trainer.cc(258) LOG(INFO) Added: freq=39 size=5880 all=282838 active=14923 piece=드먼\n",
      "bpe_model_trainer.cc(258) LOG(INFO) Added: freq=39 size=5900 all=283360 active=15445 piece=줬다\n",
      "bpe_model_trainer.cc(167) LOG(INFO) Updating active symbols. max_freq=39 min_freq=10\n",
      "bpe_model_trainer.cc(258) LOG(INFO) Added: freq=39 size=5920 all=283634 active=14418 piece=▁숨막\n",
      "bpe_model_trainer.cc(258) LOG(INFO) Added: freq=39 size=5940 all=283862 active=14646 piece=졌어요\n",
      "bpe_model_trainer.cc(258) LOG(INFO) Added: freq=39 size=5960 all=283991 active=14775 piece=▁소중한\n",
      "bpe_model_trainer.cc(258) LOG(INFO) Added: freq=39 size=5980 all=284101 active=14885 piece=▁보았는데\n",
      "bpe_model_trainer.cc(258) LOG(INFO) Added: freq=38 size=6000 all=284198 active=14982 piece=.8\n",
      "bpe_model_trainer.cc(167) LOG(INFO) Updating active symbols. max_freq=38 min_freq=10\n",
      "bpe_model_trainer.cc(258) LOG(INFO) Added: freq=38 size=6020 all=284600 active=14593 piece=새록\n",
      "bpe_model_trainer.cc(258) LOG(INFO) Added: freq=38 size=6040 all=285027 active=15020 piece=▁껐다\n",
      "bpe_model_trainer.cc(258) LOG(INFO) Added: freq=38 size=6060 all=285202 active=15195 piece=▁아버\n",
      "bpe_model_trainer.cc(258) LOG(INFO) Added: freq=38 size=6080 all=285381 active=15374 piece=분짜리\n",
      "bpe_model_trainer.cc(258) LOG(INFO) Added: freq=38 size=6100 all=285573 active=15566 piece=▁부모님\n",
      "bpe_model_trainer.cc(167) LOG(INFO) Updating active symbols. max_freq=38 min_freq=10\n",
      "bpe_model_trainer.cc(258) LOG(INFO) Added: freq=38 size=6120 all=285698 active=14395 piece=했었는데\n",
      "bpe_model_trainer.cc(258) LOG(INFO) Added: freq=38 size=6140 all=285785 active=14482 piece=▁캐릭터들\n",
      "bpe_model_trainer.cc(258) LOG(INFO) Added: freq=37 size=6160 all=286043 active=14740 piece=동화\n",
      "bpe_model_trainer.cc(258) LOG(INFO) Added: freq=37 size=6180 all=286581 active=15278 piece=▁고어\n",
      "bpe_model_trainer.cc(258) LOG(INFO) Added: freq=37 size=6200 all=286802 active=15499 piece=▁였다\n",
      "bpe_model_trainer.cc(167) LOG(INFO) Updating active symbols. max_freq=37 min_freq=10\n",
      "bpe_model_trainer.cc(258) LOG(INFO) Added: freq=37 size=6220 all=287098 active=14633 piece=▁더빙이\n",
      "trainer_interface.cc(615) LOG(INFO) Saving model: korean_spm_bpe.model\n",
      "trainer_interface.cc(626) LOG(INFO) Saving vocabs: korean_spm_bpe.vocab\n"
     ]
    },
    {
     "name": "stdout",
     "output_type": "stream",
     "text": [
      "-rw-r--r-- 1 root root 703107 Mar 22 07:54 korean_spm_bpe_25000.model\r\n",
      "-rw-r--r-- 1 root root 429299 Mar 22 07:54 korean_spm_bpe_25000.vocab\r\n",
      "-rw-r--r-- 1 root root 370456 Mar 22 08:29 korean_spm_bpe.model\r\n",
      "-rw-r--r-- 1 root root 115658 Mar 22 08:29 korean_spm_bpe.vocab\r\n"
     ]
    }
   ],
   "source": [
    "import sentencepiece as spm\n",
    "import os\n",
    "temp_file = os.getenv('HOME')+'/aiffel/sp_tokenizer/data/korean-english-park.train.ko.temp'\n",
    "\n",
    "vocab_size = 8000\n",
    "\n",
    "with open(temp_file, 'w') as f:\n",
    "    for row in removed_data['document']:   # 이전 스텝에서 정제했던 corpus를 활용합니다.\n",
    "        f.write(str(row) + '\\n')\n",
    "\n",
    "spm.SentencePieceTrainer.Train(\n",
    "    '--input={} --model_prefix=korean_spm_bpe --model_type=bpe --vocab_size={}'.format(temp_file, vocab_size)    \n",
    ")\n",
    "\n",
    "!ls -l korean_spm_bpe*"
   ]
  },
  {
   "cell_type": "markdown",
   "id": "ec48cbd7",
   "metadata": {},
   "source": [
    "- '아버지가'가 '아버', '지가'로 된 것을 확인할 수 있다.\n",
    "- unigram과는 다르게 토큰화되었다."
   ]
  },
  {
   "cell_type": "code",
   "execution_count": 43,
   "id": "42f06c50",
   "metadata": {},
   "outputs": [
    {
     "name": "stdout",
     "output_type": "stream",
     "text": [
      "[6062, 995, 6535, 6252, 1604, 6245, 6357, 6238, 6236]\n",
      "['▁아버', '지가', '방', '에', '들어', '가', '신', '다', '.']\n",
      "아버지가방에들어가신다.\n"
     ]
    }
   ],
   "source": [
    "s = spm.SentencePieceProcessor()\n",
    "s.Load('korean_spm_bpe.model')\n",
    "\n",
    "# SentencePiece를 활용한 sentence -> encoding\n",
    "tokensIDs = s.EncodeAsIds('아버지가방에들어가신다.')\n",
    "print(tokensIDs)\n",
    "\n",
    "# SentencePiece를 활용한 sentence -> encoded pieces\n",
    "print(s.SampleEncodeAsPieces('아버지가방에들어가신다.',1, 0.0))\n",
    "\n",
    "# SentencePiece를 활용한 encoding -> sentence 복원\n",
    "print(s.DecodeIds(tokensIDs))"
   ]
  },
  {
   "cell_type": "markdown",
   "id": "d2f33660",
   "metadata": {},
   "source": [
    "## 6.2 Tokenizer 함수"
   ]
  },
  {
   "cell_type": "code",
   "execution_count": 44,
   "id": "8faab398",
   "metadata": {},
   "outputs": [],
   "source": [
    "def sp_tokenize(s, corpus):\n",
    "\n",
    "    tensor = []\n",
    "\n",
    "    for sen in corpus:\n",
    "        tensor.append(s.EncodeAsIds(sen))\n",
    "\n",
    "    with open(\"./korean_spm_bpe.vocab\", 'r') as f:\n",
    "        vocab = f.readlines()\n",
    "\n",
    "    word_index = {}\n",
    "    index_word = {}\n",
    "\n",
    "    for idx, line in enumerate(vocab):\n",
    "        word = line.split(\"\\t\")[0]\n",
    "\n",
    "        word_index.update({idx:word})\n",
    "        index_word.update({word:idx})\n",
    "\n",
    "    tensor = tf.keras.preprocessing.sequence.pad_sequences(tensor, padding='post')\n",
    "\n",
    "    return tensor, word_index, index_word"
   ]
  },
  {
   "cell_type": "code",
   "execution_count": 45,
   "id": "d79dd9b1",
   "metadata": {},
   "outputs": [
    {
     "name": "stdout",
     "output_type": "stream",
     "text": [
      "[[ 646 2980 6267  559  844 6236    0    0    0]\n",
      " [1680 2218  272  364 6245  172 7699   17    7]]\n"
     ]
    }
   ],
   "source": [
    "#sp_tokenize(s, corpus) 사용예제\n",
    "\n",
    "my_corpus = ['나는 밥을 먹었습니다.', '그러나 여전히 ㅠㅠ 배가 고픕니다...']\n",
    "tensor, word_index, index_word = sp_tokenize(s, my_corpus)\n",
    "print(tensor)"
   ]
  },
  {
   "cell_type": "markdown",
   "id": "4d918e95",
   "metadata": {},
   "source": [
    "## 6.3 모델 구성 및 훈련"
   ]
  },
  {
   "cell_type": "code",
   "execution_count": 46,
   "id": "765253b6",
   "metadata": {},
   "outputs": [
    {
     "name": "stdout",
     "output_type": "stream",
     "text": [
      "Model: \"sequential_1\"\n",
      "_________________________________________________________________\n",
      "Layer (type)                 Output Shape              Param #   \n",
      "=================================================================\n",
      "embedding_1 (Embedding)      (None, None, 16)          160000    \n",
      "_________________________________________________________________\n",
      "lstm_1 (LSTM)                (None, 8)                 800       \n",
      "_________________________________________________________________\n",
      "dense_2 (Dense)              (None, 8)                 72        \n",
      "_________________________________________________________________\n",
      "dense_3 (Dense)              (None, 1)                 9         \n",
      "=================================================================\n",
      "Total params: 160,881\n",
      "Trainable params: 160,881\n",
      "Non-trainable params: 0\n",
      "_________________________________________________________________\n"
     ]
    }
   ],
   "source": [
    "vocab_size = 10000   # 단어사진 크기\n",
    "word_vector_dim = 16  # 단어 하나를 표현하는 임베딩 벡터의 차원수 (변경 가능한 하이퍼파라마터)\n",
    "\n",
    "model_2 = tf.keras.Sequential()\n",
    "model_2.add(tf.keras.layers.Embedding(vocab_size, word_vector_dim, input_shape = (None,)))\n",
    "model_2.add(tf.keras.layers.LSTM(8))  # LSTM 레이어 사용 & LSTM 벡터의 차원 수 변경 가능\n",
    "model_2.add(tf.keras.layers.Dense(8, activation = 'relu'))\n",
    "model_2.add(tf.keras.layers.Dense(1, activation = 'sigmoid')) # 최종 출력은 긍정/부정을 나타내는 1dim\n",
    "\n",
    "model_2.summary()"
   ]
  },
  {
   "cell_type": "code",
   "execution_count": 47,
   "id": "fe23e944",
   "metadata": {},
   "outputs": [
    {
     "name": "stdout",
     "output_type": "stream",
     "text": [
      "Epoch 1/10\n",
      "184/184 [==============================] - 7s 40ms/step - loss: 0.2555 - accuracy: 0.8914 - val_loss: 0.3904 - val_accuracy: 0.8398\n",
      "Epoch 2/10\n",
      "184/184 [==============================] - 7s 39ms/step - loss: 0.2425 - accuracy: 0.8965 - val_loss: 0.4089 - val_accuracy: 0.8394\n",
      "Epoch 3/10\n",
      "184/184 [==============================] - 7s 40ms/step - loss: 0.2305 - accuracy: 0.9004 - val_loss: 0.4168 - val_accuracy: 0.8364\n",
      "Epoch 4/10\n",
      "184/184 [==============================] - 7s 39ms/step - loss: 0.2192 - accuracy: 0.9042 - val_loss: 0.4549 - val_accuracy: 0.8364\n",
      "Epoch 5/10\n",
      "184/184 [==============================] - 7s 41ms/step - loss: 0.2112 - accuracy: 0.9079 - val_loss: 0.4504 - val_accuracy: 0.8359\n",
      "Epoch 6/10\n",
      "184/184 [==============================] - 7s 40ms/step - loss: 0.2039 - accuracy: 0.9101 - val_loss: 0.4895 - val_accuracy: 0.8340\n",
      "Epoch 7/10\n",
      "184/184 [==============================] - 8s 41ms/step - loss: 0.1971 - accuracy: 0.9122 - val_loss: 0.4654 - val_accuracy: 0.8298\n",
      "Epoch 8/10\n",
      "184/184 [==============================] - 7s 40ms/step - loss: 0.1904 - accuracy: 0.9148 - val_loss: 0.4907 - val_accuracy: 0.8334\n",
      "Epoch 9/10\n",
      "184/184 [==============================] - 7s 41ms/step - loss: 0.1870 - accuracy: 0.9157 - val_loss: 0.5177 - val_accuracy: 0.8302\n",
      "Epoch 10/10\n",
      "184/184 [==============================] - 7s 41ms/step - loss: 0.1803 - accuracy: 0.9188 - val_loss: 0.5257 - val_accuracy: 0.8291\n"
     ]
    }
   ],
   "source": [
    "model_2.compile(optimizer = 'adam',\n",
    "                loss = 'binary_crossentropy',\n",
    "                metrics = ['accuracy'])\n",
    "\n",
    "epochs = 10\n",
    "\n",
    "history_2 = model.fit(x_train,\n",
    "                      y_train,\n",
    "                      epochs = epochs,\n",
    "                      batch_size = 512,\n",
    "                      validation_data = (x_val, y_val),\n",
    "                      verbose = 1)"
   ]
  },
  {
   "cell_type": "code",
   "execution_count": 48,
   "id": "3e818a70",
   "metadata": {},
   "outputs": [
    {
     "name": "stdout",
     "output_type": "stream",
     "text": [
      "736/736 - 4s - loss: 0.6934 - accuracy: 0.4979\n",
      "[0.6934155821800232, 0.4978761374950409]\n"
     ]
    }
   ],
   "source": [
    "results_2 = model_2.evaluate(x_test, y_test, verbose = 2)\n",
    "print(results_2)"
   ]
  },
  {
   "cell_type": "code",
   "execution_count": 49,
   "id": "5c56818b",
   "metadata": {},
   "outputs": [
    {
     "name": "stdout",
     "output_type": "stream",
     "text": [
      "dict_keys(['loss', 'accuracy', 'val_loss', 'val_accuracy'])\n"
     ]
    }
   ],
   "source": [
    "history_2_dict = history_2.history\n",
    "\n",
    "print(history_2_dict.keys())"
   ]
  },
  {
   "cell_type": "markdown",
   "id": "0ed024c8",
   "metadata": {},
   "source": [
    "- training loss는 계속 감소하는 반면에 validation loss는 계속해서 증가한다.\n",
    "- accuracy도 마찬가지로 train accuracy는 계속 증가하는 반면에 validation accuracy는 계속 감소한다."
   ]
  },
  {
   "cell_type": "code",
   "execution_count": 50,
   "id": "fbc5fec8",
   "metadata": {},
   "outputs": [
    {
     "data": {
      "image/png": "[encoded data removed]",
      "text/plain": [
       "<Figure size 1440x360 with 2 Axes>"
      ]
     },
     "metadata": {
      "needs_background": "light"
     },
     "output_type": "display_data"
    }
   ],
   "source": [
    "acc = history_2_dict['accuracy']\n",
    "val_acc = history_2_dict['val_accuracy']\n",
    "\n",
    "loss = history_2_dict['loss']\n",
    "val_loss = history_2_dict['val_loss']\n",
    "\n",
    "epochs = range(1, len(acc) + 1)\n",
    "\n",
    "plt.figure(figsize=(20,5))\n",
    "\n",
    "plt.subplot(1, 2, 1)\n",
    "plt.plot(epochs, loss, 'b', label = 'Training loss')\n",
    "plt.plot(epochs, val_loss, 'r', label = 'Validation loss')\n",
    "plt.title('Training and validation loss')\n",
    "plt.xlabel('Epochs')\n",
    "plt.ylabel('Loss')\n",
    "plt.legend()\n",
    "\n",
    "plt.subplot(1, 2, 2)\n",
    "plt.plot(epochs, acc, 'b', label = 'Training acc')\n",
    "plt.plot(epochs, val_acc, 'r', label = 'Validation acc')\n",
    "plt.title('Training and validation accuracy')\n",
    "plt.xlabel('Epochs')\n",
    "plt.ylabel('Accuracy')\n",
    "plt.legend()\n",
    "\n",
    "plt.show()"
   ]
  },
  {
   "cell_type": "markdown",
   "id": "65e2d25a",
   "metadata": {},
   "source": [
    "---"
   ]
  },
  {
   "cell_type": "markdown",
   "id": "c2535cce",
   "metadata": {},
   "source": [
    "# Step 7. vocab_size 조정\n",
    "- `SentencePiece`의 `vocab_size`을 25,000 ~ 32,000으로 하여 실제 모델을 학습시킨다고 하여 25,000으로 설정하였다.\n",
    "- [[vocab_size 관련 참고 자료 1]](https://lsjsj92.tistory.com/600)\n",
    "- [[vocab_size 관련 참고 자료 2]](https://keep-steady.tistory.com/37)"
   ]
  },
  {
   "cell_type": "markdown",
   "id": "12bb75d8",
   "metadata": {},
   "source": [
    "## 7.1 SentencePiece(unigram)"
   ]
  },
  {
   "cell_type": "code",
   "execution_count": 51,
   "id": "be072a1e",
   "metadata": {
    "scrolled": true
   },
   "outputs": [
    {
     "name": "stderr",
     "output_type": "stream",
     "text": [
      "sentencepiece_trainer.cc(177) LOG(INFO) Running command: --input=/aiffel/aiffel/sp_tokenizer/data/korean-english-park.train.ko.temp --model_prefix=korean_spm_25000 --vocab_size=25000\n",
      "sentencepiece_trainer.cc(77) LOG(INFO) Starts training with : \n",
      "trainer_spec {\n",
      "  input: /aiffel/aiffel/sp_tokenizer/data/korean-english-park.train.ko.temp\n",
      "  input_format: \n",
      "  model_prefix: korean_spm_25000\n",
      "  model_type: UNIGRAM\n",
      "  vocab_size: 25000\n",
      "  self_test_sample_size: 0\n",
      "  character_coverage: 0.9995\n",
      "  input_sentence_size: 0\n",
      "  shuffle_input_sentence: 1\n",
      "  seed_sentencepiece_size: 1000000\n",
      "  shrinking_factor: 0.75\n",
      "  max_sentence_length: 4192\n",
      "  num_threads: 16\n",
      "  num_sub_iterations: 2\n",
      "  max_sentencepiece_length: 16\n",
      "  split_by_unicode_script: 1\n",
      "  split_by_number: 1\n",
      "  split_by_whitespace: 1\n",
      "  split_digits: 0\n",
      "  treat_whitespace_as_suffix: 0\n",
      "  allow_whitespace_only_pieces: 0\n",
      "  required_chars: \n",
      "  byte_fallback: 0\n",
      "  vocabulary_output_piece_score: 1\n",
      "  train_extremely_large_corpus: 0\n",
      "  hard_vocab_limit: 1\n",
      "  use_all_vocab: 0\n",
      "  unk_id: 0\n",
      "  bos_id: 1\n",
      "  eos_id: 2\n",
      "  pad_id: -1\n",
      "  unk_piece: <unk>\n",
      "  bos_piece: <s>\n",
      "  eos_piece: </s>\n",
      "  pad_piece: <pad>\n",
      "  unk_surface:  ⁇ \n",
      "}\n",
      "normalizer_spec {\n",
      "  name: nmt_nfkc\n",
      "  add_dummy_prefix: 1\n",
      "  remove_extra_whitespaces: 1\n",
      "  escape_whitespaces: 1\n",
      "  normalization_rule_tsv: \n",
      "}\n",
      "denormalizer_spec {}\n",
      "trainer_interface.cc(329) LOG(INFO) SentenceIterator is not specified. Using MultiFileSentenceIterator.\n",
      "trainer_interface.cc(178) LOG(INFO) Loading corpus: /aiffel/aiffel/sp_tokenizer/data/korean-english-park.train.ko.temp\n",
      "trainer_interface.cc(385) LOG(INFO) Loaded all 147136 sentences\n",
      "trainer_interface.cc(400) LOG(INFO) Adding meta_piece: <unk>\n",
      "trainer_interface.cc(400) LOG(INFO) Adding meta_piece: <s>\n",
      "trainer_interface.cc(400) LOG(INFO) Adding meta_piece: </s>\n",
      "trainer_interface.cc(405) LOG(INFO) Normalizing sentences...\n",
      "trainer_interface.cc(466) LOG(INFO) all chars count=3488286\n",
      "trainer_interface.cc(477) LOG(INFO) Done: 99.95% characters are covered.\n",
      "trainer_interface.cc(487) LOG(INFO) Alphabet size=1765\n",
      "trainer_interface.cc(488) LOG(INFO) Final character coverage=0.9995\n",
      "trainer_interface.cc(520) LOG(INFO) Done! preprocessed 147136 sentences.\n",
      "unigram_model_trainer.cc(139) LOG(INFO) Making suffix array...\n",
      "unigram_model_trainer.cc(143) LOG(INFO) Extracting frequent sub strings...\n",
      "unigram_model_trainer.cc(194) LOG(INFO) Initialized 213776 seed sentencepieces\n",
      "trainer_interface.cc(526) LOG(INFO) Tokenizing input sentences with whitespace: 147136\n",
      "trainer_interface.cc(537) LOG(INFO) Done! 243347\n",
      "unigram_model_trainer.cc(489) LOG(INFO) Using 243347 sentences for EM training\n",
      "unigram_model_trainer.cc(505) LOG(INFO) EM sub_iter=0 size=111109 obj=15.2798 num_tokens=571024 num_tokens/piece=5.13931\n",
      "unigram_model_trainer.cc(505) LOG(INFO) EM sub_iter=1 size=103270 obj=14.2298 num_tokens=574642 num_tokens/piece=5.56446\n",
      "unigram_model_trainer.cc(505) LOG(INFO) EM sub_iter=0 size=77410 obj=14.3514 num_tokens=600068 num_tokens/piece=7.75182\n",
      "unigram_model_trainer.cc(505) LOG(INFO) EM sub_iter=1 size=77298 obj=14.2909 num_tokens=601067 num_tokens/piece=7.77597\n",
      "unigram_model_trainer.cc(505) LOG(INFO) EM sub_iter=0 size=57967 obj=14.5563 num_tokens=633130 num_tokens/piece=10.9222\n",
      "unigram_model_trainer.cc(505) LOG(INFO) EM sub_iter=1 size=57965 obj=14.4875 num_tokens=633405 num_tokens/piece=10.9274\n",
      "unigram_model_trainer.cc(505) LOG(INFO) EM sub_iter=0 size=43473 obj=14.7776 num_tokens=664262 num_tokens/piece=15.2799\n",
      "unigram_model_trainer.cc(505) LOG(INFO) EM sub_iter=1 size=43473 obj=14.7096 num_tokens=664268 num_tokens/piece=15.28\n",
      "unigram_model_trainer.cc(505) LOG(INFO) EM sub_iter=0 size=32604 obj=15.0347 num_tokens=697358 num_tokens/piece=21.3887\n",
      "unigram_model_trainer.cc(505) LOG(INFO) EM sub_iter=1 size=32604 obj=14.9641 num_tokens=697399 num_tokens/piece=21.39\n",
      "unigram_model_trainer.cc(505) LOG(INFO) EM sub_iter=0 size=27500 obj=15.1685 num_tokens=716788 num_tokens/piece=26.065\n",
      "unigram_model_trainer.cc(505) LOG(INFO) EM sub_iter=1 size=27500 obj=15.1276 num_tokens=716786 num_tokens/piece=26.0649\n",
      "trainer_interface.cc(615) LOG(INFO) Saving model: korean_spm_25000.model\n",
      "trainer_interface.cc(626) LOG(INFO) Saving vocabs: korean_spm_25000.vocab\n"
     ]
    },
    {
     "name": "stdout",
     "output_type": "stream",
     "text": [
      "-rw-r--r-- 1 root root 721295 Mar 22 08:31 korean_spm_25000.model\r\n",
      "-rw-r--r-- 1 root root 505806 Mar 22 08:31 korean_spm_25000.vocab\r\n"
     ]
    }
   ],
   "source": [
    "import sentencepiece as spm\n",
    "import os\n",
    "temp_file = os.getenv('HOME')+'/aiffel/sp_tokenizer/data/korean-english-park.train.ko.temp'\n",
    "\n",
    "vocab_size = 25000\n",
    "\n",
    "with open(temp_file, 'w') as f:\n",
    "    for row in removed_data['document']:   # 이전 스텝에서 정제했던 corpus를 활용합니다.\n",
    "        f.write(str(row) + '\\n')\n",
    "\n",
    "spm.SentencePieceTrainer.Train(\n",
    "    '--input={} --model_prefix=korean_spm_25000 --vocab_size={}'.format(temp_file, vocab_size)    \n",
    ")\n",
    "#위 Train에서  --model_type = 'unigram'이 디폴트 적용되어 있습니다. --model_type = 'bpe' 로 옵션을 주어 변경할 수 있습니다.\n",
    "\n",
    "!ls -l korean_spm_25000*"
   ]
  },
  {
   "cell_type": "code",
   "execution_count": 52,
   "id": "a4ddeeca",
   "metadata": {},
   "outputs": [
    {
     "name": "stdout",
     "output_type": "stream",
     "text": [
      "[8236, 641, 19, 1639, 11, 277, 21, 3]\n",
      "['▁아버지가', '방', '에', '들어', '가', '신', '다', '.']\n",
      "아버지가방에들어가신다.\n"
     ]
    }
   ],
   "source": [
    "s = spm.SentencePieceProcessor()\n",
    "s.Load('korean_spm_25000.model')\n",
    "\n",
    "# SentencePiece를 활용한 sentence -> encoding\n",
    "tokensIDs = s.EncodeAsIds('아버지가방에들어가신다.')\n",
    "print(tokensIDs)\n",
    "\n",
    "# SentencePiece를 활용한 sentence -> encoded pieces\n",
    "print(s.SampleEncodeAsPieces('아버지가방에들어가신다.',1, 0.0))\n",
    "\n",
    "# SentencePiece를 활용한 encoding -> sentence 복원\n",
    "print(s.DecodeIds(tokensIDs))"
   ]
  },
  {
   "cell_type": "code",
   "execution_count": 53,
   "id": "9f5bd8a7",
   "metadata": {},
   "outputs": [],
   "source": [
    "def sp_tokenize(s, corpus):\n",
    "\n",
    "    tensor = []\n",
    "\n",
    "    for sen in corpus:\n",
    "        tensor.append(s.EncodeAsIds(sen))\n",
    "\n",
    "    with open(\"./korean_spm_25000.vocab\", 'r') as f:\n",
    "        vocab = f.readlines()\n",
    "\n",
    "    word_index = {}\n",
    "    index_word = {}\n",
    "\n",
    "    for idx, line in enumerate(vocab):\n",
    "        word = line.split(\"\\t\")[0]\n",
    "\n",
    "        word_index.update({idx:word})\n",
    "        index_word.update({word:idx})\n",
    "\n",
    "    tensor = tf.keras.preprocessing.sequence.pad_sequences(tensor, padding='post')\n",
    "\n",
    "    return tensor, word_index, index_word"
   ]
  },
  {
   "cell_type": "code",
   "execution_count": 54,
   "id": "079aba3b",
   "metadata": {},
   "outputs": [
    {
     "name": "stdout",
     "output_type": "stream",
     "text": [
      "Model: \"sequential_2\"\n",
      "_________________________________________________________________\n",
      "Layer (type)                 Output Shape              Param #   \n",
      "=================================================================\n",
      "embedding_2 (Embedding)      (None, None, 16)          160000    \n",
      "_________________________________________________________________\n",
      "lstm_2 (LSTM)                (None, 8)                 800       \n",
      "_________________________________________________________________\n",
      "dense_4 (Dense)              (None, 8)                 72        \n",
      "_________________________________________________________________\n",
      "dense_5 (Dense)              (None, 1)                 9         \n",
      "=================================================================\n",
      "Total params: 160,881\n",
      "Trainable params: 160,881\n",
      "Non-trainable params: 0\n",
      "_________________________________________________________________\n"
     ]
    }
   ],
   "source": [
    "vocab_size = 10000   # 단어사진 크기\n",
    "word_vector_dim = 16  # 단어 하나를 표현하는 임베딩 벡터의 차원수 (변경 가능한 하이퍼파라마터)\n",
    "\n",
    "model_3 = tf.keras.Sequential()\n",
    "model_3.add(tf.keras.layers.Embedding(vocab_size, word_vector_dim, input_shape = (None,)))\n",
    "model_3.add(tf.keras.layers.LSTM(8))  # LSTM 레이어 사용 & LSTM 벡터의 차원 수 변경 가능\n",
    "model_3.add(tf.keras.layers.Dense(8, activation = 'relu'))\n",
    "model_3.add(tf.keras.layers.Dense(1, activation = 'sigmoid')) # 최종 출력은 긍정/부정을 나타내는 1dim\n",
    "\n",
    "model_3.summary()"
   ]
  },
  {
   "cell_type": "code",
   "execution_count": 55,
   "id": "3db4f1ee",
   "metadata": {},
   "outputs": [
    {
     "name": "stdout",
     "output_type": "stream",
     "text": [
      "Epoch 1/10\n",
      "184/184 [==============================] - 8s 41ms/step - loss: 0.1757 - accuracy: 0.9195 - val_loss: 0.5374 - val_accuracy: 0.8300\n",
      "Epoch 2/10\n",
      "184/184 [==============================] - 7s 40ms/step - loss: 0.1708 - accuracy: 0.9216 - val_loss: 0.5634 - val_accuracy: 0.8296\n",
      "Epoch 3/10\n",
      "184/184 [==============================] - 7s 40ms/step - loss: 0.1672 - accuracy: 0.9227 - val_loss: 0.5598 - val_accuracy: 0.8269\n",
      "Epoch 4/10\n",
      "184/184 [==============================] - 7s 40ms/step - loss: 0.1662 - accuracy: 0.9213 - val_loss: 0.6067 - val_accuracy: 0.8252\n",
      "Epoch 5/10\n",
      "184/184 [==============================] - 7s 40ms/step - loss: 0.1644 - accuracy: 0.9231 - val_loss: 0.5462 - val_accuracy: 0.8280\n",
      "Epoch 6/10\n",
      "184/184 [==============================] - 7s 41ms/step - loss: 0.1606 - accuracy: 0.9233 - val_loss: 0.5580 - val_accuracy: 0.8206\n",
      "Epoch 7/10\n",
      "184/184 [==============================] - 7s 41ms/step - loss: 0.1574 - accuracy: 0.9254 - val_loss: 0.5869 - val_accuracy: 0.8261\n",
      "Epoch 8/10\n",
      "184/184 [==============================] - 7s 40ms/step - loss: 0.1533 - accuracy: 0.9264 - val_loss: 0.6013 - val_accuracy: 0.8209\n",
      "Epoch 9/10\n",
      "184/184 [==============================] - 7s 41ms/step - loss: 0.1493 - accuracy: 0.9286 - val_loss: 0.6010 - val_accuracy: 0.8208\n",
      "Epoch 10/10\n",
      "184/184 [==============================] - 7s 40ms/step - loss: 0.1482 - accuracy: 0.9295 - val_loss: 0.5977 - val_accuracy: 0.8202\n"
     ]
    }
   ],
   "source": [
    "model_3.compile(optimizer = 'adam',\n",
    "                loss = 'binary_crossentropy',\n",
    "                metrics = ['accuracy'])\n",
    "\n",
    "epochs = 10\n",
    "\n",
    "history_3 = model.fit(x_train,\n",
    "                      y_train,\n",
    "                      epochs = epochs,\n",
    "                      batch_size = 512,\n",
    "                      validation_data = (x_val, y_val),\n",
    "                      verbose = 1)"
   ]
  },
  {
   "cell_type": "markdown",
   "id": "683f9f3b",
   "metadata": {},
   "source": [
    "- `vocab_size`를 조정하였는데, accuracy가 매우 낮아진 것을 확인할 수 있다."
   ]
  },
  {
   "cell_type": "code",
   "execution_count": 56,
   "id": "5ec5bb54",
   "metadata": {},
   "outputs": [
    {
     "name": "stdout",
     "output_type": "stream",
     "text": [
      "736/736 - 4s - loss: 0.6932 - accuracy: 0.5021\n",
      "[0.6931953430175781, 0.5021238923072815]\n"
     ]
    }
   ],
   "source": [
    "results_3 = model_3.evaluate(x_test, y_test, verbose = 2)\n",
    "print(results_3)"
   ]
  },
  {
   "cell_type": "markdown",
   "id": "47db4ece",
   "metadata": {},
   "source": [
    "## 7.2 SentencePiece(bpe)"
   ]
  },
  {
   "cell_type": "markdown",
   "id": "df7ed709",
   "metadata": {},
   "source": [
    "- `bpe` model type에서 `vocab_size`를 늘렸는데, 코드가 실행이 되지 않았다."
   ]
  },
  {
   "cell_type": "code",
   "execution_count": null,
   "id": "4ba11550",
   "metadata": {},
   "outputs": [],
   "source": [
    "# import sentencepiece as spm\n",
    "# import os\n",
    "# temp_file = os.getenv('HOME')+'/aiffel/sp_tokenizer/data/korean-english-park.train.ko.temp'\n",
    "\n",
    "# vocab_size = 25000\n",
    "\n",
    "# with open(temp_file, 'w') as f:\n",
    "#     for row in removed_data['document']:   # 이전 스텝에서 정제했던 corpus를 활용합니다.\n",
    "#         f.write(str(row) + '\\n')\n",
    "\n",
    "# spm.SentencePieceTrainer.Train(\n",
    "#     '--input={} --model_prefix=korean_spm_bpe_25000 --model_type=bpe --vocab_size={}'.format(temp_file, vocab_size)    \n",
    "# )\n",
    "\n",
    "# !ls -l korean_spm_bpe_25000*"
   ]
  },
  {
   "cell_type": "markdown",
   "id": "9ecbbd03",
   "metadata": {},
   "source": [
    "---"
   ]
  },
  {
   "cell_type": "markdown",
   "id": "c7d5a653",
   "metadata": {},
   "source": [
    "# 🌞 회고"
   ]
  },
  {
   "cell_type": "markdown",
   "id": "46bb3cc3",
   "metadata": {},
   "source": [
    "## 1) 알게 된 점\n",
    "- 프로젝트 초반에는 데이터 중 'document' 컬럼의 데이터만을 다뤘는데, 모델 훈련을 하려고 하니 'label' 데이터 처리도 해야 했다.\n",
    "- 이 부분에서 다소 헤매었는데 나름 알고리즘 수업에서 배운 것들과 다른 곳에서 본 것들을 총 동원하여 코드를 작성해보니 되었다...만만세 \n",
    "- 데이터의 최장 길이(max_len)를 설정하는데, 이전 관련 노드에서는 데이터를 최대한 살리는 것이 결과가 좋았으나 이번 노드에서는 그럴수록 결과가 좋지 않았다.\n",
    "- 처음에는 다른 코드의 문제인줄 알고 이것저것 해보았는데, 알고 보니 최장 길이 문제였다.\n",
    "- 그래서 여러가지 해본후, 사분위수를 구해서 3사분위수로 설정하여 해보았더니 결과가 가장 좋게 나왔다.\n",
    "- SentencePiece의 model_type을 적용하는 부분에서 여러 자료를 참고하며 코드를 작성해서 조금 더 잘 알게 되었다.\n",
    "- RNN 모델로 학습하는 부분은 익스 6번을 참고하였으며 다시 해당 내용을 상기시킬 수 있었다."
   ]
  },
  {
   "cell_type": "markdown",
   "id": "37204b09",
   "metadata": {},
   "source": [
    "## 2) 결과\n",
    "- `unigram`으로 SentencePiece 모델을 학습하였을 때 `loss: 0.3918 - accuracy: 0.8397`의 결과가 나왔다.\n",
    "- `bpm`으로 SentencePiece 모델을 학습하였을 때는 `loss: 0.6934 - accuracy: 0.4979`로 accuracy가 매우 떨어진 것을 확인할 수 있다.\n",
    "- train accuracy는 높으나 val accuracy가 낮으며 test 데이터로 평가했을 때 accuracy가 매우 낮았다.\n",
    "- `bpm`으로 토크나이징하였을 때,  '아버지'라는 단어가 분리되었다. 이렇게 의미가 있는 단어도 분리를 하여 accuracy가 낮은 것은 아닐까 추측한다.\n",
    "- `vocab_size`를 보통 25,000 ~ 32,000로 한다고 하여 25,000으로 조정 후 학습하였는데, 결과가 좋지 않게 나왔다.\n",
    "- 너무 크게 해서 오히려 필요 없는 단어들이 생성되서 그런 것은 아닌가라는 생각이 드는데 조금 더 확인해볼 필요가 있는 것 같다..❗\n",
    "- `bpe`의 경우, vocab_size를 키웠을 때 코드가 실행되지 않았는데 왜 이런 오류가 발생했을까...."
   ]
  },
  {
   "cell_type": "markdown",
   "id": "0df6835b",
   "metadata": {},
   "source": [
    "## 3) 후기\n",
    "- 처음 진행한 Going Deeper NLP 프로젝트로 더욱 잘하고 싶어서 최선을 다했다.\n",
    "- 이전 노드와는 달리 내가 전반적인 구성을 생각하여 그에 맞춰 실행하다보니 시행착오가 많았다.\n",
    "- 하지만 그만큼 여러가지 많이 배울 수 있었다.\n",
    "- 이제 시작이긴 하지만 여태 했던 NLP 프로젝트 중 가장 재미있게 했다."
   ]
  },
  {
   "cell_type": "markdown",
   "id": "85530115",
   "metadata": {},
   "source": [
    "## 4) 참고 자료\n",
    "- [[E-06] Sentiment_Classification](https://github.com/aramssong/aiffel/blob/main/%5BE-06%5D%20Sentiment_Classification.ipynb) \n",
    "- [[E-08] News_Summarize](https://github.com/aramssong/aiffel/blob/main/%5BE-08%5D%20News_Summarize.ipynb)\n",
    "- [다른 분 프로젝트 코드](https://github.com/miinkang/AI_Project_AIFFEL/blob/main/%5BGD-02%5DSentencePiece.ipynb)"
   ]
  }
 ],
 "metadata": {
  "kernelspec": {
   "display_name": "Python 3 (ipykernel)",
   "language": "python",
   "name": "python3"
  },
  "language_info": {
   "codemirror_mode": {
    "name": "ipython",
    "version": 3
   },
   "file_extension": ".py",
   "mimetype": "text/x-python",
   "name": "python",
   "nbconvert_exporter": "python",
   "pygments_lexer": "ipython3",
   "version": "3.9.7"
  }
 },
 "nbformat": 4,
 "nbformat_minor": 5
}
