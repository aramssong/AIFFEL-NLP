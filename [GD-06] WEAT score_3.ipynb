{
 "cells": [
  {
   "cell_type": "markdown",
   "id": "872b37e6",
   "metadata": {},
   "source": [
    "# [GD-6] 모든 장르 간 편향성 측정해 보기"
   ]
  },
  {
   "cell_type": "markdown",
   "id": "ebd2ea03",
   "metadata": {},
   "source": [
    "# Step 0. 라이브러리 불러오기\n",
    "---"
   ]
  },
  {
   "cell_type": "code",
   "execution_count": 1,
   "id": "fb5b8724",
   "metadata": {},
   "outputs": [
    {
     "name": "stdout",
     "output_type": "stream",
     "text": [
      "0.5.2\n",
      "4.1.2\n",
      "1.0\n",
      "0.11.2\n"
     ]
    }
   ],
   "source": [
    "import konlpy\n",
    "import gensim\n",
    "import sklearn\n",
    "import seaborn\n",
    "import matplotlib as plt\n",
    "import matplotlib.pyplot as plt\n",
    "\n",
    "print(konlpy.__version__)\n",
    "print(gensim.__version__)\n",
    "print(sklearn.__version__)\n",
    "print(seaborn.__version__)"
   ]
  },
  {
   "cell_type": "markdown",
   "id": "724d3cbe",
   "metadata": {},
   "source": [
    "# Step 1. 형태소 분석기를 이용하여 품사가 명사인 경우 해당 단어를 추출하기\n",
    "---"
   ]
  },
  {
   "cell_type": "markdown",
   "id": "585512df",
   "metadata": {},
   "source": [
    "`synopsis.txt`에는 2001년부터 2019년 8월까지 제작된 영화들의 시놉시스 정보가 있다.  \n",
    "`synopsis.txt`의 일부를 읽어보자."
   ]
  },
  {
   "cell_type": "code",
   "execution_count": 2,
   "id": "f1bbbbb1",
   "metadata": {
    "scrolled": true
   },
   "outputs": [
    {
     "name": "stdout",
     "output_type": "stream",
     "text": [
      "사운드 엔지니어 상우(유지태 분)는 치매에 걸린 할머니(백성희 분)와\n",
      " 젊은 시절 상처한 한 아버지(박인환 분), 고모(신신애 분)와 함께 살고 있다.\n",
      " 어느 겨울 그는 지방 방송국 라디오 PD 은수(이영애 분)를 만난다.\n",
      " 자연의 소리를 채집해 틀어주는 라디오 프로그램을 준비하는 은수는 상우와 녹음 여행을 떠난다.\n",
      " 자연스레 가까워지는 두 사람은 어느 날, 은수의 아파트에서 밤을 보낸다.\n",
      " 너무 쉽게 사랑에 빠진 두 사람... 상우는 주체할 수 없을 정도로 그녀에게 빨려든다.\n",
      " 그러나 겨울에 만난 두 사람의 관계는 봄을 지나 여름을 맞이하면서 삐걱거린다.\n",
      " 이혼 경험이 있는 은수는 상우에게 결혼할 생각이 없다며 부담스러운 표정을 내비친다.\n",
      " \"어떻게 사랑이 변하니?...\"라고 묻는 상우에게 은수는 그저 \"헤어져\" 라고 단호하게 말한다.\n",
      " 영원히 변할 것 같지 않던 사랑이 변하고, 그 사실을 받아들이지 못하는 상우는 어찌 할 바를 모른다.\n",
      " 은수를 잊지 못하는 상우는 미련과 집착의 감정을 이기지 못하고 서울과 강릉을 오간다.\n",
      "유사 이래 연령, 성별, 빈부의 차이와 정치적인 입장을 불문하고 일거에 국민을 통합해 온 '애국심'이라는 성역에 일침을 가하는 다큐멘터리. 재작년 전국 민족민주 유가족협의회의 장기농성을 다룬 인상적인 다큐멘터리 <민들레>를 만들었던 독립영화집단 '빨간 눈사람'이 우리 사회 구석구석을 발빠르게 돌아다니며 애국심과 민족주의가 강요되는 현장을 발굴하여 카메라에 담았다. 박홍 서강대 명예총장, 이도형 '한국논단' 발행인, 축구해설자 신문선, 홍세화, 박노해 등 사회 각계의 '스타'들이 등장해 저마다의 확고한 신념을 성토한다. 감독 이경순과 최하동하는 이 작품을 위해 3년간 백여 명을 인터뷰했다고 한다. 2001 올해의 독립영화상 수상.\n",
      " 민족과 국가란 공동체에서 부단히 권력과 부를 얻는 자, 나아가 민족과 국가란 공동체에서 얻은 신분과 부귀를 영원히 그의 자손에게 대물림하려는 자, 그래서 민족과 국가란 공동체를 부단히 유지해야만 하는 자, 따라서 민족과 국가란 공동체의 당위성과 개인의 가치를 초월하는 그 존엄성을 끝도 없이 창조하고 되뇌어야 하는 자, 종국에는 민족과 국가란 공동체에 속해 있다고 태내에서부터 세뇌된 모든 이들의 삶과 행동에서 영원히 자기복제되는 순환의 고리, 영생하는 애국의 원동력은 그 순환의 골에서 온다.\n",
      "엽기적인 살인사건이 발생한 장소를 관광하는 투어팀. 그 팀에서 관광객들은 살인사건과 관련하여 히스테리컬한 반응을 보이는데 과연 이들의 정체는? (Tourists see whrer a murder take place. They respond hysterically to the murder…what are they?)\n",
      " 제46회 발라돌리드 국제영화제 (2001, 스페인)\n",
      "착하지만 엉뚱한 태희(배두나 분), 예쁜 깍쟁이 혜주(이요원 분), 그림을 잘 그리는 지영(옥지영 분), 명랑한 쌍둥이 비류(이은실 분)와 온조(이은주 분)는 단짝친구들. 늘 함께였던 그들이지만 스무 살이 되면서 길이 달라진다. 증권회사에 입사한 혜주는 성공한 커리어우먼의 야심을 키우고 미술에 재능이 있는 지영은 유학을 꿈꾼다. 한편 태희는 봉사활동에서 알게 된 뇌성마비 시인을 좋아하는데...\n",
      "  어느 날 지영이 길 잃은 새끼 고양이 티티를 만남면서 스무 살 그녀들의 삶에 고양이 한 마리가 끼어들게 된다. 혼자 있길 좋아하고, 쉽게 마음을 열지 않는 신비로운 동물 고양이. 고양이를 닮은 스무 살 그녀들. 고양이 티티와 함께 한 시간동안 삶은 예상못한 방향으로 흘러가지만 마침내 그녀들만의 해결책을 찾게 되는데... 사랑스런 몽상가 태희, 아름다운 야심가 혜주, 신비로운 아웃사이더 지영. 마지막으로 고양이를 부탁받은 사람은 누구일까?\n",
      "인도 등 아시아 식민지에 처음 발을 디딘 뒤 여행하고 “경영”한 이들은 과연 누구였을까? 과거의 이미지들은, 이민과 인종 문제, ‘오리엔탈리즘’이 격렬히 충돌하고 있는 현재와 강력하게 공명한다.\n",
      " [제19회 인디다큐페스티발]\n",
      "홀로 살아가는 미국 할머니와 한국 할머니의 이야기. 공원에서 가끔 마주치게 되는 그들은 비록 언어 소통의 어려움을 겪지만 시간이 흘러감에 따라 서로 가까워져 그들의 외로움과 우정을 공유하게 된다. 겨울이 지나고 봄이 왔을 때 길가의 민들레 홀씨는 삶의 이치를 말해주듯 한 할머니의 주위를 맴돈다. (Two elderly widows, an American and a Korean, frequent the same park in Philadelphia and attempt a friendship, though the Korean widow speaks no English. Driven by loneliness and a spark of hope, they persevere within the limits of body language, and the outcome poses a question of life as fundamental as a flower.)\n"
     ]
    }
   ],
   "source": [
    "import os\n",
    "\n",
    "with open(os.getenv('HOME')+'/aiffel/weat/synopsis.txt', 'r') as file:\n",
    "    for i in range(20):\n",
    "        print(file.readline(), end='')"
   ]
  },
  {
   "cell_type": "markdown",
   "id": "35ee1d9b",
   "metadata": {},
   "source": [
    "`KoNLRy 패키지(한국어 형태소 분석기)`를 이용하여 품사가 명사인 경우만 남겨 `tokenized`라는 변수명으로 저장해보자."
   ]
  },
  {
   "cell_type": "code",
   "execution_count": 3,
   "id": "fb77611b",
   "metadata": {},
   "outputs": [
    {
     "name": "stdout",
     "output_type": "stream",
     "text": [
      "슝~\n"
     ]
    }
   ],
   "source": [
    "# ⏳ 시간이 꽤나 걸림.....\n",
    "\n",
    "from konlpy.tag import Okt\n",
    "\n",
    "okt = Okt()\n",
    "tokenized = []\n",
    "\n",
    "with open(os.getenv('HOME')+'/aiffel/weat/synopsis.txt', 'r') as file:\n",
    "    while True:\n",
    "        line = file.readline()\n",
    "        if not line: break\n",
    "        words = okt.pos(line, stem=True, norm=True)\n",
    "        res = []\n",
    "        for w in words:\n",
    "            if w[1] in [\"Noun\"]:      # \"Adjective\", \"Verb\" 등을 포함할 수도 있습니다.\n",
    "                res.append(w[0])    # 명사일 때만 tokenized 에 저장하게 됩니다. \n",
    "        tokenized.append(res)\n",
    "\n",
    "print(\"슝~\")"
   ]
  },
  {
   "cell_type": "code",
   "execution_count": 4,
   "id": "9aeaaf95",
   "metadata": {},
   "outputs": [
    {
     "name": "stdout",
     "output_type": "stream",
     "text": [
      "71156\n"
     ]
    }
   ],
   "source": [
    "print(len(tokenized))"
   ]
  },
  {
   "cell_type": "markdown",
   "id": "0445bca1",
   "metadata": {},
   "source": [
    "- 총 `71,156개`의 명사가 추출되어 `tokenized` 변수에 담겨있는 것을 확인할 수 있다."
   ]
  },
  {
   "cell_type": "markdown",
   "id": "aee60027",
   "metadata": {},
   "source": [
    "# Step 2. 추출된 결과로 embedding model 만들기\n",
    "---"
   ]
  },
  {
   "cell_type": "markdown",
   "id": "4e2a24d6",
   "metadata": {},
   "source": [
    "`tokenized`에 담긴 데이터를 가지고 `word2vec`을 생성해보자."
   ]
  },
  {
   "cell_type": "code",
   "execution_count": 5,
   "id": "7cb50b8f",
   "metadata": {},
   "outputs": [],
   "source": [
    "from gensim.models import Word2Vec\n",
    "\n",
    "model = Word2Vec(tokenized, vector_size=100, window=5, min_count=3, sg=0)"
   ]
  },
  {
   "cell_type": "markdown",
   "id": "737173d7",
   "metadata": {},
   "source": [
    "'영화'라는 단어와 가장 유사한 단어들을 출력해보자."
   ]
  },
  {
   "cell_type": "code",
   "execution_count": 6,
   "id": "7bf7a6e2",
   "metadata": {},
   "outputs": [
    {
     "data": {
      "text/plain": [
       "[('작품', 0.8826284408569336),\n",
       " ('다큐멘터리', 0.8399834632873535),\n",
       " ('드라마', 0.8178422451019287),\n",
       " ('영화로', 0.8110401630401611),\n",
       " ('주제', 0.7852373123168945),\n",
       " ('코미디', 0.7820829749107361),\n",
       " ('형식', 0.7817286252975464),\n",
       " ('감동', 0.7790810465812683),\n",
       " ('스토리', 0.7785624265670776),\n",
       " ('소재', 0.7766242623329163)]"
      ]
     },
     "execution_count": 6,
     "metadata": {},
     "output_type": "execute_result"
    }
   ],
   "source": [
    "model.wv.most_similar(positive=['영화'])"
   ]
  },
  {
   "cell_type": "markdown",
   "id": "a3296b4a",
   "metadata": {},
   "source": [
    "`word2vec`이 잘 훈련된 것 같은지 다른 단어로도 확인해보자."
   ]
  },
  {
   "cell_type": "code",
   "execution_count": 7,
   "id": "7c9b5e5c",
   "metadata": {},
   "outputs": [
    {
     "data": {
      "text/plain": [
       "[('행복', 0.717972457408905),\n",
       " ('첫사랑', 0.7146220207214355),\n",
       " ('진심', 0.7104461789131165),\n",
       " ('슈이트', 0.709583044052124),\n",
       " ('셰카르', 0.7081551551818848),\n",
       " ('만남', 0.7008498311042786),\n",
       " ('애정', 0.7007231712341309),\n",
       " ('고백', 0.6959080100059509),\n",
       " ('이별', 0.6893826127052307),\n",
       " ('네타', 0.6865174174308777)]"
      ]
     },
     "execution_count": 7,
     "metadata": {},
     "output_type": "execute_result"
    }
   ],
   "source": [
    "model.wv.most_similar(positive=['사랑'])"
   ]
  },
  {
   "cell_type": "code",
   "execution_count": 8,
   "id": "547b6cc4",
   "metadata": {},
   "outputs": [
    {
     "data": {
      "text/plain": [
       "[('배우', 0.8770402669906616),\n",
       " ('시나리오', 0.8737862706184387),\n",
       " ('연극', 0.8449962139129639),\n",
       " ('여배우', 0.8345706462860107),\n",
       " ('출연', 0.8090670108795166),\n",
       " ('스타일', 0.8018449544906616),\n",
       " ('황규', 0.7961694002151489),\n",
       " ('김태용', 0.792025625705719),\n",
       " ('소설', 0.7914695739746094),\n",
       " ('포르노', 0.7911149859428406)]"
      ]
     },
     "execution_count": 8,
     "metadata": {},
     "output_type": "execute_result"
    }
   ],
   "source": [
    "model.wv.most_similar(positive=['연기'])"
   ]
  },
  {
   "cell_type": "markdown",
   "id": "5bf66e4d",
   "metadata": {},
   "source": [
    "- 전반적으로 유사한 단어들이 출력되었다.\n",
    "- word2vec이 잘 훈련된 것을 확인할 수 있다."
   ]
  },
  {
   "cell_type": "markdown",
   "id": "24cdb34e",
   "metadata": {},
   "source": [
    "# Step 3. TF-IDF로 해당 데이터를 가장 잘 표현하는 단어 셋 만들기\n",
    "---"
   ]
  },
  {
   "cell_type": "markdown",
   "id": "fe742cf5",
   "metadata": {},
   "source": [
    "## 3.1 영화 구분 데이터의 단어 셋"
   ]
  },
  {
   "cell_type": "code",
   "execution_count": 9,
   "id": "55671867",
   "metadata": {},
   "outputs": [],
   "source": [
    "import os\n",
    "from sklearn.feature_extraction.text import TfidfVectorizer\n",
    "import numpy as np"
   ]
  },
  {
   "cell_type": "markdown",
   "id": "04a20185",
   "metadata": {},
   "source": [
    "`synopsis_art.txt(예술영화)`, `synopsis_gen.txt(일반영화(상업영화))` 두 파일을 읽어보자."
   ]
  },
  {
   "cell_type": "code",
   "execution_count": 10,
   "id": "9ff35bda",
   "metadata": {},
   "outputs": [],
   "source": [
    "art_txt = 'synopsis_art.txt'\n",
    "gen_txt = 'synopsis_gen.txt'"
   ]
  },
  {
   "cell_type": "markdown",
   "id": "3f2cc5a8",
   "metadata": {},
   "source": [
    "`KoNLRy 패키지`를 이용하여 품사가 명사인 경우만 남겨 `tokenized`에 저장하는 `read_token` 함수를 정의해보자."
   ]
  },
  {
   "cell_type": "code",
   "execution_count": 11,
   "id": "722a1cdc",
   "metadata": {},
   "outputs": [
    {
     "name": "stdout",
     "output_type": "stream",
     "text": [
      "슝~\n"
     ]
    }
   ],
   "source": [
    "def read_token(file_name):\n",
    "    okt = Okt()\n",
    "    result = []\n",
    "    with open(os.getenv('HOME')+'/aiffel/weat/'+file_name, 'r') as fread: \n",
    "        print(file_name, '파일을 읽고 있습니다.')\n",
    "        while True:\n",
    "            line = fread.readline() \n",
    "            if not line: break \n",
    "            tokenlist = okt.pos(line, stem=True, norm=True) \n",
    "            for word in tokenlist:\n",
    "                if word[1] in [\"Noun\"]:#, \"Adjective\", \"Verb\"]:\n",
    "                    result.append((word[0])) \n",
    "    return ' '.join(result)\n",
    "\n",
    "print(\"슝~\")"
   ]
  },
  {
   "cell_type": "markdown",
   "id": "5cef6c70",
   "metadata": {},
   "source": [
    "`read_token` 함수를 사용하여 품사가 명사인 경우만을 추출하여 `art`, `gen` 변수에 할당해보자."
   ]
  },
  {
   "cell_type": "code",
   "execution_count": 12,
   "id": "84904f3d",
   "metadata": {},
   "outputs": [
    {
     "name": "stdout",
     "output_type": "stream",
     "text": [
      "synopsis_art.txt 파일을 읽고 있습니다.\n",
      "synopsis_gen.txt 파일을 읽고 있습니다.\n"
     ]
    }
   ],
   "source": [
    "# ⏳ 시간이 꽤나 걸림.....222\n",
    "art = read_token(art_txt)\n",
    "gen = read_token(gen_txt)"
   ]
  },
  {
   "cell_type": "code",
   "execution_count": 13,
   "id": "3df7fada",
   "metadata": {},
   "outputs": [
    {
     "data": {
      "text/plain": [
       "'사운드 엔지니어 상우 유지태 분 치매'"
      ]
     },
     "execution_count": 13,
     "metadata": {},
     "output_type": "execute_result"
    }
   ],
   "source": [
    "art[:20]"
   ]
  },
  {
   "cell_type": "code",
   "execution_count": 14,
   "id": "0dc471ab",
   "metadata": {},
   "outputs": [
    {
     "data": {
      "text/plain": [
       "'유사 연령 성별 빈부 차이 정치 입장'"
      ]
     },
     "execution_count": 14,
     "metadata": {},
     "output_type": "execute_result"
    }
   ],
   "source": [
    "gen[:20]"
   ]
  },
  {
   "cell_type": "markdown",
   "id": "290befe7",
   "metadata": {},
   "source": [
    "`WEAT score` 계산을 위해 총 4개의 단어셋(X, Y, A, B)이 필요한데, 각 단어 셋을 가장 잘 대표할 수 있는 단어들을 선정해야 한다.  \n",
    "그래서 코퍼스에서 자주 나타나는 (TF가 높은) 단어지만, 다른 코퍼스에는 많이 나오지 않는(IDF가 높은) 단어를 선정하는 `TF-IDF 방식`을 사용해보자."
   ]
  },
  {
   "cell_type": "code",
   "execution_count": 15,
   "id": "54a21f1f",
   "metadata": {},
   "outputs": [
    {
     "name": "stdout",
     "output_type": "stream",
     "text": [
      "(2, 41082)\n"
     ]
    }
   ],
   "source": [
    "vectorizer = TfidfVectorizer()\n",
    "X = vectorizer.fit_transform([art, gen])\n",
    "\n",
    "print(X.shape)"
   ]
  },
  {
   "cell_type": "code",
   "execution_count": 16,
   "id": "f4b5d87c",
   "metadata": {},
   "outputs": [
    {
     "name": "stdout",
     "output_type": "stream",
     "text": [
      "23976\n",
      "영화\n"
     ]
    },
    {
     "name": "stderr",
     "output_type": "stream",
     "text": [
      "/opt/conda/lib/python3.9/site-packages/sklearn/utils/deprecation.py:87: FutureWarning: Function get_feature_names is deprecated; get_feature_names is deprecated in 1.0 and will be removed in 1.2. Please use get_feature_names_out instead.\n",
      "  warnings.warn(msg, category=FutureWarning)\n"
     ]
    }
   ],
   "source": [
    "print(vectorizer.vocabulary_['영화'])\n",
    "print(vectorizer.get_feature_names()[23976])"
   ]
  },
  {
   "cell_type": "markdown",
   "id": "da4d58aa",
   "metadata": {},
   "source": [
    "TF-IDF가 높은 순으로 정렬된 art, gen 단어셋의 단어들을 출력해보자."
   ]
  },
  {
   "cell_type": "code",
   "execution_count": 17,
   "id": "de12503c",
   "metadata": {},
   "outputs": [
    {
     "name": "stdout",
     "output_type": "stream",
     "text": [
      "예술영화를 대표하는 단어들:\n",
      "그녀, 자신, 시작, 위해, 사랑, 사람, 영화, 친구, 남자, 가족, 이야기, 마을, 사건, 마음, 세상, 아버지, 아이, 엄마, 모든, 여자, 대한, 서로, 과연, 다시, 시간, 아들, 소녀, 아내, 다른, 사이, 영화제, 세계, 사실, 하나, 점점, 남편, 감독, 여행, 인생, 발견, 모두, 순간, 우리, 가장, 마지막, 생활, 아빠, 모습, 통해, 죽음, 기억, 비밀, 학교, 음악, 한편, 소년, 생각, 도시, 명의, 사고, 결혼, 전쟁, 때문, 위기, 이제, 최고, 이자, 과거, 일상, 경찰, 상황, 간다, 미국, 결심, 운명, 현실, 관계, 지금, 단편, 여인, 하루, 이름, 이후, 준비, 인간, 감정, 만난, 국제, 처음, 충격, 살인, 누구, 동안, 존재, 그린, 어머니, 연인, 계속, 동생, 작품, 청년, 한국, 가지, 상처, 할머니, 목숨, 이상, 희망, 계획, 매력, 프랑스, 사회, 제안, 만남, 무엇, 거리, 이유, 파리, 여성, 정체, 매일, 바로, 시절, 보고, 진실, 홀로, 혼란, 배우, 선택, 다큐멘터리, 혼자, 작가, 갑자기, 일본, 고향, 마주, 도착, 병원, 문제, 로부터, 노래, 주인공, 자리, 대해, 미래, 갈등, 소식, 공연, 서울, 할아버지, 부부, 도움, 연애, 회사, 여자친구, 조직, 소개, 낯선, 찾기, 애인, 잠시, 당신, 고백, 역시, 아무, 시골, 동료, 편지, 촬영, 과정, 영국, 오늘, 마침내, 지구, 마치, 자살, 뉴욕, 탈출, 무대, 주변, 학생, 열정, 발생, 고양이, 고민, 천재, 첫사랑, 더욱, 납치, 약속, 복수, 역사, 의문, 동네, 행복, 파티, 현재, 달리, 여정, 전설, 가슴, 다음, 사진, 행동, 스스로, 점차, 성공, 몰래, 등장, 살해, 부모, 누군가, 변화, 얼굴, 맞이, 작전, 전화, 목격, 나이, 남자친구, 인물, 스타, 대학, 중국, 북한, 위협, 진짜, 우정, 현장, 소설, 가정, 부모님, 주인, 의심, 시대, 카메라, 이별, 바다, 기회, 가게, 레이, 욕망, 추억, 어디, 정신, 상태, 밴드, 폭력, 대신, 달라, 생일, 기록, 관심, 그날, 부산, 출신, 공포, 범인, 자기, 로서, 지역, 노력, 아침, 프로젝트, 한번, 부탁, 얼마, 정부, 마리, 그림, 경험, 예술, 안나, 형제, 아파트, 상상, 게임, 형사, 신부, 싸움, 실종, 선생님, 직원, 범죄, 기적, 연주, 소리, 상치, 능력, 포기, 방법, 절대, 하루하루, 위험, 또한, 모험, 내용, 마약, 감옥, 시선, \n",
      "\n",
      "일반영화를 대표하는 단어들:\n",
      "자신, 그녀, 영화제, 위해, 사람, 시작, 국제, 영화, 친구, 사랑, 남자, 이야기, 대한, 서울, 여자, 사건, 남편, 아이, 가족, 아버지, 다른, 마을, 시간, 엄마, 아들, 모든, 단편, 마음, 사실, 다시, 세계, 모습, 작품, 통해, 생각, 서로, 세상, 발견, 감독, 아내, 관계, 소녀, 사이, 하나, 우리, 애니메이션, 때문, 여성, 죽음, 과연, 점점, 인간, 생활, 한편, 결혼, 상황, 모두, 기억, 명의, 소년, 여행, 가장, 간다, 순간, 이제, 도시, 비밀, 학교, 과거, 가지, 이자, 경찰, 마지막, 미국, 동안, 전쟁, 주인공, 대해, 존재, 현실, 연출, 사고, 살인, 일상, 어머니, 계속, 사회, 인생, 다큐멘터리, 부문, 섹스, 최고, 바로, 동생, 의도, 하루, 위기, 계획, 정체, 한국, 이후, 조직, 회사, 보고, 부산, 아빠, 부부, 일본, 문제, 처음, 그것, 로부터, 독립, 운명, 감정, 음악, 경쟁, 무엇, 할머니, 결심, 거리, 누구, 혼자, 시절, 준비, 이상, 동료, 만난, 갑자기, 목숨, 과정, 소리, 부천, 이름, 제안, 여인, 지금, 도움, 살해, 역시, 현장, 지구, 촬영, 자기, 페스티벌, 발생, 그린, 이유, 사진, 도착, 자리, 미래, 복수, 학생, 환경, 매일, 경험, 지역, 다큐, 충격, 카메라, 공간, 행동, 중국, 또한, 선택, 방법, 공포, 영상, 대학, 납치, 상처, 배우, 판타스틱, 유혹, 병원, 인물, 상상, 애인, 노인, 할아버지, 공격, 가게, 대신, 게임, 위협, 연인, 매력, 변화, 형사, 고민, 고향, 진실, 노력, 전화, 잠시, 희망, 아무, 홀로, 현재, 탈출, 몰래, 누군가, 정신, 역사, 표현, 주인, 목격, 여자친구, 소개, 혼란, 남자친구, 마약, 마침내, 시도, 마리, 찾기, 주변, 의문, 청년, 요구, 다음, 자살, 더욱, 작가, 청소년, 시선, 상태, 임무, 파티, 만남, 관객, 이미지, 범인, 뉴욕, 기록, 작업, 장면, 전설, 스스로, 시골, 운영, 정부, 형제, 소식, 부탁, 제작, 프랑스, 마치, 바람, 이용, 위험, 동시, 얼마, 얼굴, 해결, 낯선, 범죄, 어디, 동물, 갈등, 달라, 욕망, 관심, 의미, 바다, 손님, 오늘, 나이, 폭력, 한번, 기회, 작전, 요원, 레이, 타고, 출신, 등장, 시대, 아침, 동네, 각자, 방문, 직원, 진행, 싸움, 가정, 음모, 부모, 언니, 부모님, 대상, 직접, 성적, 로서, 이혼, 가슴, 그림, 능력, 노래, "
     ]
    }
   ],
   "source": [
    "m1 = X[0].tocoo()   # art를 TF-IDF로 표현한 sparse matrix를 가져옵니다. \n",
    "m2 = X[1].tocoo()   # gen을 TF-IDF로 표현한 sparse matrix를 가져옵니다. \n",
    "\n",
    "w1 = [[i, j] for i, j in zip(m1.col, m1.data)]\n",
    "w2 = [[i, j] for i, j in zip(m2.col, m2.data)]\n",
    "\n",
    "w1.sort(key=lambda x: x[1], reverse=True)   #art를 구성하는 단어들을 TF-IDF가 높은 순으로 정렬합니다. \n",
    "w2.sort(key=lambda x: x[1], reverse=True)   #gen을 구성하는 단어들을 TF-IDF가 높은 순으로 정렬합니다. \n",
    "\n",
    "print('예술영화를 대표하는 단어들:')\n",
    "for i in range(300):\n",
    "    print(vectorizer.get_feature_names()[w1[i][0]], end=', ')\n",
    "\n",
    "print('\\n')\n",
    "    \n",
    "print('일반영화를 대표하는 단어들:')\n",
    "for i in range(300):\n",
    "    print(vectorizer.get_feature_names()[w2[i][0]], end=', ')"
   ]
  },
  {
   "cell_type": "markdown",
   "id": "6604e354",
   "metadata": {},
   "source": [
    "- 예술영화와 일반영화를 대표하는 단어가 중복되는 것들이 많은 것을 확인할 수 있다."
   ]
  },
  {
   "cell_type": "markdown",
   "id": "037eb32b",
   "metadata": {},
   "source": [
    "두 개념축이 대조되도록 대표하는 단어 셋을 만들어야 하기에, 중복되는 단어를 제외하고 상위 n개의 단어를 추출해보자."
   ]
  },
  {
   "cell_type": "code",
   "execution_count": 18,
   "id": "40ca12b1",
   "metadata": {},
   "outputs": [],
   "source": [
    "n = 50\n",
    "w1_, w2_ = [], []\n",
    "for i in range(300):\n",
    "    w1_.append(vectorizer.get_feature_names()[w1[i][0]])\n",
    "    w2_.append(vectorizer.get_feature_names()[w2[i][0]])\n",
    "\n",
    "# w1에만 있고 w2에는 없는, 예술영화를 잘 대표하는 단어를 50개 추출한다.\n",
    "target_art, target_gen = [], []\n",
    "for i in range(300):\n",
    "    if (w1_[i] not in w2_) and (w1_[i] in model.wv): target_art.append(w1_[i])\n",
    "    if len(target_art) == n: break \n",
    "\n",
    "# w2에만 있고 w1에는 없는, 일반영화를 잘 대표하는 단어를 50개 추출한다.\n",
    "for i in range(300):\n",
    "    if (w2_[i] not in w1_) and (w2_[i] in model.wv): target_gen.append(w2_[i])\n",
    "    if len(target_gen) == n: break"
   ]
  },
  {
   "cell_type": "markdown",
   "id": "ee12c2ef",
   "metadata": {},
   "source": [
    "추출된 단어를 확인해보자."
   ]
  },
  {
   "cell_type": "code",
   "execution_count": 19,
   "id": "26e8f82a",
   "metadata": {},
   "outputs": [
    {
     "name": "stdout",
     "output_type": "stream",
     "text": [
      "['파리', '마주', '공연', '연애', '당신', '고백', '편지', '영국', '무대', '열정', '고양이', '천재', '첫사랑', '약속', '행복', '달리', '여정', '점차', '성공', '맞이', '스타', '북한', '진짜', '우정', '소설', '의심', '이별', '추억', '밴드', '생일', '그날', '프로젝트', '예술', '안나', '아파트', '신부', '실종', '선생님', '기적', '연주', '상치', '포기', '절대', '하루하루', '모험', '내용', '감옥']\n"
     ]
    }
   ],
   "source": [
    "print(target_art)"
   ]
  },
  {
   "cell_type": "code",
   "execution_count": 20,
   "id": "07782e81",
   "metadata": {},
   "outputs": [
    {
     "name": "stdout",
     "output_type": "stream",
     "text": [
      "['애니메이션', '연출', '부문', '섹스', '의도', '그것', '독립', '경쟁', '부천', '페스티벌', '환경', '다큐', '공간', '영상', '판타스틱', '유혹', '노인', '공격', '표현', '시도', '요구', '청소년', '임무', '관객', '이미지', '작업', '장면', '운영', '제작', '바람', '이용', '동시', '해결', '동물', '의미', '손님', '요원', '타고', '각자', '방문', '진행', '음모', '언니', '대상', '직접', '성적', '이혼']\n"
     ]
    }
   ],
   "source": [
    "print(target_gen)"
   ]
  },
  {
   "cell_type": "markdown",
   "id": "b4765f57",
   "metadata": {},
   "source": [
    "## 3.2 영화 장르 데이터의 단어 셋"
   ]
  },
  {
   "cell_type": "markdown",
   "id": "116f71db",
   "metadata": {},
   "source": [
    "전체 장르별 대표 단어를 추출해보자."
   ]
  },
  {
   "cell_type": "code",
   "execution_count": 21,
   "id": "c95f2484",
   "metadata": {},
   "outputs": [],
   "source": [
    "genre_txt = ['synopsis_SF.txt', 'synopsis_family.txt', 'synopsis_show.txt', 'synopsis_horror.txt', 'synopsis_etc.txt', \n",
    "             'synopsis_documentary.txt', 'synopsis_drama.txt', 'synopsis_romance.txt', 'synopsis_musical.txt', \n",
    "             'synopsis_mystery.txt', 'synopsis_crime.txt', 'synopsis_historical.txt', 'synopsis_western.txt', \n",
    "             'synopsis_adult.txt', 'synopsis_thriller.txt', 'synopsis_animation.txt', 'synopsis_action.txt', \n",
    "             'synopsis_adventure.txt', 'synopsis_war.txt', 'synopsis_comedy.txt', 'synopsis_fantasy.txt']\n",
    "genre_name = ['SF', '가족', '공연', '공포(호러)', '기타', '다큐멘터리', '드라마', '멜로로맨스', '뮤지컬', '미스터리', '범죄', '사극', '서부극(웨스턴)',\n",
    "         '성인물(에로)', '스릴러', '애니메이션', '액션', '어드벤처', '전쟁', '코미디', '판타지']"
   ]
  },
  {
   "cell_type": "markdown",
   "id": "f79a8c60",
   "metadata": {},
   "source": [
    "`read_token` 함수를 사용하여 품사가 명사인 경우만을 추출하여 `genre` 변수에 할당하자."
   ]
  },
  {
   "cell_type": "code",
   "execution_count": 22,
   "id": "922ad963",
   "metadata": {},
   "outputs": [
    {
     "name": "stdout",
     "output_type": "stream",
     "text": [
      "synopsis_SF.txt 파일을 읽고 있습니다.\n",
      "synopsis_family.txt 파일을 읽고 있습니다.\n",
      "synopsis_show.txt 파일을 읽고 있습니다.\n",
      "synopsis_horror.txt 파일을 읽고 있습니다.\n",
      "synopsis_etc.txt 파일을 읽고 있습니다.\n",
      "synopsis_documentary.txt 파일을 읽고 있습니다.\n",
      "synopsis_drama.txt 파일을 읽고 있습니다.\n",
      "synopsis_romance.txt 파일을 읽고 있습니다.\n",
      "synopsis_musical.txt 파일을 읽고 있습니다.\n",
      "synopsis_mystery.txt 파일을 읽고 있습니다.\n",
      "synopsis_crime.txt 파일을 읽고 있습니다.\n",
      "synopsis_historical.txt 파일을 읽고 있습니다.\n",
      "synopsis_western.txt 파일을 읽고 있습니다.\n",
      "synopsis_adult.txt 파일을 읽고 있습니다.\n",
      "synopsis_thriller.txt 파일을 읽고 있습니다.\n",
      "synopsis_animation.txt 파일을 읽고 있습니다.\n",
      "synopsis_action.txt 파일을 읽고 있습니다.\n",
      "synopsis_adventure.txt 파일을 읽고 있습니다.\n",
      "synopsis_war.txt 파일을 읽고 있습니다.\n",
      "synopsis_comedy.txt 파일을 읽고 있습니다.\n",
      "synopsis_fantasy.txt 파일을 읽고 있습니다.\n"
     ]
    }
   ],
   "source": [
    "# ⏳ 시간이 꽤나 걸림.....333\n",
    "genre = []\n",
    "for file_name in genre_txt:\n",
    "    genre.append(read_token(file_name))"
   ]
  },
  {
   "cell_type": "markdown",
   "id": "b1e958ac",
   "metadata": {},
   "source": [
    "`TF-IDF 방식`으로 장르 별 대표 단어셋을 구성해보자"
   ]
  },
  {
   "cell_type": "code",
   "execution_count": 23,
   "id": "7f1ed6ba",
   "metadata": {},
   "outputs": [
    {
     "name": "stdout",
     "output_type": "stream",
     "text": [
      "(21, 42191)\n"
     ]
    }
   ],
   "source": [
    "vectorizer = TfidfVectorizer()\n",
    "X = vectorizer.fit_transform(genre)\n",
    "\n",
    "print(X.shape)"
   ]
  },
  {
   "cell_type": "markdown",
   "id": "b54b27f7",
   "metadata": {},
   "source": [
    "TF-IDF가 높은 순으로 정렬된 각 장르 별 단어셋의 단어들을 출력해보자."
   ]
  },
  {
   "cell_type": "code",
   "execution_count": 24,
   "id": "92b0d64b",
   "metadata": {},
   "outputs": [
    {
     "name": "stdout",
     "output_type": "stream",
     "text": [
      "SF: 위해, 자신, 지구, 시작, 사람, 인류, 인간, 미래, 우주, 그녀, 로봇, 세계, 모든, 박사, 우주선, 외계, 존재, 세상, 발견, 행성, 정체, 친구, 비밀, 사실, 기억, 전쟁, 사건, 시간, 공격, 영화, 한편, 실험, 능력, 시스템, 위협, 생명체, 정부, 아들, 사고, 스타크, 리플리, 과학자, 음모, 파괴, 아버지, 켈빈, 컨트, 모두, 수퍼맨, 임무, \n",
      "가족: 엄마, 아빠, 가족, 영화제, 자신, 위해, 친구, 아주르, 아버지, 시작, 그녀, 아들, 마을, 국제, 낙타, 할머니, 씨제이, 동구, 사랑, 아이, 사람, 학교, 세상, 소년, 슈이트, 이야기, 가장, 어머니, 마갈, 소녀, 미아, 대한, 펠리칸, 모두, 혼자, 서울, 벤트, 케이시, 마음, 사건, 할아버지, 엠마, 고양이, 크리스마스, 아내, 사이, 최호, 요정, 모험, 혜지, \n",
      "공연: 오페라, 사랑, 토스카, 실황, 올레, 자신, 카바, 그녀, 공연, 오텔로, 리골레토, 백작, 프레, 베르디, 위해, 카르피, 비바, 왕자, 콘서트, 백작부인, 반니, 아리아, 미노, 차이코프스키, 라다, 무대, 도시, 공작, 리코, 시작, 파우스트, 메스, 결혼, 만토바, 코락스, 엘비, 사람, 로돌포, 음악, 레오, 안젤로, 파리, 연인, 총독, 피아, 비극, 공주, 여인, 사실, 세계, \n",
      "공포(호러): 시작, 위해, 사람, 자신, 친구, 그녀, 사건, 공포, 발견, 죽음, 마을, 가족, 악령, 남자, 좀비, 영화, 사실, 소녀, 하나, 살인, 이야기, 비밀, 아이, 정체, 저주, 살해, 영화제, 여자, 모든, 의문, 점점, 사고, 명의, 시간, 다시, 이후, 엄마, 일행, 시체, 모두, 계속, 다른, 악몽, 아버지, 병원, 대한, 파티, 공격, 모습, 존재, \n",
      "기타: 영화제, 국제, 서울, 단편, 영화, 자신, 사람, 이야기, 그녀, 남자, 위해, 시작, 사랑, 뉴미디어, 페스티벌, 여자, 대한, 독립, 친구, 작품, 엄마, 통해, 아시아나, 다른, 우리, 연출, 소녀, 모습, 아이, 시간, 이미지, 부산, 소년, 모든, 기억, 가족, 상영작, 지하철, 청소년, 도시, 감독, 발견, 아버지, 다시, 생각, 현실, 서로, 관계, 유럽, 부천, \n",
      "다큐멘터리: 영화제, 영화, 다큐, 국제, 다큐멘터리, 사람, 이야기, 대한, 자신, 감독, 위해, 서울, 우리, 시작, 세계, 통해, 그녀, 여성, 가족, 한국, 작품, 환경, 사회, 모습, 아이, 마을, 노동자, 세상, 가장, 기록, 역사, 음악, 미국, 시간, 다른, 명의, 카메라, 동안, 사랑, 기억, 대해, 과정, 도시, 지역, 투쟁, 인디다큐페스티발, 일상, 전쟁, 생각, 모든, \n",
      "드라마: 자신, 영화제, 그녀, 사람, 사랑, 영화, 위해, 시작, 국제, 남자, 친구, 이야기, 엄마, 여자, 아버지, 가족, 단편, 서울, 대한, 아들, 마음, 아이, 남편, 서로, 시간, 소녀, 세상, 감독, 다른, 모든, 다시, 사건, 관계, 생각, 아내, 마을, 사이, 소년, 작품, 사실, 모습, 통해, 때문, 부문, 연출, 어머니, 하나, 학교, 생활, 우리, \n",
      "멜로로맨스: 그녀, 사랑, 자신, 시작, 남편, 남자, 여자, 사람, 친구, 섹스, 위해, 마음, 결혼, 서로, 아내, 관계, 부부, 엄마, 아버지, 사실, 영화, 점점, 다시, 회사, 시간, 사이, 생활, 유혹, 다른, 아들, 연애, 애인, 이야기, 생각, 모습, 때문, 새엄마, 대한, 모든, 불륜, 남자친구, 유부녀, 감정, 정사, 출장, 선배, 과연, 여자친구, 커플, 한편, \n",
      "뮤지컬: 뮤지컬, 사랑, 에스메랄다, 그녀, 음악, 충무로, 모차르트, 영화, 토스카, 자신, 니웨, 카바, 영화제, 바흐, 페뷔스, 프롤, 모도, 카르피, 시작, 제루샤, 샤오캉, 위해, 데이비, 팬텀, 최고, 크리스틴, 애니, 노트르담, 라훌, 공연, 사람, 캬바레, 오페라, 이야기, 도시, 안젤로, 노래, 대한, 무대, 파두, 서영은, 프롤로, 살리에리, 뮤지컬영화, 성당, 아버지, 세계, 집시, 파리, 소녀, \n",
      "미스터리: 사건, 그녀, 시작, 자신, 위해, 사람, 발견, 사고, 진실, 죽음, 기억, 살인, 친구, 아내, 남자, 아이, 민혁, 사실, 의문, 미스터리, 형사, 하나, 비밀, 영화, 마을, 이야기, 모든, 경찰, 현우, 발생, 여자, 정체, 방독면, 다른, 과연, 범인, 사랑, 살해, 남편, 모두, 충격, 대한, 가족, 엄마, 소설, 용의자, 공포, 점점, 여인, 아버지, \n",
      "범죄: 사건, 위해, 자신, 경찰, 시작, 그녀, 범죄, 조직, 살인, 사람, 마약, 형사, 남자, 모든, 살해, 수사, 발견, 한길수, 범인, 계획, 은행, 작전, 여자, 아버지, 사실, 동료, 영화, 다시, 보스, 친구, 한편, 미국, 상황, 마피아, 점점, 용의자, 복수, 제안, 다른, 대한, 마을, 아내, 아들, 이자, 시체, 가족, 사랑, 요원, 추적, 과연, \n",
      "사극: 조선, 위해, 시작, 신기전, 사랑, 자신, 아가멤논, 황제, 그녀, 루안, 최고, 운명, 사람, 하선, 전쟁, 윤서, 트로이, 세자, 허균, 노준, 채선, 신재효, 히파티아, 권력, 아킬레스, 양반, 정조, 광해군, 브리튼, 독립군, 사건, 임숭재, 윤복, 광헌, 대호, 백성, 청나라, 김민, 역사, 흥부, 팔도, 조혁, 영조, 관상, 공진, 마음, 이야기, 모든, 소리, 포수, \n",
      "서부극(웨스턴): 서부, 보안관, 위해, 벌린, 카우보이, 그레이프바인, 헨리, 마을, 자신, 개릿, 아이, 시작, 무법자, 프린트, 마적, 태구, 현상금, 분노, 버질, 랜던, 스탠리, 가족, 제임스, 복수, 아내, 사람, 교수형, 장고, 만도, 듀발, 마리아, 사냥, 니아, 총잡이, 아르, 찰리, 카운티, 아버지, 아들, 사랑, 열차, 멕시코, 알프스, 링컨, 릴리, 교도소, 사냥꾼, 엠마, 부하, 정의, \n",
      "성인물(에로): 그녀, 남편, 마사지, 자신, 섹스, 관계, 영화, 정사, 남자, 위해, 시작, 여자, 유부녀, 마음, 사랑, 에피소드, 그린, 아내, 다시, 자위, 이야기, 회사, 친구, 불륜, 사실, 결혼, 욕구, 때문, 유이, 모습, 부부, 유혹, 서로, 사람, 욕구불만, 손님, 유우, 성적, 성관계, 유코, 한편, 유미, 행각, 유키, 사이, 여성, 생활, 생각, 카즈야, 아버지, \n",
      "스릴러: 자신, 그녀, 사건, 시작, 위해, 사람, 살인, 남자, 발견, 아내, 경찰, 친구, 모든, 사실, 살해, 가족, 형사, 점점, 비밀, 사랑, 여자, 사고, 범인, 아들, 남편, 마을, 죽음, 진실, 충격, 다른, 시간, 하나, 기억, 수사, 영화, 상황, 소녀, 이야기, 시체, 게임, 정체, 용의자, 모두, 의문, 발생, 다시, 계속, 영화제, 아버지, 대한, \n",
      "애니메이션: 애니메이션, 국제, 영화제, 친구, 인디애니페스트, 위해, 자신, 시작, 사람, 페스티벌, 서울, 이야기, 아이, 마을, 소녀, 세계, 세상, 애니, 단편, 남자, 그녀, 소년, 부문, 과연, 작품, 만화, 사랑, 인간, 도롱, 부천, 우리, 동물, 대한, 다른, 모든, 엄마, 최강, 모험, 할아버지, 도시, 다시, 발견, 주인공, 지구, 시간, 가족, 생각, 마법, 경쟁, 모습, \n",
      "액션: 위해, 자신, 시작, 조직, 사건, 사람, 그녀, 경찰, 전쟁, 모든, 목숨, 사실, 친구, 가족, 요원, 임무, 범죄, 세계, 살인, 한편, 아버지, 복수, 죽음, 아들, 마약, 비밀, 납치, 남자, 다시, 보스, 마을, 위협, 영화, 상황, 사랑, 세상, 살해, 최고, 테러, 미국, 형사, 모두, 동료, 정체, 과연, 공격, 인간, 음모, 지구, 작전, \n",
      "어드벤처: 위해, 자신, 시작, 친구, 마을, 아버지, 영화, 아이, 사람, 여행, 세계, 앤트, 세상, 가족, 모험, 비밀, 대한, 이야기, 모든, 소년, 여정, 모두, 인간, 발견, 영화제, 한편, 옥자, 남자, 그녀, 도시, 원주민, 전쟁, 보물, 과연, 사랑, 사실, 동물, 지구, 위기, 아들, 국제, 윈치, 탈출, 펠레, 위협, 계획, 다른, 마법, 크루소, 엄마, \n",
      "전쟁: 전쟁, 독일군, 전투, 위해, 작전, 시작, 부대, 윈터스, 독일, 연합군, 미군, 임무, 자신, 사람, 나치, 병사, 공격, 이지중대, 혁리, 대원, 중위, 세계대전, 군인, 동막골, 대위, 프랑스, 영국, 미국, 목숨, 장군, 전장, 상황, 나폴레옹, 명령, 일본군, 소련군, 지역, 러시아군, 고구려, 그녀, 갈리폴리, 라핀, 모두, 점령, 투입, 전투기, 사수, 마지막, 아군, 상륙작전, \n",
      "코미디: 그녀, 자신, 시작, 위해, 사랑, 사람, 친구, 영화, 남자, 여자, 영화제, 가족, 과연, 마을, 사건, 이야기, 인생, 아이, 아버지, 마음, 모든, 생각, 결혼, 엄마, 서로, 생활, 다른, 코미디, 사실, 대한, 감독, 국제, 아들, 때문, 다시, 모두, 세상, 바로, 시간, 아내, 최고, 사고, 학교, 섹스, 여행, 사이, 이제, 하나, 명의, 위기, \n",
      "판타지: 자신, 그녀, 시작, 위해, 사람, 사랑, 요괴, 영화제, 이야기, 영화, 소녀, 남자, 인간, 세상, 마을, 세계, 국제, 마법, 알렉스, 존재, 사건, 순영, 판타스틱, 친구, 아이, 모습, 여자, 모든, 부천, 서로, 시간, 기억, 유령, 현실, 비밀, 다른, 과거, 발견, 왕자, 사실, 순간, 하나, 공주, 공격, 죽음, 남보라, 다시, 엄마, 과연, 한편, \n"
     ]
    }
   ],
   "source": [
    "m = [X[i].tocoo() for i in range(X.shape[0])]\n",
    "\n",
    "w = [[[i, j] for i, j in zip(mm.col, mm.data)] for mm in m]\n",
    "\n",
    "for i in range(len(w)):\n",
    "    w[i].sort(key=lambda x: x[1], reverse=True)\n",
    "attributes = []\n",
    "for i in range(len(w)):\n",
    "    print(genre_name[i], end=': ')\n",
    "    attr = []\n",
    "    j = 0\n",
    "    while (len(attr) < 50):\n",
    "        if vectorizer.get_feature_names()[w[i][j][0]] in model.wv:\n",
    "            attr.append(vectorizer.get_feature_names()[w[i][j][0]])\n",
    "            print(vectorizer.get_feature_names()[w[i][j][0]], end=', ')\n",
    "        j += 1\n",
    "    attributes.append(attr)\n",
    "    print()"
   ]
  },
  {
   "cell_type": "markdown",
   "id": "345c254c",
   "metadata": {},
   "source": [
    "# Step 4. WEAT score 계산과 시각화\n",
    "---"
   ]
  },
  {
   "cell_type": "markdown",
   "id": "69f41d6e",
   "metadata": {},
   "source": [
    "- 영화 구분, 영화 장르에 따른 편향성을 측정하여 WEAT score로 계산해보고 이를 Heatmap형태로 시각화해보자.\n",
    "- 편향성이 두드러지는 영화 장르 attribute 구성에는 어떤 케이스가 있는지 시각적으로 두드러지게 구성되면 더더욱 좋음😎😎"
   ]
  },
  {
   "cell_type": "markdown",
   "id": "499ca066",
   "metadata": {},
   "source": [
    "> * target_X : art (예술영화)\n",
    "> * target_Y : gen (일반영화)\n",
    "> * attribute_A, attribute_B는 여러 장르를 바꿔가며 구해보기"
   ]
  },
  {
   "cell_type": "code",
   "execution_count": 25,
   "id": "4df87e10",
   "metadata": {},
   "outputs": [
    {
     "name": "stdout",
     "output_type": "stream",
     "text": [
      "슝~\n"
     ]
    }
   ],
   "source": [
    "import numpy as np\n",
    "from numpy import dot\n",
    "from numpy.linalg import norm \n",
    "\n",
    "print(\"슝~\")"
   ]
  },
  {
   "attachments": {
    "image.png": {
     "image/png": "[encoded data removed]"
    }
   },
   "cell_type": "markdown",
   "id": "3bcd7874",
   "metadata": {},
   "source": [
    "### 💡 WEAT score란?  \n",
    "![image.png](attachment:image.png)   \n",
    "- 두 벡터의 유사도를 측정하기 위해서 `cosine similarity(코사인 유사도)`를 이용한다.\n",
    "- target에 있는 단어가 두 attribute 셋에 속한 단어들과의 유사도의 평균(mean)값이 얼마나 차이 나는지 측정한다.\n",
    "- 개별단어가 개념축(attribute_A, B)에 대해 가지는 편향성을 계산한 값이다.\n",
    "- X, Y에 속하는 모든 단어들이 가지는 편향성의 값의 표준편차(std)로 normalize한 값이 최종 WEAT score가 된다."
   ]
  },
  {
   "cell_type": "markdown",
   "id": "0b9a50cb",
   "metadata": {},
   "source": [
    "우선 `cosine similarity(코사인 유사도)`를 구하는 함수를 정의해보자."
   ]
  },
  {
   "cell_type": "code",
   "execution_count": 26,
   "id": "7bc677ea",
   "metadata": {},
   "outputs": [],
   "source": [
    "def cos_sim(i, j):\n",
    "    return dot(i, j.T)/(norm(i)*norm(j))"
   ]
  },
  {
   "cell_type": "markdown",
   "id": "5b7e29e0",
   "metadata": {},
   "source": [
    "`WEAT score` 공식에서 '분자'에 해당하는 부분을 계산하는 함수를 정의해보자."
   ]
  },
  {
   "cell_type": "code",
   "execution_count": 27,
   "id": "e5568d52",
   "metadata": {},
   "outputs": [],
   "source": [
    "def s(w, A, B):\n",
    "    c_a = cos_sim(w, A)\n",
    "    c_b = cos_sim(w, B)\n",
    "    mean_A = np.mean(c_a, axis=-1)\n",
    "    mean_B = np.mean(c_b, axis=-1)\n",
    "    return mean_A - mean_B  #, c_a, c_b"
   ]
  },
  {
   "cell_type": "markdown",
   "id": "f95c9b14",
   "metadata": {},
   "source": [
    "`WEAT score` 전체를 구하는 함수를 정의해보자."
   ]
  },
  {
   "cell_type": "code",
   "execution_count": 28,
   "id": "c8b4997a",
   "metadata": {},
   "outputs": [],
   "source": [
    "def weat_score(X, Y, A, B):\n",
    "    \n",
    "    s_X = s(X, A, B)\n",
    "    s_Y = s(Y, A, B)\n",
    "\n",
    "    mean_X = np.mean(s_X)\n",
    "    mean_Y = np.mean(s_Y)\n",
    "    \n",
    "    std_dev = np.std(np.concatenate([s_X, s_Y], axis=0))\n",
    "    \n",
    "    return  (mean_X-mean_Y)/std_dev"
   ]
  },
  {
   "cell_type": "markdown",
   "id": "f78ac638",
   "metadata": {},
   "source": [
    "`genre_name`의 길이(21x21)만큼 0으로 채운 매트릭스 형태로 표현한 `matrix`를 만들어보자.  \n",
    "(추후 구한 결과를 `matrix`라는 변수에 담을 예정이다.)"
   ]
  },
  {
   "cell_type": "code",
   "execution_count": 29,
   "id": "c56ee4e1",
   "metadata": {},
   "outputs": [
    {
     "data": {
      "text/plain": [
       "[[0, 0, 0, 0, 0, 0, 0, 0, 0, 0, 0, 0, 0, 0, 0, 0, 0, 0, 0, 0, 0],\n",
       " [0, 0, 0, 0, 0, 0, 0, 0, 0, 0, 0, 0, 0, 0, 0, 0, 0, 0, 0, 0, 0],\n",
       " [0, 0, 0, 0, 0, 0, 0, 0, 0, 0, 0, 0, 0, 0, 0, 0, 0, 0, 0, 0, 0],\n",
       " [0, 0, 0, 0, 0, 0, 0, 0, 0, 0, 0, 0, 0, 0, 0, 0, 0, 0, 0, 0, 0],\n",
       " [0, 0, 0, 0, 0, 0, 0, 0, 0, 0, 0, 0, 0, 0, 0, 0, 0, 0, 0, 0, 0],\n",
       " [0, 0, 0, 0, 0, 0, 0, 0, 0, 0, 0, 0, 0, 0, 0, 0, 0, 0, 0, 0, 0],\n",
       " [0, 0, 0, 0, 0, 0, 0, 0, 0, 0, 0, 0, 0, 0, 0, 0, 0, 0, 0, 0, 0],\n",
       " [0, 0, 0, 0, 0, 0, 0, 0, 0, 0, 0, 0, 0, 0, 0, 0, 0, 0, 0, 0, 0],\n",
       " [0, 0, 0, 0, 0, 0, 0, 0, 0, 0, 0, 0, 0, 0, 0, 0, 0, 0, 0, 0, 0],\n",
       " [0, 0, 0, 0, 0, 0, 0, 0, 0, 0, 0, 0, 0, 0, 0, 0, 0, 0, 0, 0, 0],\n",
       " [0, 0, 0, 0, 0, 0, 0, 0, 0, 0, 0, 0, 0, 0, 0, 0, 0, 0, 0, 0, 0],\n",
       " [0, 0, 0, 0, 0, 0, 0, 0, 0, 0, 0, 0, 0, 0, 0, 0, 0, 0, 0, 0, 0],\n",
       " [0, 0, 0, 0, 0, 0, 0, 0, 0, 0, 0, 0, 0, 0, 0, 0, 0, 0, 0, 0, 0],\n",
       " [0, 0, 0, 0, 0, 0, 0, 0, 0, 0, 0, 0, 0, 0, 0, 0, 0, 0, 0, 0, 0],\n",
       " [0, 0, 0, 0, 0, 0, 0, 0, 0, 0, 0, 0, 0, 0, 0, 0, 0, 0, 0, 0, 0],\n",
       " [0, 0, 0, 0, 0, 0, 0, 0, 0, 0, 0, 0, 0, 0, 0, 0, 0, 0, 0, 0, 0],\n",
       " [0, 0, 0, 0, 0, 0, 0, 0, 0, 0, 0, 0, 0, 0, 0, 0, 0, 0, 0, 0, 0],\n",
       " [0, 0, 0, 0, 0, 0, 0, 0, 0, 0, 0, 0, 0, 0, 0, 0, 0, 0, 0, 0, 0],\n",
       " [0, 0, 0, 0, 0, 0, 0, 0, 0, 0, 0, 0, 0, 0, 0, 0, 0, 0, 0, 0, 0],\n",
       " [0, 0, 0, 0, 0, 0, 0, 0, 0, 0, 0, 0, 0, 0, 0, 0, 0, 0, 0, 0, 0],\n",
       " [0, 0, 0, 0, 0, 0, 0, 0, 0, 0, 0, 0, 0, 0, 0, 0, 0, 0, 0, 0, 0]]"
      ]
     },
     "execution_count": 29,
     "metadata": {},
     "output_type": "execute_result"
    }
   ],
   "source": [
    "matrix = [[0 for _ in range(len(genre_name))] for _ in range(len(genre_name))]\n",
    "matrix"
   ]
  },
  {
   "cell_type": "markdown",
   "id": "fc1e7286",
   "metadata": {},
   "source": [
    "각 영화 장르 별로 구한 `WEAT score`의 값을 `matrix`에 각각 할당한다."
   ]
  },
  {
   "cell_type": "code",
   "execution_count": 30,
   "id": "ed6b1af3",
   "metadata": {},
   "outputs": [
    {
     "name": "stdout",
     "output_type": "stream",
     "text": [
      "슝~\n"
     ]
    }
   ],
   "source": [
    "X = np.array([model.wv[word] for word in target_art])\n",
    "Y = np.array([model.wv[word] for word in target_gen])\n",
    "\n",
    "for i in range(len(genre_name)-1):\n",
    "    for j in range(i+1, len(genre_name)):\n",
    "        A = np.array([model.wv[word] for word in attributes[i]])\n",
    "        B = np.array([model.wv[word] for word in attributes[j]])\n",
    "        matrix[i][j] = weat_score(X, Y, A, B)\n",
    "\n",
    "print(\"슝~\")"
   ]
  },
  {
   "cell_type": "markdown",
   "id": "c2587278",
   "metadata": {},
   "source": [
    "2개의 장르의 WEAT score값을 확인해보자.  \n",
    "(WEAT score가 0.8이상, -0.8이하인 경우만 해석해보자.)"
   ]
  },
  {
   "cell_type": "code",
   "execution_count": 31,
   "id": "692543bf",
   "metadata": {
    "scrolled": false
   },
   "outputs": [
    {
     "name": "stdout",
     "output_type": "stream",
     "text": [
      "[ attribute_A = SF ]\n",
      "SF 가족 -0.54423445\n",
      "SF 공연 -0.33214158\n",
      "SF 공포(호러) -0.46932292\n",
      "SF 기타 0.045704\n",
      "SF 다큐멘터리 0.17817634\n",
      "SF 드라마 -0.25933334\n",
      "SF 멜로로맨스 -0.45204166\n",
      "SF 뮤지컬 -0.016432185\n",
      "SF 미스터리 -0.45685992\n",
      "SF 범죄 -0.28967845\n",
      "SF 사극 -0.24989544\n",
      "SF 서부극(웨스턴) -0.515277\n",
      "SF 성인물(에로) -0.33615968\n",
      "SF 스릴러 -0.39133552\n",
      "SF 애니메이션 0.05378826\n",
      "SF 액션 -0.4080083\n",
      "SF 어드벤처 -0.51821274\n",
      "SF 전쟁 0.17973046\n",
      "SF 코미디 -0.48066\n",
      "SF 판타지 -0.39827645\n",
      "----------------\n",
      "[ attribute_A = 가족 ]\n",
      "가족 공연 0.39854667\n",
      "가족 공포(호러) 0.33647224\n",
      "가족 기타 0.6948535\n",
      "가족 다큐멘터리 0.6043205\n",
      "가족 드라마 0.6757731\n",
      "가족 멜로로맨스 -0.15903787\n",
      "가족 뮤지컬 0.5357902\n",
      "가족 미스터리 0.21746422\n",
      "가족 범죄 0.33168602\n",
      "가족 사극 0.59820473\n",
      "가족 서부극(웨스턴) 0.23976457\n",
      "가족 성인물(에로) 0.038658533\n",
      "가족 스릴러 0.3254128\n",
      "가족 애니메이션 0.68412143\n",
      "가족 액션 0.32828793\n",
      "가족 어드벤처 0.49950463\n",
      "가족 전쟁 0.50942326\n",
      "가족 코미디 0.377746\n",
      "가족 판타지 0.5572687\n",
      "----------------\n",
      "[ attribute_A = 공연 ]\n",
      "공연 공포(호러) -0.076820254\n",
      "공연 기타 0.54300207\n",
      "공연 다큐멘터리 0.52925426\n",
      "공연 드라마 0.05275832\n",
      "공연 멜로로맨스 -0.33279005\n",
      "공연 뮤지컬 0.58856314\n",
      "공연 미스터리 -0.11012136\n",
      "공연 범죄 0.04698212\n",
      "공연 사극 0.42772767\n",
      "공연 서부극(웨스턴) -0.2043059\n",
      "공연 성인물(에로) -0.19990881\n",
      "공연 스릴러 -0.03180972\n",
      "공연 애니메이션 0.59235704\n",
      "공연 액션 0.067207776\n",
      "공연 어드벤처 0.02438031\n",
      "공연 전쟁 0.43637168\n",
      "공연 코미디 -0.247471\n",
      "공연 판타지 0.03992751\n",
      "----------------\n",
      "[ attribute_A = 공포(호러) ]\n",
      "공포(호러) 기타 0.36736947\n",
      "공포(호러) 다큐멘터리 0.4031307\n",
      "공포(호러) 드라마 0.1435886\n",
      "공포(호러) 멜로로맨스 -0.3707121\n",
      "공포(호러) 뮤지컬 0.271805\n",
      "공포(호러) 미스터리 -0.17816357\n",
      "공포(호러) 범죄 0.18601222\n",
      "공포(호러) 사극 0.293487\n",
      "공포(호러) 서부극(웨스턴) -0.1283928\n",
      "공포(호러) 성인물(에로) -0.17561199\n",
      "공포(호러) 스릴러 0.1675218\n",
      "공포(호러) 애니메이션 0.36516306\n",
      "공포(호러) 액션 0.19766156\n",
      "공포(호러) 어드벤처 0.13927497\n",
      "공포(호러) 전쟁 0.38199505\n",
      "공포(호러) 코미디 -0.15382876\n",
      "공포(호러) 판타지 0.1827992\n",
      "----------------\n",
      "[ attribute_A = 기타 ]\n",
      "기타 다큐멘터리 0.30343372\n",
      "기타 드라마 -0.57676125\n",
      "기타 멜로로맨스 -0.5272468\n",
      "기타 뮤지컬 -0.13757718\n",
      "기타 미스터리 -0.36148226\n",
      "기타 범죄 -0.20495708\n",
      "기타 사극 -0.31209278\n",
      "기타 서부극(웨스턴) -0.4213696\n",
      "기타 성인물(에로) -0.41923502\n",
      "기타 스릴러 -0.30258936\n",
      "기타 애니메이션 0.005782806\n",
      "기타 액션 -0.19938551\n",
      "기타 어드벤처 -0.46179858\n",
      "기타 전쟁 0.07375604\n",
      "기타 코미디 -0.63085514\n",
      "기타 판타지 -0.48810366\n",
      "----------------\n",
      "[ attribute_A = 다큐멘터리 ]\n",
      "다큐멘터리 드라마 -0.48835453\n",
      "다큐멘터리 멜로로맨스 -0.49208033\n",
      "다큐멘터리 뮤지컬 -0.35096318\n",
      "다큐멘터리 미스터리 -0.39590794\n",
      "다큐멘터리 범죄 -0.2662075\n",
      "다큐멘터리 사극 -0.40479484\n",
      "다큐멘터리 서부극(웨스턴) -0.43722308\n",
      "다큐멘터리 성인물(에로) -0.40490907\n",
      "다큐멘터리 스릴러 -0.34998232\n",
      "다큐멘터리 애니메이션 -0.27998975\n",
      "다큐멘터리 액션 -0.27762893\n",
      "다큐멘터리 어드벤처 -0.51625085\n",
      "다큐멘터리 전쟁 -0.033849075\n",
      "다큐멘터리 코미디 -0.5624225\n",
      "다큐멘터리 판타지 -0.49647155\n",
      "----------------\n",
      "[ attribute_A = 드라마 ]\n",
      "드라마 멜로로맨스 -0.47982752\n",
      "드라마 뮤지컬 0.29858938\n",
      "드라마 미스터리 -0.17664224\n",
      "드라마 범죄 0.014656262\n",
      "드라마 사극 0.19975738\n",
      "드라마 서부극(웨스턴) -0.21943322\n",
      "드라마 성인물(에로) -0.29986596\n",
      "드라마 스릴러 -0.07700256\n",
      "드라마 애니메이션 0.456507\n",
      "드라마 액션 0.030348497\n",
      "드라마 어드벤처 -0.032509558\n",
      "드라마 전쟁 0.28427795\n",
      "드라마 코미디 -0.6158485\n",
      "드라마 판타지 -0.020111253\n",
      "----------------\n",
      "[ attribute_A = 멜로로맨스 ]\n",
      "멜로로맨스 뮤지컬 0.42328164\n",
      "멜로로맨스 미스터리 0.34838775\n",
      "멜로로맨스 범죄 0.398889\n",
      "멜로로맨스 사극 0.44935566\n",
      "멜로로맨스 서부극(웨스턴) 0.26525334\n",
      "멜로로맨스 성인물(에로) 0.8739888\n",
      "멜로로맨스 스릴러 0.42209265\n",
      "멜로로맨스 애니메이션 0.4837781\n",
      "멜로로맨스 액션 0.3440802\n",
      "멜로로맨스 어드벤처 0.34426546\n",
      "멜로로맨스 전쟁 0.42931432\n",
      "멜로로맨스 코미디 0.34077743\n",
      "멜로로맨스 판타지 0.41225338\n",
      "----------------\n",
      "[ attribute_A = 뮤지컬 ]\n",
      "뮤지컬 미스터리 -0.2773672\n",
      "뮤지컬 범죄 -0.16222607\n",
      "뮤지컬 사극 -0.2203857\n",
      "뮤지컬 서부극(웨스턴) -0.37348214\n",
      "뮤지컬 성인물(에로) -0.326571\n",
      "뮤지컬 스릴러 -0.22583841\n",
      "뮤지컬 애니메이션 0.17385003\n",
      "뮤지컬 액션 -0.15889707\n",
      "뮤지컬 어드벤처 -0.33481544\n",
      "뮤지컬 전쟁 0.15339124\n",
      "뮤지컬 코미디 -0.44594738\n",
      "뮤지컬 판타지 -0.29764578\n",
      "----------------\n",
      "[ attribute_A = 미스터리 ]\n",
      "미스터리 범죄 0.2865309\n",
      "미스터리 사극 0.30294412\n",
      "미스터리 서부극(웨스턴) -0.046958447\n",
      "미스터리 성인물(에로) -0.14076632\n",
      "미스터리 스릴러 0.8183262\n",
      "미스터리 애니메이션 0.35121077\n",
      "미스터리 액션 0.2566319\n",
      "미스터리 어드벤처 0.16189846\n",
      "미스터리 전쟁 0.38398737\n",
      "미스터리 코미디 -0.058500208\n",
      "미스터리 판타지 0.20354986\n",
      "----------------\n",
      "[ attribute_A = 범죄 ]\n",
      "범죄 사극 0.11017217\n",
      "범죄 서부극(웨스턴) -0.3719811\n",
      "범죄 성인물(에로) -0.2466932\n",
      "범죄 스릴러 -0.15964428\n",
      "범죄 애니메이션 0.21086921\n",
      "범죄 액션 0.049655806\n",
      "범죄 어드벤처 -0.037477147\n",
      "범죄 전쟁 0.3549523\n",
      "범죄 코미디 -0.22555198\n",
      "범죄 판타지 -0.025651705\n",
      "----------------\n",
      "[ attribute_A = 사극 ]\n",
      "사극 서부극(웨스턴) -0.434577\n",
      "사극 성인물(에로) -0.31333262\n",
      "사극 스릴러 -0.21926571\n",
      "사극 애니메이션 0.33972305\n",
      "사극 액션 -0.09835179\n",
      "사극 어드벤처 -0.37488654\n",
      "사극 전쟁 0.3162272\n",
      "사극 코미디 -0.5493675\n",
      "사극 판타지 -0.29994264\n",
      "----------------\n",
      "[ attribute_A = 서부극(웨스턴) ]\n",
      "서부극(웨스턴) 성인물(에로) -0.09423819\n",
      "서부극(웨스턴) 스릴러 0.18943031\n",
      "서부극(웨스턴) 애니메이션 0.44472438\n",
      "서부극(웨스턴) 액션 0.34633383\n",
      "서부극(웨스턴) 어드벤처 0.24739558\n",
      "서부극(웨스턴) 전쟁 0.5507207\n",
      "서부극(웨스턴) 코미디 -0.010123518\n",
      "서부극(웨스턴) 판타지 0.23707396\n",
      "----------------\n",
      "[ attribute_A = 성인물(에로) ]\n",
      "성인물(에로) 스릴러 0.22294919\n",
      "성인물(에로) 애니메이션 0.3800541\n",
      "성인물(에로) 액션 0.21615559\n",
      "성인물(에로) 어드벤처 0.20203911\n",
      "성인물(에로) 전쟁 0.3440059\n",
      "성인물(에로) 코미디 0.11627937\n",
      "성인물(에로) 판타지 0.24714763\n",
      "----------------\n",
      "[ attribute_A = 스릴러 ]\n",
      "스릴러 애니메이션 0.2964004\n",
      "스릴러 액션 0.15464546\n",
      "스릴러 어드벤처 0.05955945\n",
      "스릴러 전쟁 0.34661138\n",
      "스릴러 코미디 -0.19435039\n",
      "스릴러 판타지 0.083908565\n",
      "----------------\n",
      "[ attribute_A = 애니메이션 ]\n",
      "애니메이션 액션 -0.21445632\n",
      "애니메이션 어드벤처 -0.5365095\n",
      "애니메이션 전쟁 0.08546477\n",
      "애니메이션 코미디 -0.57718587\n",
      "애니메이션 판타지 -0.477387\n",
      "----------------\n",
      "[ attribute_A = 액션 ]\n",
      "액션 어드벤처 -0.06716236\n",
      "액션 전쟁 0.42565992\n",
      "액션 코미디 -0.22910148\n",
      "액션 판타지 -0.04811932\n",
      "----------------\n",
      "[ attribute_A = 어드벤처 ]\n",
      "어드벤처 전쟁 0.4152497\n",
      "어드벤처 코미디 -0.3240202\n",
      "어드벤처 판타지 0.035836466\n",
      "----------------\n",
      "[ attribute_A = 전쟁 ]\n",
      "전쟁 코미디 -0.43089062\n",
      "전쟁 판타지 -0.33552113\n",
      "----------------\n",
      "[ attribute_A = 코미디 ]\n",
      "코미디 판타지 0.48139733\n",
      "----------------\n"
     ]
    }
   ],
   "source": [
    "for i in range(len(genre_name)-1):\n",
    "    print('[ attribute_A =', genre_name[i], ']')\n",
    "    for j in range(i+1, len(genre_name)):\n",
    "        print(genre_name[i], genre_name[j],matrix[i][j])\n",
    "    print('----------------')"
   ]
  },
  {
   "cell_type": "code",
   "execution_count": 32,
   "id": "c9122268",
   "metadata": {},
   "outputs": [
    {
     "data": {
      "image/png": "[encoded data removed]",
      "text/plain": [
       "<Figure size 1080x1080 with 2 Axes>"
      ]
     },
     "metadata": {},
     "output_type": "display_data"
    }
   ],
   "source": [
    "import numpy as np; \n",
    "import seaborn as sns; \n",
    "\n",
    "np.random.seed(0)\n",
    "\n",
    "# 한글 지원 폰트\n",
    "sns.set(font='NanumGothic')\n",
    "\n",
    "# 마이너스 부호 \n",
    "\n",
    "plt.rcParams['axes.unicode_minus'] = False\n",
    "plt.rcParams[\"figure.figsize\"] = (15,15)\n",
    "\n",
    "sns.heatmap(matrix, xticklabels=genre_name, yticklabels=genre_name, annot=True,  cmap='RdYlGn_r')\n",
    "\n",
    "plt.ylabel('attribute_A', fontsize = 15)\n",
    "plt.xlabel('attribute_B', fontsize = 15)\n",
    "\n",
    "plt.show()"
   ]
  },
  {
   "cell_type": "markdown",
   "id": "34502f38",
   "metadata": {},
   "source": [
    "# 😎 결과\n",
    "---"
   ]
  },
  {
   "cell_type": "markdown",
   "id": "2515d4e6",
   "metadata": {},
   "source": [
    "## 수치에 대한 결과\n",
    "### `WEAT score`가 0.8이상인 것들만 따로 정리해보았다.\n",
    "멜로로맨스 성인물(에로) 0.8739888\n",
    "미스터리 스릴러 0.8183262\n",
    "    \n",
    "    \n",
    "▶▶ `WEAT score`가 0.8 이상인 것이 2개 밖에 나오지 않았다."
   ]
  }
 ],
 "metadata": {
  "kernelspec": {
   "display_name": "Python 3 (ipykernel)",
   "language": "python",
   "name": "python3"
  },
  "language_info": {
   "codemirror_mode": {
    "name": "ipython",
    "version": 3
   },
   "file_extension": ".py",
   "mimetype": "text/x-python",
   "name": "python",
   "nbconvert_exporter": "python",
   "pygments_lexer": "ipython3",
   "version": "3.9.7"
  }
 },
 "nbformat": 4,
 "nbformat_minor": 5
}
