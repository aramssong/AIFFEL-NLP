{
 "cells": [
  {
   "cell_type": "markdown",
   "id": "db3b34d6",
   "metadata": {},
   "source": [
    "# [GD-6] 모든 장르 간 편향성 측정해 보기"
   ]
  },
  {
   "cell_type": "markdown",
   "id": "5845c70d",
   "metadata": {},
   "source": [
    "# Step 0. 라이브러리 불러오기\n",
    "---"
   ]
  },
  {
   "cell_type": "code",
   "execution_count": 1,
   "id": "995ef668",
   "metadata": {},
   "outputs": [
    {
     "name": "stdout",
     "output_type": "stream",
     "text": [
      "0.5.2\n",
      "4.1.2\n",
      "1.0\n",
      "0.11.2\n"
     ]
    }
   ],
   "source": [
    "import konlpy\n",
    "import gensim\n",
    "import sklearn\n",
    "import seaborn\n",
    "import matplotlib as plt\n",
    "import matplotlib.pyplot as plt\n",
    "\n",
    "print(konlpy.__version__)\n",
    "print(gensim.__version__)\n",
    "print(sklearn.__version__)\n",
    "print(seaborn.__version__)"
   ]
  },
  {
   "cell_type": "markdown",
   "id": "5ca9f285",
   "metadata": {},
   "source": [
    "# Step 1. 형태소 분석기를 이용하여 품사가 명사인 경우 해당 단어를 추출하기\n",
    "---"
   ]
  },
  {
   "cell_type": "markdown",
   "id": "62efd83e",
   "metadata": {},
   "source": [
    "`synopsis.txt`에는 2001년부터 2019년 8월까지 제작된 영화들의 시놉시스 정보가 있다.  \n",
    "`synopsis.txt`의 일부를 읽어보자."
   ]
  },
  {
   "cell_type": "code",
   "execution_count": 2,
   "id": "63ccc750",
   "metadata": {
    "scrolled": true
   },
   "outputs": [
    {
     "name": "stdout",
     "output_type": "stream",
     "text": [
      "사운드 엔지니어 상우(유지태 분)는 치매에 걸린 할머니(백성희 분)와\n",
      " 젊은 시절 상처한 한 아버지(박인환 분), 고모(신신애 분)와 함께 살고 있다.\n",
      " 어느 겨울 그는 지방 방송국 라디오 PD 은수(이영애 분)를 만난다.\n",
      " 자연의 소리를 채집해 틀어주는 라디오 프로그램을 준비하는 은수는 상우와 녹음 여행을 떠난다.\n",
      " 자연스레 가까워지는 두 사람은 어느 날, 은수의 아파트에서 밤을 보낸다.\n",
      " 너무 쉽게 사랑에 빠진 두 사람... 상우는 주체할 수 없을 정도로 그녀에게 빨려든다.\n",
      " 그러나 겨울에 만난 두 사람의 관계는 봄을 지나 여름을 맞이하면서 삐걱거린다.\n",
      " 이혼 경험이 있는 은수는 상우에게 결혼할 생각이 없다며 부담스러운 표정을 내비친다.\n",
      " \"어떻게 사랑이 변하니?...\"라고 묻는 상우에게 은수는 그저 \"헤어져\" 라고 단호하게 말한다.\n",
      " 영원히 변할 것 같지 않던 사랑이 변하고, 그 사실을 받아들이지 못하는 상우는 어찌 할 바를 모른다.\n",
      " 은수를 잊지 못하는 상우는 미련과 집착의 감정을 이기지 못하고 서울과 강릉을 오간다.\n",
      "유사 이래 연령, 성별, 빈부의 차이와 정치적인 입장을 불문하고 일거에 국민을 통합해 온 '애국심'이라는 성역에 일침을 가하는 다큐멘터리. 재작년 전국 민족민주 유가족협의회의 장기농성을 다룬 인상적인 다큐멘터리 <민들레>를 만들었던 독립영화집단 '빨간 눈사람'이 우리 사회 구석구석을 발빠르게 돌아다니며 애국심과 민족주의가 강요되는 현장을 발굴하여 카메라에 담았다. 박홍 서강대 명예총장, 이도형 '한국논단' 발행인, 축구해설자 신문선, 홍세화, 박노해 등 사회 각계의 '스타'들이 등장해 저마다의 확고한 신념을 성토한다. 감독 이경순과 최하동하는 이 작품을 위해 3년간 백여 명을 인터뷰했다고 한다. 2001 올해의 독립영화상 수상.\n",
      " 민족과 국가란 공동체에서 부단히 권력과 부를 얻는 자, 나아가 민족과 국가란 공동체에서 얻은 신분과 부귀를 영원히 그의 자손에게 대물림하려는 자, 그래서 민족과 국가란 공동체를 부단히 유지해야만 하는 자, 따라서 민족과 국가란 공동체의 당위성과 개인의 가치를 초월하는 그 존엄성을 끝도 없이 창조하고 되뇌어야 하는 자, 종국에는 민족과 국가란 공동체에 속해 있다고 태내에서부터 세뇌된 모든 이들의 삶과 행동에서 영원히 자기복제되는 순환의 고리, 영생하는 애국의 원동력은 그 순환의 골에서 온다.\n",
      "엽기적인 살인사건이 발생한 장소를 관광하는 투어팀. 그 팀에서 관광객들은 살인사건과 관련하여 히스테리컬한 반응을 보이는데 과연 이들의 정체는? (Tourists see whrer a murder take place. They respond hysterically to the murder…what are they?)\n",
      " 제46회 발라돌리드 국제영화제 (2001, 스페인)\n",
      "착하지만 엉뚱한 태희(배두나 분), 예쁜 깍쟁이 혜주(이요원 분), 그림을 잘 그리는 지영(옥지영 분), 명랑한 쌍둥이 비류(이은실 분)와 온조(이은주 분)는 단짝친구들. 늘 함께였던 그들이지만 스무 살이 되면서 길이 달라진다. 증권회사에 입사한 혜주는 성공한 커리어우먼의 야심을 키우고 미술에 재능이 있는 지영은 유학을 꿈꾼다. 한편 태희는 봉사활동에서 알게 된 뇌성마비 시인을 좋아하는데...\n",
      "  어느 날 지영이 길 잃은 새끼 고양이 티티를 만남면서 스무 살 그녀들의 삶에 고양이 한 마리가 끼어들게 된다. 혼자 있길 좋아하고, 쉽게 마음을 열지 않는 신비로운 동물 고양이. 고양이를 닮은 스무 살 그녀들. 고양이 티티와 함께 한 시간동안 삶은 예상못한 방향으로 흘러가지만 마침내 그녀들만의 해결책을 찾게 되는데... 사랑스런 몽상가 태희, 아름다운 야심가 혜주, 신비로운 아웃사이더 지영. 마지막으로 고양이를 부탁받은 사람은 누구일까?\n",
      "인도 등 아시아 식민지에 처음 발을 디딘 뒤 여행하고 “경영”한 이들은 과연 누구였을까? 과거의 이미지들은, 이민과 인종 문제, ‘오리엔탈리즘’이 격렬히 충돌하고 있는 현재와 강력하게 공명한다.\n",
      " [제19회 인디다큐페스티발]\n",
      "홀로 살아가는 미국 할머니와 한국 할머니의 이야기. 공원에서 가끔 마주치게 되는 그들은 비록 언어 소통의 어려움을 겪지만 시간이 흘러감에 따라 서로 가까워져 그들의 외로움과 우정을 공유하게 된다. 겨울이 지나고 봄이 왔을 때 길가의 민들레 홀씨는 삶의 이치를 말해주듯 한 할머니의 주위를 맴돈다. (Two elderly widows, an American and a Korean, frequent the same park in Philadelphia and attempt a friendship, though the Korean widow speaks no English. Driven by loneliness and a spark of hope, they persevere within the limits of body language, and the outcome poses a question of life as fundamental as a flower.)\n"
     ]
    }
   ],
   "source": [
    "import os\n",
    "\n",
    "with open(os.getenv('HOME')+'/aiffel/weat/synopsis.txt', 'r') as file:\n",
    "    for i in range(20):\n",
    "        print(file.readline(), end='')"
   ]
  },
  {
   "cell_type": "markdown",
   "id": "44d49f4c",
   "metadata": {},
   "source": [
    "`KoNLRy 패키지(한국어 형태소 분석기)`를 이용하여 품사가 명사인 경우만 남겨 `tokenized`라는 변수명으로 저장해보자."
   ]
  },
  {
   "cell_type": "code",
   "execution_count": 3,
   "id": "07902f09",
   "metadata": {},
   "outputs": [
    {
     "name": "stdout",
     "output_type": "stream",
     "text": [
      "슝~\n"
     ]
    }
   ],
   "source": [
    "# ⏳ 시간이 꽤나 걸림.....\n",
    "\n",
    "from konlpy.tag import Okt\n",
    "\n",
    "okt = Okt()\n",
    "tokenized = []\n",
    "\n",
    "with open(os.getenv('HOME')+'/aiffel/weat/synopsis.txt', 'r') as file:\n",
    "    while True:\n",
    "        line = file.readline()\n",
    "        if not line: break\n",
    "        words = okt.pos(line, stem=True, norm=True)\n",
    "        res = []\n",
    "        for w in words:\n",
    "            if w[1] in [\"Noun\"]:      # \"Adjective\", \"Verb\" 등을 포함할 수도 있습니다.\n",
    "                res.append(w[0])    # 명사일 때만 tokenized 에 저장하게 됩니다. \n",
    "        tokenized.append(res)\n",
    "\n",
    "print(\"슝~\")"
   ]
  },
  {
   "cell_type": "code",
   "execution_count": 4,
   "id": "69c2e069",
   "metadata": {},
   "outputs": [
    {
     "name": "stdout",
     "output_type": "stream",
     "text": [
      "71156\n"
     ]
    }
   ],
   "source": [
    "print(len(tokenized))"
   ]
  },
  {
   "cell_type": "markdown",
   "id": "ff7df150",
   "metadata": {},
   "source": [
    "- 총 `71,156개`의 명사가 추출되어 `tokenized` 변수에 담겨있는 것을 확인할 수 있다."
   ]
  },
  {
   "cell_type": "markdown",
   "id": "4ea78575",
   "metadata": {},
   "source": [
    "# Step 2. 추출된 결과로 embedding model 만들기\n",
    "---"
   ]
  },
  {
   "cell_type": "markdown",
   "id": "2582e9cc",
   "metadata": {},
   "source": [
    "`tokenized`에 담긴 데이터를 가지고 `word2vec`을 생성해보자."
   ]
  },
  {
   "cell_type": "code",
   "execution_count": 5,
   "id": "9d5bd63f",
   "metadata": {},
   "outputs": [],
   "source": [
    "from gensim.models import Word2Vec\n",
    "\n",
    "model = Word2Vec(tokenized, vector_size=100, window=5, min_count=3, sg=0)"
   ]
  },
  {
   "cell_type": "markdown",
   "id": "87474df3",
   "metadata": {},
   "source": [
    "'영화'라는 단어와 가장 유사한 단어들을 출력해보자."
   ]
  },
  {
   "cell_type": "code",
   "execution_count": 6,
   "id": "e948d506",
   "metadata": {},
   "outputs": [
    {
     "data": {
      "text/plain": [
       "[('작품', 0.8802074790000916),\n",
       " ('다큐멘터리', 0.8491814136505127),\n",
       " ('드라마', 0.8319084644317627),\n",
       " ('영화로', 0.8165013790130615),\n",
       " ('주제', 0.7785541415214539),\n",
       " ('소재', 0.7737383842468262),\n",
       " ('스토리', 0.771093487739563),\n",
       " ('감동', 0.7671194076538086),\n",
       " ('형식', 0.7658771872520447),\n",
       " ('개연', 0.7628052234649658)]"
      ]
     },
     "execution_count": 6,
     "metadata": {},
     "output_type": "execute_result"
    }
   ],
   "source": [
    "model.wv.most_similar(positive=['영화'])"
   ]
  },
  {
   "cell_type": "markdown",
   "id": "7b507d16",
   "metadata": {},
   "source": [
    "`word2vec`이 잘 훈련된 것 같은지 다른 단어로도 확인해보자."
   ]
  },
  {
   "cell_type": "code",
   "execution_count": 7,
   "id": "e74e7749",
   "metadata": {},
   "outputs": [
    {
     "data": {
      "text/plain": [
       "[('행복', 0.6998615860939026),\n",
       " ('첫사랑', 0.699326753616333),\n",
       " ('연애', 0.693781852722168),\n",
       " ('운명', 0.685766875743866),\n",
       " ('애정', 0.6811017990112305),\n",
       " ('진심', 0.6765158772468567),\n",
       " ('만남', 0.6739930510520935),\n",
       " ('이별', 0.6737063527107239),\n",
       " ('만인', 0.6734675765037537),\n",
       " ('존경심', 0.6730785965919495)]"
      ]
     },
     "execution_count": 7,
     "metadata": {},
     "output_type": "execute_result"
    }
   ],
   "source": [
    "model.wv.most_similar(positive=['사랑'])"
   ]
  },
  {
   "cell_type": "code",
   "execution_count": 8,
   "id": "8603161f",
   "metadata": {},
   "outputs": [
    {
     "data": {
      "text/plain": [
       "[('니웨', 0.8474406599998474),\n",
       " ('배우', 0.8369965553283691),\n",
       " ('시나리오', 0.8279386758804321),\n",
       " ('출연', 0.8226641416549683),\n",
       " ('스타일', 0.8139508366584778),\n",
       " ('여배우', 0.8101523518562317),\n",
       " ('연극', 0.8080542087554932),\n",
       " ('편집', 0.7961868047714233),\n",
       " ('인상', 0.7875784635543823),\n",
       " ('대본', 0.7844468355178833)]"
      ]
     },
     "execution_count": 8,
     "metadata": {},
     "output_type": "execute_result"
    }
   ],
   "source": [
    "model.wv.most_similar(positive=['연기'])"
   ]
  },
  {
   "cell_type": "markdown",
   "id": "bd0c8d52",
   "metadata": {},
   "source": [
    "- 전반적으로 유사한 단어들이 출력되었다.\n",
    "- word2vec이 잘 훈련된 것을 확인할 수 있다."
   ]
  },
  {
   "cell_type": "markdown",
   "id": "ef0db954",
   "metadata": {},
   "source": [
    "# Step 3. TF-IDF로 해당 데이터를 가장 잘 표현하는 단어 셋 만들기\n",
    "---"
   ]
  },
  {
   "cell_type": "markdown",
   "id": "970977a6",
   "metadata": {},
   "source": [
    "## 3.1 영화 구분 데이터의 단어 셋"
   ]
  },
  {
   "cell_type": "code",
   "execution_count": 9,
   "id": "4833e613",
   "metadata": {},
   "outputs": [],
   "source": [
    "import os\n",
    "from sklearn.feature_extraction.text import TfidfVectorizer\n",
    "import numpy as np"
   ]
  },
  {
   "cell_type": "markdown",
   "id": "8ba27cef",
   "metadata": {},
   "source": [
    "`synopsis_art.txt(예술영화)`, `synopsis_gen.txt(일반영화(상업영화))` 두 파일을 읽어보자."
   ]
  },
  {
   "cell_type": "code",
   "execution_count": 10,
   "id": "8663165c",
   "metadata": {},
   "outputs": [],
   "source": [
    "art_txt = 'synopsis_art.txt'\n",
    "gen_txt = 'synopsis_gen.txt'"
   ]
  },
  {
   "cell_type": "markdown",
   "id": "30074621",
   "metadata": {},
   "source": [
    "`KoNLRy 패키지`를 이용하여 품사가 명사인 경우만 남겨 `tokenized`에 저장하는 `read_token` 함수를 정의해보자."
   ]
  },
  {
   "cell_type": "code",
   "execution_count": 11,
   "id": "8514e7c0",
   "metadata": {},
   "outputs": [
    {
     "name": "stdout",
     "output_type": "stream",
     "text": [
      "슝~\n"
     ]
    }
   ],
   "source": [
    "def read_token(file_name):\n",
    "    okt = Okt()\n",
    "    result = []\n",
    "    with open(os.getenv('HOME')+'/aiffel/weat/'+file_name, 'r') as fread: \n",
    "        print(file_name, '파일을 읽고 있습니다.')\n",
    "        while True:\n",
    "            line = fread.readline() \n",
    "            if not line: break \n",
    "            tokenlist = okt.pos(line, stem=True, norm=True) \n",
    "            for word in tokenlist:\n",
    "                if word[1] in [\"Noun\"]:#, \"Adjective\", \"Verb\"]:\n",
    "                    result.append((word[0])) \n",
    "    return ' '.join(result)\n",
    "\n",
    "print(\"슝~\")"
   ]
  },
  {
   "cell_type": "markdown",
   "id": "db7f91c4",
   "metadata": {},
   "source": [
    "`read_token` 함수를 사용하여 품사가 명사인 경우만을 추출하여 `art`, `gen` 변수에 할당해보자."
   ]
  },
  {
   "cell_type": "code",
   "execution_count": 12,
   "id": "79b1a565",
   "metadata": {},
   "outputs": [
    {
     "name": "stdout",
     "output_type": "stream",
     "text": [
      "synopsis_art.txt 파일을 읽고 있습니다.\n",
      "synopsis_gen.txt 파일을 읽고 있습니다.\n"
     ]
    }
   ],
   "source": [
    "# ⏳ 시간이 꽤나 걸림.....222\n",
    "art = read_token(art_txt)\n",
    "gen = read_token(gen_txt)"
   ]
  },
  {
   "cell_type": "code",
   "execution_count": 15,
   "id": "7352dbda",
   "metadata": {},
   "outputs": [
    {
     "data": {
      "text/plain": [
       "'사운드 엔지니어 상우 유지태 분 치매'"
      ]
     },
     "execution_count": 15,
     "metadata": {},
     "output_type": "execute_result"
    }
   ],
   "source": [
    "art[:20]"
   ]
  },
  {
   "cell_type": "code",
   "execution_count": 16,
   "id": "25ec1b48",
   "metadata": {},
   "outputs": [
    {
     "data": {
      "text/plain": [
       "'유사 연령 성별 빈부 차이 정치 입장'"
      ]
     },
     "execution_count": 16,
     "metadata": {},
     "output_type": "execute_result"
    }
   ],
   "source": [
    "gen[:20]"
   ]
  },
  {
   "cell_type": "markdown",
   "id": "957698a5",
   "metadata": {},
   "source": [
    "`WEAT score` 계산을 위해 총 4개의 단어셋(X, Y, A, B)이 필요한데, 각 단어 셋을 가장 잘 대표할 수 있는 단어들을 선정해야 한다.  \n",
    "그래서 코퍼스에서 자주 나타나는 (TF가 높은) 단어지만, 다른 코퍼스에는 많이 나오지 않는(IDF가 높은) 단어를 선정하는 `TF-IDF 방식`을 사용해보자."
   ]
  },
  {
   "cell_type": "code",
   "execution_count": 17,
   "id": "df33d9a2",
   "metadata": {},
   "outputs": [
    {
     "name": "stdout",
     "output_type": "stream",
     "text": [
      "(2, 41082)\n"
     ]
    }
   ],
   "source": [
    "vectorizer = TfidfVectorizer()\n",
    "X = vectorizer.fit_transform([art, gen])\n",
    "\n",
    "print(X.shape)"
   ]
  },
  {
   "cell_type": "code",
   "execution_count": 18,
   "id": "a7ece297",
   "metadata": {},
   "outputs": [
    {
     "name": "stdout",
     "output_type": "stream",
     "text": [
      "23976\n",
      "영화\n"
     ]
    },
    {
     "name": "stderr",
     "output_type": "stream",
     "text": [
      "/opt/conda/lib/python3.9/site-packages/sklearn/utils/deprecation.py:87: FutureWarning: Function get_feature_names is deprecated; get_feature_names is deprecated in 1.0 and will be removed in 1.2. Please use get_feature_names_out instead.\n",
      "  warnings.warn(msg, category=FutureWarning)\n"
     ]
    }
   ],
   "source": [
    "print(vectorizer.vocabulary_['영화'])\n",
    "print(vectorizer.get_feature_names()[23976])"
   ]
  },
  {
   "cell_type": "markdown",
   "id": "802e048a",
   "metadata": {},
   "source": [
    "TF-IDF가 높은 순으로 정렬된 art, gen 단어셋의 단어들을 출력해보자."
   ]
  },
  {
   "cell_type": "code",
   "execution_count": 24,
   "id": "c53396e3",
   "metadata": {},
   "outputs": [
    {
     "name": "stdout",
     "output_type": "stream",
     "text": [
      "예술영화를 대표하는 단어들:\n",
      "그녀, 자신, 시작, 위해, 사랑, 사람, 영화, 친구, 남자, 가족, 이야기, 마을, 사건, 마음, 세상, 아버지, 아이, 엄마, 모든, 여자, 대한, 서로, 과연, 다시, 시간, 아들, 소녀, 아내, 다른, 사이, 영화제, 세계, 사실, 하나, 점점, 남편, 감독, 여행, 인생, 발견, 모두, 순간, 우리, 가장, 마지막, 생활, 아빠, 모습, 통해, 죽음, 기억, 비밀, 학교, 음악, 한편, 소년, 생각, 도시, 명의, 사고, 결혼, 전쟁, 때문, 위기, 이제, 최고, 이자, 과거, 일상, 경찰, 상황, 간다, 미국, 결심, 운명, 현실, 관계, 지금, 단편, 여인, 하루, 이름, 이후, 준비, 인간, 감정, 만난, 국제, 처음, 충격, 살인, 누구, 동안, 존재, 그린, 어머니, 연인, 계속, 동생, 작품, 청년, 한국, 가지, 상처, 할머니, 목숨, 이상, 희망, 계획, 매력, 프랑스, 사회, 제안, 만남, 무엇, 거리, 이유, 파리, 여성, 정체, 매일, 바로, 시절, 보고, 진실, 홀로, 혼란, 배우, 선택, 다큐멘터리, 혼자, 작가, 갑자기, 일본, 고향, 마주, 도착, 병원, 문제, 로부터, 노래, 주인공, 자리, 대해, 미래, 갈등, 소식, 공연, 서울, 할아버지, 부부, 도움, 연애, 회사, 여자친구, 조직, 소개, 낯선, 찾기, 애인, 잠시, 당신, 고백, 역시, 아무, 시골, 동료, 편지, 촬영, 과정, 영국, 오늘, 마침내, 지구, 마치, 자살, 뉴욕, 탈출, 무대, 주변, 학생, 열정, 발생, 고양이, 고민, 천재, 첫사랑, 더욱, 납치, 약속, 복수, 역사, 의문, 동네, 행복, 파티, 현재, 달리, 여정, 전설, \n",
      "\n",
      "일반영화를 대표하는 단어들:\n",
      "자신, 그녀, 영화제, 위해, 사람, 시작, 국제, 영화, 친구, 사랑, 남자, 이야기, 대한, 서울, 여자, 사건, 남편, 아이, 가족, 아버지, 다른, 마을, 시간, 엄마, 아들, 모든, 단편, 마음, 사실, 다시, 세계, 모습, 작품, 통해, 생각, 서로, 세상, 발견, 감독, 아내, 관계, 소녀, 사이, 하나, 우리, 애니메이션, 때문, 여성, 죽음, 과연, 점점, 인간, 생활, 한편, 결혼, 상황, 모두, 기억, 명의, 소년, 여행, 가장, 간다, 순간, 이제, 도시, 비밀, 학교, 과거, 가지, 이자, 경찰, 마지막, 미국, 동안, 전쟁, 주인공, 대해, 존재, 현실, 연출, 사고, 살인, 일상, 어머니, 계속, 사회, 인생, 다큐멘터리, 부문, 섹스, 최고, 바로, 동생, 의도, 하루, 위기, 계획, 정체, 한국, 이후, 조직, 회사, 보고, 부산, 아빠, 부부, 일본, 문제, 처음, 그것, 로부터, 독립, 운명, 감정, 음악, 경쟁, 무엇, 할머니, 결심, 거리, 누구, 혼자, 시절, 준비, 이상, 동료, 만난, 갑자기, 목숨, 과정, 소리, 부천, 이름, 제안, 여인, 지금, 도움, 살해, 역시, 현장, 지구, 촬영, 자기, 페스티벌, 발생, 그린, 이유, 사진, 도착, 자리, 미래, 복수, 학생, 환경, 매일, 경험, 지역, 다큐, 충격, 카메라, 공간, 행동, 중국, 또한, 선택, 방법, 공포, 영상, 대학, 납치, 상처, 배우, 판타스틱, 유혹, 병원, 인물, 상상, 애인, 노인, 할아버지, 공격, 가게, 대신, 게임, 위협, 연인, 매력, 변화, 형사, 고민, 고향, 진실, 노력, 전화, 잠시, 희망, 아무, 홀로, 현재, "
     ]
    }
   ],
   "source": [
    "m1 = X[0].tocoo()   # art를 TF-IDF로 표현한 sparse matrix를 가져옵니다. \n",
    "m2 = X[1].tocoo()   # gen을 TF-IDF로 표현한 sparse matrix를 가져옵니다. \n",
    "\n",
    "w1 = [[i, j] for i, j in zip(m1.col, m1.data)]\n",
    "w2 = [[i, j] for i, j in zip(m2.col, m2.data)]\n",
    "\n",
    "w1.sort(key=lambda x: x[1], reverse=True)   #art를 구성하는 단어들을 TF-IDF가 높은 순으로 정렬합니다. \n",
    "w2.sort(key=lambda x: x[1], reverse=True)   #gen을 구성하는 단어들을 TF-IDF가 높은 순으로 정렬합니다. \n",
    "\n",
    "print('예술영화를 대표하는 단어들:')\n",
    "for i in range(200):\n",
    "    print(vectorizer.get_feature_names()[w1[i][0]], end=', ')\n",
    "\n",
    "print('\\n')\n",
    "    \n",
    "print('일반영화를 대표하는 단어들:')\n",
    "for i in range(200):\n",
    "    print(vectorizer.get_feature_names()[w2[i][0]], end=', ')"
   ]
  },
  {
   "cell_type": "markdown",
   "id": "a526ffee",
   "metadata": {},
   "source": [
    "- 예술영화와 일반영화를 대표하는 단어가 중복되는 것들이 많은 것을 확인할 수 있다."
   ]
  },
  {
   "cell_type": "markdown",
   "id": "0e3c79a1",
   "metadata": {},
   "source": [
    "두 개념축이 대조되도록 대표하는 단어 셋을 만들어야 하기에, 중복되는 단어를 제외하고 상위 n개의 단어를 추출해보자."
   ]
  },
  {
   "cell_type": "code",
   "execution_count": 26,
   "id": "2959a03d",
   "metadata": {},
   "outputs": [],
   "source": [
    "n = 30\n",
    "w1_, w2_ = [], []\n",
    "for i in range(200):\n",
    "    w1_.append(vectorizer.get_feature_names()[w1[i][0]])\n",
    "    w2_.append(vectorizer.get_feature_names()[w2[i][0]])\n",
    "\n",
    "# w1에만 있고 w2에는 없는, 예술영화를 잘 대표하는 단어를 15개 추출한다.\n",
    "target_art, target_gen = [], []\n",
    "for i in range(200):\n",
    "    if (w1_[i] not in w2_) and (w1_[i] in model.wv): target_art.append(w1_[i])\n",
    "    if len(target_art) == n: break \n",
    "\n",
    "# w2에만 있고 w1에는 없는, 일반영화를 잘 대표하는 단어를 15개 추출한다.\n",
    "for i in range(200):\n",
    "    if (w2_[i] not in w1_) and (w2_[i] in model.wv): target_gen.append(w2_[i])\n",
    "    if len(target_gen) == n: break"
   ]
  },
  {
   "cell_type": "markdown",
   "id": "e7896db9",
   "metadata": {},
   "source": [
    "추출된 단어를 확인해보자."
   ]
  },
  {
   "cell_type": "code",
   "execution_count": 27,
   "id": "f115e507",
   "metadata": {},
   "outputs": [
    {
     "name": "stdout",
     "output_type": "stream",
     "text": [
      "['청년', '프랑스', '만남', '파리', '혼란', '작가', '마주', '노래', '갈등', '소식', '공연', '연애', '여자친구', '소개', '낯선', '찾기', '당신', '고백', '시골', '편지', '영국', '오늘', '마침내', '마치', '자살', '뉴욕', '탈출', '무대', '주변', '열정']\n"
     ]
    }
   ],
   "source": [
    "print(target_art)"
   ]
  },
  {
   "cell_type": "code",
   "execution_count": 28,
   "id": "f4ecc178",
   "metadata": {},
   "outputs": [
    {
     "name": "stdout",
     "output_type": "stream",
     "text": [
      "['애니메이션', '연출', '부문', '섹스', '의도', '부산', '그것', '독립', '경쟁', '소리', '부천', '살해', '현장', '자기', '페스티벌', '사진', '환경', '경험', '지역', '다큐', '카메라', '공간', '행동', '중국', '또한', '방법', '공포', '영상', '대학', '판타스틱']\n"
     ]
    }
   ],
   "source": [
    "print(target_gen)"
   ]
  },
  {
   "cell_type": "markdown",
   "id": "f527339b",
   "metadata": {},
   "source": [
    "## 3.2 영화 장르 데이터의 단어 셋"
   ]
  },
  {
   "cell_type": "markdown",
   "id": "0916f95b",
   "metadata": {},
   "source": [
    "전체 장르별 대표 단어를 추출해보자."
   ]
  },
  {
   "cell_type": "code",
   "execution_count": 29,
   "id": "0ba6ac12",
   "metadata": {},
   "outputs": [],
   "source": [
    "genre_txt = ['synopsis_SF.txt', 'synopsis_family.txt', 'synopsis_show.txt', 'synopsis_horror.txt', 'synopsis_etc.txt', \n",
    "             'synopsis_documentary.txt', 'synopsis_drama.txt', 'synopsis_romance.txt', 'synopsis_musical.txt', \n",
    "             'synopsis_mystery.txt', 'synopsis_crime.txt', 'synopsis_historical.txt', 'synopsis_western.txt', \n",
    "             'synopsis_adult.txt', 'synopsis_thriller.txt', 'synopsis_animation.txt', 'synopsis_action.txt', \n",
    "             'synopsis_adventure.txt', 'synopsis_war.txt', 'synopsis_comedy.txt', 'synopsis_fantasy.txt']\n",
    "genre_name = ['SF', '가족', '공연', '공포(호러)', '기타', '다큐멘터리', '드라마', '멜로로맨스', '뮤지컬', '미스터리', '범죄', '사극', '서부극(웨스턴)',\n",
    "         '성인물(에로)', '스릴러', '애니메이션', '액션', '어드벤처', '전쟁', '코미디', '판타지']"
   ]
  },
  {
   "cell_type": "markdown",
   "id": "6005034e",
   "metadata": {},
   "source": [
    "`read_token` 함수를 사용하여 품사가 명사인 경우만을 추출하여 `genre` 변수에 할당하자."
   ]
  },
  {
   "cell_type": "code",
   "execution_count": 30,
   "id": "8b22d0e6",
   "metadata": {},
   "outputs": [
    {
     "name": "stdout",
     "output_type": "stream",
     "text": [
      "synopsis_SF.txt 파일을 읽고 있습니다.\n",
      "synopsis_family.txt 파일을 읽고 있습니다.\n",
      "synopsis_show.txt 파일을 읽고 있습니다.\n",
      "synopsis_horror.txt 파일을 읽고 있습니다.\n",
      "synopsis_etc.txt 파일을 읽고 있습니다.\n",
      "synopsis_documentary.txt 파일을 읽고 있습니다.\n",
      "synopsis_drama.txt 파일을 읽고 있습니다.\n",
      "synopsis_romance.txt 파일을 읽고 있습니다.\n",
      "synopsis_musical.txt 파일을 읽고 있습니다.\n",
      "synopsis_mystery.txt 파일을 읽고 있습니다.\n",
      "synopsis_crime.txt 파일을 읽고 있습니다.\n",
      "synopsis_historical.txt 파일을 읽고 있습니다.\n",
      "synopsis_western.txt 파일을 읽고 있습니다.\n",
      "synopsis_adult.txt 파일을 읽고 있습니다.\n",
      "synopsis_thriller.txt 파일을 읽고 있습니다.\n",
      "synopsis_animation.txt 파일을 읽고 있습니다.\n",
      "synopsis_action.txt 파일을 읽고 있습니다.\n",
      "synopsis_adventure.txt 파일을 읽고 있습니다.\n",
      "synopsis_war.txt 파일을 읽고 있습니다.\n",
      "synopsis_comedy.txt 파일을 읽고 있습니다.\n",
      "synopsis_fantasy.txt 파일을 읽고 있습니다.\n"
     ]
    }
   ],
   "source": [
    "# ⏳ 시간이 꽤나 걸림.....333\n",
    "genre = []\n",
    "for file_name in genre_txt:\n",
    "    genre.append(read_token(file_name))"
   ]
  },
  {
   "cell_type": "markdown",
   "id": "8db1020d",
   "metadata": {},
   "source": [
    "`TF-IDF 방식`으로 장르 별 대표 단어셋을 구성해보자"
   ]
  },
  {
   "cell_type": "code",
   "execution_count": 31,
   "id": "1a26ef54",
   "metadata": {},
   "outputs": [
    {
     "name": "stdout",
     "output_type": "stream",
     "text": [
      "(21, 42191)\n"
     ]
    }
   ],
   "source": [
    "vectorizer = TfidfVectorizer()\n",
    "X = vectorizer.fit_transform(genre)\n",
    "\n",
    "print(X.shape)"
   ]
  },
  {
   "cell_type": "markdown",
   "id": "a30abc65",
   "metadata": {},
   "source": [
    "TF-IDF가 높은 순으로 정렬된 각 장르 별 단어셋의 단어들을 출력해보자."
   ]
  },
  {
   "cell_type": "code",
   "execution_count": 32,
   "id": "7135431c",
   "metadata": {},
   "outputs": [
    {
     "name": "stdout",
     "output_type": "stream",
     "text": [
      "SF: 위해, 자신, 지구, 시작, 사람, 인류, 인간, 미래, 우주, 그녀, 로봇, 세계, 모든, 박사, 우주선, 외계, 존재, 세상, 발견, 행성, 정체, 친구, 비밀, 사실, 기억, 전쟁, 사건, 시간, 공격, 영화, \n",
      "가족: 엄마, 아빠, 가족, 영화제, 자신, 위해, 친구, 아주르, 아버지, 시작, 그녀, 아들, 마을, 국제, 낙타, 할머니, 씨제이, 동구, 사랑, 아이, 사람, 학교, 세상, 소년, 슈이트, 이야기, 가장, 어머니, 마갈, 소녀, \n",
      "공연: 오페라, 사랑, 토스카, 실황, 올레, 자신, 카바, 그녀, 공연, 오텔로, 리골레토, 백작, 프레, 베르디, 위해, 카르피, 비바, 왕자, 콘서트, 백작부인, 반니, 아리아, 미노, 차이코프스키, 라다, 무대, 도시, 공작, 리코, 시작, \n",
      "공포(호러): 시작, 위해, 사람, 자신, 친구, 그녀, 사건, 공포, 발견, 죽음, 마을, 가족, 악령, 남자, 좀비, 영화, 사실, 소녀, 하나, 살인, 이야기, 비밀, 아이, 정체, 저주, 살해, 영화제, 여자, 모든, 의문, \n",
      "기타: 영화제, 국제, 서울, 단편, 영화, 자신, 사람, 이야기, 그녀, 남자, 위해, 시작, 사랑, 뉴미디어, 페스티벌, 여자, 대한, 독립, 친구, 작품, 엄마, 통해, 아시아나, 다른, 우리, 연출, 소녀, 모습, 아이, 시간, \n",
      "다큐멘터리: 영화제, 영화, 다큐, 국제, 다큐멘터리, 사람, 이야기, 대한, 자신, 감독, 위해, 서울, 우리, 시작, 세계, 통해, 그녀, 여성, 가족, 한국, 작품, 환경, 사회, 모습, 아이, 마을, 노동자, 세상, 가장, 기록, \n",
      "드라마: 자신, 영화제, 그녀, 사람, 사랑, 영화, 위해, 시작, 국제, 남자, 친구, 이야기, 엄마, 여자, 아버지, 가족, 단편, 서울, 대한, 아들, 마음, 아이, 남편, 서로, 시간, 소녀, 세상, 감독, 다른, 모든, \n",
      "멜로로맨스: 그녀, 사랑, 자신, 시작, 남편, 남자, 여자, 사람, 친구, 섹스, 위해, 마음, 결혼, 서로, 아내, 관계, 부부, 엄마, 아버지, 사실, 영화, 점점, 다시, 회사, 시간, 사이, 생활, 유혹, 다른, 아들, \n",
      "뮤지컬: 뮤지컬, 사랑, 에스메랄다, 그녀, 음악, 충무로, 모차르트, 영화, 토스카, 자신, 니웨, 카바, 영화제, 바흐, 페뷔스, 프롤, 모도, 카르피, 시작, 제루샤, 샤오캉, 위해, 데이비, 팬텀, 최고, 크리스틴, 애니, 노트르담, 라훌, 공연, \n",
      "미스터리: 사건, 그녀, 시작, 자신, 위해, 사람, 발견, 사고, 진실, 죽음, 기억, 살인, 친구, 아내, 남자, 아이, 민혁, 사실, 의문, 미스터리, 형사, 하나, 비밀, 영화, 마을, 이야기, 모든, 경찰, 현우, 발생, \n",
      "범죄: 사건, 위해, 자신, 경찰, 시작, 그녀, 범죄, 조직, 살인, 사람, 마약, 형사, 남자, 모든, 살해, 수사, 발견, 한길수, 범인, 계획, 은행, 작전, 여자, 아버지, 사실, 동료, 영화, 다시, 보스, 친구, \n",
      "사극: 조선, 위해, 시작, 신기전, 사랑, 자신, 아가멤논, 황제, 그녀, 루안, 최고, 운명, 사람, 하선, 전쟁, 윤서, 트로이, 세자, 허균, 노준, 채선, 신재효, 히파티아, 권력, 아킬레스, 양반, 정조, 광해군, 브리튼, 독립군, \n",
      "서부극(웨스턴): 서부, 보안관, 위해, 벌린, 카우보이, 그레이프바인, 헨리, 마을, 자신, 개릿, 아이, 시작, 무법자, 프린트, 마적, 태구, 현상금, 분노, 버질, 랜던, 스탠리, 가족, 제임스, 복수, 아내, 사람, 교수형, 장고, 만도, 듀발, \n",
      "성인물(에로): 그녀, 남편, 마사지, 자신, 섹스, 관계, 영화, 정사, 남자, 위해, 시작, 여자, 유부녀, 마음, 사랑, 에피소드, 그린, 아내, 다시, 자위, 이야기, 회사, 친구, 불륜, 사실, 결혼, 욕구, 때문, 유이, 모습, \n",
      "스릴러: 자신, 그녀, 사건, 시작, 위해, 사람, 살인, 남자, 발견, 아내, 경찰, 친구, 모든, 사실, 살해, 가족, 형사, 점점, 비밀, 사랑, 여자, 사고, 범인, 아들, 남편, 마을, 죽음, 진실, 충격, 다른, \n",
      "애니메이션: 애니메이션, 국제, 영화제, 친구, 인디애니페스트, 위해, 자신, 시작, 사람, 페스티벌, 서울, 이야기, 아이, 마을, 소녀, 세계, 세상, 애니, 단편, 남자, 그녀, 소년, 부문, 과연, 작품, 만화, 사랑, 인간, 도롱, 부천, \n",
      "액션: 위해, 자신, 시작, 조직, 사건, 사람, 그녀, 경찰, 전쟁, 모든, 목숨, 사실, 친구, 가족, 요원, 임무, 범죄, 세계, 살인, 한편, 아버지, 복수, 죽음, 아들, 마약, 비밀, 납치, 남자, 다시, 보스, \n",
      "어드벤처: 위해, 자신, 시작, 친구, 마을, 아버지, 영화, 아이, 사람, 여행, 세계, 앤트, 세상, 가족, 모험, 비밀, 대한, 이야기, 모든, 소년, 여정, 모두, 인간, 발견, 영화제, 한편, 옥자, 남자, 그녀, 도시, \n",
      "전쟁: 전쟁, 독일군, 전투, 위해, 작전, 시작, 부대, 윈터스, 독일, 연합군, 미군, 임무, 자신, 사람, 나치, 병사, 공격, 이지중대, 혁리, 대원, 중위, 세계대전, 군인, 동막골, 대위, 프랑스, 영국, 미국, 목숨, 장군, \n",
      "코미디: 그녀, 자신, 시작, 위해, 사랑, 사람, 친구, 영화, 남자, 여자, 영화제, 가족, 과연, 마을, 사건, 이야기, 인생, 아이, 아버지, 마음, 모든, 생각, 결혼, 엄마, 서로, 생활, 다른, 코미디, 사실, 대한, \n",
      "판타지: 자신, 그녀, 시작, 위해, 사람, 사랑, 요괴, 영화제, 이야기, 영화, 소녀, 남자, 인간, 세상, 마을, 세계, 국제, 마법, 알렉스, 존재, 사건, 순영, 판타스틱, 친구, 아이, 모습, 여자, 모든, 부천, 서로, \n"
     ]
    }
   ],
   "source": [
    "m = [X[i].tocoo() for i in range(X.shape[0])]\n",
    "\n",
    "w = [[[i, j] for i, j in zip(mm.col, mm.data)] for mm in m]\n",
    "\n",
    "for i in range(len(w)):\n",
    "    w[i].sort(key=lambda x: x[1], reverse=True)\n",
    "attributes = []\n",
    "for i in range(len(w)):\n",
    "    print(genre_name[i], end=': ')\n",
    "    attr = []\n",
    "    j = 0\n",
    "    while (len(attr) < 30):\n",
    "        if vectorizer.get_feature_names()[w[i][j][0]] in model.wv:\n",
    "            attr.append(vectorizer.get_feature_names()[w[i][j][0]])\n",
    "            print(vectorizer.get_feature_names()[w[i][j][0]], end=', ')\n",
    "        j += 1\n",
    "    attributes.append(attr)\n",
    "    print()"
   ]
  },
  {
   "cell_type": "markdown",
   "id": "832317af",
   "metadata": {},
   "source": [
    "# Step 4. WEAT score 계산과 시각화\n",
    "---"
   ]
  },
  {
   "cell_type": "markdown",
   "id": "c5dbcc05",
   "metadata": {},
   "source": [
    "- 영화 구분, 영화 장르에 따른 편향성을 측정하여 WEAT score로 계산해보고 이를 Heatmap형태로 시각화해보자.\n",
    "- 편향성이 두드러지는 영화 장르 attribute 구성에는 어떤 케이스가 있는지 시각적으로 두드러지게 구성되면 더더욱 좋음😎😎"
   ]
  },
  {
   "cell_type": "markdown",
   "id": "70f2e682",
   "metadata": {},
   "source": [
    "> * target_X : art (예술영화)\n",
    "> * target_Y : gen (일반영화)\n",
    "> * attribute_A, attribute_B는 여러 장르를 바꿔가며 구해보기"
   ]
  },
  {
   "cell_type": "code",
   "execution_count": 33,
   "id": "1e846219",
   "metadata": {},
   "outputs": [
    {
     "name": "stdout",
     "output_type": "stream",
     "text": [
      "슝~\n"
     ]
    }
   ],
   "source": [
    "import numpy as np\n",
    "from numpy import dot\n",
    "from numpy.linalg import norm \n",
    "\n",
    "print(\"슝~\")"
   ]
  },
  {
   "attachments": {
    "image.png": {
     "image/png": "[encoded data removed]"
    }
   },
   "cell_type": "markdown",
   "id": "1fce7134",
   "metadata": {},
   "source": [
    "### 💡 WEAT score란?  \n",
    "![image.png](attachment:image.png)   \n",
    "- 두 벡터의 유사도를 측정하기 위해서 `cosine similarity(코사인 유사도)`를 이용한다.\n",
    "- target에 있는 단어가 두 attribute 셋에 속한 단어들과의 유사도의 평균(mean)값이 얼마나 차이 나는지 측정한다.\n",
    "- 개별단어가 개념축(attribute_A, B)에 대해 가지는 편향성을 계산한 값이다.\n",
    "- X, Y에 속하는 모든 단어들이 가지는 편향성의 값의 표준편차(std)로 normalize한 값이 최종 WEAT score가 된다."
   ]
  },
  {
   "cell_type": "markdown",
   "id": "9c4e9ea3",
   "metadata": {},
   "source": [
    "우선 `cosine similarity(코사인 유사도)`를 구하는 함수를 정의해보자."
   ]
  },
  {
   "cell_type": "code",
   "execution_count": 34,
   "id": "37c1cd46",
   "metadata": {},
   "outputs": [],
   "source": [
    "def cos_sim(i, j):\n",
    "    return dot(i, j.T)/(norm(i)*norm(j))"
   ]
  },
  {
   "cell_type": "markdown",
   "id": "8aa24282",
   "metadata": {},
   "source": [
    "`WEAT score` 공식에서 '분자'에 해당하는 부분을 계산하는 함수를 정의해보자."
   ]
  },
  {
   "cell_type": "code",
   "execution_count": 35,
   "id": "7b5d7be7",
   "metadata": {},
   "outputs": [],
   "source": [
    "def s(w, A, B):\n",
    "    c_a = cos_sim(w, A)\n",
    "    c_b = cos_sim(w, B)\n",
    "    mean_A = np.mean(c_a, axis=-1)\n",
    "    mean_B = np.mean(c_b, axis=-1)\n",
    "    return mean_A - mean_B  #, c_a, c_b"
   ]
  },
  {
   "cell_type": "markdown",
   "id": "6f3eaca7",
   "metadata": {},
   "source": [
    "`WEAT score` 전체를 구하는 함수를 정의해보자."
   ]
  },
  {
   "cell_type": "code",
   "execution_count": 36,
   "id": "dfce0259",
   "metadata": {},
   "outputs": [],
   "source": [
    "def weat_score(X, Y, A, B):\n",
    "    \n",
    "    s_X = s(X, A, B)\n",
    "    s_Y = s(Y, A, B)\n",
    "\n",
    "    mean_X = np.mean(s_X)\n",
    "    mean_Y = np.mean(s_Y)\n",
    "    \n",
    "    std_dev = np.std(np.concatenate([s_X, s_Y], axis=0))\n",
    "    \n",
    "    return  (mean_X-mean_Y)/std_dev"
   ]
  },
  {
   "cell_type": "markdown",
   "id": "1da70d38",
   "metadata": {},
   "source": [
    "`genre_name`의 길이(21x21)만큼 0으로 채운 매트릭스 형태로 표현한 `matrix`를 만들어보자.  \n",
    "(추후 구한 결과를 `matrix`라는 변수에 담을 예정이다.)"
   ]
  },
  {
   "cell_type": "code",
   "execution_count": 37,
   "id": "af899123",
   "metadata": {},
   "outputs": [
    {
     "data": {
      "text/plain": [
       "[[0, 0, 0, 0, 0, 0, 0, 0, 0, 0, 0, 0, 0, 0, 0, 0, 0, 0, 0, 0, 0],\n",
       " [0, 0, 0, 0, 0, 0, 0, 0, 0, 0, 0, 0, 0, 0, 0, 0, 0, 0, 0, 0, 0],\n",
       " [0, 0, 0, 0, 0, 0, 0, 0, 0, 0, 0, 0, 0, 0, 0, 0, 0, 0, 0, 0, 0],\n",
       " [0, 0, 0, 0, 0, 0, 0, 0, 0, 0, 0, 0, 0, 0, 0, 0, 0, 0, 0, 0, 0],\n",
       " [0, 0, 0, 0, 0, 0, 0, 0, 0, 0, 0, 0, 0, 0, 0, 0, 0, 0, 0, 0, 0],\n",
       " [0, 0, 0, 0, 0, 0, 0, 0, 0, 0, 0, 0, 0, 0, 0, 0, 0, 0, 0, 0, 0],\n",
       " [0, 0, 0, 0, 0, 0, 0, 0, 0, 0, 0, 0, 0, 0, 0, 0, 0, 0, 0, 0, 0],\n",
       " [0, 0, 0, 0, 0, 0, 0, 0, 0, 0, 0, 0, 0, 0, 0, 0, 0, 0, 0, 0, 0],\n",
       " [0, 0, 0, 0, 0, 0, 0, 0, 0, 0, 0, 0, 0, 0, 0, 0, 0, 0, 0, 0, 0],\n",
       " [0, 0, 0, 0, 0, 0, 0, 0, 0, 0, 0, 0, 0, 0, 0, 0, 0, 0, 0, 0, 0],\n",
       " [0, 0, 0, 0, 0, 0, 0, 0, 0, 0, 0, 0, 0, 0, 0, 0, 0, 0, 0, 0, 0],\n",
       " [0, 0, 0, 0, 0, 0, 0, 0, 0, 0, 0, 0, 0, 0, 0, 0, 0, 0, 0, 0, 0],\n",
       " [0, 0, 0, 0, 0, 0, 0, 0, 0, 0, 0, 0, 0, 0, 0, 0, 0, 0, 0, 0, 0],\n",
       " [0, 0, 0, 0, 0, 0, 0, 0, 0, 0, 0, 0, 0, 0, 0, 0, 0, 0, 0, 0, 0],\n",
       " [0, 0, 0, 0, 0, 0, 0, 0, 0, 0, 0, 0, 0, 0, 0, 0, 0, 0, 0, 0, 0],\n",
       " [0, 0, 0, 0, 0, 0, 0, 0, 0, 0, 0, 0, 0, 0, 0, 0, 0, 0, 0, 0, 0],\n",
       " [0, 0, 0, 0, 0, 0, 0, 0, 0, 0, 0, 0, 0, 0, 0, 0, 0, 0, 0, 0, 0],\n",
       " [0, 0, 0, 0, 0, 0, 0, 0, 0, 0, 0, 0, 0, 0, 0, 0, 0, 0, 0, 0, 0],\n",
       " [0, 0, 0, 0, 0, 0, 0, 0, 0, 0, 0, 0, 0, 0, 0, 0, 0, 0, 0, 0, 0],\n",
       " [0, 0, 0, 0, 0, 0, 0, 0, 0, 0, 0, 0, 0, 0, 0, 0, 0, 0, 0, 0, 0],\n",
       " [0, 0, 0, 0, 0, 0, 0, 0, 0, 0, 0, 0, 0, 0, 0, 0, 0, 0, 0, 0, 0]]"
      ]
     },
     "execution_count": 37,
     "metadata": {},
     "output_type": "execute_result"
    }
   ],
   "source": [
    "matrix = [[0 for _ in range(len(genre_name))] for _ in range(len(genre_name))]\n",
    "matrix"
   ]
  },
  {
   "cell_type": "markdown",
   "id": "dfbf1e6f",
   "metadata": {},
   "source": [
    "각 영화 장르 별로 구한 `WEAT score`의 값을 `matrix`에 각각 할당한다."
   ]
  },
  {
   "cell_type": "code",
   "execution_count": 38,
   "id": "b688ed57",
   "metadata": {},
   "outputs": [
    {
     "name": "stdout",
     "output_type": "stream",
     "text": [
      "슝~\n"
     ]
    }
   ],
   "source": [
    "X = np.array([model.wv[word] for word in target_art])\n",
    "Y = np.array([model.wv[word] for word in target_gen])\n",
    "\n",
    "for i in range(len(genre_name)-1):\n",
    "    for j in range(i+1, len(genre_name)):\n",
    "        A = np.array([model.wv[word] for word in attributes[i]])\n",
    "        B = np.array([model.wv[word] for word in attributes[j]])\n",
    "        matrix[i][j] = weat_score(X, Y, A, B)\n",
    "\n",
    "print(\"슝~\")"
   ]
  },
  {
   "cell_type": "markdown",
   "id": "94757451",
   "metadata": {},
   "source": [
    "2개의 장르의 WEAT score값을 확인해보자.  \n",
    "(WEAT score가 0.8이상, -0.8이하인 경우만 해석해보자.)"
   ]
  },
  {
   "cell_type": "code",
   "execution_count": 39,
   "id": "bafdd935",
   "metadata": {
    "scrolled": true
   },
   "outputs": [
    {
     "name": "stdout",
     "output_type": "stream",
     "text": [
      "[ attribute_A = SF ]\n",
      "SF 가족 -0.6840973\n",
      "SF 공연 -0.22837058\n",
      "SF 공포(호러) -0.63134253\n",
      "SF 기타 0.16323732\n",
      "SF 다큐멘터리 0.43466058\n",
      "SF 드라마 -0.39670128\n",
      "SF 멜로로맨스 -0.68137467\n",
      "SF 뮤지컬 0.12089364\n",
      "SF 미스터리 -0.59317946\n",
      "SF 범죄 -0.40984476\n",
      "SF 사극 -0.4179877\n",
      "SF 서부극(웨스턴) -0.735032\n",
      "SF 성인물(에로) -0.47254282\n",
      "SF 스릴러 -0.68037415\n",
      "SF 애니메이션 0.29276502\n",
      "SF 액션 -0.64352566\n",
      "SF 어드벤처 -0.5641318\n",
      "SF 전쟁 0.0378266\n",
      "SF 코미디 -0.5906137\n",
      "SF 판타지 -0.023027727\n",
      "----------------\n",
      "[ attribute_A = 가족 ]\n",
      "가족 공연 0.50055444\n",
      "가족 공포(호러) 0.33837643\n",
      "가족 기타 0.92159605\n",
      "가족 다큐멘터리 0.99032354\n",
      "가족 드라마 0.5832831\n",
      "가족 멜로로맨스 -0.28719684\n",
      "가족 뮤지컬 0.7169252\n",
      "가족 미스터리 0.16835518\n",
      "가족 범죄 0.24566297\n",
      "가족 사극 0.56199515\n",
      "가족 서부극(웨스턴) 0.1631292\n",
      "가족 성인물(에로) -0.041085184\n",
      "가족 스릴러 -0.097397976\n",
      "가족 애니메이션 0.8978208\n",
      "가족 액션 0.05608533\n",
      "가족 어드벤처 0.66461265\n",
      "가족 전쟁 0.4907674\n",
      "가족 코미디 0.28021502\n",
      "가족 판타지 0.9798672\n",
      "----------------\n",
      "[ attribute_A = 공연 ]\n",
      "공연 공포(호러) -0.11578396\n",
      "공연 기타 0.7562325\n",
      "공연 다큐멘터리 0.94873244\n",
      "공연 드라마 -0.17021947\n",
      "공연 멜로로맨스 -0.49279577\n",
      "공연 뮤지컬 0.9820075\n",
      "공연 미스터리 -0.16780543\n",
      "공연 범죄 -0.10405621\n",
      "공연 사극 -0.102541596\n",
      "공연 서부극(웨스턴) -0.35143095\n",
      "공연 성인물(에로) -0.3368123\n",
      "공연 스릴러 -0.31276155\n",
      "공연 애니메이션 1.0210425\n",
      "공연 액션 -0.24343203\n",
      "공연 어드벤처 -0.07037095\n",
      "공연 전쟁 0.25753263\n",
      "공연 코미디 -0.29840383\n",
      "공연 판타지 0.39111373\n",
      "----------------\n",
      "[ attribute_A = 공포(호러) ]\n",
      "공포(호러) 기타 0.46316543\n",
      "공포(호러) 다큐멘터리 0.6250687\n",
      "공포(호러) 드라마 0.022745712\n",
      "공포(호러) 멜로로맨스 -0.5601908\n",
      "공포(호러) 뮤지컬 0.36154452\n",
      "공포(호러) 미스터리 -0.33611822\n",
      "공포(호러) 범죄 0.00012805614\n",
      "공포(호러) 사극 0.10991672\n",
      "공포(호러) 서부극(웨스턴) -0.3256552\n",
      "공포(호러) 성인물(에로) -0.27409032\n",
      "공포(호러) 스릴러 -0.6313545\n",
      "공포(호러) 애니메이션 0.5048386\n",
      "공포(호러) 액션 -0.31376934\n",
      "공포(호러) 어드벤처 0.13356417\n",
      "공포(호러) 전쟁 0.28859928\n",
      "공포(호러) 코미디 -0.1935832\n",
      "공포(호러) 판타지 0.45283422\n",
      "----------------\n",
      "[ attribute_A = 기타 ]\n",
      "기타 다큐멘터리 0.6372389\n",
      "기타 드라마 -0.9012829\n",
      "기타 멜로로맨스 -0.79706043\n",
      "기타 뮤지컬 -0.026519444\n",
      "기타 미스터리 -0.45284542\n",
      "기타 범죄 -0.36881402\n",
      "기타 사극 -0.6566366\n",
      "기타 서부극(웨스턴) -0.6605064\n",
      "기타 성인물(에로) -0.6769305\n",
      "기타 스릴러 -0.5461965\n",
      "기타 애니메이션 0.40586436\n",
      "기타 액션 -0.4743761\n",
      "기타 어드벤처 -0.6510388\n",
      "기타 전쟁 -0.088530645\n",
      "기타 코미디 -0.8099805\n",
      "기타 판타지 -0.43077785\n",
      "----------------\n",
      "[ attribute_A = 다큐멘터리 ]\n",
      "다큐멘터리 드라마 -0.88226795\n",
      "다큐멘터리 멜로로맨스 -0.8019931\n",
      "다큐멘터리 뮤지컬 -0.4912446\n",
      "다큐멘터리 미스터리 -0.59441096\n",
      "다큐멘터리 범죄 -0.51501215\n",
      "다큐멘터리 사극 -0.8809835\n",
      "다큐멘터리 서부극(웨스턴) -0.8086967\n",
      "다큐멘터리 성인물(에로) -0.69411224\n",
      "다큐멘터리 스릴러 -0.64475936\n",
      "다큐멘터리 애니메이션 -0.22815357\n",
      "다큐멘터리 액션 -0.613125\n",
      "다큐멘터리 어드벤처 -0.9039661\n",
      "다큐멘터리 전쟁 -0.32676694\n",
      "다큐멘터리 코미디 -0.8564141\n",
      "다큐멘터리 판타지 -0.7121932\n",
      "----------------\n",
      "[ attribute_A = 드라마 ]\n",
      "드라마 멜로로맨스 -0.6770073\n",
      "드라마 뮤지컬 0.5359578\n",
      "드라마 미스터리 -0.113029234\n",
      "드라마 범죄 -0.015889846\n",
      "드라마 사극 0.12582482\n",
      "드라마 서부극(웨스턴) -0.26800385\n",
      "드라마 성인물(에로) -0.39039633\n",
      "드라마 스릴러 -0.31970617\n",
      "드라마 애니메이션 0.7493668\n",
      "드라마 액션 -0.1793977\n",
      "드라마 어드벤처 0.12898916\n",
      "드라마 전쟁 0.26416394\n",
      "드라마 코미디 -0.5159509\n",
      "드라마 판타지 0.8961089\n",
      "----------------\n",
      "[ attribute_A = 멜로로맨스 ]\n",
      "멜로로맨스 뮤지컬 0.64015275\n",
      "멜로로맨스 미스터리 0.44166246\n",
      "멜로로맨스 범죄 0.47572467\n",
      "멜로로맨스 사극 0.541105\n",
      "멜로로맨스 서부극(웨스턴) 0.35312545\n",
      "멜로로맨스 성인물(에로) 0.5816686\n",
      "멜로로맨스 스릴러 0.17852677\n",
      "멜로로맨스 애니메이션 0.73758966\n",
      "멜로로맨스 액션 0.28041437\n",
      "멜로로맨스 어드벤처 0.5415393\n",
      "멜로로맨스 전쟁 0.4612136\n",
      "멜로로맨스 코미디 0.6445639\n",
      "멜로로맨스 판타지 0.8043822\n",
      "----------------\n",
      "[ attribute_A = 뮤지컬 ]\n",
      "뮤지컬 미스터리 -0.3723782\n",
      "뮤지컬 범죄 -0.33269736\n",
      "뮤지컬 사극 -0.5668284\n",
      "뮤지컬 서부극(웨스턴) -0.5757189\n",
      "뮤지컬 성인물(에로) -0.53792584\n",
      "뮤지컬 스릴러 -0.4658358\n",
      "뮤지컬 애니메이션 0.5416494\n",
      "뮤지컬 액션 -0.4326497\n",
      "뮤지컬 어드벤처 -0.44206864\n",
      "뮤지컬 전쟁 -0.09307394\n",
      "뮤지컬 코미디 -0.5585599\n",
      "뮤지컬 판타지 -0.21488915\n",
      "----------------\n",
      "[ attribute_A = 미스터리 ]\n",
      "미스터리 범죄 0.19536616\n",
      "미스터리 사극 0.18131006\n",
      "미스터리 서부극(웨스턴) -0.11920638\n",
      "미스터리 성인물(에로) -0.17609759\n",
      "미스터리 스릴러 -0.76907414\n",
      "미스터리 애니메이션 0.48962945\n",
      "미스터리 액션 -0.18951802\n",
      "미스터리 어드벤처 0.20351152\n",
      "미스터리 전쟁 0.32472163\n",
      "미스터리 코미디 -0.03095472\n",
      "미스터리 판타지 0.43475848\n",
      "----------------\n",
      "[ attribute_A = 범죄 ]\n",
      "범죄 사극 0.09186643\n",
      "범죄 서부극(웨스턴) -0.27969074\n",
      "범죄 성인물(에로) -0.24090502\n",
      "범죄 스릴러 -0.65928966\n",
      "범죄 애니메이션 0.43926808\n",
      "범죄 액션 -0.76862663\n",
      "범죄 어드벤처 0.08070758\n",
      "범죄 전쟁 0.30888423\n",
      "범죄 코미디 -0.12478116\n",
      "범죄 판타지 0.31577283\n",
      "----------------\n",
      "[ attribute_A = 사극 ]\n",
      "사극 서부극(웨스턴) -0.4735676\n",
      "사극 성인물(에로) -0.3287831\n",
      "사극 스릴러 -0.36325565\n",
      "사극 애니메이션 0.7589171\n",
      "사극 액션 -0.286868\n",
      "사극 어드벤처 -0.014016945\n",
      "사극 전쟁 0.31545085\n",
      "사극 코미디 -0.34223124\n",
      "사극 판타지 0.6410535\n",
      "----------------\n",
      "[ attribute_A = 서부극(웨스턴) ]\n",
      "서부극(웨스턴) 성인물(에로) -0.105497226\n",
      "서부극(웨스턴) 스릴러 -0.22231019\n",
      "서부극(웨스턴) 애니메이션 0.7168033\n",
      "서부극(웨스턴) 액션 -0.032887682\n",
      "서부극(웨스턴) 어드벤처 0.447513\n",
      "서부극(웨스턴) 전쟁 0.51859856\n",
      "서부극(웨스턴) 코미디 0.08926601\n",
      "서부극(웨스턴) 판타지 0.70795643\n",
      "----------------\n",
      "[ attribute_A = 성인물(에로) ]\n",
      "성인물(에로) 스릴러 -0.056932986\n",
      "성인물(에로) 애니메이션 0.63584083\n",
      "성인물(에로) 액션 0.07501819\n",
      "성인물(에로) 어드벤처 0.3144898\n",
      "성인물(에로) 전쟁 0.33995798\n",
      "성인물(에로) 코미디 0.24331893\n",
      "성인물(에로) 판타지 0.6017023\n",
      "----------------\n",
      "[ attribute_A = 스릴러 ]\n",
      "스릴러 애니메이션 0.5620976\n",
      "스릴러 액션 0.29199222\n",
      "스릴러 어드벤처 0.38673452\n",
      "스릴러 전쟁 0.42950055\n",
      "스릴러 코미디 0.25122997\n",
      "스릴러 판타지 0.5566405\n",
      "----------------\n",
      "[ attribute_A = 애니메이션 ]\n",
      "애니메이션 액션 -0.53420615\n",
      "애니메이션 어드벤처 -0.6811652\n",
      "애니메이션 전쟁 -0.25818762\n",
      "애니메이션 코미디 -0.72320044\n",
      "애니메이션 판타지 -0.51126903\n",
      "----------------\n",
      "[ attribute_A = 액션 ]\n",
      "액션 어드벤처 0.27091944\n",
      "액션 전쟁 0.4564796\n",
      "액션 코미디 0.07384287\n",
      "액션 판타지 0.46556318\n",
      "----------------\n",
      "[ attribute_A = 어드벤처 ]\n",
      "어드벤처 전쟁 0.27426323\n",
      "어드벤처 코미디 -0.38811773\n",
      "어드벤처 판타지 0.793436\n",
      "----------------\n",
      "[ attribute_A = 전쟁 ]\n",
      "전쟁 코미디 -0.34382463\n",
      "전쟁 판타지 -0.04732733\n",
      "----------------\n",
      "[ attribute_A = 코미디 ]\n",
      "코미디 판타지 0.91409695\n",
      "----------------\n"
     ]
    }
   ],
   "source": [
    "for i in range(len(genre_name)-1):\n",
    "    print('[ attribute_A =', genre_name[i], ']')\n",
    "    for j in range(i+1, len(genre_name)):\n",
    "        print(genre_name[i], genre_name[j],matrix[i][j])\n",
    "    print('----------------')"
   ]
  },
  {
   "cell_type": "code",
   "execution_count": 40,
   "id": "4134d18b",
   "metadata": {},
   "outputs": [
    {
     "data": {
      "image/png": "[encoded data removed]",
      "text/plain": [
       "<Figure size 1080x1080 with 2 Axes>"
      ]
     },
     "metadata": {},
     "output_type": "display_data"
    }
   ],
   "source": [
    "import numpy as np; \n",
    "import seaborn as sns; \n",
    "\n",
    "np.random.seed(0)\n",
    "\n",
    "# 한글 지원 폰트\n",
    "sns.set(font='NanumGothic')\n",
    "\n",
    "# 마이너스 부호 \n",
    "\n",
    "plt.rcParams['axes.unicode_minus'] = False\n",
    "plt.rcParams[\"figure.figsize\"] = (15,15)\n",
    "\n",
    "sns.heatmap(matrix, xticklabels=genre_name, yticklabels=genre_name, annot=True,  cmap='RdYlGn_r')\n",
    "\n",
    "plt.ylabel('attribute_A', fontsize = 15)\n",
    "plt.xlabel('attribute_B', fontsize = 15)\n",
    "\n",
    "plt.show()"
   ]
  },
  {
   "cell_type": "markdown",
   "id": "38f59671",
   "metadata": {},
   "source": [
    "# 😎 결과\n",
    "---"
   ]
  },
  {
   "cell_type": "markdown",
   "id": "34a8a4c6",
   "metadata": {},
   "source": [
    "## 수치에 대한 결과\n",
    "### `WEAT score`가 0.8, -0.8 이상인 것들만 따로 정리해보았다.\n",
    "가족 기타 0.92159605  \n",
    "가족 다큐멘터리 0.99032354  \n",
    "가족 애니메이션 0.8978208  \n",
    "가족 판타지 0.9798672  \n",
    "\n",
    "공연 다큐멘터리 0.94873244  \n",
    "공연 뮤지컬 0.9820075  \n",
    "\n",
    "기타 드라마 -0.9012829  \n",
    "기타 코미디 -0.8099805  \n",
    "\n",
    "다큐멘터리 드라마 -0.88226795  \n",
    "다큐멘터리 멜로로맨스 -0.8019931  \n",
    "다큐멘터리 사극 -0.8809835  \n",
    "다큐멘터리 서부극(웨스턴) -0.8086967  \n",
    "다큐멘터리 어드벤처 -0.9039661  \n",
    "다큐멘터리 코미디 -0.8564141  \n",
    "\n",
    "드라마 판타지 0.8961089\n",
    "\n",
    "멜로로맨스 판타지 0.8043822\n",
    "\n",
    "코미디 판타지 0.91409695  \n",
    "    \n",
    "    \n",
    "▶▶ 영화 구분 단어 셋과 장르 별 단어 셋의 갯수를 15개로 하였을 때보다 `WEAT score`가 높은 것이 많이 없는 것을 확인할 수 있다."
   ]
  },
  {
   "cell_type": "markdown",
   "id": "5ec54e27",
   "metadata": {},
   "source": [
    "| SF | 가족 | 공연 | 공포(호러) | 기타 | 다큐멘터리 | 드라마 | 멜로로맨스 | 뮤지컬 | 미스터리 | 범죄 | 사극 | 서부극(웨스턴) | 성인물(에로) | 애니메이션 | 액션 | 어드벤처 | 전쟁 | 코미디 | 판타지 |\n",
    "| --- | --- | --- | --- | --- | --- | --- | --- | --- | --- | --- | --- | --- | --- | --- | --- | --- | --- | --- | --- |\n",
    "| - | 예술 | 예술 | - | 일반 | 일반 | 예술 | 예술 | - | - | - | 예술 | 예술 | - | 일반 | - | 예술 | - | 예술 | 일반 |\n",
    "\n",
    "- `WEAT score`가 높은 것이 많이 없다보니 각 장르 별 영화 구분을 확인하기 어려웠다.\n",
    "- 그만큼 확인하기 어려운 장르에 대한 편향성이 적다고 판단할 수 있다."
   ]
  }
 ],
 "metadata": {
  "kernelspec": {
   "display_name": "Python 3 (ipykernel)",
   "language": "python",
   "name": "python3"
  },
  "language_info": {
   "codemirror_mode": {
    "name": "ipython",
    "version": 3
   },
   "file_extension": ".py",
   "mimetype": "text/x-python",
   "name": "python",
   "nbconvert_exporter": "python",
   "pygments_lexer": "ipython3",
   "version": "3.9.7"
  }
 },
 "nbformat": 4,
 "nbformat_minor": 5
}
