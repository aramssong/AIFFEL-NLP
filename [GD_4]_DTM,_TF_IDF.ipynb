{
  "cells": [
    {
      "cell_type": "markdown",
      "metadata": {
        "id": "zFgJKAOvIM7x"
      },
      "source": [
        "# **[GD-4] Vocabulary Size 변경해서 시도해보기**\n",
        "---"
      ]
    },
    {
      "cell_type": "markdown",
      "source": [
        "# **🗼 목차**\n",
        "1. 라이브러리 불러오기\n",
        "2. 다양한 단어 갯수 사용하여 머신러닝 모델 학습\n",
        "3. 딥러닝 모델 학습 (RNN 모델)\n",
        "4. F1-Score, Confusion Matrix\n",
        "5. 🌞 회고\n",
        "\n",
        "    \n",
        "\n",
        "> Case 1. 모든 단어 사용  \n",
        "> Case 2. 빈도수 상위 5,000개의 단어 사용  \n",
        "> Case 3. 빈도수 상위 15,000개의 단어만 사용  \n",
        "> Case 4. 빈도수 상위 20,000개의 단어만 사용\n"
      ],
      "metadata": {
        "id": "DhVpQDLSm09X"
      }
    },
    {
      "cell_type": "markdown",
      "metadata": {
        "id": "3a9Ki2rqIc9d"
      },
      "source": [
        "# **라이브러리 불러오기**\n",
        "---"
      ]
    },
    {
      "cell_type": "code",
      "execution_count": 1,
      "metadata": {
        "id": "O1PBA3ENJreY"
      },
      "outputs": [],
      "source": [
        "from tensorflow.keras.datasets import reuters\n",
        "import matplotlib.pyplot as plt\n",
        "import seaborn as sns\n",
        "import numpy as np\n",
        "import pandas as pd\n",
        "import tensorflow\n",
        "import sklearn"
      ]
    },
    {
      "cell_type": "markdown",
      "metadata": {
        "id": "eWnjZzv6MmCw"
      },
      "source": [
        "# **Case 1. 모든 단어 사용**\n",
        "---"
      ]
    },
    {
      "cell_type": "markdown",
      "metadata": {
        "id": "6JewZ3-3Twt5"
      },
      "source": [
        "## **1) 데이터 확인하기**"
      ]
    },
    {
      "cell_type": "markdown",
      "metadata": {
        "id": "Koye-5h9MtiK"
      },
      "source": [
        "텐서플로우 데이터셋으로부터 `로이터 뉴스 데이터`를 받아오자."
      ]
    },
    {
      "cell_type": "code",
      "execution_count": 2,
      "metadata": {
        "id": "0dLtamogJsI3"
      },
      "outputs": [],
      "source": [
        "(x_train, y_train), (x_test, y_test) = reuters.load_data(num_words=None, test_split=0.2)"
      ]
    },
    {
      "cell_type": "markdown",
      "metadata": {
        "id": "wNIT-RC_NfwW"
      },
      "source": [
        "- `num_words`는 데이터에서 빈도수 기준으로 상위 몇 번째 단어까지 사용할 것인지 조절한다.\n",
        "- 이 데이터의 단어들은 등장 빈도수가 높은 순서대로 낮은 정수가 맵핑되어 있다.\n",
        "- `num_words`로 주어진 값보다 큰 번호를 가졌던 단어들은 특정 번호로 전부 맵핑된다. 이는 OOV 문제와 연관이 있다."
      ]
    },
    {
      "cell_type": "code",
      "execution_count": 3,
      "metadata": {
        "id": "Qr5sCKUKMzy7",
        "colab": {
          "base_uri": "https://localhost:8080/"
        },
        "outputId": "61f1e3e6-99f3-4abe-ce37-61606db2d31e"
      },
      "outputs": [
        {
          "output_type": "stream",
          "name": "stdout",
          "text": [
            "훈련 샘플의 수: 8982\n",
            "테스트 샘플의 수: 2246\n"
          ]
        }
      ],
      "source": [
        "print('훈련 샘플의 수: {}'.format(len(x_train)))\n",
        "print('테스트 샘플의 수: {}'.format(len(x_test)))"
      ]
    },
    {
      "cell_type": "markdown",
      "metadata": {
        "id": "KMMMZiHaNqHX"
      },
      "source": [
        "데이터를 출력해보자."
      ]
    },
    {
      "cell_type": "code",
      "execution_count": 4,
      "metadata": {
        "id": "DRz3s7eaNiRx",
        "colab": {
          "base_uri": "https://localhost:8080/"
        },
        "outputId": "0d5c2846-1e75-4ed6-f9f6-c62d236b84cd"
      },
      "outputs": [
        {
          "output_type": "stream",
          "name": "stdout",
          "text": [
            "[1, 27595, 28842, 8, 43, 10, 447, 5, 25, 207, 270, 5, 3095, 111, 16, 369, 186, 90, 67, 7, 89, 5, 19, 102, 6, 19, 124, 15, 90, 67, 84, 22, 482, 26, 7, 48, 4, 49, 8, 864, 39, 209, 154, 6, 151, 6, 83, 11, 15, 22, 155, 11, 15, 7, 48, 9, 4579, 1005, 504, 6, 258, 6, 272, 11, 15, 22, 134, 44, 11, 15, 16, 8, 197, 1245, 90, 67, 52, 29, 209, 30, 32, 132, 6, 109, 15, 17, 12]\n",
            "[1, 4, 1378, 2025, 9, 697, 4622, 111, 8, 25, 109, 29, 3650, 11, 150, 244, 364, 33, 30, 30, 1398, 333, 6, 18292, 159, 9, 1084, 363, 13, 19231, 71, 9, 16273, 71, 117, 4, 225, 78, 206, 10, 9, 1214, 8, 4, 270, 5, 16273, 7, 748, 48, 9, 19231, 7, 207, 1451, 966, 1864, 793, 97, 133, 336, 7, 4, 493, 98, 273, 104, 284, 25, 39, 338, 22, 905, 220, 3465, 644, 59, 20, 6, 119, 61, 11, 15, 58, 579, 26, 10, 67, 7, 4, 738, 98, 43, 88, 333, 722, 12, 20, 6, 19, 746, 35, 15, 10, 9, 1214, 855, 129, 783, 21, 4, 2280, 244, 364, 51, 16, 299, 452, 16, 515, 4, 99, 29, 5, 4, 364, 281, 48, 10, 9, 1214, 23, 644, 47, 20, 324, 27, 56, 23406, 28185, 5, 192, 510, 17, 12]\n"
          ]
        }
      ],
      "source": [
        "print(x_train[0])\n",
        "print(x_test[0])"
      ]
    },
    {
      "cell_type": "markdown",
      "metadata": {
        "id": "G6QYOO74N-dz"
      },
      "source": [
        "- 텍스트가 아닌 숫자 시퀀스가 출력되는 것을 확인할 수 있다.\n",
        "- 이미 뉴스 데이터를 다운로드할 때 단어가 아니라 맵핑된 번호로 변환되어서 출력된다.\n",
        "- 대부분 자연어 처리에서는 텍스트를 숫자로 수치화하는 과정이 필요한데, 텐서플로우 데이터셋에서는 이미 전처리를 한 데이터를 제공해준다."
      ]
    },
    {
      "cell_type": "markdown",
      "metadata": {
        "id": "rQm8wceyOV0j"
      },
      "source": [
        "첫 번째 훈련용 뉴스와 테스트용 뉴스의 레이블을 출력해보자."
      ]
    },
    {
      "cell_type": "code",
      "execution_count": 5,
      "metadata": {
        "id": "YURuRX6CNubt",
        "colab": {
          "base_uri": "https://localhost:8080/"
        },
        "outputId": "d3ec8267-bd42-4d69-b20c-cf4e48b48cd5"
      },
      "outputs": [
        {
          "output_type": "stream",
          "name": "stdout",
          "text": [
            "3\n",
            "3\n"
          ]
        }
      ],
      "source": [
        "print(y_train[0])\n",
        "print(y_test[0])"
      ]
    },
    {
      "cell_type": "markdown",
      "metadata": {
        "id": "jgXiP0ObOng2"
      },
      "source": [
        "해당 데이터의 클래스의 수를 확인해보자."
      ]
    },
    {
      "cell_type": "code",
      "execution_count": 6,
      "metadata": {
        "id": "cOTSy1iOOcnD",
        "colab": {
          "base_uri": "https://localhost:8080/"
        },
        "outputId": "003ead53-f4fe-4d6c-d7ce-b62df2214974"
      },
      "outputs": [
        {
          "output_type": "stream",
          "name": "stdout",
          "text": [
            "클래스의 수 : 46\n"
          ]
        }
      ],
      "source": [
        "num_classes = max(y_train) + 1       # 레이블이 0부터 시작하기에 갯수를 확인하기 위해서는 1을 더함\n",
        "print('클래스의 수 : {}'.format(num_classes))"
      ]
    },
    {
      "cell_type": "markdown",
      "metadata": {
        "id": "ma01D9GnQ9w-"
      },
      "source": [
        "데이터의 길이 분포를 히스토그램으로 확인해보자."
      ]
    },
    {
      "cell_type": "code",
      "execution_count": 7,
      "metadata": {
        "id": "kJ8IArBEOmqH",
        "colab": {
          "base_uri": "https://localhost:8080/",
          "height": 315
        },
        "outputId": "6d5a998c-5b7e-4c7f-fe8d-cc8ba54320a3"
      },
      "outputs": [
        {
          "output_type": "stream",
          "name": "stdout",
          "text": [
            "훈련용 뉴스의 최대 길이 :2376\n",
            "훈련용 뉴스의 평균 길이 :145.5398574927633\n"
          ]
        },
        {
          "output_type": "display_data",
          "data": {
            "text/plain": [
              "<Figure size 432x288 with 1 Axes>"
            ],
            "image/png": "[encoded data removed]"
          },
          "metadata": {
            "needs_background": "light"
          }
        }
      ],
      "source": [
        "print('훈련용 뉴스의 최대 길이 :{}'.format(max(len(l) for l in x_train)))\n",
        "print('훈련용 뉴스의 평균 길이 :{}'.format(sum(map(len, x_train))/len(x_train)))\n",
        "\n",
        "plt.hist([len(s) for s in x_train], bins=50)\n",
        "plt.xlabel('length of samples')\n",
        "plt.ylabel('number of samples')\n",
        "plt.show()"
      ]
    },
    {
      "cell_type": "markdown",
      "metadata": {
        "id": "VJchmfOVRPJp"
      },
      "source": [
        "우리가 맞춰야 하는 클래스의 분포를 확인해보자."
      ]
    },
    {
      "cell_type": "code",
      "execution_count": 8,
      "metadata": {
        "id": "CP04jj5ORBnl",
        "colab": {
          "base_uri": "https://localhost:8080/",
          "height": 320
        },
        "outputId": "878cc5d4-46b6-4dd4-998d-d7e98f6b48f8"
      },
      "outputs": [
        {
          "output_type": "display_data",
          "data": {
            "text/plain": [
              "<Figure size 792x360 with 1 Axes>"
            ],
            "image/png": "[encoded data removed]"
          },
          "metadata": {
            "needs_background": "light"
          }
        }
      ],
      "source": [
        "fig, axe = plt.subplots(ncols=1)\n",
        "\n",
        "fig.set_size_inches(11,5)\n",
        "sns.countplot(x=y_train)\n",
        "\n",
        "plt.show()"
      ]
    },
    {
      "cell_type": "markdown",
      "metadata": {
        "id": "BBS8vrqlRZC3"
      },
      "source": [
        "- 해당 데이터는 3번, 4번 클래스가 대부분을 차지한다."
      ]
    },
    {
      "cell_type": "markdown",
      "metadata": {
        "id": "6FXHAsPlRd3W"
      },
      "source": [
        "수치적으로 클래스 별 빈도수가 몇인지 확인해보자."
      ]
    },
    {
      "cell_type": "code",
      "execution_count": 9,
      "metadata": {
        "id": "CK2k7KGfRSey",
        "colab": {
          "base_uri": "https://localhost:8080/"
        },
        "outputId": "24489c77-760a-4a66-b99d-dc9edff36aa5"
      },
      "outputs": [
        {
          "output_type": "stream",
          "name": "stdout",
          "text": [
            "각 클래스 빈도수:\n",
            "[[   0    1    2    3    4    5    6    7    8    9   10   11   12   13\n",
            "    14   15   16   17   18   19   20   21   22   23   24   25   26   27\n",
            "    28   29   30   31   32   33   34   35   36   37   38   39   40   41\n",
            "    42   43   44   45]\n",
            " [  55  432   74 3159 1949   17   48   16  139  101  124  390   49  172\n",
            "    26   20  444   39   66  549  269  100   15   41   62   92   24   15\n",
            "    48   19   45   39   32   11   50   10   49   19   19   24   36   30\n",
            "    13   21   12   18]]\n"
          ]
        }
      ],
      "source": [
        "unique_elements, counts_elements = np.unique(y_train, return_counts=True) # return_counts가 True이면 각 고유 값의 개수 배열을 반환\n",
        "print(\"각 클래스 빈도수:\")\n",
        "print(np.asarray((unique_elements, counts_elements)))"
      ]
    },
    {
      "cell_type": "markdown",
      "metadata": {
        "id": "SnWrhFgiRkrE"
      },
      "source": [
        "- 3번, 4번 클래스가 각 3159, 1949로 빈도수가 높은 것을 수치적으로도 확인할 수 있다.\n",
        "- 16번, 19번 클래스도 각 444, 549로 3번, 4번 다음으로 빈도수가 높다."
      ]
    },
    {
      "cell_type": "markdown",
      "metadata": {
        "id": "-RVdk921UFeX"
      },
      "source": [
        "## **2) 데이터 복원하기**"
      ]
    },
    {
      "cell_type": "markdown",
      "metadata": {
        "id": "T-g9FRPTULKC"
      },
      "source": [
        "- 로이터 뉴스 데이터가 텍스트가 아닌 숫자 시퀀스로 출력되었다.\n",
        "- 정수 시퀀스로 변환된 데이터를 다시 텍스트로 복원하는 과정을 진행해보자."
      ]
    },
    {
      "cell_type": "markdown",
      "metadata": {
        "id": "qScocpAfRhQV"
      },
      "source": [
        "로이터 뉴스 데이터는 '단어'를 key값으로, 고유한 '정수'를 value로 가지는 dictionary를 제공하는데, 이것을 `word_index`로 저장해보자."
      ]
    },
    {
      "cell_type": "code",
      "execution_count": 10,
      "metadata": {
        "id": "mp-ogibDUzjo",
        "colab": {
          "base_uri": "https://localhost:8080/"
        },
        "outputId": "3fc75628-8b3b-42e7-d880-1f9a0a83d4bc"
      },
      "outputs": [
        {
          "output_type": "stream",
          "name": "stdout",
          "text": [
            "=3\n"
          ]
        }
      ],
      "source": [
        "word_index = reuters.get_word_index(path=\"reuters_word_index.json\")\n",
        "print('=3')"
      ]
    },
    {
      "cell_type": "markdown",
      "metadata": {
        "id": "IqD3RHzHVDf4"
      },
      "source": [
        "`word_index`는 해당 데이터의 단어장(Vocabulary)으로 단어를 입력하면 그 단어가 어떤 정수와 맵핑되는지 확인할 수 있다."
      ]
    },
    {
      "cell_type": "code",
      "execution_count": 11,
      "metadata": {
        "id": "f1p8kdY0U1uj",
        "colab": {
          "base_uri": "https://localhost:8080/"
        },
        "outputId": "1552260c-9e83-417c-b212-8531a497202f"
      },
      "outputs": [
        {
          "output_type": "execute_result",
          "data": {
            "text/plain": [
              "1"
            ]
          },
          "metadata": {},
          "execution_count": 11
        }
      ],
      "source": [
        "word_index['the']"
      ]
    },
    {
      "cell_type": "code",
      "execution_count": 12,
      "metadata": {
        "id": "UqjdfYynVKUP",
        "colab": {
          "base_uri": "https://localhost:8080/"
        },
        "outputId": "5a005d90-63b1-48e9-f8bd-ecc93feeedb9"
      },
      "outputs": [
        {
          "output_type": "execute_result",
          "data": {
            "text/plain": [
              "13"
            ]
          },
          "metadata": {},
          "execution_count": 12
        }
      ],
      "source": [
        "word_index['it']"
      ]
    },
    {
      "cell_type": "markdown",
      "metadata": {
        "id": "EocrbbyhVP0v"
      },
      "source": [
        "`word_index`에 입력으로 했을 때, 얻은 숫자보다는 +3을 한 숫자가 원래 고유한 숫자이기에 `word_index`에서 `index_word`를 만들 때 각 정수에 +3을 해주면 된다."
      ]
    },
    {
      "cell_type": "code",
      "execution_count": 13,
      "metadata": {
        "id": "dvfCfD3FVLR4",
        "colab": {
          "base_uri": "https://localhost:8080/"
        },
        "outputId": "5d51d8b9-e8e7-442b-b41d-f6e290997c99"
      },
      "outputs": [
        {
          "output_type": "stream",
          "name": "stdout",
          "text": [
            "=3\n"
          ]
        }
      ],
      "source": [
        "index_to_word = { index+3 : word for word, index in word_index.items() }\n",
        "print('=3')"
      ]
    },
    {
      "cell_type": "code",
      "execution_count": 14,
      "metadata": {
        "id": "I82A6Cv8N6MW",
        "colab": {
          "base_uri": "https://localhost:8080/"
        },
        "outputId": "a2bb428d-7dd4-4536-aad4-6181c23d5bd0"
      },
      "outputs": [
        {
          "output_type": "stream",
          "name": "stdout",
          "text": [
            "the\n",
            "it\n"
          ]
        }
      ],
      "source": [
        "print(index_to_word[4])\n",
        "print(index_to_word[16])"
      ]
    },
    {
      "cell_type": "markdown",
      "metadata": {
        "id": "ygOZUUMaOR5a"
      },
      "source": [
        "0번, 1번, 2번은 각각 `<pad>`, `<sos>`, `<unk>`라는 자연어 처리를 위한 특별한 토큰을 위해 맵핑된 번호이기에 `index_to_word`에 추가적으로 해당 작업을 해주어야 한다."
      ]
    },
    {
      "cell_type": "code",
      "execution_count": 15,
      "metadata": {
        "id": "0i2DSrVjN7uU",
        "colab": {
          "base_uri": "https://localhost:8080/"
        },
        "outputId": "8245d1aa-f3ab-4b30-8b1d-0b9a05540872"
      },
      "outputs": [
        {
          "output_type": "stream",
          "name": "stdout",
          "text": [
            "=3\n"
          ]
        }
      ],
      "source": [
        "for index, token in enumerate((\"<pad>\", \"<sos>\", \"<unk>\")):\n",
        "    index_to_word[index]=token\n",
        "print('=3')"
      ]
    },
    {
      "cell_type": "markdown",
      "metadata": {
        "id": "Q-hWCQcsOmdN"
      },
      "source": [
        "`index_to_word`를 통해 첫 번째 훈련용 뉴스 기사를 텍스트로 복원해보자."
      ]
    },
    {
      "cell_type": "code",
      "execution_count": 16,
      "metadata": {
        "id": "Jtt9J26FOayi",
        "colab": {
          "base_uri": "https://localhost:8080/"
        },
        "outputId": "62d033b8-ea8b-486b-ca11-eb7c4e029176"
      },
      "outputs": [
        {
          "output_type": "stream",
          "name": "stdout",
          "text": [
            "<sos> mcgrath rentcorp said as a result of its december acquisition of space co it expects earnings per share in 1987 of 1 15 to 1 30 dlrs per share up from 70 cts in 1986 the company said pretax net should rise to nine to 10 mln dlrs from six mln dlrs in 1986 and rental operation revenues to 19 to 22 mln dlrs from 12 5 mln dlrs it said cash flow per share this year should be 2 50 to three dlrs reuter 3\n"
          ]
        }
      ],
      "source": [
        "print(' '.join([index_to_word[index] for index in x_train[0]]))"
      ]
    },
    {
      "cell_type": "markdown",
      "metadata": {
        "id": "vkFRf-qhQNqV"
      },
      "source": [
        "- 데이터가 어느정도 전처리가 되어있는 상태라 자연스럽게 읽히지는 않는다.\n",
        "- 그러나 문맥을 가진 텍스트이기에 해당 데이터로 진행해도 된다."
      ]
    },
    {
      "cell_type": "markdown",
      "metadata": {
        "id": "B8GySitDQsYV"
      },
      "source": [
        "전체 훈련용 뉴스 데이터와 테스트용 뉴스 데이터를 텍스트 데이터로 변환해보자."
      ]
    },
    {
      "cell_type": "code",
      "execution_count": 17,
      "metadata": {
        "id": "6b8R2f9XOoOA",
        "colab": {
          "base_uri": "https://localhost:8080/"
        },
        "outputId": "93cd38b8-bed5-4404-c692-ccaca6b5a639"
      },
      "outputs": [
        {
          "output_type": "stream",
          "name": "stdout",
          "text": [
            "8982\n"
          ]
        }
      ],
      "source": [
        "decoded = []\n",
        "for i in range(len(x_train)):\n",
        "    t = ' '.join([index_to_word[index] for index in x_train[i]])\n",
        "    decoded.append(t)\n",
        "\n",
        "x_train = decoded\n",
        "print(len(x_train))"
      ]
    },
    {
      "cell_type": "code",
      "execution_count": 18,
      "metadata": {
        "id": "gnwVMdzeQwM9",
        "colab": {
          "base_uri": "https://localhost:8080/"
        },
        "outputId": "b5891868-d3d9-4789-a7e8-1635e0f1fd81"
      },
      "outputs": [
        {
          "output_type": "stream",
          "name": "stdout",
          "text": [
            "2246\n"
          ]
        }
      ],
      "source": [
        "decoded = []\n",
        "for i in range(len(x_test)):\n",
        "    t = ' '.join([index_to_word[index] for index in x_test[i]])\n",
        "    decoded.append(t)\n",
        "\n",
        "x_test = decoded\n",
        "print(len(x_test))"
      ]
    },
    {
      "cell_type": "code",
      "execution_count": 19,
      "metadata": {
        "id": "j7FdKjTqQxRw",
        "colab": {
          "base_uri": "https://localhost:8080/"
        },
        "outputId": "c2f49606-2524-485f-95a8-a5efc98e530b"
      },
      "outputs": [
        {
          "output_type": "execute_result",
          "data": {
            "text/plain": [
              "['<sos> mcgrath rentcorp said as a result of its december acquisition of space co it expects earnings per share in 1987 of 1 15 to 1 30 dlrs per share up from 70 cts in 1986 the company said pretax net should rise to nine to 10 mln dlrs from six mln dlrs in 1986 and rental operation revenues to 19 to 22 mln dlrs from 12 5 mln dlrs it said cash flow per share this year should be 2 50 to three dlrs reuter 3',\n",
              " \"<sos> generale de banque sa lt genb br and lt heller overseas corp of chicago have each taken 50 pct stakes in factoring company sa belgo factors generale de banque said in a statement it gave no financial details of the transaction sa belgo factors' turnover in 1986 was 17 5 billion belgian francs reuter 3\",\n",
              " '<sos> shr 3 28 dlrs vs 22 cts shr diluted 2 99 dlrs vs 22 cts net 46 0 mln vs 3 328 000 avg shrs 14 0 mln vs 15 2 mln year shr 5 41 dlrs vs 1 56 dlrs shr diluted 4 94 dlrs vs 1 50 dlrs net 78 2 mln vs 25 9 mln avg shrs 14 5 mln vs 15 1 mln note earnings per share reflect the two for one split effective january 6 1987 per share amounts are calculated after preferred stock dividends loss continuing operations for the qtr 1986 includes gains of sale of investments in enron corp of 14 mln dlrs and associated companies of 4 189 000 less writedowns of investments in national intergroup inc of 11 8 mln and brae corp of 15 6 mln reuter 3',\n",
              " \"<sos> the farmers home administration the u s agriculture department's farm lending arm could lose about seven billion dlrs in outstanding principal on its severely delinquent borrowers or about one fourth of its farm loan portfolio the general accounting office gao said in remarks prepared for delivery to the senate agriculture committee brian crowley senior associate director of gao also said that a preliminary analysis of proposed changes in fmha's financial eligibility standards indicated as many as one half of fmha borrowers who received new loans from the agency in 1986 would be ineligible under the proposed system the agency has proposed evaluating applicants' credit using a variety of financial ratios instead of relying solely on cashflow ability senate agriculture committee chairman patrick leahy d vt slammed the proposed eligibility changes telling fmha administrator vance clark at a hearing that they would mark a dramatic shift in the agency's purpose away from being farmers' lender of last resort toward becoming a big city bank but clark defended the new regulations saying the agency had a responsibility to administer its 70 billion dlr loan portfolio in a compassionate yet judicious manner crowley of gao congress' investigative arm said the proposed credit scoring system attempted to ensure that fmha would make loans only to borrowers who had a reasonable change of repaying their debt reuter 3\",\n",
              " '<sos> seton co said its board has received a proposal from chairman and chief executive officer philip d kaltenbacher to acquire seton for 15 75 dlrs per share in cash seton said the acquisition bid is subject to kaltenbacher arranging the necessary financing it said he intends to ask other members of senior management to participate the company said kaltenbacher owns 30 pct of seton stock and other management members another 7 5 pct seton said it has formed an independent board committee to consider the offer and has deferred the annual meeting it had scheduled for march 31 reuter 3']"
            ]
          },
          "metadata": {},
          "execution_count": 19
        }
      ],
      "source": [
        "x_train[:5]"
      ]
    },
    {
      "cell_type": "code",
      "execution_count": 20,
      "metadata": {
        "id": "_oPdcrT4QzVY",
        "colab": {
          "base_uri": "https://localhost:8080/"
        },
        "outputId": "eab66615-f3ae-4345-a8b1-0fc631c558a5"
      },
      "outputs": [
        {
          "output_type": "execute_result",
          "data": {
            "text/plain": [
              "['<sos> the great atlantic and pacific tea co said its three year 345 mln dlr capital program will be be substantially increased to accommodate growth and expansion plans for waldbaum inc and shopwell inc over the next two years a and p said the acquisition of shopwell in august 1986 and waldbaum in december helped us achieve better than expected results in the fourth quarter ended february 28 its net income from continuing operations jumped 52 6 pct to 20 7 mln dlrs or 55 cts a share in the latest quarter as sales increased 48 3 pct to 1 58 billion dlrs a and p gave no details on the expanded capital program but it did say it completed the first year of the program during 1986 a and p is 52 4 pct owned by lt tengelmann warenhandelsgesellschaft of west germany reuter 3',\n",
              " \"<sos> philippine sugar production in the 1987 88 crop year ending august has been set at 1 6 mln tonnes up from a provisional 1 3 mln tonnes this year sugar regulatory administration sra chairman arsenio yulo said yulo told reuters a survey during the current milling season which ends next month showed the 1986 87 estimate would almost certainly be met he said at least 1 2 mln tonnes of the 1987 88 crop would be earmarked for domestic consumption yulo said about 130 000 tonnes would be set aside for the u s sugar quota 150 000 tonnes for strategic reserves and 50 000 tonnes would be sold on the world market he said if the government approved a long standing sra recommendation to manufacture ethanol the project would take up another 150 000 tonnes slightly raising the target the government for its own reasons has been delaying approval of the project but we expect it to come through by july yulo said ethanol could make up five pct of gasoline cutting the oil import bill by about 300 mln pesos yulo said three major philippine distilleries were ready to start manufacturing ethanol if the project was approved the ethanol project would result in employment for about 100 000 people sharply reducing those thrown out of work by depressed world sugar prices and a moribund domestic industry production quotas set for the first time in 1987 88 had been submitted to president corazon aquino i think the president would rather wait till the new congress convenes after the may elections he said but there is really no need for such quotas we are right now producing just slightly over our own consumption level the producers have never enjoyed such high prices yulo said adding sugar was currently selling locally for 320 pesos per picul up from 190 pesos last august yulo said prices were driven up because of speculation following the sra's bid to control production we are no longer concerned so much with the world market he said adding producers in the negros region had learned from their mistakes and diversified into corn and prawn farming and cloth production he said diversification into products other than ethanol was also possible within the sugar industry the brazilians long ago learnt their lessons yulo said they have 300 sugar mills compared with our 41 but they relocated many of them and diversified production we want to call this a 'sugarcane industry' instead of the sugar industry he said sugarcane could be fed to pigs and livestock used for thatching roofs or used in room panelling when you cut sugarcane you don't even have to produce sugar he said yulo said the philippines was lobbying for a renewal of the international sugar agreement which expired in 1984 as a major sugar producer we are urging them to write a new agreement which would revive world prices yulo said if there is no agreement world prices will always be depressed particularly because the european community is subsidising its producers and dumping sugar on the markets he said current world prices holding steady at about 7 60 cents per pound were uneconomical for the philippines where production costs ranged from 12 to 14 cents a pound if the price holds steady for a while at 7 60 cents i expect the level to rise to about 11 cents a pound by the end of this year he said yulo said economists forecast a bullish sugar market by 1990 with world consumption outstripping production he said sugar markets were holding up despite encroachments from artificial sweeteners and high fructose corn syrup but we are not happy with the reagan administration he said since 1935 we have been regular suppliers of sugar to the u s in 1982 when they restored the quota system they cut ours in half without any justification manila was keenly watching washington's moves to cut domestic support prices to 12 cents a pound from 18 cents the u s agriculture department last december slashed its 12 month 1987 sugar import quota from the philippines to 143 780 short tons from 231 660 short tons in 1986 yulo said despite next year's increased production target some philippine mills were expected to shut down at least four of the 41 mills were not working during the 1986 87 season he said we expect two or three more to follow suit during the next season reuter 3\",\n",
              " \"<sos> the agriculture department's widening of louisiana gulf differentials will affect county posted prices for number two yellow corn in ten states a usda official said all counties in iowa will be affected as will counties which use the gulf to price corn in illinois indiana tennessee kentucky missouri mississippi arkansas alabama and louisiana said ron burgess deputy director of commodity operations division for the usda usda last night notified the grain industry that effective immediately all gulf differentials used to price interior corn would be widened on a sliding scale basis of four to eight cts depending on what the differential is usda's action was taken to lower excessively high posted county prices for corn caused by high gulf prices we've been following this louisiana gulf situation for a month and we don't think it's going to get back in line in any nearby time burgess said burgess said usda will probably narrow back the gulf differentials when and if gulf prices recede if we're off the mark now because we're too high wouldn't we be as much off the mark if we're too low he said while forecasting more adjustments if gulf prices fall burgess said no other changes in usda's price system are being planned right now we don't tinker we don't make changes lightly and we don't make changes often he said reuter 3\",\n",
              " '<sos> graham mccormick oil and gas partnership said it completed the sale of interests in two major oil and gas fields to lt energy assets international corp for 21 mln dlrs the company said it sold about one half of its 50 pct interest in the oak hill and north rucias fields its two largest producing properties it said it used about 20 mln dlrs of the proceeds to prepay principal on its senior secured notes semi annual principal payments on the remaining 40 mln dlrs of notes have been satisfied until december 1988 as a result it said the company said the note agreements were amended to reflect an easing of some financial covenants and an increase of interest to 13 5 pct from 13 0 pct until december 1990 it said the noteholders exercise price for 1 125 000 warrants was also reduced to 50 cts from 1 50 dlrs the company said energy assets agreed to share the costs of increasing production at the oak hill field reuter 3',\n",
              " '<sos> strong south easterly winds were keeping many vessels trapped in the ice off the finnish and swedish coasts in one of the worst icy periods in the baltic for many years the finnish board of navigation said in finland and sweden up to 50 vessels were reported to be stuck in the ice and even the largest of the assisting icebreakers were having difficulties in breaking through to the stranded ships coastguard officials said however icy conditions in the southern baltic at the soviet oil ports of ventspils and klaipeda had eased they said weather officials in neighbouring sweden said the icy conditions in the baltic were the worst for 30 years with ships fighting a losing battle to keep moving in the coastal stretches of the gulf of bothnia which divides finland and sweden the ice is up to one metre thick with drifts and currents packing it into almost impenetrable walls three metres high swedish coastguard officials said weather forecasts say winds may ease during the weekend but a further drop in temperature could bring shipping to a standstill the officials said reuter 3']"
            ]
          },
          "metadata": {},
          "execution_count": 20
        }
      ],
      "source": [
        "x_test[:5]"
      ]
    },
    {
      "cell_type": "markdown",
      "metadata": {
        "id": "Pe3lS0-OQ34x"
      },
      "source": [
        "## **3) 벡터화하기**"
      ]
    },
    {
      "cell_type": "markdown",
      "metadata": {
        "id": "im0-74bPRvW4"
      },
      "source": [
        "이번 실습에서는 머신러닝 방법을 사용하여 텍스트 분류를 진행할 것이기에 벡터화 방법도 인공 신경망이 아닌 방법을 사용한다.  \n",
        "Bag of Words 가설을 기반으로 하는 `DTM, TF-IDF 행렬`로 벡터화를 할 예정이다."
      ]
    },
    {
      "cell_type": "code",
      "execution_count": 21,
      "metadata": {
        "id": "kYTH8GY-Q0jk",
        "colab": {
          "base_uri": "https://localhost:8080/"
        },
        "outputId": "cf6b43d4-7bac-44ca-a394-16e5302bcbb8"
      },
      "outputs": [
        {
          "output_type": "stream",
          "name": "stdout",
          "text": [
            "=3\n"
          ]
        }
      ],
      "source": [
        "from sklearn.feature_extraction.text import CountVectorizer\n",
        "from sklearn.feature_extraction.text import TfidfTransformer\n",
        "print('=3')"
      ]
    },
    {
      "cell_type": "markdown",
      "metadata": {
        "id": "8_gQKD5eRyv3"
      },
      "source": [
        "`DTM`은 사이킷런의 `CountVectorizer()`를 통해서 생성할 수 있다."
      ]
    },
    {
      "cell_type": "code",
      "execution_count": 22,
      "metadata": {
        "id": "V5VTK1QhRxUH",
        "colab": {
          "base_uri": "https://localhost:8080/"
        },
        "outputId": "00e69bf2-4f02-4da0-db00-fc527e9926c0"
      },
      "outputs": [
        {
          "output_type": "stream",
          "name": "stdout",
          "text": [
            "(8982, 26506)\n"
          ]
        }
      ],
      "source": [
        "dtmvector = CountVectorizer()\n",
        "x_train_dtm = dtmvector.fit_transform(x_train)\n",
        "print(x_train_dtm.shape)"
      ]
    },
    {
      "cell_type": "markdown",
      "metadata": {
        "id": "0ljGI11iSSDr"
      },
      "source": [
        "- 훈련용 뉴스의 수가 8,982개였기에 DTM의 행의 개수는 8,982개이다."
      ]
    },
    {
      "cell_type": "markdown",
      "metadata": {
        "id": "TDZkRitcSXMB"
      },
      "source": [
        "`TF-IDF Matrix`는 사이킷런의 `TfidfTransformer()`를 통해 생성할 수 있다."
      ]
    },
    {
      "cell_type": "code",
      "execution_count": 23,
      "metadata": {
        "id": "-i4l3kj2R0nQ",
        "colab": {
          "base_uri": "https://localhost:8080/"
        },
        "outputId": "951d9b28-62bb-4771-f525-86a129cd6ac8"
      },
      "outputs": [
        {
          "output_type": "stream",
          "name": "stdout",
          "text": [
            "(8982, 26506)\n"
          ]
        }
      ],
      "source": [
        "tfidf_transformer = TfidfTransformer()\n",
        "tfidfv = tfidf_transformer.fit_transform(x_train_dtm)\n",
        "print(tfidfv.shape)"
      ]
    },
    {
      "cell_type": "markdown",
      "metadata": {
        "id": "fHCtBO34SccQ"
      },
      "source": [
        "- TF-IDF는 추가적인 전처리를 하지 않는 이상, DTM과 동일한 크기를 가진다."
      ]
    },
    {
      "cell_type": "markdown",
      "metadata": {
        "id": "3nn1Ia1TVC-9"
      },
      "source": [
        "## **4) 머신러닝 모델 학습**\n",
        "총 8개의 모델을 사용해서 학습 후 성능을 확인해보자.\n",
        "- 나이브 베이즈 분류기\n",
        "- CNB (Complement Naive Bayes Classifier)\n",
        "- 로지스틱 회귀 (Logistic Regression)\n",
        "- 선형 서포트 벡터 머신 (Linear Support Vector Machine)\n",
        "- 결정 트리 (Decision Tree)\n",
        "- 랜덤 포레스트 (Random Forest)\n",
        "- 그래디언트 부스팅 트리 (Gradient Boosting Classifier)\n",
        "- 보팅 (Voting)"
      ]
    },
    {
      "cell_type": "markdown",
      "metadata": {
        "id": "Itnd7FB0YF-f"
      },
      "source": [
        "### **4.1) 나이브 베이즈 분류기**"
      ]
    },
    {
      "cell_type": "code",
      "execution_count": 24,
      "metadata": {
        "id": "hchAkhZYSY-B",
        "colab": {
          "base_uri": "https://localhost:8080/"
        },
        "outputId": "054af997-b82f-4ff9-87a8-081704aec865"
      },
      "outputs": [
        {
          "output_type": "stream",
          "name": "stdout",
          "text": [
            "=3\n"
          ]
        }
      ],
      "source": [
        "from sklearn.naive_bayes import MultinomialNB #다항분포 나이브 베이즈 모델\n",
        "from sklearn.linear_model import LogisticRegression, SGDClassifier\n",
        "from sklearn.naive_bayes import ComplementNB\n",
        "from sklearn.tree import DecisionTreeClassifier\n",
        "from sklearn.ensemble import RandomForestClassifier\n",
        "from sklearn.ensemble import GradientBoostingClassifier\n",
        "from sklearn.ensemble import VotingClassifier\n",
        "from sklearn.svm import LinearSVC\n",
        "from sklearn.metrics import accuracy_score #정확도 계산\n",
        "\n",
        "print('=3')"
      ]
    },
    {
      "cell_type": "markdown",
      "metadata": {
        "id": "z5iDW-kyVLR0"
      },
      "source": [
        "나이브 베이즈 분류기는 사이킷런의 `MultinomialNB()`를 통해 사용할 수 있다.  \n",
        "(사이킷런의 머신러닝 모델들은 `fit()`함수를 제공한다. 훈련 데이터와 레이블을 인자로 사용하면 모델이 이를 학습한다.)"
      ]
    },
    {
      "cell_type": "code",
      "execution_count": 25,
      "metadata": {
        "id": "lXNGDC6RVITx",
        "colab": {
          "base_uri": "https://localhost:8080/"
        },
        "outputId": "e1d672f9-8ec9-40fd-af4a-ec476093afa2"
      },
      "outputs": [
        {
          "output_type": "execute_result",
          "data": {
            "text/plain": [
              "MultinomialNB()"
            ]
          },
          "metadata": {},
          "execution_count": 25
        }
      ],
      "source": [
        "model = MultinomialNB()\n",
        "model.fit(tfidfv, y_train)"
      ]
    },
    {
      "cell_type": "markdown",
      "metadata": {
        "id": "wH94jJ5zVOt6"
      },
      "source": [
        "테스트 데이터에 대한 정확도를 측정하기 위해서는 훈련데이터와 동일한 전처리를 해야한다. (TD-IDF 행렬로 변환해야 함)"
      ]
    },
    {
      "cell_type": "code",
      "execution_count": 26,
      "metadata": {
        "id": "AhQ6htQ7VM8A",
        "colab": {
          "base_uri": "https://localhost:8080/"
        },
        "outputId": "38a0ba8a-077f-4a15-e347-7087dcc574f5"
      },
      "outputs": [
        {
          "output_type": "stream",
          "name": "stdout",
          "text": [
            "(2246, 26506)\n"
          ]
        }
      ],
      "source": [
        "x_test_dtm = dtmvector.transform(x_test) #테스트 데이터를 DTM으로 변환\n",
        "tfidfv_test = tfidf_transformer.transform(x_test_dtm) #DTM을 TF-IDF 행렬로 변환\n",
        "print(tfidfv_test.shape)"
      ]
    },
    {
      "cell_type": "markdown",
      "metadata": {
        "id": "z_d8HxoeVhgh"
      },
      "source": [
        "해당 행렬과 `predict()`함수를 통해 예측값을 얻어 정확도를 측정해보자."
      ]
    },
    {
      "cell_type": "code",
      "execution_count": 27,
      "metadata": {
        "id": "BTzdgIryVREQ",
        "colab": {
          "base_uri": "https://localhost:8080/"
        },
        "outputId": "4a7f9a30-17d1-4f33-b687-d3e5f4db86d0"
      },
      "outputs": [
        {
          "output_type": "stream",
          "name": "stdout",
          "text": [
            "정확도: 0.5997328584149599\n"
          ]
        }
      ],
      "source": [
        "predicted = model.predict(tfidfv_test)           # 테스트 데이터에 대한 예측\n",
        "print(\"정확도:\", accuracy_score(y_test, predicted))      # 예측값과 실제값 비교"
      ]
    },
    {
      "cell_type": "markdown",
      "metadata": {
        "id": "z4zrppFlYyHI"
      },
      "source": [
        "나이브 베이즈 분류기가 임의의 샘플에 대해 클래스를 정확히 예측하는지 테스트를 해보자."
      ]
    },
    {
      "cell_type": "code",
      "execution_count": 28,
      "metadata": {
        "id": "I7ffTPaLVjOV",
        "colab": {
          "base_uri": "https://localhost:8080/",
          "height": 200
        },
        "outputId": "6856c6f2-f176-4ca3-f275-90046a1a228f"
      },
      "outputs": [
        {
          "output_type": "execute_result",
          "data": {
            "text/plain": [
              "'<sos> graham mccormick oil and gas partnership said it completed the sale of interests in two major oil and gas fields to lt energy assets international corp for 21 mln dlrs the company said it sold about one half of its 50 pct interest in the oak hill and north rucias fields its two largest producing properties it said it used about 20 mln dlrs of the proceeds to prepay principal on its senior secured notes semi annual principal payments on the remaining 40 mln dlrs of notes have been satisfied until december 1988 as a result it said the company said the note agreements were amended to reflect an easing of some financial covenants and an increase of interest to 13 5 pct from 13 0 pct until december 1990 it said the noteholders exercise price for 1 125 000 warrants was also reduced to 50 cts from 1 50 dlrs the company said energy assets agreed to share the costs of increasing production at the oak hill field reuter 3'"
            ],
            "application/vnd.google.colaboratory.intrinsic+json": {
              "type": "string"
            }
          },
          "metadata": {},
          "execution_count": 28
        }
      ],
      "source": [
        "x_test[3]"
      ]
    },
    {
      "cell_type": "markdown",
      "metadata": {
        "id": "JL-kiCaOY8cj"
      },
      "source": [
        "4번째 샘플(인덱스 3)의 레이블을 확인해보자."
      ]
    },
    {
      "cell_type": "code",
      "execution_count": 29,
      "metadata": {
        "id": "Rw3gySvVY7L_",
        "colab": {
          "base_uri": "https://localhost:8080/"
        },
        "outputId": "d0c1420d-6a5d-4fe1-f7e0-c4ecd78e0d93"
      },
      "outputs": [
        {
          "output_type": "execute_result",
          "data": {
            "text/plain": [
              "4"
            ]
          },
          "metadata": {},
          "execution_count": 29
        }
      ],
      "source": [
        "y_test[3]"
      ]
    },
    {
      "cell_type": "markdown",
      "metadata": {
        "id": "xH_shZJ9ZAjw"
      },
      "source": [
        "모델이 제대로 예측하고 있는지, 어느 정도의 확신을 가지고 판단하는지 모델이 결정한 확률을 시각화하여 확인해보자."
      ]
    },
    {
      "cell_type": "code",
      "execution_count": 30,
      "metadata": {
        "id": "0LcwHAUsZAAp",
        "colab": {
          "base_uri": "https://localhost:8080/",
          "height": 337
        },
        "outputId": "adbcb8a0-55d1-44c0-be2c-9ef995aba801"
      },
      "outputs": [
        {
          "output_type": "display_data",
          "data": {
            "text/plain": [
              "<Figure size 792x360 with 1 Axes>"
            ],
            "image/png": "[encoded data removed]"
          },
          "metadata": {
            "needs_background": "light"
          }
        }
      ],
      "source": [
        "probability_3 = model.predict_proba(tfidfv_test[3])[0]\n",
        "\n",
        "plt.rcParams[\"figure.figsize\"] = (11,5)\n",
        "plt.bar(model.classes_, probability_3)\n",
        "plt.xlim(-1, 21)\n",
        "plt.xticks(model.classes_)\n",
        "plt.xlabel(\"Class\")\n",
        "plt.ylabel(\"Probability\")\n",
        "plt.show()"
      ]
    },
    {
      "cell_type": "code",
      "execution_count": 31,
      "metadata": {
        "id": "lhYSQQLYZGYc",
        "colab": {
          "base_uri": "https://localhost:8080/"
        },
        "outputId": "0a2cd56b-d9d0-4246-fbe9-a6e8b3ad8e62"
      },
      "outputs": [
        {
          "output_type": "execute_result",
          "data": {
            "text/plain": [
              "array([4])"
            ]
          },
          "metadata": {},
          "execution_count": 31
        }
      ],
      "source": [
        "model.predict(tfidfv_test[3])"
      ]
    },
    {
      "cell_type": "markdown",
      "metadata": {
        "id": "3PALq6rBZO1-"
      },
      "source": [
        "- 모델이 4번 클래스를 약 80%의 확률로 확신한다.\n",
        "- 20%의 확률로 3번 클래스라고 판단한다.\n",
        "- 모델이 정확하게 예측한 것을 확인할 수 있다."
      ]
    },
    {
      "cell_type": "markdown",
      "metadata": {
        "id": "ZRLD4TcTZkaG"
      },
      "source": [
        "### **4.2) CNB**\n",
        "- `나이브 베이지안 분류기`는 독립 변수가 '조건부로 독립적'이라는 가정을 하기 때문에, 문서가 특정 분류에 속할 실제 확률을 사용할 때 문제가 발생할 수 있다.\n",
        "- 많은 샘플이 특정 클래스에 치우쳐져 있을 경우, 결정 경계의 가중치가 한쪽으로 치우쳐져 모델이 특정 클래스를 선호할 수 있다.\n",
        "\n",
        "\n",
        "- CNB는 데이터의 불균형을 고려하여 가중치를 부여한다.\n",
        "- 따라서 컴플리먼트 나이브 베이즈 분류기(CNB)가 나이브 베이즈 분류기보다 성능이 일반적으로 더 좋다."
      ]
    },
    {
      "cell_type": "code",
      "execution_count": 32,
      "metadata": {
        "id": "4UdHhWQoZLwY",
        "colab": {
          "base_uri": "https://localhost:8080/"
        },
        "outputId": "0ab15a62-e5cf-4b04-dafe-57bc8f5f9b2d"
      },
      "outputs": [
        {
          "output_type": "execute_result",
          "data": {
            "text/plain": [
              "ComplementNB()"
            ]
          },
          "metadata": {},
          "execution_count": 32
        }
      ],
      "source": [
        "cb = ComplementNB()\n",
        "cb.fit(tfidfv, y_train)"
      ]
    },
    {
      "cell_type": "code",
      "execution_count": 33,
      "metadata": {
        "id": "Z-dnQD4fgbET",
        "colab": {
          "base_uri": "https://localhost:8080/"
        },
        "outputId": "d839f2dd-7186-4023-9841-edfea461ead4"
      },
      "outputs": [
        {
          "output_type": "stream",
          "name": "stdout",
          "text": [
            "정확도: 0.7649154051647373\n"
          ]
        }
      ],
      "source": [
        "predicted = cb.predict(tfidfv_test) #테스트 데이터에 대한 예측\n",
        "print(\"정확도:\", accuracy_score(y_test, predicted)) #예측값과 실제값 비교"
      ]
    },
    {
      "cell_type": "markdown",
      "metadata": {
        "id": "qFu5hZLrhnE9"
      },
      "source": [
        "### **4.3) 로지스틱 회귀**\n",
        "- 로지스틱 회귀는 `소프트맥스(softmax)`함수를 사용한 다중 클래스 분류 알고리즘을 지원한다.\n",
        "- 다중 클래스 분류를 위한 로지스틱 회귀를 `소프트맥수 회귀(Softmax Regression)`이라고 한다.\n",
        "- 주의할 점은 이름은 회귀지만, 실제로는 분류를 수행한다."
      ]
    },
    {
      "cell_type": "markdown",
      "metadata": {
        "id": "Ek_YslPxiLnq"
      },
      "source": [
        "![image.png](data:image/png;base64,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)"
      ]
    },
    {
      "cell_type": "markdown",
      "metadata": {
        "id": "-jZ6s0Czif_4"
      },
      "source": [
        "- 소프트맥스 함수는 클래스가 N개일 때, N차원의 벡터가 '각 클래스가 정답일 확률'을 표현하도록 정규화해주는 함수이다.\n",
        "- 위의 이미지는 4차원의 벡터를 입력받으면서 3개의 클래스를 가지는 경우의 소프트맥스 회귀의 동작 과정이다.\n",
        "- 3개의 클래스 중 1개의 클래스를 예측해야 하므로 소프트맥스 회귀의 출력은 3차원 벡터고, 각 벡터의 차원은 특정 클래스일 확률이다.\n",
        "- 오차와 실제값의 차이를 줄이는 과정에서 가중치와 편향이 학습된다."
      ]
    },
    {
      "cell_type": "markdown",
      "metadata": {
        "id": "rk5WSDIJisf7"
      },
      "source": [
        "사이킷런에서 소프트맥스 회귀는 `LogisticRegression()`을 통해서 구현할 수 있다."
      ]
    },
    {
      "cell_type": "code",
      "execution_count": 34,
      "metadata": {
        "id": "cEfbARG0gb6C",
        "colab": {
          "base_uri": "https://localhost:8080/"
        },
        "outputId": "bb406e3b-5b8b-4fa9-dcd0-9b65e42c2d63"
      },
      "outputs": [
        {
          "output_type": "stream",
          "name": "stderr",
          "text": [
            "/usr/local/lib/python3.7/dist-packages/sklearn/linear_model/_logistic.py:818: ConvergenceWarning: lbfgs failed to converge (status=1):\n",
            "STOP: TOTAL NO. of ITERATIONS REACHED LIMIT.\n",
            "\n",
            "Increase the number of iterations (max_iter) or scale the data as shown in:\n",
            "    https://scikit-learn.org/stable/modules/preprocessing.html\n",
            "Please also refer to the documentation for alternative solver options:\n",
            "    https://scikit-learn.org/stable/modules/linear_model.html#logistic-regression\n",
            "  extra_warning_msg=_LOGISTIC_SOLVER_CONVERGENCE_MSG,\n"
          ]
        },
        {
          "output_type": "execute_result",
          "data": {
            "text/plain": [
              "LogisticRegression(C=10000)"
            ]
          },
          "metadata": {},
          "execution_count": 34
        }
      ],
      "source": [
        "lr = LogisticRegression(C=10000, penalty='l2')\n",
        "lr.fit(tfidfv, y_train)"
      ]
    },
    {
      "cell_type": "code",
      "execution_count": 35,
      "metadata": {
        "id": "iMBv5AnYit7y",
        "colab": {
          "base_uri": "https://localhost:8080/"
        },
        "outputId": "da31cc9a-c1f0-4e2e-e9b4-25c3c2b591e1"
      },
      "outputs": [
        {
          "output_type": "stream",
          "name": "stdout",
          "text": [
            "정확도: 0.813446126447017\n"
          ]
        }
      ],
      "source": [
        "predicted = lr.predict(tfidfv_test) #테스트 데이터에 대한 예측\n",
        "print(\"정확도:\", accuracy_score(y_test, predicted)) #예측값과 실제값 비교"
      ]
    },
    {
      "cell_type": "markdown",
      "metadata": {
        "id": "toBZzOd_i2El"
      },
      "source": [
        "### **4.4) 선형 서포트 벡터 머신**\n",
        "- 서포트 벡터 머신에서 서포트 벡터란, Decision Boundary와 가장 가까운 각 클래스의 데이터이다. (Decision Boundary에 해당되는 벡터가 아님)\n",
        "- 서포트 벡터 머신의 구현체인 사이킷런의 `LinearSVC`도 태생적으로 이진 분류를 위한 모델이다.\n",
        "- 그런데 이진 분류 알고리즘을 다중 클래스 분류 알고리즘으로 사용하는 방법이 있는데, 일대다(one- vs -rest 또는 one- vs -all) 방법이다.\n",
        "- 일대다 방식은 각 클래스를 다른 모든 클래스와 구분하도록 이진 분류 모델을 학습시킨다.\n",
        "- 클래스의 수만큼 이진 분류 모델이 만들어진다.\n",
        "- 예측할 때는 만들어진 모든 이진 분류기가 작동하여 가장 높은 점수를 내는 분류기의 클래스를 예측값으로 선택한다."
      ]
    },
    {
      "cell_type": "code",
      "execution_count": 36,
      "metadata": {
        "id": "-I3H95j1izXJ",
        "colab": {
          "base_uri": "https://localhost:8080/"
        },
        "outputId": "c0f6d4b7-7ec1-4b02-ebd5-e5595394aefb"
      },
      "outputs": [
        {
          "output_type": "stream",
          "name": "stderr",
          "text": [
            "/usr/local/lib/python3.7/dist-packages/sklearn/svm/_base.py:1208: ConvergenceWarning: Liblinear failed to converge, increase the number of iterations.\n",
            "  ConvergenceWarning,\n"
          ]
        },
        {
          "output_type": "execute_result",
          "data": {
            "text/plain": [
              "LinearSVC(C=1000, dual=False, max_iter=500, penalty='l1')"
            ]
          },
          "metadata": {},
          "execution_count": 36
        }
      ],
      "source": [
        "lsvc = LinearSVC(C=1000, penalty='l1', max_iter=500, dual=False)\n",
        "lsvc.fit(tfidfv, y_train)"
      ]
    },
    {
      "cell_type": "code",
      "execution_count": 37,
      "metadata": {
        "id": "rS_HHMK1jA_E",
        "colab": {
          "base_uri": "https://localhost:8080/"
        },
        "outputId": "4869bc09-ad7a-45fe-f1d7-cda702a27ba2"
      },
      "outputs": [
        {
          "output_type": "stream",
          "name": "stdout",
          "text": [
            "정확도: 0.782279608192342\n"
          ]
        }
      ],
      "source": [
        "predicted = lsvc.predict(tfidfv_test) #테스트 데이터에 대한 예측\n",
        "print(\"정확도:\", accuracy_score(y_test, predicted)) #예측값과 실제값 비교"
      ]
    },
    {
      "cell_type": "markdown",
      "metadata": {
        "id": "LM_Cc-XsjGFO"
      },
      "source": [
        "### **4.5) 결정 트리**\n",
        "- 결정트리는 분류와 회귀 문제에 널리 사용하는 모델이다.\n",
        "- 사이킷런에서는 `DecisionTreeClassifier()`를 사용하여 결정 트리를 구현할 수 있다.\n",
        "- 결정트리의 깊이는 `max_depth`라는 인자를 통해서 정해줄 수 있다."
      ]
    },
    {
      "cell_type": "code",
      "execution_count": 38,
      "metadata": {
        "id": "OKzPzY9yjEcY",
        "colab": {
          "base_uri": "https://localhost:8080/"
        },
        "outputId": "dc190c5b-5839-4033-ea41-d8324bb84bff"
      },
      "outputs": [
        {
          "output_type": "execute_result",
          "data": {
            "text/plain": [
              "DecisionTreeClassifier(max_depth=10, random_state=0)"
            ]
          },
          "metadata": {},
          "execution_count": 38
        }
      ],
      "source": [
        "tree = DecisionTreeClassifier(max_depth=10, random_state=0)\n",
        "tree.fit(tfidfv, y_train)"
      ]
    },
    {
      "cell_type": "code",
      "execution_count": 39,
      "metadata": {
        "id": "bumx-uXHjODZ",
        "colab": {
          "base_uri": "https://localhost:8080/"
        },
        "outputId": "4f982652-087b-4256-9fa7-4b1f0608b7f7"
      },
      "outputs": [
        {
          "output_type": "stream",
          "name": "stdout",
          "text": [
            "정확도: 0.6211041852181657\n"
          ]
        }
      ],
      "source": [
        "predicted = tree.predict(tfidfv_test) #테스트 데이터에 대한 예측\n",
        "print(\"정확도:\", accuracy_score(y_test, predicted)) #예측값과 실제값 비교"
      ]
    },
    {
      "cell_type": "markdown",
      "metadata": {
        "id": "wGpfiXBfjYWv"
      },
      "source": [
        "- 트리 계열의 모델들은 고차원이고 희소한 데이터에 대해서는 성능이 나오지 않는다는 특징이 있다.\n",
        "- DTM이나 TF-IDF 행렬의 경우, 고차원이면서 대부분의 값이 0인 희소한 데이터이므로 트리 계열의 모델보다는 선형 분류 모델을 통해 접근하는 것이 더 나은 접근일 수 있다."
      ]
    },
    {
      "cell_type": "markdown",
      "metadata": {
        "id": "MfvfQTTwjaKh"
      },
      "source": [
        "### **4.6) 랜덤 포레스트**\n",
        "- 결정 트리는 훈련 데이터에 과적합(Overfitting)되는 경향이 있다.\n",
        "- 랜덤 포레스트는 이 문제를 앙상블로 해결한다.\n",
        "- 서로 다른 방향으로 과적합된 트리들을 조합하면 오히려 모델 전체에서는 과적합을 피할 수 있다."
      ]
    },
    {
      "cell_type": "code",
      "execution_count": 40,
      "metadata": {
        "id": "xCqvzbcNjO6m",
        "colab": {
          "base_uri": "https://localhost:8080/"
        },
        "outputId": "6a12a713-6a1a-40af-bc31-e033511e3c44"
      },
      "outputs": [
        {
          "output_type": "execute_result",
          "data": {
            "text/plain": [
              "RandomForestClassifier(n_estimators=5, random_state=0)"
            ]
          },
          "metadata": {},
          "execution_count": 40
        }
      ],
      "source": [
        "forest = RandomForestClassifier(n_estimators=5, random_state=0)\n",
        "forest.fit(tfidfv, y_train)"
      ]
    },
    {
      "cell_type": "code",
      "execution_count": 41,
      "metadata": {
        "id": "3nEcogJzjfqp",
        "colab": {
          "base_uri": "https://localhost:8080/"
        },
        "outputId": "cb1d95dd-0018-4532-d411-08b05ce78a9d"
      },
      "outputs": [
        {
          "output_type": "stream",
          "name": "stdout",
          "text": [
            "정확도: 0.6544968833481746\n"
          ]
        }
      ],
      "source": [
        "predicted = forest.predict(tfidfv_test) #테스트 데이터에 대한 예측\n",
        "print(\"정확도:\", accuracy_score(y_test, predicted)) #예측값과 실제값 비교"
      ]
    },
    {
      "cell_type": "markdown",
      "metadata": {
        "id": "a4nRa_q9jh66"
      },
      "source": [
        "### **4.7) 그래디언트 부스팅 트리**\n",
        "- 그래디언트 부스팅 트리는 여러 개의 결정 트리를 묶어 만드는 앙상블 모델이다.\n",
        "- 랜덤 포레스트와 다르게 이전 트리의 오차를 보완하는 방식으로 순차적으로 트리를 만든다.\n",
        "- 그래디언트 부스팅 트리는 일부 특성을 무시한다는 특징을 가지고 있다.\n",
        "- 그래서 보통 랜덤 포레스트를 먼저 사용해보고 성능이나 예측 시간 면에서 만족스럽지 않은 경우에 그래디언트 부스팅 트리를 시도해보는 것이 좋다.\n",
        "- 일반적으로 1 ~ 5 정도의 깊지 않은 트리를 사용하므로 메모리도 적게 사용하고 예측도 빠르다.\n",
        "- 정확도도 준수하지만 훈련 시간의 속도가 오래걸리고 트리 기반 모델의 특성으로 희소한 고차원 데이터에 대해서는 잘 동작하지 않는다."
      ]
    },
    {
      "cell_type": "code",
      "execution_count": 42,
      "metadata": {
        "id": "kPE4x6DVjgmA",
        "colab": {
          "base_uri": "https://localhost:8080/"
        },
        "outputId": "e68cb2d3-c1c4-4b1b-f196-9bbd46cda428"
      },
      "outputs": [
        {
          "output_type": "execute_result",
          "data": {
            "text/plain": [
              "GradientBoostingClassifier(random_state=0)"
            ]
          },
          "metadata": {},
          "execution_count": 42
        }
      ],
      "source": [
        "grbt = GradientBoostingClassifier(random_state=0) # verbose=3\n",
        "grbt.fit(tfidfv, y_train)"
      ]
    },
    {
      "cell_type": "code",
      "execution_count": 43,
      "metadata": {
        "id": "Q9evVEs1jrZS",
        "colab": {
          "base_uri": "https://localhost:8080/"
        },
        "outputId": "f9a1648d-fd2e-40ab-d978-e26d3f3e4a39"
      },
      "outputs": [
        {
          "output_type": "stream",
          "name": "stdout",
          "text": [
            "정확도: 0.7702582368655387\n"
          ]
        }
      ],
      "source": [
        "predicted = grbt.predict(tfidfv_test) #테스트 데이터에 대한 예측\n",
        "print(\"정확도:\", accuracy_score(y_test, predicted)) #예측값과 실제값 비교"
      ]
    },
    {
      "cell_type": "markdown",
      "metadata": {
        "id": "qZQuAJlXjtOq"
      },
      "source": [
        "### **4.8) 보팅**\n",
        "- 보팅은 하드 보팅과 소프트 보팅 두 가지로 나누어진다.\n",
        "- 하드 보팅은 결과물에 대한 최종값을 투표해서 결정한다.\n",
        "- 소프트 보팅은 최종 결과물이 나올 확률값을 다 더해서 최종 결과물에 대한 각각의 확률을 구한 뒤 최종 값을 도출해 낸다."
      ]
    },
    {
      "cell_type": "code",
      "execution_count": 44,
      "metadata": {
        "id": "m7YukEOCjsHh",
        "colab": {
          "base_uri": "https://localhost:8080/"
        },
        "outputId": "3cef7119-85f3-4555-834c-38333e874a92"
      },
      "outputs": [
        {
          "output_type": "execute_result",
          "data": {
            "text/plain": [
              "VotingClassifier(estimators=[('lr', LogisticRegression(C=10000)),\n",
              "                             ('cb', ComplementNB()),\n",
              "                             ('grbt',\n",
              "                              GradientBoostingClassifier(random_state=0))],\n",
              "                 n_jobs=-1, voting='soft')"
            ]
          },
          "metadata": {},
          "execution_count": 44
        }
      ],
      "source": [
        "voting_classifier = VotingClassifier(estimators=[\n",
        "         ('lr', LogisticRegression(C=10000, penalty='l2')),\n",
        "        ('cb', ComplementNB()),\n",
        "        ('grbt', GradientBoostingClassifier(random_state=0))\n",
        "], voting='soft', n_jobs=-1)\n",
        "voting_classifier.fit(tfidfv, y_train)"
      ]
    },
    {
      "cell_type": "code",
      "execution_count": 45,
      "metadata": {
        "id": "X3IMMB8ljyak",
        "colab": {
          "base_uri": "https://localhost:8080/"
        },
        "outputId": "b3522a5b-fc68-4e9c-b7bc-97bf895aa229"
      },
      "outputs": [
        {
          "output_type": "stream",
          "name": "stdout",
          "text": [
            "정확도: 0.8187889581478184\n"
          ]
        }
      ],
      "source": [
        "predicted = voting_classifier.predict(tfidfv_test) #테스트 데이터에 대한 예측\n",
        "print(\"정확도:\", accuracy_score(y_test, predicted)) #예측값과 실제값 비교"
      ]
    },
    {
      "cell_type": "markdown",
      "metadata": {
        "id": "o48TcJMSkn0Q"
      },
      "source": [
        "# **Case 2. 빈도수 상위 5,000개의 단어 사용**\n",
        "---"
      ]
    },
    {
      "cell_type": "markdown",
      "metadata": {
        "id": "uIaPy7ohpIC-"
      },
      "source": [
        "## **1) 데이터 로드하기**\n",
        "빈도수 상위 5,000개의 단어만을 사용할 것이기 때문에 `num_words`을 5,000으로 설정해준다."
      ]
    },
    {
      "cell_type": "code",
      "execution_count": 46,
      "metadata": {
        "id": "qbn74n9Kjzf0"
      },
      "outputs": [],
      "source": [
        "(x_train_5k, y_train_5k), (x_test_5k, y_test_5k) = reuters.load_data(num_words=5000, test_split=0.2)"
      ]
    },
    {
      "cell_type": "code",
      "execution_count": 47,
      "metadata": {
        "id": "q28tojKvk9lI",
        "colab": {
          "base_uri": "https://localhost:8080/"
        },
        "outputId": "9961decb-3791-4d13-a168-6d0f421e38f5"
      },
      "outputs": [
        {
          "output_type": "stream",
          "name": "stdout",
          "text": [
            "훈련 샘플의 수: 8982\n",
            "테스트 샘플의 수: 2246\n"
          ]
        }
      ],
      "source": [
        "print('훈련 샘플의 수: {}'.format(len(x_train_5k)))\n",
        "print('테스트 샘플의 수: {}'.format(len(x_test_5k)))"
      ]
    },
    {
      "cell_type": "markdown",
      "metadata": {
        "id": "mOXuyEipo1G_"
      },
      "source": [
        "## **2) 데이터 복원하기**  \n",
        "전체 훈련용 뉴스 데이터와 테스트용 뉴스 데이터를 텍스트 데이터로 변환해보자."
      ]
    },
    {
      "cell_type": "code",
      "execution_count": 48,
      "metadata": {
        "id": "AsYSfyEvlhni",
        "colab": {
          "base_uri": "https://localhost:8080/"
        },
        "outputId": "5c3d2855-528f-4406-dc68-fc25d19cff31"
      },
      "outputs": [
        {
          "output_type": "stream",
          "name": "stdout",
          "text": [
            "8982\n"
          ]
        }
      ],
      "source": [
        "decoded = []\n",
        "for i in range(len(x_train_5k)):\n",
        "    t = ' '.join([index_to_word[index] for index in x_train_5k[i]])\n",
        "    decoded.append(t)\n",
        "\n",
        "x_train_5k = decoded\n",
        "print(len(x_train_5k))"
      ]
    },
    {
      "cell_type": "code",
      "execution_count": 49,
      "metadata": {
        "id": "CwLFHnOXoEn-",
        "colab": {
          "base_uri": "https://localhost:8080/"
        },
        "outputId": "a930dc7f-ce66-4ac7-ac4e-bcc69535400b"
      },
      "outputs": [
        {
          "output_type": "stream",
          "name": "stdout",
          "text": [
            "2246\n"
          ]
        }
      ],
      "source": [
        "decoded = []\n",
        "for i in range(len(x_test_5k)):\n",
        "    t = ' '.join([index_to_word[index] for index in x_test_5k[i]])\n",
        "    decoded.append(t)\n",
        "\n",
        "x_test_5k = decoded\n",
        "print(len(x_test_5k))"
      ]
    },
    {
      "cell_type": "markdown",
      "metadata": {
        "id": "vBDg2ae8pZwf"
      },
      "source": [
        "## **3) 벡터화하기**"
      ]
    },
    {
      "cell_type": "markdown",
      "metadata": {
        "id": "fp6sRVnIoXin"
      },
      "source": [
        "`DTM`을 생성해보자."
      ]
    },
    {
      "cell_type": "code",
      "execution_count": 50,
      "metadata": {
        "id": "seXU-lN_oKGq",
        "colab": {
          "base_uri": "https://localhost:8080/"
        },
        "outputId": "27f64d30-3d7f-4c34-cfc6-5d5d84d4334a"
      },
      "outputs": [
        {
          "output_type": "stream",
          "name": "stdout",
          "text": [
            "(8982, 4867)\n"
          ]
        }
      ],
      "source": [
        "dtmvector = CountVectorizer()\n",
        "x_train_5k_dtm = dtmvector.fit_transform(x_train_5k)\n",
        "print(x_train_5k_dtm.shape)"
      ]
    },
    {
      "cell_type": "markdown",
      "metadata": {
        "id": "2192nxaZgqxG"
      },
      "source": [
        "- 열의 개수는 5,000보다 작은 9,670개인데, 그 이유는 DTM이 자체적인 규칙에 따라 불필요하다고 판단하는 토큰들을 제거하기 때문이다."
      ]
    },
    {
      "cell_type": "markdown",
      "metadata": {
        "id": "jZ1d3ADOoiHc"
      },
      "source": [
        "`TF-IDF`를 생성해보자."
      ]
    },
    {
      "cell_type": "code",
      "execution_count": 51,
      "metadata": {
        "id": "OAK1jkiaohZx",
        "colab": {
          "base_uri": "https://localhost:8080/"
        },
        "outputId": "c986dd90-ae2e-4aaa-df87-7a4c850d1198"
      },
      "outputs": [
        {
          "output_type": "stream",
          "name": "stdout",
          "text": [
            "(8982, 4867)\n"
          ]
        }
      ],
      "source": [
        "tfidf_transformer = TfidfTransformer()\n",
        "tfidfv_5k = tfidf_transformer.fit_transform(x_train_5k_dtm)\n",
        "print(tfidfv_5k.shape)"
      ]
    },
    {
      "cell_type": "markdown",
      "metadata": {
        "id": "EAZsiQ9SulvI"
      },
      "source": [
        "테스트 데이터에 대한 정확도를 측정하기 위해서는 훈련데이터와 동일한 전처리를 해야한다."
      ]
    },
    {
      "cell_type": "code",
      "execution_count": 52,
      "metadata": {
        "id": "5bCkvPw5uQvb",
        "colab": {
          "base_uri": "https://localhost:8080/"
        },
        "outputId": "448cedd5-0342-45e8-9509-142893746b84"
      },
      "outputs": [
        {
          "output_type": "stream",
          "name": "stdout",
          "text": [
            "(2246, 4867)\n"
          ]
        }
      ],
      "source": [
        "x_test_5k_dtm = dtmvector.transform(x_test_5k) #테스트 데이터를 DTM으로 변환\n",
        "tfidfv_5k_test = tfidf_transformer.transform(x_test_5k_dtm) #DTM을 TF-IDF 행렬로 변환\n",
        "print(tfidfv_5k_test.shape)"
      ]
    },
    {
      "cell_type": "markdown",
      "metadata": {
        "id": "FVSqLhGmpiZb"
      },
      "source": [
        "## **4) 머신러닝 모델 학습**"
      ]
    },
    {
      "cell_type": "code",
      "execution_count": 53,
      "metadata": {
        "id": "3kGL6nKOovF7"
      },
      "outputs": [],
      "source": [
        "def ml_model(tfidfv, y_train, tfidfv_test, y_test):\n",
        "    # 나이브 베이즈 분류기\n",
        "    nb = MultinomialNB()\n",
        "    nb.fit(tfidfv, y_train)\n",
        "    nb_predicted = nb.predict(tfidfv_test)      # 테스트 데이터에 대한 예측\n",
        "    print('나이브 베이즈 분류기 정확도 : ', accuracy_score(y_test, nb_predicted))   # 예측값과 실제값 비교\n",
        "\n",
        "    # CNB\n",
        "    cb = ComplementNB()\n",
        "    cb.fit(tfidfv, y_train)\n",
        "    cb_predicted = cb.predict(tfidfv_test)\n",
        "    print(\"CNB 정확도:\", accuracy_score(y_test, cb_predicted))\n",
        "\n",
        "    # 로지스틱 회귀\n",
        "    lr = LogisticRegression(C=10000, penalty='l2')\n",
        "    lr.fit(tfidfv, y_train)\n",
        "    lr_predicted = lr.predict(tfidfv_test)\n",
        "    print(\"로지스틱 회귀 정확도:\", accuracy_score(y_test, lr_predicted))\n",
        "\n",
        "    # LSVM\n",
        "    lsvc = LinearSVC(C=1000, penalty='l1', max_iter=500, dual=False)\n",
        "    lsvc.fit(tfidfv, y_train)\n",
        "    lsvc_predicted = lsvc.predict(tfidfv_test)\n",
        "    print(\"LSVM 정확도:\", accuracy_score(y_test, lsvc_predicted))\n",
        "\n",
        "    # 결정 트리\n",
        "    tree = DecisionTreeClassifier(max_depth=10, random_state=0)\n",
        "    tree.fit(tfidfv, y_train)\n",
        "    tree_predicted = tree.predict(tfidfv_test)\n",
        "    print(\"결정 트리 정확도:\", accuracy_score(y_test, tree_predicted))\n",
        "\n",
        "    # 랜덤 포레스트\n",
        "    forest = RandomForestClassifier(n_estimators=5, random_state=0)\n",
        "    forest.fit(tfidfv, y_train)\n",
        "    forest_predicted = forest.predict(tfidfv_test)\n",
        "    print(\"랜덤 포레스트 정확도:\", accuracy_score(y_test, forest_predicted))\n",
        "\n",
        "    # 그래디언트 부스팅 트리\n",
        "    grbt = GradientBoostingClassifier(random_state=0)\n",
        "    grbt.fit(tfidfv, y_train)\n",
        "    grbt_predicted = grbt.predict(tfidfv_test)\n",
        "    print(\"그래디언트 부스팅 트리 정확도:\", accuracy_score(y_test, grbt_predicted))\n",
        "\n",
        "    # 보팅\n",
        "    voting_classifier = VotingClassifier(estimators=[\n",
        "                                                     ('lr', LogisticRegression(C=10000, penalty='l2')),\n",
        "                                                     ('cb', ComplementNB()),\n",
        "                                                     ('grbt', GradientBoostingClassifier(random_state=0))\n",
        "                                                     ], voting='soft', n_jobs=-1)\n",
        "    voting_classifier.fit(tfidfv, y_train)\n",
        "    voting_predicted = voting_classifier.predict(tfidfv_test)\n",
        "    print(\"보팅 정확도:\", accuracy_score(y_test, voting_predicted))\n",
        "\n",
        "    return nb, cb, lr, lsvc, tree, forest, grbt, voting_classifier"
      ]
    },
    {
      "cell_type": "code",
      "execution_count": 54,
      "metadata": {
        "id": "HnXswvr_tHlT",
        "colab": {
          "base_uri": "https://localhost:8080/"
        },
        "outputId": "b896a8df-f1bf-4601-d86f-56eef3773e9c"
      },
      "outputs": [
        {
          "output_type": "stream",
          "name": "stdout",
          "text": [
            "나이브 베이즈 분류기 정확도 :  0.6731967943009796\n",
            "CNB 정확도: 0.7707034728406055\n"
          ]
        },
        {
          "output_type": "stream",
          "name": "stderr",
          "text": [
            "/usr/local/lib/python3.7/dist-packages/sklearn/linear_model/_logistic.py:818: ConvergenceWarning: lbfgs failed to converge (status=1):\n",
            "STOP: TOTAL NO. of ITERATIONS REACHED LIMIT.\n",
            "\n",
            "Increase the number of iterations (max_iter) or scale the data as shown in:\n",
            "    https://scikit-learn.org/stable/modules/preprocessing.html\n",
            "Please also refer to the documentation for alternative solver options:\n",
            "    https://scikit-learn.org/stable/modules/linear_model.html#logistic-regression\n",
            "  extra_warning_msg=_LOGISTIC_SOLVER_CONVERGENCE_MSG,\n"
          ]
        },
        {
          "output_type": "stream",
          "name": "stdout",
          "text": [
            "로지스틱 회귀 정확도: 0.8058771148708815\n"
          ]
        },
        {
          "output_type": "stream",
          "name": "stderr",
          "text": [
            "/usr/local/lib/python3.7/dist-packages/sklearn/svm/_base.py:1208: ConvergenceWarning: Liblinear failed to converge, increase the number of iterations.\n",
            "  ConvergenceWarning,\n"
          ]
        },
        {
          "output_type": "stream",
          "name": "stdout",
          "text": [
            "LSVM 정확도: 0.763579697239537\n",
            "결정 트리 정확도: 0.6179875333926982\n",
            "랜덤 포레스트 정확도: 0.701246660730187\n",
            "그래디언트 부스팅 트리 정확도: 0.767586821015138\n",
            "보팅 정확도: 0.8161175422974176\n"
          ]
        }
      ],
      "source": [
        "nb_5k, cb_5k, lr_5k, lsvc_5k, tree_5k, forest_5k, grbt_5k, voting_classifier_5k = ml_model(tfidfv_5k, y_train_5k, tfidfv_5k_test, y_test_5k)"
      ]
    },
    {
      "cell_type": "markdown",
      "metadata": {
        "id": "WDSGkVduxHdw"
      },
      "source": [
        "# **Case 3. 빈도수 상위 15,000개의 단어만 사용**\n",
        "---"
      ]
    },
    {
      "cell_type": "markdown",
      "metadata": {
        "id": "sxVAlgqmyn2g"
      },
      "source": [
        "## **1) 데이터 로드하기**\n",
        "빈도수 상위 15,000개의 단어만을 사용할 것이기 때문에 `num_words`을 15,000으로 설정해준다."
      ]
    },
    {
      "cell_type": "code",
      "execution_count": 55,
      "metadata": {
        "id": "UlVeipe9uCzQ"
      },
      "outputs": [],
      "source": [
        "(x_train_15k, y_train_15k), (x_test_15k, y_test_15k) = reuters.load_data(num_words=15000, test_split=0.2)"
      ]
    },
    {
      "cell_type": "code",
      "execution_count": 56,
      "metadata": {
        "id": "iu4n8ncYyjmT",
        "colab": {
          "base_uri": "https://localhost:8080/"
        },
        "outputId": "7d849bbe-afdf-4045-b684-d33e357e4022"
      },
      "outputs": [
        {
          "output_type": "stream",
          "name": "stdout",
          "text": [
            "훈련 샘플의 수: 8982\n",
            "테스트 샘플의 수: 2246\n"
          ]
        }
      ],
      "source": [
        "print('훈련 샘플의 수: {}'.format(len(x_train_15k)))\n",
        "print('테스트 샘플의 수: {}'.format(len(x_test_15k)))"
      ]
    },
    {
      "cell_type": "markdown",
      "metadata": {
        "id": "AmY343AfysZg"
      },
      "source": [
        "## **2) 데이터 복원하기**"
      ]
    },
    {
      "cell_type": "code",
      "execution_count": 57,
      "metadata": {
        "id": "QOdLhJQzyr6q",
        "colab": {
          "base_uri": "https://localhost:8080/"
        },
        "outputId": "8690052d-2183-4b56-ec69-4e9c5a6ffae4"
      },
      "outputs": [
        {
          "output_type": "stream",
          "name": "stdout",
          "text": [
            "8982\n"
          ]
        }
      ],
      "source": [
        "decoded = []\n",
        "for i in range(len(x_train_15k)):\n",
        "    t = ' '.join([index_to_word[index] for index in x_train_15k[i]])\n",
        "    decoded.append(t)\n",
        "\n",
        "x_train_15k = decoded\n",
        "print(len(x_train_15k))"
      ]
    },
    {
      "cell_type": "code",
      "execution_count": 58,
      "metadata": {
        "id": "UYyi6euyy0O6",
        "colab": {
          "base_uri": "https://localhost:8080/"
        },
        "outputId": "8c19db97-c16c-49e0-e785-6c1b8eeebe56"
      },
      "outputs": [
        {
          "output_type": "stream",
          "name": "stdout",
          "text": [
            "2246\n"
          ]
        }
      ],
      "source": [
        "decoded = []\n",
        "for i in range(len(x_test_15k)):\n",
        "    t = ' '.join([index_to_word[index] for index in x_test_15k[i]])\n",
        "    decoded.append(t)\n",
        "\n",
        "x_test_15k = decoded\n",
        "print(len(x_test_15k))"
      ]
    },
    {
      "cell_type": "markdown",
      "metadata": {
        "id": "wpWIWmx7y9ia"
      },
      "source": [
        "## **3) 벡터화하기**"
      ]
    },
    {
      "cell_type": "code",
      "execution_count": 59,
      "metadata": {
        "id": "-AJrv-l0y6Ag",
        "colab": {
          "base_uri": "https://localhost:8080/"
        },
        "outputId": "586bac1f-591a-41a7-e02b-c3ed9acac784"
      },
      "outputs": [
        {
          "output_type": "stream",
          "name": "stdout",
          "text": [
            "(8982, 14227)\n"
          ]
        }
      ],
      "source": [
        "dtmvector = CountVectorizer()\n",
        "x_train_15k_dtm = dtmvector.fit_transform(x_train_15k)\n",
        "print(x_train_15k_dtm.shape)"
      ]
    },
    {
      "cell_type": "code",
      "execution_count": 60,
      "metadata": {
        "id": "AAtDbWXbzEFJ",
        "colab": {
          "base_uri": "https://localhost:8080/"
        },
        "outputId": "071029e6-a951-4273-e9d5-26ac25847a2f"
      },
      "outputs": [
        {
          "output_type": "stream",
          "name": "stdout",
          "text": [
            "(8982, 14227)\n"
          ]
        }
      ],
      "source": [
        "tfidf_transformer = TfidfTransformer()\n",
        "tfidfv_15k = tfidf_transformer.fit_transform(x_train_15k_dtm)\n",
        "print(tfidfv_15k.shape)"
      ]
    },
    {
      "cell_type": "code",
      "execution_count": 61,
      "metadata": {
        "id": "nt2Tw2zlzUnw",
        "colab": {
          "base_uri": "https://localhost:8080/"
        },
        "outputId": "9cde30bf-2926-4382-d8e4-f516ac257059"
      },
      "outputs": [
        {
          "output_type": "stream",
          "name": "stdout",
          "text": [
            "(2246, 14227)\n"
          ]
        }
      ],
      "source": [
        "x_test_15k_dtm = dtmvector.transform(x_test_15k) #테스트 데이터를 DTM으로 변환\n",
        "tfidfv_15k_test = tfidf_transformer.transform(x_test_15k_dtm) #DTM을 TF-IDF 행렬로 변환\n",
        "print(tfidfv_15k_test.shape)"
      ]
    },
    {
      "cell_type": "markdown",
      "metadata": {
        "id": "--TEdz5xz7Eu"
      },
      "source": [
        "## **4) 머신러닝 모델 학습**"
      ]
    },
    {
      "cell_type": "code",
      "execution_count": 62,
      "metadata": {
        "id": "Xtj1dvwbzefm",
        "colab": {
          "base_uri": "https://localhost:8080/"
        },
        "outputId": "ed3bb3ec-0d96-47fe-8aa0-9705fd693205"
      },
      "outputs": [
        {
          "metadata": {
            "tags": null
          },
          "name": "stdout",
          "output_type": "stream",
          "text": [
            "나이브 베이즈 분류기 정확도 :  0.6331255565449688\n",
            "CNB 정확도: 0.7720391807658059\n"
          ]
        },
        {
          "metadata": {
            "tags": null
          },
          "name": "stderr",
          "output_type": "stream",
          "text": [
            "/usr/local/lib/python3.7/dist-packages/sklearn/linear_model/_logistic.py:818: ConvergenceWarning: lbfgs failed to converge (status=1):\n",
            "STOP: TOTAL NO. of ITERATIONS REACHED LIMIT.\n",
            "\n",
            "Increase the number of iterations (max_iter) or scale the data as shown in:\n",
            "    https://scikit-learn.org/stable/modules/preprocessing.html\n",
            "Please also refer to the documentation for alternative solver options:\n",
            "    https://scikit-learn.org/stable/modules/linear_model.html#logistic-regression\n",
            "  extra_warning_msg=_LOGISTIC_SOLVER_CONVERGENCE_MSG,\n"
          ]
        },
        {
          "metadata": {
            "tags": null
          },
          "name": "stdout",
          "output_type": "stream",
          "text": [
            "로지스틱 회귀 정확도: 0.8125556544968834\n"
          ]
        },
        {
          "metadata": {
            "tags": null
          },
          "name": "stderr",
          "output_type": "stream",
          "text": [
            "/usr/local/lib/python3.7/dist-packages/sklearn/svm/_base.py:1208: ConvergenceWarning: Liblinear failed to converge, increase the number of iterations.\n",
            "  ConvergenceWarning,\n"
          ]
        },
        {
          "output_type": "stream",
          "name": "stdout",
          "text": [
            "LSVM 정확도: 0.7715939447907391\n",
            "결정 트리 정확도: 0.6193232413178985\n",
            "랜덤 포레스트 정확도: 0.6714158504007124\n",
            "그래디언트 부스팅 트리 정확도: 0.7707034728406055\n",
            "보팅 정확도: 0.8165627782724845\n"
          ]
        }
      ],
      "source": [
        "nb_15k, cb_15k, lr_15k, lsvc_15k, tree_15k, forest_15k, grbt_15k, voting_classifier_15k = ml_model(tfidfv_15k, y_train_15k, tfidfv_15k_test, y_test_15k)"
      ]
    },
    {
      "cell_type": "markdown",
      "metadata": {
        "id": "dakVTTDtzwEA"
      },
      "source": [
        "# **Case 4. 빈도수 상위 20,000개의 단어만 사용**\n",
        "---"
      ]
    },
    {
      "cell_type": "markdown",
      "metadata": {
        "id": "97nO17D00U_f"
      },
      "source": [
        "## **1) 데이터 로드하기**\n",
        "빈도수 상위 20,000개의 단어만을 사용할 것이기 때문에 `num_words`을 20,000으로 설정해준다."
      ]
    },
    {
      "cell_type": "code",
      "execution_count": 63,
      "metadata": {
        "id": "Sp76QuyMzx57"
      },
      "outputs": [],
      "source": [
        "(x_train_20k, y_train_20k), (x_test_20k, y_test_20k) = reuters.load_data(num_words=20000, test_split=0.2)"
      ]
    },
    {
      "cell_type": "code",
      "execution_count": 64,
      "metadata": {
        "id": "-i0FeVAK0dz5",
        "colab": {
          "base_uri": "https://localhost:8080/"
        },
        "outputId": "6f9945b7-4e2b-4223-c7d5-90812d50e07c"
      },
      "outputs": [
        {
          "output_type": "stream",
          "name": "stdout",
          "text": [
            "훈련 샘플의 수: 8982\n",
            "테스트 샘플의 수: 2246\n"
          ]
        }
      ],
      "source": [
        "print('훈련 샘플의 수: {}'.format(len(x_train_20k)))\n",
        "print('테스트 샘플의 수: {}'.format(len(x_test_20k)))"
      ]
    },
    {
      "cell_type": "markdown",
      "metadata": {
        "id": "5aQ96VSF0lGX"
      },
      "source": [
        "## **2) 데이터 복원하기**"
      ]
    },
    {
      "cell_type": "code",
      "execution_count": 65,
      "metadata": {
        "id": "mNERMeKE0iuz",
        "colab": {
          "base_uri": "https://localhost:8080/"
        },
        "outputId": "b09bf3ee-f971-42a0-e26f-de2d3bc644ff"
      },
      "outputs": [
        {
          "output_type": "stream",
          "name": "stdout",
          "text": [
            "8982\n"
          ]
        }
      ],
      "source": [
        "decoded = []\n",
        "for i in range(len(x_train_20k)):\n",
        "    t = ' '.join([index_to_word[index] for index in x_train_20k[i]])\n",
        "    decoded.append(t)\n",
        "\n",
        "x_train_20k = decoded\n",
        "print(len(x_train_20k))"
      ]
    },
    {
      "cell_type": "code",
      "execution_count": 66,
      "metadata": {
        "id": "j9R7cOtO0qUY",
        "colab": {
          "base_uri": "https://localhost:8080/"
        },
        "outputId": "e6b79549-4b40-411e-a430-56e47c189ae8"
      },
      "outputs": [
        {
          "output_type": "stream",
          "name": "stdout",
          "text": [
            "2246\n"
          ]
        }
      ],
      "source": [
        "decoded = []\n",
        "for i in range(len(x_test_20k)):\n",
        "    t = ' '.join([index_to_word[index] for index in x_test_20k[i]])\n",
        "    decoded.append(t)\n",
        "\n",
        "x_test_20k = decoded\n",
        "print(len(x_test_20k))"
      ]
    },
    {
      "cell_type": "markdown",
      "metadata": {
        "id": "OnXXyGF107FM"
      },
      "source": [
        "## **3) 벡터화하기**"
      ]
    },
    {
      "cell_type": "code",
      "execution_count": 67,
      "metadata": {
        "id": "Jn-jQ7mf00vp",
        "colab": {
          "base_uri": "https://localhost:8080/"
        },
        "outputId": "e5615356-2c4e-47ce-c978-de0e8e24f9f6"
      },
      "outputs": [
        {
          "output_type": "stream",
          "name": "stdout",
          "text": [
            "(8982, 18479)\n"
          ]
        }
      ],
      "source": [
        "dtmvector = CountVectorizer()\n",
        "x_train_20k_dtm = dtmvector.fit_transform(x_train_20k)\n",
        "print(x_train_20k_dtm.shape)"
      ]
    },
    {
      "cell_type": "code",
      "execution_count": 68,
      "metadata": {
        "id": "5xmk8YDn1AGY",
        "colab": {
          "base_uri": "https://localhost:8080/"
        },
        "outputId": "20a690ed-c71c-4e8e-8807-8182e57e7c68"
      },
      "outputs": [
        {
          "output_type": "stream",
          "name": "stdout",
          "text": [
            "(8982, 18479)\n"
          ]
        }
      ],
      "source": [
        "tfidf_transformer = TfidfTransformer()\n",
        "tfidfv_20k = tfidf_transformer.fit_transform(x_train_20k_dtm)\n",
        "print(tfidfv_20k.shape)"
      ]
    },
    {
      "cell_type": "code",
      "execution_count": 69,
      "metadata": {
        "id": "NPHWC8VK1ETo",
        "colab": {
          "base_uri": "https://localhost:8080/"
        },
        "outputId": "f646065e-68a2-4cd3-8344-fb0f7345378b"
      },
      "outputs": [
        {
          "output_type": "stream",
          "name": "stdout",
          "text": [
            "(2246, 18479)\n"
          ]
        }
      ],
      "source": [
        "x_test_20k_dtm = dtmvector.transform(x_test_20k) #테스트 데이터를 DTM으로 변환\n",
        "tfidfv_20k_test = tfidf_transformer.transform(x_test_20k_dtm) #DTM을 TF-IDF 행렬로 변환\n",
        "print(tfidfv_20k_test.shape)"
      ]
    },
    {
      "cell_type": "markdown",
      "metadata": {
        "id": "OsoYNXiY1Lb1"
      },
      "source": [
        "## **4) 머신러닝 모델 학습**"
      ]
    },
    {
      "cell_type": "code",
      "execution_count": 70,
      "metadata": {
        "id": "wiAfFkfu1JT5",
        "colab": {
          "base_uri": "https://localhost:8080/"
        },
        "outputId": "244a5fbc-5ad9-40c3-9482-a95a6d80e0c9"
      },
      "outputs": [
        {
          "output_type": "stream",
          "name": "stdout",
          "text": [
            "나이브 베이즈 분류기 정확도 :  0.6193232413178985\n",
            "CNB 정확도: 0.7671415850400712\n"
          ]
        },
        {
          "output_type": "stream",
          "name": "stderr",
          "text": [
            "/usr/local/lib/python3.7/dist-packages/sklearn/linear_model/_logistic.py:818: ConvergenceWarning: lbfgs failed to converge (status=1):\n",
            "STOP: TOTAL NO. of ITERATIONS REACHED LIMIT.\n",
            "\n",
            "Increase the number of iterations (max_iter) or scale the data as shown in:\n",
            "    https://scikit-learn.org/stable/modules/preprocessing.html\n",
            "Please also refer to the documentation for alternative solver options:\n",
            "    https://scikit-learn.org/stable/modules/linear_model.html#logistic-regression\n",
            "  extra_warning_msg=_LOGISTIC_SOLVER_CONVERGENCE_MSG,\n"
          ]
        },
        {
          "output_type": "stream",
          "name": "stdout",
          "text": [
            "로지스틱 회귀 정확도: 0.8098842386464826\n"
          ]
        },
        {
          "output_type": "stream",
          "name": "stderr",
          "text": [
            "/usr/local/lib/python3.7/dist-packages/sklearn/svm/_base.py:1208: ConvergenceWarning: Liblinear failed to converge, increase the number of iterations.\n",
            "  ConvergenceWarning,\n"
          ]
        },
        {
          "output_type": "stream",
          "name": "stdout",
          "text": [
            "LSVM 정확도: 0.7742653606411398\n",
            "결정 트리 정확도: 0.6211041852181657\n",
            "랜덤 포레스트 정확도: 0.6714158504007124\n",
            "그래디언트 부스팅 트리 정확도: 0.7702582368655387\n",
            "보팅 정확도: 0.8178984861976848\n"
          ]
        }
      ],
      "source": [
        "nb_20k, cb_20k, lr_20k, lsvc_20k, tree_20k, forest_20k, grbt_20k, voting_classifier_20k = ml_model(tfidfv_20k, y_train_20k, tfidfv_20k_test, y_test_20k)"
      ]
    },
    {
      "cell_type": "markdown",
      "source": [
        "---"
      ],
      "metadata": {
        "id": "fxLN5tghWQlo"
      }
    },
    {
      "cell_type": "markdown",
      "source": [
        "# **딥러닝 모델 학습 (RNN 모델)**\n",
        "---"
      ],
      "metadata": {
        "id": "hi-w4kNlfcjt"
      }
    },
    {
      "cell_type": "code",
      "source": [
        "import tensorflow as tf"
      ],
      "metadata": {
        "id": "0AxCqjHAGawv"
      },
      "execution_count": 72,
      "outputs": []
    },
    {
      "cell_type": "code",
      "source": [
        "vocab_size = 20000   # 단어사진 크기\n",
        "word_vector_dim = 32  # 단어 하나를 표현하는 임베딩 벡터의 차원수 (변경 가능한 하이퍼파라마터)\n",
        "\n",
        "model = tf.keras.Sequential()\n",
        "model.add(tf.keras.layers.Embedding(vocab_size, word_vector_dim))\n",
        "model.add(tf.keras.layers.LSTM(32))  # LSTM 레이어 사용 & LSTM 벡터의 차원 수 변경 가능\n",
        "model.add(tf.keras.layers.Dense(8, activation = 'relu'))\n",
        "model.add(tf.keras.layers.Dense(num_classes, activation = 'softmax'))\n",
        "\n",
        "model.summary()"
      ],
      "metadata": {
        "colab": {
          "base_uri": "https://localhost:8080/"
        },
        "id": "y5LPAC4NGdwv",
        "outputId": "5253081c-b735-4009-ca05-90d5b24fd7bc"
      },
      "execution_count": 73,
      "outputs": [
        {
          "output_type": "stream",
          "name": "stdout",
          "text": [
            "Model: \"sequential\"\n",
            "_________________________________________________________________\n",
            " Layer (type)                Output Shape              Param #   \n",
            "=================================================================\n",
            " embedding (Embedding)       (None, None, 32)          640000    \n",
            "                                                                 \n",
            " lstm (LSTM)                 (None, 32)                8320      \n",
            "                                                                 \n",
            " dense (Dense)               (None, 8)                 264       \n",
            "                                                                 \n",
            " dense_1 (Dense)             (None, 46)                414       \n",
            "                                                                 \n",
            "=================================================================\n",
            "Total params: 648,998\n",
            "Trainable params: 648,998\n",
            "Non-trainable params: 0\n",
            "_________________________________________________________________\n"
          ]
        }
      ]
    },
    {
      "cell_type": "code",
      "source": [
        "print(tfidfv_20k.shape)\n",
        "print(y_train_20k.shape)"
      ],
      "metadata": {
        "colab": {
          "base_uri": "https://localhost:8080/"
        },
        "id": "4un5UZvRGf4h",
        "outputId": "2eb1a3d5-09d7-401c-a5b8-f39240388757"
      },
      "execution_count": 74,
      "outputs": [
        {
          "output_type": "stream",
          "name": "stdout",
          "text": [
            "(8982, 18479)\n",
            "(8982,)\n"
          ]
        }
      ]
    },
    {
      "cell_type": "markdown",
      "source": [
        "딥러닝 모델을 학습하기 위해 `validation 데이터셋`을 만들어보자."
      ],
      "metadata": {
        "id": "oSeTwuifQeKQ"
      }
    },
    {
      "cell_type": "code",
      "source": [
        "from sklearn.model_selection import train_test_split\n",
        "\n",
        "tfidfv_20k, tfidfv_20k_val, y_train_20k, y_val_20k = train_test_split(tfidfv_20k, y_train_20k, test_size = 0.2)"
      ],
      "metadata": {
        "id": "KnuTwgykGhT7"
      },
      "execution_count": 75,
      "outputs": []
    },
    {
      "cell_type": "markdown",
      "source": [
        "데이터를 분리한 후의 train 데이터셋 크기와 val 데이터셋 크기를 확인해보자."
      ],
      "metadata": {
        "id": "E1GTtoKQQnXG"
      }
    },
    {
      "cell_type": "code",
      "source": [
        "print(tfidfv_20k.shape)\n",
        "print(y_train_20k.shape)"
      ],
      "metadata": {
        "colab": {
          "base_uri": "https://localhost:8080/"
        },
        "id": "KSenprYwGjCv",
        "outputId": "333e6e0b-c595-44a8-c93e-5499de5c0b6d"
      },
      "execution_count": 76,
      "outputs": [
        {
          "output_type": "stream",
          "name": "stdout",
          "text": [
            "(7185, 18479)\n",
            "(7185,)\n"
          ]
        }
      ]
    },
    {
      "cell_type": "code",
      "source": [
        "print(tfidfv_20k_val.shape)\n",
        "print(y_val_20k.shape)"
      ],
      "metadata": {
        "colab": {
          "base_uri": "https://localhost:8080/"
        },
        "id": "e_dPhLEHGkwM",
        "outputId": "96f36177-c5fb-45c3-d47f-0be64d7e5534"
      },
      "execution_count": 77,
      "outputs": [
        {
          "output_type": "stream",
          "name": "stdout",
          "text": [
            "(1797, 18479)\n",
            "(1797,)\n"
          ]
        }
      ]
    },
    {
      "cell_type": "markdown",
      "source": [
        "아래 모델 학습 시에 sparse matrix 관련한 문제가 발생하여 `tfidfv_20k`가 어떤 타입인지 확인해보았다."
      ],
      "metadata": {
        "id": "RwAP7iRyQwHL"
      }
    },
    {
      "cell_type": "code",
      "source": [
        "tfidfv_20k"
      ],
      "metadata": {
        "colab": {
          "base_uri": "https://localhost:8080/"
        },
        "id": "4LcRiOWYGl5y",
        "outputId": "23a32abb-412a-4753-88c8-c743f1c0f422"
      },
      "execution_count": 78,
      "outputs": [
        {
          "output_type": "execute_result",
          "data": {
            "text/plain": [
              "<7185x18479 sparse matrix of type '<class 'numpy.float64'>'\n",
              "\twith 560512 stored elements in Compressed Sparse Row format>"
            ]
          },
          "metadata": {},
          "execution_count": 78
        }
      ]
    },
    {
      "cell_type": "markdown",
      "source": [
        "sparse matrix를 array로 모두 바꿔주자"
      ],
      "metadata": {
        "id": "tcmGsCpcRBGE"
      }
    },
    {
      "cell_type": "code",
      "source": [
        "tfidfv_20k_arr = tfidfv_20k.toarray()\n",
        "tfidfv_20k_val_arr = tfidfv_20k_val.toarray()\n",
        "tfidfv_20k_test_arr = tfidfv_20k_test.toarray()"
      ],
      "metadata": {
        "id": "V7XGLr4nGnjk"
      },
      "execution_count": 79,
      "outputs": []
    },
    {
      "cell_type": "markdown",
      "source": [
        "array로 변경되었는지 확인해보자."
      ],
      "metadata": {
        "id": "svx0TRmqRG03"
      }
    },
    {
      "cell_type": "code",
      "source": [
        "tfidfv_20k_arr"
      ],
      "metadata": {
        "colab": {
          "base_uri": "https://localhost:8080/"
        },
        "id": "CiC8B7c1fk5T",
        "outputId": "56cb7904-4a7e-46b9-cb6e-4fc5315c802d"
      },
      "execution_count": 80,
      "outputs": [
        {
          "output_type": "execute_result",
          "data": {
            "text/plain": [
              "array([[0.        , 0.10378465, 0.        , ..., 0.        , 0.        ,\n",
              "        0.        ],\n",
              "       [0.        , 0.        , 0.        , ..., 0.        , 0.        ,\n",
              "        0.        ],\n",
              "       [0.        , 0.        , 0.        , ..., 0.        , 0.        ,\n",
              "        0.        ],\n",
              "       ...,\n",
              "       [0.        , 0.        , 0.        , ..., 0.        , 0.        ,\n",
              "        0.        ],\n",
              "       [0.        , 0.        , 0.        , ..., 0.        , 0.        ,\n",
              "        0.        ],\n",
              "       [0.        , 0.        , 0.        , ..., 0.        , 0.        ,\n",
              "        0.        ]])"
            ]
          },
          "metadata": {},
          "execution_count": 80
        }
      ]
    },
    {
      "cell_type": "markdown",
      "source": [
        "딥러닝 모델(RNN)을 학습시켜보자."
      ],
      "metadata": {
        "id": "jttgE9pyRLq0"
      }
    },
    {
      "cell_type": "code",
      "source": [
        "# from tensorflow.keras.callbacks import EarlyStopping\n",
        "\n",
        "# model.compile(optimizer = 'adam',\n",
        "#               loss = 'sparse_categorical_crossentropy',\n",
        "#               metrics = ['accuracy'])\n",
        "\n",
        "# epochs = 10\n",
        "\n",
        "# es = EarlyStopping(monitor='val_loss', patience=3, verbose=1)\n",
        "\n",
        "# history = model.fit(tfidfv_20k_arr,\n",
        "#                     y_train_20k,\n",
        "#                     epochs = epochs,\n",
        "#                     batch_size = 64,\n",
        "#                     callbacks=[es],\n",
        "#                     validation_data = (tfidfv_20k_val_arr, y_val_20k),\n",
        "#                     verbose=1)"
      ],
      "metadata": {
        "id": "zjTwUbwvfmBc"
      },
      "execution_count": null,
      "outputs": []
    },
    {
      "cell_type": "markdown",
      "source": [
        "- 모델을 학습하니 너~무 오래걸리거나 커널이 죽는 상황이 발생하여 결국 학습시키지 못하였다."
      ],
      "metadata": {
        "id": "7NX4yRNyRPXI"
      }
    },
    {
      "cell_type": "markdown",
      "source": [
        "# **F1-Score, Confusion Matrix**\n",
        "---"
      ],
      "metadata": {
        "id": "EoaGH1L8nZnZ"
      }
    },
    {
      "cell_type": "markdown",
      "source": [
        "- 이번 실습에서는 성능 비교를 위한 척도로 `정확도(Accuracy)`를 사용한다. \n",
        "- 하지만 그 외에도 `F1-score`이 있다.\n",
        "- [분류성능평가지표](https://sumniya.tistory.com/26)\n",
        "- `accuracy`는 label의 불균형을 제대로 고려하지 못하기 때문에 label의 불균형을 고려한 `f1-score`를 사용하기도 한다."
      ],
      "metadata": {
        "id": "WkpnICWFN5mL"
      }
    },
    {
      "cell_type": "code",
      "source": [
        "from sklearn.metrics import classification_report\n",
        "from sklearn.metrics import confusion_matrix\n",
        "\n",
        "print('=3')"
      ],
      "metadata": {
        "colab": {
          "base_uri": "https://localhost:8080/"
        },
        "id": "FRhjmk5lnZKt",
        "outputId": "28923801-8e5e-49e4-fc85-238e3d8cb547"
      },
      "execution_count": 81,
      "outputs": [
        {
          "output_type": "stream",
          "name": "stdout",
          "text": [
            "=3\n"
          ]
        }
      ]
    },
    {
      "cell_type": "markdown",
      "source": [
        "사이킷런 `metrics` 패키지에서는 정밀도, 재현율, F1점수를 구하는 `classification_report()` 함수를 제공한다.  \n",
        "가장 정확도가 높았던 `전체 단어를 활용한 voting 모델`의 F1점수를 구해보고자 한다."
      ],
      "metadata": {
        "id": "ejad8VKROCQI"
      }
    },
    {
      "cell_type": "code",
      "source": [
        "print(classification_report(y_test, voting_classifier.predict(tfidfv_test), zero_division=0))"
      ],
      "metadata": {
        "colab": {
          "base_uri": "https://localhost:8080/"
        },
        "id": "c7XSe7fsn2El",
        "outputId": "279576d6-d641-4331-e176-0063f82d6a55"
      },
      "execution_count": 87,
      "outputs": [
        {
          "output_type": "stream",
          "name": "stdout",
          "text": [
            "              precision    recall  f1-score   support\n",
            "\n",
            "           0       0.75      0.75      0.75        12\n",
            "           1       0.80      0.77      0.79       105\n",
            "           2       0.67      0.80      0.73        20\n",
            "           3       0.93      0.94      0.93       813\n",
            "           4       0.82      0.88      0.85       474\n",
            "           5       1.00      0.20      0.33         5\n",
            "           6       0.87      0.93      0.90        14\n",
            "           7       1.00      0.33      0.50         3\n",
            "           8       0.69      0.71      0.70        38\n",
            "           9       0.80      0.80      0.80        25\n",
            "          10       0.90      0.90      0.90        30\n",
            "          11       0.67      0.71      0.69        83\n",
            "          12       0.60      0.46      0.52        13\n",
            "          13       0.69      0.65      0.67        37\n",
            "          14       0.29      1.00      0.44         2\n",
            "          15       0.40      0.22      0.29         9\n",
            "          16       0.73      0.76      0.74        99\n",
            "          17       0.75      0.50      0.60        12\n",
            "          18       0.73      0.55      0.63        20\n",
            "          19       0.71      0.71      0.71       133\n",
            "          20       0.66      0.50      0.57        70\n",
            "          21       0.63      0.81      0.71        27\n",
            "          22       1.00      0.14      0.25         7\n",
            "          23       0.62      0.67      0.64        12\n",
            "          24       0.73      0.58      0.65        19\n",
            "          25       0.92      0.77      0.84        31\n",
            "          26       1.00      1.00      1.00         8\n",
            "          27       0.67      0.50      0.57         4\n",
            "          28       0.33      0.30      0.32        10\n",
            "          29       0.50      1.00      0.67         4\n",
            "          30       0.54      0.58      0.56        12\n",
            "          31       0.82      0.69      0.75        13\n",
            "          32       1.00      1.00      1.00        10\n",
            "          33       0.83      1.00      0.91         5\n",
            "          34       0.80      0.57      0.67         7\n",
            "          35       1.00      0.33      0.50         6\n",
            "          36       0.54      0.64      0.58        11\n",
            "          37       0.50      0.50      0.50         2\n",
            "          38       0.50      0.33      0.40         3\n",
            "          39       0.25      0.20      0.22         5\n",
            "          40       1.00      0.40      0.57        10\n",
            "          41       0.80      0.50      0.62         8\n",
            "          42       1.00      1.00      1.00         3\n",
            "          43       0.83      0.83      0.83         6\n",
            "          44       0.80      0.80      0.80         5\n",
            "          45       0.50      1.00      0.67         1\n",
            "\n",
            "    accuracy                           0.82      2246\n",
            "   macro avg       0.73      0.66      0.66      2246\n",
            "weighted avg       0.82      0.82      0.81      2246\n",
            "\n"
          ]
        }
      ]
    },
    {
      "cell_type": "markdown",
      "source": [
        "- `F1 score`로 0.82가 나왔다."
      ],
      "metadata": {
        "id": "yjQnhOhsOF0I"
      }
    },
    {
      "cell_type": "code",
      "source": [
        "def graph_confusion_matrix(model, x_test, y_test):#, classes_name):\n",
        "    df_cm = pd.DataFrame(confusion_matrix(y_test, model.predict(x_test)))#, index=classes_name, columns=classes_name)\n",
        "    fig = plt.figure(figsize=(12,12))\n",
        "    heatmap = sns.heatmap(df_cm, annot=True, fmt=\"d\")\n",
        "    heatmap.yaxis.set_ticklabels(heatmap.yaxis.get_ticklabels(), rotation=0, ha='right', fontsize=12)\n",
        "    heatmap.xaxis.set_ticklabels(heatmap.xaxis.get_ticklabels(), rotation=45, ha='right', fontsize=12)\n",
        "    plt.ylabel('label')\n",
        "    plt.xlabel('predicted value')\n",
        "\n",
        "print('=3')"
      ],
      "metadata": {
        "colab": {
          "base_uri": "https://localhost:8080/"
        },
        "id": "_4tAAECjoXeY",
        "outputId": "e81034f7-f0a3-4932-c093-dbe51786c19e"
      },
      "execution_count": 88,
      "outputs": [
        {
          "output_type": "stream",
          "name": "stdout",
          "text": [
            "=3\n"
          ]
        }
      ]
    },
    {
      "cell_type": "markdown",
      "source": [
        "`Confusion Matrix`를 함수를 통해서 시각화해보자."
      ],
      "metadata": {
        "id": "hB0c_CtVOutM"
      }
    },
    {
      "cell_type": "code",
      "source": [
        "graph_confusion_matrix(voting_classifier, tfidfv_test, y_test)"
      ],
      "metadata": {
        "colab": {
          "base_uri": "https://localhost:8080/",
          "height": 724
        },
        "id": "PIAyzLzXobQF",
        "outputId": "94d82bb8-2b37-4372-9296-1bda5fdc7d2d"
      },
      "execution_count": 89,
      "outputs": [
        {
          "output_type": "display_data",
          "data": {
            "text/plain": [
              "<Figure size 864x864 with 2 Axes>"
            ],
            "image/png": "[encoded data removed]"
          },
          "metadata": {
            "needs_background": "light"
          }
        }
      ]
    },
    {
      "cell_type": "markdown",
      "source": [
        "- `label`이 3일 때, 3으로 예측한 개수와 4일 때 4로 예측한 개수가 많은 것을 그래프를 통해 확인할 수 있다.\n",
        "- 대각선에 위치한 값이 높아야 예측이 잘 된다고 볼 수 있다.\n",
        "- 해당 그래프를 보면 대각선에 위치한 값들이 전반적으로 높고 그 외의 값들은 0 또는 작은 값인 것을 알 수 있다."
      ],
      "metadata": {
        "id": "O9YmzQoSPEnK"
      }
    },
    {
      "cell_type": "markdown",
      "source": [
        "# **🌞 회고**\n",
        "---"
      ],
      "metadata": {
        "id": "z6xdpTCAmdoD"
      }
    },
    {
      "cell_type": "markdown",
      "source": [
        "## **1) 결과**\n",
        "- 머신러닝 모델 총 8개를 학습하여 정확도를 확인해보았다."
      ],
      "metadata": {
        "id": "ALhHnTW-mnlV"
      }
    },
    {
      "cell_type": "markdown",
      "source": [
        "| 모델 / num_words | 10000 | all | 5000 | 15000 | 20000 | 모델 별 평균 정확도 |\n",
        "| --- | --- | --- | --- | --- | --- | --- |\n",
        "| 나이브 베이즈 분류기 | 0.657 | 0.6 | 0.673 | 0.633 | 0.619 | 0.636 |\n",
        "| CNB | 0.771 | 0.765 | 0.771 | 0.772 | 0.767 | 0.769 |\n",
        "| 로지스틱 회귀 | 0.808 | 0.813 | 0.806 | 0.813 | 0.81 | 0.81 |\n",
        "| LSVM | 0.772 | 0.782 | 0.764 | 0.772 | 0.774 | 0.773 |\n",
        "| 결정트리 | 0.62 | 0.621 | 0.618 | 0.619 | 0.621 | 0.62 |\n",
        "| 랜덤포레스트 | 0.674 | 0.654 | 0.701 | 0.671 | 0.671 | 0.675 |\n",
        "| 그래디언트 부스팅 트리 | 0.766 | 0.77 | 0.768 | 0.771 | 0.77 | 0.769 |\n",
        "| 보팅 | 0.812 | 0.819 | 0.816 | 0.817 | 0.818 | 0.816 |\n",
        "| 개수 별 평균 정확도 | 0.735 | 0.728 | 0.74 | 0.733 | 0.731 |"
      ],
      "metadata": {
        "id": "uaxUDH0WIb7u"
      }
    },
    {
      "cell_type": "markdown",
      "source": [
        "- `num_words` 5,000개로 설정했을 때가 정확도 `0.74`로 가장 높은 것을 확인할 수 있다.\n",
        "- 이 경우, `랜덤 포레스트 모델`에서 압도적으로 높은 정확도가 나와서 위와 같은 결론에 다다랐다.\n",
        "- 모델 별로 확인해보았을 땐, `보팅(voting)`이 가장 정확도가 높은 모델임을 알 수 있다."
      ],
      "metadata": {
        "id": "jel4PyIgIoa7"
      }
    },
    {
      "cell_type": "markdown",
      "source": [
        "## **2) 아쉬웠던 점**\n",
        "- 딥러닝 모델로 학습을 하려고 했으나 학습시간이 너무 오래 걸리거나 자꾸 커널이 꺼지는 문제가 발생하였다.\n",
        "- 코랩 문제인가 해서 아이펠 클라우드 환경으로도 해보았지만 여전히 동일하게 문제가 발생해서... 결국 딥러닝 모델을 학습시키지 못하였다. (다음부턴 꼭 공지해주시길,,,)"
      ],
      "metadata": {
        "id": "c6oMhOjRokva"
      }
    },
    {
      "cell_type": "markdown",
      "source": [
        "## **3) 후기**\n",
        "- 다양한 머신러닝 모델들을 알 수 있어서 좋았다.\n",
        "- 다른 분의 코드를 참고하여 머신러닝 모델의 훈련과 예측을 함수로 구현해보았다.\n",
        "- 앞으로의 프로젝트에서 스스로 함수 구현을 해보도록 노력해봐야겠다.\n",
        "- `DTM`과 `TF-IDF`는 아직도 명확하게 이해가 되지 않아 좀 더 공부가 필요할 듯하다."
      ],
      "metadata": {
        "id": "VzDwYO9vPn_u"
      }
    }
  ],
  "metadata": {
    "colab": {
      "collapsed_sections": [],
      "name": "[GD-4] DTM, TF-IDF",
      "provenance": []
    },
    "kernelspec": {
      "display_name": "Python 3",
      "name": "python3"
    },
    "language_info": {
      "name": "python"
    }
  },
  "nbformat": 4,
  "nbformat_minor": 0
}