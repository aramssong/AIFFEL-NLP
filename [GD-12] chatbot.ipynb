{
  "nbformat": 4,
  "nbformat_minor": 0,
  "metadata": {
    "colab": {
      "name": "[GD-12] chatbot",
      "provenance": [],
      "collapsed_sections": [],
      "machine_shape": "hm"
    },
    "kernelspec": {
      "name": "python3",
      "display_name": "Python 3"
    },
    "language_info": {
      "name": "python"
    },
    "accelerator": "GPU",
    "widgets": {
      "application/vnd.jupyter.widget-state+json": {
        "9f89049a7e054f3ba4e255392933252f": {
          "model_module": "@jupyter-widgets/controls",
          "model_name": "HBoxModel",
          "model_module_version": "1.5.0",
          "state": {
            "_dom_classes": [],
            "_model_module": "@jupyter-widgets/controls",
            "_model_module_version": "1.5.0",
            "_model_name": "HBoxModel",
            "_view_count": null,
            "_view_module": "@jupyter-widgets/controls",
            "_view_module_version": "1.5.0",
            "_view_name": "HBoxView",
            "box_style": "",
            "children": [
              "IPY_MODEL_3fe2d17932bf479d97f98a2dc3ddfd9b",
              "IPY_MODEL_f4f9001d4ace420c97b4b2340741e872",
              "IPY_MODEL_eb190b9caf4c4afa9b17c912fbbec4df"
            ],
            "layout": "IPY_MODEL_2b16f8e73ab24ca88890b926deae7357"
          }
        },
        "3fe2d17932bf479d97f98a2dc3ddfd9b": {
          "model_module": "@jupyter-widgets/controls",
          "model_name": "HTMLModel",
          "model_module_version": "1.5.0",
          "state": {
            "_dom_classes": [],
            "_model_module": "@jupyter-widgets/controls",
            "_model_module_version": "1.5.0",
            "_model_name": "HTMLModel",
            "_view_count": null,
            "_view_module": "@jupyter-widgets/controls",
            "_view_module_version": "1.5.0",
            "_view_name": "HTMLView",
            "description": "",
            "description_tooltip": null,
            "layout": "IPY_MODEL_2f58c415b9cf40f6bc7dd377db27ea58",
            "placeholder": "​",
            "style": "IPY_MODEL_1ee108d1a3864b1ca4ba6b33b922100b",
            "value": "100%"
          }
        },
        "f4f9001d4ace420c97b4b2340741e872": {
          "model_module": "@jupyter-widgets/controls",
          "model_name": "FloatProgressModel",
          "model_module_version": "1.5.0",
          "state": {
            "_dom_classes": [],
            "_model_module": "@jupyter-widgets/controls",
            "_model_module_version": "1.5.0",
            "_model_name": "FloatProgressModel",
            "_view_count": null,
            "_view_module": "@jupyter-widgets/controls",
            "_view_module_version": "1.5.0",
            "_view_name": "ProgressView",
            "bar_style": "success",
            "description": "",
            "description_tooltip": null,
            "layout": "IPY_MODEL_a5142cf7c0194954848cfbc36fdf3624",
            "max": 11644,
            "min": 0,
            "orientation": "horizontal",
            "style": "IPY_MODEL_61fbc53f93644a9085a26d9ccbae7c17",
            "value": 11644
          }
        },
        "eb190b9caf4c4afa9b17c912fbbec4df": {
          "model_module": "@jupyter-widgets/controls",
          "model_name": "HTMLModel",
          "model_module_version": "1.5.0",
          "state": {
            "_dom_classes": [],
            "_model_module": "@jupyter-widgets/controls",
            "_model_module_version": "1.5.0",
            "_model_name": "HTMLModel",
            "_view_count": null,
            "_view_module": "@jupyter-widgets/controls",
            "_view_module_version": "1.5.0",
            "_view_name": "HTMLView",
            "description": "",
            "description_tooltip": null,
            "layout": "IPY_MODEL_3ca9d4e2973847329efb76ba786a2ca4",
            "placeholder": "​",
            "style": "IPY_MODEL_9a177aaf250f4ce5ba4189120db5a237",
            "value": " 11644/11644 [00:38&lt;00:00, 520.38it/s]"
          }
        },
        "2b16f8e73ab24ca88890b926deae7357": {
          "model_module": "@jupyter-widgets/base",
          "model_name": "LayoutModel",
          "model_module_version": "1.2.0",
          "state": {
            "_model_module": "@jupyter-widgets/base",
            "_model_module_version": "1.2.0",
            "_model_name": "LayoutModel",
            "_view_count": null,
            "_view_module": "@jupyter-widgets/base",
            "_view_module_version": "1.2.0",
            "_view_name": "LayoutView",
            "align_content": null,
            "align_items": null,
            "align_self": null,
            "border": null,
            "bottom": null,
            "display": null,
            "flex": null,
            "flex_flow": null,
            "grid_area": null,
            "grid_auto_columns": null,
            "grid_auto_flow": null,
            "grid_auto_rows": null,
            "grid_column": null,
            "grid_gap": null,
            "grid_row": null,
            "grid_template_areas": null,
            "grid_template_columns": null,
            "grid_template_rows": null,
            "height": null,
            "justify_content": null,
            "justify_items": null,
            "left": null,
            "margin": null,
            "max_height": null,
            "max_width": null,
            "min_height": null,
            "min_width": null,
            "object_fit": null,
            "object_position": null,
            "order": null,
            "overflow": null,
            "overflow_x": null,
            "overflow_y": null,
            "padding": null,
            "right": null,
            "top": null,
            "visibility": null,
            "width": null
          }
        },
        "2f58c415b9cf40f6bc7dd377db27ea58": {
          "model_module": "@jupyter-widgets/base",
          "model_name": "LayoutModel",
          "model_module_version": "1.2.0",
          "state": {
            "_model_module": "@jupyter-widgets/base",
            "_model_module_version": "1.2.0",
            "_model_name": "LayoutModel",
            "_view_count": null,
            "_view_module": "@jupyter-widgets/base",
            "_view_module_version": "1.2.0",
            "_view_name": "LayoutView",
            "align_content": null,
            "align_items": null,
            "align_self": null,
            "border": null,
            "bottom": null,
            "display": null,
            "flex": null,
            "flex_flow": null,
            "grid_area": null,
            "grid_auto_columns": null,
            "grid_auto_flow": null,
            "grid_auto_rows": null,
            "grid_column": null,
            "grid_gap": null,
            "grid_row": null,
            "grid_template_areas": null,
            "grid_template_columns": null,
            "grid_template_rows": null,
            "height": null,
            "justify_content": null,
            "justify_items": null,
            "left": null,
            "margin": null,
            "max_height": null,
            "max_width": null,
            "min_height": null,
            "min_width": null,
            "object_fit": null,
            "object_position": null,
            "order": null,
            "overflow": null,
            "overflow_x": null,
            "overflow_y": null,
            "padding": null,
            "right": null,
            "top": null,
            "visibility": null,
            "width": null
          }
        },
        "1ee108d1a3864b1ca4ba6b33b922100b": {
          "model_module": "@jupyter-widgets/controls",
          "model_name": "DescriptionStyleModel",
          "model_module_version": "1.5.0",
          "state": {
            "_model_module": "@jupyter-widgets/controls",
            "_model_module_version": "1.5.0",
            "_model_name": "DescriptionStyleModel",
            "_view_count": null,
            "_view_module": "@jupyter-widgets/base",
            "_view_module_version": "1.2.0",
            "_view_name": "StyleView",
            "description_width": ""
          }
        },
        "a5142cf7c0194954848cfbc36fdf3624": {
          "model_module": "@jupyter-widgets/base",
          "model_name": "LayoutModel",
          "model_module_version": "1.2.0",
          "state": {
            "_model_module": "@jupyter-widgets/base",
            "_model_module_version": "1.2.0",
            "_model_name": "LayoutModel",
            "_view_count": null,
            "_view_module": "@jupyter-widgets/base",
            "_view_module_version": "1.2.0",
            "_view_name": "LayoutView",
            "align_content": null,
            "align_items": null,
            "align_self": null,
            "border": null,
            "bottom": null,
            "display": null,
            "flex": null,
            "flex_flow": null,
            "grid_area": null,
            "grid_auto_columns": null,
            "grid_auto_flow": null,
            "grid_auto_rows": null,
            "grid_column": null,
            "grid_gap": null,
            "grid_row": null,
            "grid_template_areas": null,
            "grid_template_columns": null,
            "grid_template_rows": null,
            "height": null,
            "justify_content": null,
            "justify_items": null,
            "left": null,
            "margin": null,
            "max_height": null,
            "max_width": null,
            "min_height": null,
            "min_width": null,
            "object_fit": null,
            "object_position": null,
            "order": null,
            "overflow": null,
            "overflow_x": null,
            "overflow_y": null,
            "padding": null,
            "right": null,
            "top": null,
            "visibility": null,
            "width": null
          }
        },
        "61fbc53f93644a9085a26d9ccbae7c17": {
          "model_module": "@jupyter-widgets/controls",
          "model_name": "ProgressStyleModel",
          "model_module_version": "1.5.0",
          "state": {
            "_model_module": "@jupyter-widgets/controls",
            "_model_module_version": "1.5.0",
            "_model_name": "ProgressStyleModel",
            "_view_count": null,
            "_view_module": "@jupyter-widgets/base",
            "_view_module_version": "1.2.0",
            "_view_name": "StyleView",
            "bar_color": null,
            "description_width": ""
          }
        },
        "3ca9d4e2973847329efb76ba786a2ca4": {
          "model_module": "@jupyter-widgets/base",
          "model_name": "LayoutModel",
          "model_module_version": "1.2.0",
          "state": {
            "_model_module": "@jupyter-widgets/base",
            "_model_module_version": "1.2.0",
            "_model_name": "LayoutModel",
            "_view_count": null,
            "_view_module": "@jupyter-widgets/base",
            "_view_module_version": "1.2.0",
            "_view_name": "LayoutView",
            "align_content": null,
            "align_items": null,
            "align_self": null,
            "border": null,
            "bottom": null,
            "display": null,
            "flex": null,
            "flex_flow": null,
            "grid_area": null,
            "grid_auto_columns": null,
            "grid_auto_flow": null,
            "grid_auto_rows": null,
            "grid_column": null,
            "grid_gap": null,
            "grid_row": null,
            "grid_template_areas": null,
            "grid_template_columns": null,
            "grid_template_rows": null,
            "height": null,
            "justify_content": null,
            "justify_items": null,
            "left": null,
            "margin": null,
            "max_height": null,
            "max_width": null,
            "min_height": null,
            "min_width": null,
            "object_fit": null,
            "object_position": null,
            "order": null,
            "overflow": null,
            "overflow_x": null,
            "overflow_y": null,
            "padding": null,
            "right": null,
            "top": null,
            "visibility": null,
            "width": null
          }
        },
        "9a177aaf250f4ce5ba4189120db5a237": {
          "model_module": "@jupyter-widgets/controls",
          "model_name": "DescriptionStyleModel",
          "model_module_version": "1.5.0",
          "state": {
            "_model_module": "@jupyter-widgets/controls",
            "_model_module_version": "1.5.0",
            "_model_name": "DescriptionStyleModel",
            "_view_count": null,
            "_view_module": "@jupyter-widgets/base",
            "_view_module_version": "1.2.0",
            "_view_name": "StyleView",
            "description_width": ""
          }
        }
      }
    }
  },
  "cells": [
    {
      "cell_type": "markdown",
      "source": [
        "# **[GD-12] 멋진 챗봇 만들기**"
      ],
      "metadata": {
        "id": "NZXLHKNpTjTr"
      }
    },
    {
      "cell_type": "markdown",
      "source": [
        "# **Step 0. 라이브러리 불러오기**\n",
        "---"
      ],
      "metadata": {
        "id": "WGkb05DjTmQC"
      }
    },
    {
      "cell_type": "code",
      "execution_count": 1,
      "metadata": {
        "id": "w_z_aVDoTflc"
      },
      "outputs": [],
      "source": [
        "import numpy as np\n",
        "import pandas as pd\n",
        "import tensorflow as tf\n",
        "import nltk\n",
        "import gensim\n",
        "\n",
        "import re\n",
        "import os\n",
        "import random"
      ]
    },
    {
      "cell_type": "markdown",
      "source": [
        "# **Step 1. 데이터 불러오기**\n",
        "---"
      ],
      "metadata": {
        "id": "ElCtr85caUK3"
      }
    },
    {
      "cell_type": "code",
      "source": [
        "path_to_data = '/content/drive/MyDrive/AIFFEL/[GD-12]/ChatbotData.csv'\n",
        "data = pd.read_csv(path_to_data)\n",
        "data.head(50)"
      ],
      "metadata": {
        "colab": {
          "base_uri": "https://localhost:8080/",
          "height": 1000
        },
        "id": "Z3TBBO25VjxK",
        "outputId": "df4b0ecd-c2cb-44b6-da0e-8d0b0fd1e341"
      },
      "execution_count": 2,
      "outputs": [
        {
          "output_type": "execute_result",
          "data": {
            "text/plain": [
              "                          Q                                                 A  \\\n",
              "0                    12시 땡!                                        하루가 또 가네요.   \n",
              "1               1지망 학교 떨어졌어                                         위로해 드립니다.   \n",
              "2              3박4일 놀러가고 싶다                                       여행은 언제나 좋죠.   \n",
              "3           3박4일 정도 놀러가고 싶다                                       여행은 언제나 좋죠.   \n",
              "4                   PPL 심하네                                        눈살이 찌푸려지죠.   \n",
              "5                 SD카드 망가졌어                                다시 새로 사는 게 마음 편해요.   \n",
              "6                   SD카드 안돼                                다시 새로 사는 게 마음 편해요.   \n",
              "7            SNS 맞팔 왜 안하지ㅠㅠ                                  잘 모르고 있을 수도 있어요.   \n",
              "8   SNS 시간낭비인 거 아는데 매일 하는 중                                     시간을 정하고 해보세요.   \n",
              "9         SNS 시간낭비인데 자꾸 보게됨                                     시간을 정하고 해보세요.   \n",
              "10      SNS보면 나만 빼고 다 행복해보여                                       자랑하는 자리니까요.   \n",
              "11                   가끔 궁금해                                     그 사람도 그럴 거예요.   \n",
              "12              가끔 뭐하는지 궁금해                                     그 사람도 그럴 거예요.   \n",
              "13              가끔은 혼자인게 좋다                                         혼자를 즐기세요.   \n",
              "14                가난한 자의 설움                                    돈은 다시 들어올 거예요.   \n",
              "15               가만 있어도 땀난다                                         땀을 식혀주세요.   \n",
              "16               가상화폐 쫄딱 망함                                    어서 잊고 새출발 하세요.   \n",
              "17               가스불 켜고 나갔어                               빨리 집에 돌아가서 끄고 나오세요.   \n",
              "18           가스불 켜놓고 나온거 같아                               빨리 집에 돌아가서 끄고 나오세요.   \n",
              "19           가스비 너무 많이 나왔다.                                   다음 달에는 더 절약해봐요.   \n",
              "20          가스비 비싼데 감기 걸리겠어                                         따뜻하게 사세요!   \n",
              "21                가스비 장난 아님                                   다음 달에는 더 절약해봐요.   \n",
              "22             가장 확실한 건 뭘까?  가장 확실한 시간은 오늘이에요. 어제와 내일을 놓고 고민하느라 시간을 낭비하지 마세요.   \n",
              "23             가족 여행 가기로 했어                         온 가족이 모두 마음에 드는 곳으로 가보세요.   \n",
              "24                 가족 여행 고고                         온 가족이 모두 마음에 드는 곳으로 가보세요.   \n",
              "25            가족 여행 어디로 가지?                         온 가족이 모두 마음에 드는 곳으로 가보세요.   \n",
              "26                   가족 있어?     저를 만들어 준 사람을 부모님, 저랑 이야기해 주는 사람을 친구로 생각하고 있어요   \n",
              "27                가족관계 알려 줘     저를 만들어 준 사람을 부모님, 저랑 이야기해 주는 사람을 친구로 생각하고 있어요   \n",
              "28               가족끼리 여행간다.                                  더 가까워질 기회가 되겠네요.   \n",
              "29                가족들 보고 싶어                                              저도요.   \n",
              "30                가족들이랑 서먹해                           다들 바빠서 이야기할 시간이 부족했나봐요.   \n",
              "31              가족들이랑 서먹해졌어                           다들 바빠서 이야기할 시간이 부족했나봐요.   \n",
              "32             가족들이랑 어디 가지?                         온 가족이 모두 마음에 드는 곳으로 가보세요.   \n",
              "33             가족들이랑 여행 갈거야                                         좋은 생각이에요.   \n",
              "34                 가족여행 가야지                                  더 가까워질 기회가 되겠네요.   \n",
              "35                 가족이 누구야?     저를 만들어 준 사람을 부모님, 저랑 이야기해 주는 사람을 친구로 생각하고 있어요   \n",
              "36              가족이랑 여행 가려고                                         좋은 생각이에요.   \n",
              "37            가족한테 스트레스 풀었어                                     정말 후회할 습관이에요.   \n",
              "38                    가출할까?                                  무모한 결정을 내리지 마세요.   \n",
              "39             가출해도 갈 데가 없어                                 선생님이나 기관에 연락해보세요.   \n",
              "40             간만에 떨리니까 좋더라                               떨리는 감정은 그 자체로 소중해요.   \n",
              "41                 간만에 쇼핑 중                                         득템했길 바라요.   \n",
              "42                 간만에 휴식 중                                         휴식도 필요하죠.   \n",
              "43                 간식 뭐 먹을까                                 단짠으로 두 개 사는게 진리죠.   \n",
              "44                    간식 추천                                 단짠으로 두 개 사는게 진리죠.   \n",
              "45                간장치킨 시켜야지                                          맛있게 드세요.   \n",
              "46                  간접흡연 싫어                                           저도 싫어요.   \n",
              "47               갈까 말까 고민 돼                                              가세요.   \n",
              "48                   갈까 말까?                                              가세요.   \n",
              "49             감 말랭이 먹고 싶다.                                          맛있게 드세요.   \n",
              "\n",
              "    label  \n",
              "0       0  \n",
              "1       0  \n",
              "2       0  \n",
              "3       0  \n",
              "4       0  \n",
              "5       0  \n",
              "6       0  \n",
              "7       0  \n",
              "8       0  \n",
              "9       0  \n",
              "10      0  \n",
              "11      0  \n",
              "12      0  \n",
              "13      0  \n",
              "14      0  \n",
              "15      0  \n",
              "16      0  \n",
              "17      0  \n",
              "18      0  \n",
              "19      0  \n",
              "20      0  \n",
              "21      0  \n",
              "22      0  \n",
              "23      0  \n",
              "24      0  \n",
              "25      0  \n",
              "26      0  \n",
              "27      0  \n",
              "28      0  \n",
              "29      0  \n",
              "30      0  \n",
              "31      0  \n",
              "32      0  \n",
              "33      0  \n",
              "34      0  \n",
              "35      0  \n",
              "36      0  \n",
              "37      0  \n",
              "38      0  \n",
              "39      0  \n",
              "40      0  \n",
              "41      0  \n",
              "42      0  \n",
              "43      0  \n",
              "44      0  \n",
              "45      0  \n",
              "46      0  \n",
              "47      0  \n",
              "48      0  \n",
              "49      0  "
            ],
            "text/html": [
              "\n",
              "  <div id=\"df-b79d0641-67bf-458e-bfc1-ae0364095d0f\">\n",
              "    <div class=\"colab-df-container\">\n",
              "      <div>\n",
              "<style scoped>\n",
              "    .dataframe tbody tr th:only-of-type {\n",
              "        vertical-align: middle;\n",
              "    }\n",
              "\n",
              "    .dataframe tbody tr th {\n",
              "        vertical-align: top;\n",
              "    }\n",
              "\n",
              "    .dataframe thead th {\n",
              "        text-align: right;\n",
              "    }\n",
              "</style>\n",
              "<table border=\"1\" class=\"dataframe\">\n",
              "  <thead>\n",
              "    <tr style=\"text-align: right;\">\n",
              "      <th></th>\n",
              "      <th>Q</th>\n",
              "      <th>A</th>\n",
              "      <th>label</th>\n",
              "    </tr>\n",
              "  </thead>\n",
              "  <tbody>\n",
              "    <tr>\n",
              "      <th>0</th>\n",
              "      <td>12시 땡!</td>\n",
              "      <td>하루가 또 가네요.</td>\n",
              "      <td>0</td>\n",
              "    </tr>\n",
              "    <tr>\n",
              "      <th>1</th>\n",
              "      <td>1지망 학교 떨어졌어</td>\n",
              "      <td>위로해 드립니다.</td>\n",
              "      <td>0</td>\n",
              "    </tr>\n",
              "    <tr>\n",
              "      <th>2</th>\n",
              "      <td>3박4일 놀러가고 싶다</td>\n",
              "      <td>여행은 언제나 좋죠.</td>\n",
              "      <td>0</td>\n",
              "    </tr>\n",
              "    <tr>\n",
              "      <th>3</th>\n",
              "      <td>3박4일 정도 놀러가고 싶다</td>\n",
              "      <td>여행은 언제나 좋죠.</td>\n",
              "      <td>0</td>\n",
              "    </tr>\n",
              "    <tr>\n",
              "      <th>4</th>\n",
              "      <td>PPL 심하네</td>\n",
              "      <td>눈살이 찌푸려지죠.</td>\n",
              "      <td>0</td>\n",
              "    </tr>\n",
              "    <tr>\n",
              "      <th>5</th>\n",
              "      <td>SD카드 망가졌어</td>\n",
              "      <td>다시 새로 사는 게 마음 편해요.</td>\n",
              "      <td>0</td>\n",
              "    </tr>\n",
              "    <tr>\n",
              "      <th>6</th>\n",
              "      <td>SD카드 안돼</td>\n",
              "      <td>다시 새로 사는 게 마음 편해요.</td>\n",
              "      <td>0</td>\n",
              "    </tr>\n",
              "    <tr>\n",
              "      <th>7</th>\n",
              "      <td>SNS 맞팔 왜 안하지ㅠㅠ</td>\n",
              "      <td>잘 모르고 있을 수도 있어요.</td>\n",
              "      <td>0</td>\n",
              "    </tr>\n",
              "    <tr>\n",
              "      <th>8</th>\n",
              "      <td>SNS 시간낭비인 거 아는데 매일 하는 중</td>\n",
              "      <td>시간을 정하고 해보세요.</td>\n",
              "      <td>0</td>\n",
              "    </tr>\n",
              "    <tr>\n",
              "      <th>9</th>\n",
              "      <td>SNS 시간낭비인데 자꾸 보게됨</td>\n",
              "      <td>시간을 정하고 해보세요.</td>\n",
              "      <td>0</td>\n",
              "    </tr>\n",
              "    <tr>\n",
              "      <th>10</th>\n",
              "      <td>SNS보면 나만 빼고 다 행복해보여</td>\n",
              "      <td>자랑하는 자리니까요.</td>\n",
              "      <td>0</td>\n",
              "    </tr>\n",
              "    <tr>\n",
              "      <th>11</th>\n",
              "      <td>가끔 궁금해</td>\n",
              "      <td>그 사람도 그럴 거예요.</td>\n",
              "      <td>0</td>\n",
              "    </tr>\n",
              "    <tr>\n",
              "      <th>12</th>\n",
              "      <td>가끔 뭐하는지 궁금해</td>\n",
              "      <td>그 사람도 그럴 거예요.</td>\n",
              "      <td>0</td>\n",
              "    </tr>\n",
              "    <tr>\n",
              "      <th>13</th>\n",
              "      <td>가끔은 혼자인게 좋다</td>\n",
              "      <td>혼자를 즐기세요.</td>\n",
              "      <td>0</td>\n",
              "    </tr>\n",
              "    <tr>\n",
              "      <th>14</th>\n",
              "      <td>가난한 자의 설움</td>\n",
              "      <td>돈은 다시 들어올 거예요.</td>\n",
              "      <td>0</td>\n",
              "    </tr>\n",
              "    <tr>\n",
              "      <th>15</th>\n",
              "      <td>가만 있어도 땀난다</td>\n",
              "      <td>땀을 식혀주세요.</td>\n",
              "      <td>0</td>\n",
              "    </tr>\n",
              "    <tr>\n",
              "      <th>16</th>\n",
              "      <td>가상화폐 쫄딱 망함</td>\n",
              "      <td>어서 잊고 새출발 하세요.</td>\n",
              "      <td>0</td>\n",
              "    </tr>\n",
              "    <tr>\n",
              "      <th>17</th>\n",
              "      <td>가스불 켜고 나갔어</td>\n",
              "      <td>빨리 집에 돌아가서 끄고 나오세요.</td>\n",
              "      <td>0</td>\n",
              "    </tr>\n",
              "    <tr>\n",
              "      <th>18</th>\n",
              "      <td>가스불 켜놓고 나온거 같아</td>\n",
              "      <td>빨리 집에 돌아가서 끄고 나오세요.</td>\n",
              "      <td>0</td>\n",
              "    </tr>\n",
              "    <tr>\n",
              "      <th>19</th>\n",
              "      <td>가스비 너무 많이 나왔다.</td>\n",
              "      <td>다음 달에는 더 절약해봐요.</td>\n",
              "      <td>0</td>\n",
              "    </tr>\n",
              "    <tr>\n",
              "      <th>20</th>\n",
              "      <td>가스비 비싼데 감기 걸리겠어</td>\n",
              "      <td>따뜻하게 사세요!</td>\n",
              "      <td>0</td>\n",
              "    </tr>\n",
              "    <tr>\n",
              "      <th>21</th>\n",
              "      <td>가스비 장난 아님</td>\n",
              "      <td>다음 달에는 더 절약해봐요.</td>\n",
              "      <td>0</td>\n",
              "    </tr>\n",
              "    <tr>\n",
              "      <th>22</th>\n",
              "      <td>가장 확실한 건 뭘까?</td>\n",
              "      <td>가장 확실한 시간은 오늘이에요. 어제와 내일을 놓고 고민하느라 시간을 낭비하지 마세요.</td>\n",
              "      <td>0</td>\n",
              "    </tr>\n",
              "    <tr>\n",
              "      <th>23</th>\n",
              "      <td>가족 여행 가기로 했어</td>\n",
              "      <td>온 가족이 모두 마음에 드는 곳으로 가보세요.</td>\n",
              "      <td>0</td>\n",
              "    </tr>\n",
              "    <tr>\n",
              "      <th>24</th>\n",
              "      <td>가족 여행 고고</td>\n",
              "      <td>온 가족이 모두 마음에 드는 곳으로 가보세요.</td>\n",
              "      <td>0</td>\n",
              "    </tr>\n",
              "    <tr>\n",
              "      <th>25</th>\n",
              "      <td>가족 여행 어디로 가지?</td>\n",
              "      <td>온 가족이 모두 마음에 드는 곳으로 가보세요.</td>\n",
              "      <td>0</td>\n",
              "    </tr>\n",
              "    <tr>\n",
              "      <th>26</th>\n",
              "      <td>가족 있어?</td>\n",
              "      <td>저를 만들어 준 사람을 부모님, 저랑 이야기해 주는 사람을 친구로 생각하고 있어요</td>\n",
              "      <td>0</td>\n",
              "    </tr>\n",
              "    <tr>\n",
              "      <th>27</th>\n",
              "      <td>가족관계 알려 줘</td>\n",
              "      <td>저를 만들어 준 사람을 부모님, 저랑 이야기해 주는 사람을 친구로 생각하고 있어요</td>\n",
              "      <td>0</td>\n",
              "    </tr>\n",
              "    <tr>\n",
              "      <th>28</th>\n",
              "      <td>가족끼리 여행간다.</td>\n",
              "      <td>더 가까워질 기회가 되겠네요.</td>\n",
              "      <td>0</td>\n",
              "    </tr>\n",
              "    <tr>\n",
              "      <th>29</th>\n",
              "      <td>가족들 보고 싶어</td>\n",
              "      <td>저도요.</td>\n",
              "      <td>0</td>\n",
              "    </tr>\n",
              "    <tr>\n",
              "      <th>30</th>\n",
              "      <td>가족들이랑 서먹해</td>\n",
              "      <td>다들 바빠서 이야기할 시간이 부족했나봐요.</td>\n",
              "      <td>0</td>\n",
              "    </tr>\n",
              "    <tr>\n",
              "      <th>31</th>\n",
              "      <td>가족들이랑 서먹해졌어</td>\n",
              "      <td>다들 바빠서 이야기할 시간이 부족했나봐요.</td>\n",
              "      <td>0</td>\n",
              "    </tr>\n",
              "    <tr>\n",
              "      <th>32</th>\n",
              "      <td>가족들이랑 어디 가지?</td>\n",
              "      <td>온 가족이 모두 마음에 드는 곳으로 가보세요.</td>\n",
              "      <td>0</td>\n",
              "    </tr>\n",
              "    <tr>\n",
              "      <th>33</th>\n",
              "      <td>가족들이랑 여행 갈거야</td>\n",
              "      <td>좋은 생각이에요.</td>\n",
              "      <td>0</td>\n",
              "    </tr>\n",
              "    <tr>\n",
              "      <th>34</th>\n",
              "      <td>가족여행 가야지</td>\n",
              "      <td>더 가까워질 기회가 되겠네요.</td>\n",
              "      <td>0</td>\n",
              "    </tr>\n",
              "    <tr>\n",
              "      <th>35</th>\n",
              "      <td>가족이 누구야?</td>\n",
              "      <td>저를 만들어 준 사람을 부모님, 저랑 이야기해 주는 사람을 친구로 생각하고 있어요</td>\n",
              "      <td>0</td>\n",
              "    </tr>\n",
              "    <tr>\n",
              "      <th>36</th>\n",
              "      <td>가족이랑 여행 가려고</td>\n",
              "      <td>좋은 생각이에요.</td>\n",
              "      <td>0</td>\n",
              "    </tr>\n",
              "    <tr>\n",
              "      <th>37</th>\n",
              "      <td>가족한테 스트레스 풀었어</td>\n",
              "      <td>정말 후회할 습관이에요.</td>\n",
              "      <td>0</td>\n",
              "    </tr>\n",
              "    <tr>\n",
              "      <th>38</th>\n",
              "      <td>가출할까?</td>\n",
              "      <td>무모한 결정을 내리지 마세요.</td>\n",
              "      <td>0</td>\n",
              "    </tr>\n",
              "    <tr>\n",
              "      <th>39</th>\n",
              "      <td>가출해도 갈 데가 없어</td>\n",
              "      <td>선생님이나 기관에 연락해보세요.</td>\n",
              "      <td>0</td>\n",
              "    </tr>\n",
              "    <tr>\n",
              "      <th>40</th>\n",
              "      <td>간만에 떨리니까 좋더라</td>\n",
              "      <td>떨리는 감정은 그 자체로 소중해요.</td>\n",
              "      <td>0</td>\n",
              "    </tr>\n",
              "    <tr>\n",
              "      <th>41</th>\n",
              "      <td>간만에 쇼핑 중</td>\n",
              "      <td>득템했길 바라요.</td>\n",
              "      <td>0</td>\n",
              "    </tr>\n",
              "    <tr>\n",
              "      <th>42</th>\n",
              "      <td>간만에 휴식 중</td>\n",
              "      <td>휴식도 필요하죠.</td>\n",
              "      <td>0</td>\n",
              "    </tr>\n",
              "    <tr>\n",
              "      <th>43</th>\n",
              "      <td>간식 뭐 먹을까</td>\n",
              "      <td>단짠으로 두 개 사는게 진리죠.</td>\n",
              "      <td>0</td>\n",
              "    </tr>\n",
              "    <tr>\n",
              "      <th>44</th>\n",
              "      <td>간식 추천</td>\n",
              "      <td>단짠으로 두 개 사는게 진리죠.</td>\n",
              "      <td>0</td>\n",
              "    </tr>\n",
              "    <tr>\n",
              "      <th>45</th>\n",
              "      <td>간장치킨 시켜야지</td>\n",
              "      <td>맛있게 드세요.</td>\n",
              "      <td>0</td>\n",
              "    </tr>\n",
              "    <tr>\n",
              "      <th>46</th>\n",
              "      <td>간접흡연 싫어</td>\n",
              "      <td>저도 싫어요.</td>\n",
              "      <td>0</td>\n",
              "    </tr>\n",
              "    <tr>\n",
              "      <th>47</th>\n",
              "      <td>갈까 말까 고민 돼</td>\n",
              "      <td>가세요.</td>\n",
              "      <td>0</td>\n",
              "    </tr>\n",
              "    <tr>\n",
              "      <th>48</th>\n",
              "      <td>갈까 말까?</td>\n",
              "      <td>가세요.</td>\n",
              "      <td>0</td>\n",
              "    </tr>\n",
              "    <tr>\n",
              "      <th>49</th>\n",
              "      <td>감 말랭이 먹고 싶다.</td>\n",
              "      <td>맛있게 드세요.</td>\n",
              "      <td>0</td>\n",
              "    </tr>\n",
              "  </tbody>\n",
              "</table>\n",
              "</div>\n",
              "      <button class=\"colab-df-convert\" onclick=\"convertToInteractive('df-b79d0641-67bf-458e-bfc1-ae0364095d0f')\"\n",
              "              title=\"Convert this dataframe to an interactive table.\"\n",
              "              style=\"display:none;\">\n",
              "        \n",
              "  <svg xmlns=\"http://www.w3.org/2000/svg\" height=\"24px\"viewBox=\"0 0 24 24\"\n",
              "       width=\"24px\">\n",
              "    <path d=\"M0 0h24v24H0V0z\" fill=\"none\"/>\n",
              "    <path d=\"M18.56 5.44l.94 2.06.94-2.06 2.06-.94-2.06-.94-.94-2.06-.94 2.06-2.06.94zm-11 1L8.5 8.5l.94-2.06 2.06-.94-2.06-.94L8.5 2.5l-.94 2.06-2.06.94zm10 10l.94 2.06.94-2.06 2.06-.94-2.06-.94-.94-2.06-.94 2.06-2.06.94z\"/><path d=\"M17.41 7.96l-1.37-1.37c-.4-.4-.92-.59-1.43-.59-.52 0-1.04.2-1.43.59L10.3 9.45l-7.72 7.72c-.78.78-.78 2.05 0 2.83L4 21.41c.39.39.9.59 1.41.59.51 0 1.02-.2 1.41-.59l7.78-7.78 2.81-2.81c.8-.78.8-2.07 0-2.86zM5.41 20L4 18.59l7.72-7.72 1.47 1.35L5.41 20z\"/>\n",
              "  </svg>\n",
              "      </button>\n",
              "      \n",
              "  <style>\n",
              "    .colab-df-container {\n",
              "      display:flex;\n",
              "      flex-wrap:wrap;\n",
              "      gap: 12px;\n",
              "    }\n",
              "\n",
              "    .colab-df-convert {\n",
              "      background-color: #E8F0FE;\n",
              "      border: none;\n",
              "      border-radius: 50%;\n",
              "      cursor: pointer;\n",
              "      display: none;\n",
              "      fill: #1967D2;\n",
              "      height: 32px;\n",
              "      padding: 0 0 0 0;\n",
              "      width: 32px;\n",
              "    }\n",
              "\n",
              "    .colab-df-convert:hover {\n",
              "      background-color: #E2EBFA;\n",
              "      box-shadow: 0px 1px 2px rgba(60, 64, 67, 0.3), 0px 1px 3px 1px rgba(60, 64, 67, 0.15);\n",
              "      fill: #174EA6;\n",
              "    }\n",
              "\n",
              "    [theme=dark] .colab-df-convert {\n",
              "      background-color: #3B4455;\n",
              "      fill: #D2E3FC;\n",
              "    }\n",
              "\n",
              "    [theme=dark] .colab-df-convert:hover {\n",
              "      background-color: #434B5C;\n",
              "      box-shadow: 0px 1px 3px 1px rgba(0, 0, 0, 0.15);\n",
              "      filter: drop-shadow(0px 1px 2px rgba(0, 0, 0, 0.3));\n",
              "      fill: #FFFFFF;\n",
              "    }\n",
              "  </style>\n",
              "\n",
              "      <script>\n",
              "        const buttonEl =\n",
              "          document.querySelector('#df-b79d0641-67bf-458e-bfc1-ae0364095d0f button.colab-df-convert');\n",
              "        buttonEl.style.display =\n",
              "          google.colab.kernel.accessAllowed ? 'block' : 'none';\n",
              "\n",
              "        async function convertToInteractive(key) {\n",
              "          const element = document.querySelector('#df-b79d0641-67bf-458e-bfc1-ae0364095d0f');\n",
              "          const dataTable =\n",
              "            await google.colab.kernel.invokeFunction('convertToInteractive',\n",
              "                                                     [key], {});\n",
              "          if (!dataTable) return;\n",
              "\n",
              "          const docLinkHtml = 'Like what you see? Visit the ' +\n",
              "            '<a target=\"_blank\" href=https://colab.research.google.com/notebooks/data_table.ipynb>data table notebook</a>'\n",
              "            + ' to learn more about interactive tables.';\n",
              "          element.innerHTML = '';\n",
              "          dataTable['output_type'] = 'display_data';\n",
              "          await google.colab.output.renderOutput(dataTable, element);\n",
              "          const docLink = document.createElement('div');\n",
              "          docLink.innerHTML = docLinkHtml;\n",
              "          element.appendChild(docLink);\n",
              "        }\n",
              "      </script>\n",
              "    </div>\n",
              "  </div>\n",
              "  "
            ]
          },
          "metadata": {},
          "execution_count": 2
        }
      ]
    },
    {
      "cell_type": "code",
      "source": [
        "print('전체 데이터 수 : ',  len(data))"
      ],
      "metadata": {
        "colab": {
          "base_uri": "https://localhost:8080/"
        },
        "id": "y26iW5KUTp7Y",
        "outputId": "819613b9-86d7-4557-e37b-095d5d3d3ce6"
      },
      "execution_count": 3,
      "outputs": [
        {
          "output_type": "stream",
          "name": "stdout",
          "text": [
            "전체 데이터 수 :  11823\n"
          ]
        }
      ]
    },
    {
      "cell_type": "code",
      "source": [
        "questions = data['Q']\n",
        "answers = data['A']\n",
        "\n",
        "print('questions의 샘플 수 : ', len(questions))\n",
        "print('answers의 샘플 수 : ', len(answers))"
      ],
      "metadata": {
        "colab": {
          "base_uri": "https://localhost:8080/"
        },
        "id": "LVpFS68eYBod",
        "outputId": "75cd0420-d007-4c7b-8fea-0a370cb26b52"
      },
      "execution_count": 4,
      "outputs": [
        {
          "output_type": "stream",
          "name": "stdout",
          "text": [
            "questions의 샘플 수 :  11823\n",
            "answers의 샘플 수 :  11823\n"
          ]
        }
      ]
    },
    {
      "cell_type": "markdown",
      "source": [
        "# **Step 2. 데이터 정제**\n",
        "---"
      ],
      "metadata": {
        "id": "s6HCk2lqblzG"
      }
    },
    {
      "cell_type": "markdown",
      "source": [
        "## **2.1 중복 제거**"
      ],
      "metadata": {
        "id": "AuMGYTkPpiAl"
      }
    },
    {
      "cell_type": "code",
      "source": [
        "data_zip = zip(questions, answers)\n",
        "data_zip"
      ],
      "metadata": {
        "colab": {
          "base_uri": "https://localhost:8080/"
        },
        "id": "oYtt3W0tpLo9",
        "outputId": "916634f4-02f0-4ad0-f775-9d7a5f947a08"
      },
      "execution_count": 5,
      "outputs": [
        {
          "output_type": "execute_result",
          "data": {
            "text/plain": [
              "<zip at 0x7f8f886adc80>"
            ]
          },
          "metadata": {},
          "execution_count": 5
        }
      ]
    },
    {
      "cell_type": "code",
      "source": [
        "set_data = set(data_zip)"
      ],
      "metadata": {
        "id": "X9qwNgvQpLjN"
      },
      "execution_count": 6,
      "outputs": []
    },
    {
      "cell_type": "code",
      "source": [
        "len(set_data)"
      ],
      "metadata": {
        "colab": {
          "base_uri": "https://localhost:8080/"
        },
        "id": "pTAZ59KWpLgQ",
        "outputId": "d95de8dd-7e10-4011-fd79-d52e8d80f546"
      },
      "execution_count": 7,
      "outputs": [
        {
          "output_type": "execute_result",
          "data": {
            "text/plain": [
              "11750"
            ]
          },
          "metadata": {},
          "execution_count": 7
        }
      ]
    },
    {
      "cell_type": "code",
      "source": [
        "questions, answers = zip(*set_data)"
      ],
      "metadata": {
        "id": "-vrF2UGTpLVl"
      },
      "execution_count": 8,
      "outputs": []
    },
    {
      "cell_type": "code",
      "source": [
        "questions[0]"
      ],
      "metadata": {
        "colab": {
          "base_uri": "https://localhost:8080/",
          "height": 35
        },
        "id": "4NrVp51tpcXx",
        "outputId": "ee34ee20-4b81-4216-de97-fa5cf02fbaaa"
      },
      "execution_count": 9,
      "outputs": [
        {
          "output_type": "execute_result",
          "data": {
            "text/plain": [
              "'왔다갔다'"
            ],
            "application/vnd.google.colaboratory.intrinsic+json": {
              "type": "string"
            }
          },
          "metadata": {},
          "execution_count": 9
        }
      ]
    },
    {
      "cell_type": "code",
      "source": [
        "answers[0]"
      ],
      "metadata": {
        "colab": {
          "base_uri": "https://localhost:8080/",
          "height": 35
        },
        "id": "9nij_qfzpK84",
        "outputId": "ba9498b7-895a-49c3-bba5-85643c78d024"
      },
      "execution_count": 10,
      "outputs": [
        {
          "output_type": "execute_result",
          "data": {
            "text/plain": [
              "'허전함에 이랬다 저랬다 해요.'"
            ],
            "application/vnd.google.colaboratory.intrinsic+json": {
              "type": "string"
            }
          },
          "metadata": {},
          "execution_count": 10
        }
      ]
    },
    {
      "cell_type": "markdown",
      "source": [
        "## **2.2 정규식을 활용한 데이터 정제**"
      ],
      "metadata": {
        "id": "uxlG4gXapkXW"
      }
    },
    {
      "cell_type": "code",
      "source": [
        "def preprocess_sentence(sentence):\n",
        "    sentence = sentence.lower().strip()     # 영어를 모두 소문자로 변환\n",
        "    sentence = re.sub(r\"[^a-zA-Zㄱ-ㅎㅏ-ㅣ가-힣0-9?.!,]+\", \" \", sentence)   # 영어, 한글, ?.!, 제외한 것들을 공백으로 변경\n",
        "    sentence = sentence.strip()\n",
        "\n",
        "    return sentence"
      ],
      "metadata": {
        "id": "0SOANK0HaM1k"
      },
      "execution_count": 11,
      "outputs": []
    },
    {
      "cell_type": "code",
      "source": [
        "print(preprocess_sentence(questions[0]))\n",
        "print(preprocess_sentence(answers[0]))"
      ],
      "metadata": {
        "colab": {
          "base_uri": "https://localhost:8080/"
        },
        "id": "vSqOzXtKmqVy",
        "outputId": "1b62f3d2-08a7-4f1c-f5a4-bfb4b035a3d6"
      },
      "execution_count": 12,
      "outputs": [
        {
          "output_type": "stream",
          "name": "stdout",
          "text": [
            "왔다갔다\n",
            "허전함에 이랬다 저랬다 해요.\n"
          ]
        }
      ]
    },
    {
      "cell_type": "markdown",
      "source": [
        "# **Step 3. 데이터 토큰화**\n",
        "---\n",
        "토큰화에는 KoNLPy의 `mecab` 클래스를 사용해보자."
      ],
      "metadata": {
        "id": "ohk0Gsw4fjVh"
      }
    },
    {
      "cell_type": "markdown",
      "source": [
        "1. 소스 문장 데이터와 타겟 문장 데이터를 입력으로 받습니다.\n",
        "2. 데이터를 앞서 정의한 preprocess_sentence() 함수로 정제하고, 토큰화합니다.\n",
        "3. 토큰화는 전달받은 토크나이즈 함수를 사용합니다. 이번엔 mecab.morphs 함수를 전달하시면 됩니다.\n",
        "4. 토큰의 개수가 일정 길이 이상인 문장은 데이터에서 제외합니다.\n",
        "5. 중복되는 문장은 데이터에서 제외합니다. 소스 : 타겟 쌍을 비교하지 않고 소스는 소스대로 타겟은 타겟대로 검사합니다. 중복 쌍이 흐트러지지 않도록 유의하세요!"
      ],
      "metadata": {
        "id": "fqlZk0L9k3zk"
      }
    },
    {
      "cell_type": "code",
      "source": [
        "from pandas._libs.tslibs.timedeltas import parse_timedelta_unit\n",
        "input_corpus = []\n",
        "target_corpus = []\n",
        "\n",
        "for i, t in zip(questions, answers):\n",
        "    tmp_input = preprocess_sentence(i)\n",
        "    tmp_target = preprocess_sentence(t)\n",
        "\n",
        "    if len(tmp_input) <= 40 and len(tmp_target) <= 40:\n",
        "        input_corpus.append(tmp_input)\n",
        "        target_corpus.append(tmp_target)\n",
        "\n",
        "print('소스 문장 데이터 수 : ', len(input_corpus))\n",
        "print('타겟 문장 데이터 수 : ', len(target_corpus))"
      ],
      "metadata": {
        "colab": {
          "base_uri": "https://localhost:8080/"
        },
        "id": "fk718KZsnQxv",
        "outputId": "e289c2d4-360b-4cd1-e17f-a1166220f578"
      },
      "execution_count": 13,
      "outputs": [
        {
          "output_type": "stream",
          "name": "stdout",
          "text": [
            "소스 문장 데이터 수 :  11644\n",
            "타겟 문장 데이터 수 :  11644\n"
          ]
        }
      ]
    },
    {
      "cell_type": "code",
      "source": [
        "print('정제된 소스 문장 : ', input_corpus[50])\n",
        "print('정제된 타겟 문장 : ', target_corpus[50])"
      ],
      "metadata": {
        "colab": {
          "base_uri": "https://localhost:8080/"
        },
        "id": "TzudpOCFoknh",
        "outputId": "0e87b531-51f6-4dc2-c9dc-c705261ecb33"
      },
      "execution_count": 14,
      "outputs": [
        {
          "output_type": "stream",
          "name": "stdout",
          "text": [
            "정제된 소스 문장 :  헤어진건가이거?\n",
            "정제된 타겟 문장 :  애매하네요.\n"
          ]
        }
      ]
    },
    {
      "cell_type": "code",
      "source": [
        "%%bash\n",
        "apt-get update\n",
        "apt-get install g++ openjdk-8-jdk python-dev python3-dev\n",
        "pip3 install JPype1\n",
        "pip3 install konlpy"
      ],
      "metadata": {
        "colab": {
          "base_uri": "https://localhost:8080/"
        },
        "id": "QY40GSHVhWmN",
        "outputId": "3111e6ff-c178-4651-a044-9ef365820a52"
      },
      "execution_count": 15,
      "outputs": [
        {
          "output_type": "stream",
          "name": "stdout",
          "text": [
            "Get:1 http://security.ubuntu.com/ubuntu bionic-security InRelease [88.7 kB]\n",
            "Get:2 https://cloud.r-project.org/bin/linux/ubuntu bionic-cran40/ InRelease [3,626 B]\n",
            "Ign:3 https://developer.download.nvidia.com/compute/cuda/repos/ubuntu1804/x86_64  InRelease\n",
            "Get:4 http://ppa.launchpad.net/c2d4u.team/c2d4u4.0+/ubuntu bionic InRelease [15.9 kB]\n",
            "Ign:5 https://developer.download.nvidia.com/compute/machine-learning/repos/ubuntu1804/x86_64  InRelease\n",
            "Get:6 https://developer.download.nvidia.com/compute/cuda/repos/ubuntu1804/x86_64  Release [696 B]\n",
            "Hit:7 https://developer.download.nvidia.com/compute/machine-learning/repos/ubuntu1804/x86_64  Release\n",
            "Get:8 https://developer.download.nvidia.com/compute/cuda/repos/ubuntu1804/x86_64  Release.gpg [836 B]\n",
            "Hit:9 http://archive.ubuntu.com/ubuntu bionic InRelease\n",
            "Get:10 http://archive.ubuntu.com/ubuntu bionic-updates InRelease [88.7 kB]\n",
            "Hit:11 http://ppa.launchpad.net/cran/libgit2/ubuntu bionic InRelease\n",
            "Get:12 http://security.ubuntu.com/ubuntu bionic-security/main amd64 Packages [2,695 kB]\n",
            "Get:13 http://ppa.launchpad.net/deadsnakes/ppa/ubuntu bionic InRelease [15.9 kB]\n",
            "Get:14 http://archive.ubuntu.com/ubuntu bionic-backports InRelease [74.6 kB]\n",
            "Get:16 http://security.ubuntu.com/ubuntu bionic-security/universe amd64 Packages [1,490 kB]\n",
            "Hit:17 http://ppa.launchpad.net/graphics-drivers/ppa/ubuntu bionic InRelease\n",
            "Get:18 https://developer.download.nvidia.com/compute/cuda/repos/ubuntu1804/x86_64  Packages [953 kB]\n",
            "Get:19 http://ppa.launchpad.net/c2d4u.team/c2d4u4.0+/ubuntu bionic/main Sources [1,947 kB]\n",
            "Get:20 http://archive.ubuntu.com/ubuntu bionic-updates/universe amd64 Packages [2,268 kB]\n",
            "Get:21 http://archive.ubuntu.com/ubuntu bionic-updates/main amd64 Packages [3,134 kB]\n",
            "Get:22 http://ppa.launchpad.net/c2d4u.team/c2d4u4.0+/ubuntu bionic/main amd64 Packages [996 kB]\n",
            "Get:23 http://ppa.launchpad.net/deadsnakes/ppa/ubuntu bionic/main amd64 Packages [45.3 kB]\n",
            "Fetched 13.8 MB in 3s (4,066 kB/s)\n",
            "Reading package lists...\n",
            "Reading package lists...\n",
            "Building dependency tree...\n",
            "Reading state information...\n",
            "python-dev is already the newest version (2.7.15~rc1-1).\n",
            "g++ is already the newest version (4:7.4.0-1ubuntu2.3).\n",
            "g++ set to manually installed.\n",
            "python3-dev is already the newest version (3.6.7-1~18.04).\n",
            "python3-dev set to manually installed.\n",
            "The following additional packages will be installed:\n",
            "  fonts-dejavu-core fonts-dejavu-extra libatk-wrapper-java\n",
            "  libatk-wrapper-java-jni libgail-common libgail18 libgtk2.0-0 libgtk2.0-bin\n",
            "  libgtk2.0-common libxxf86dga1 openjdk-8-jdk-headless openjdk-8-jre\n",
            "  openjdk-8-jre-headless x11-utils\n",
            "Suggested packages:\n",
            "  gvfs openjdk-8-demo openjdk-8-source visualvm icedtea-8-plugin libnss-mdns\n",
            "  fonts-ipafont-gothic fonts-ipafont-mincho fonts-wqy-microhei\n",
            "  fonts-wqy-zenhei fonts-indic mesa-utils\n",
            "The following NEW packages will be installed:\n",
            "  fonts-dejavu-core fonts-dejavu-extra libatk-wrapper-java\n",
            "  libatk-wrapper-java-jni libgail-common libgail18 libgtk2.0-0 libgtk2.0-bin\n",
            "  libgtk2.0-common libxxf86dga1 openjdk-8-jdk openjdk-8-jdk-headless\n",
            "  openjdk-8-jre openjdk-8-jre-headless x11-utils\n",
            "0 upgraded, 15 newly installed, 0 to remove and 45 not upgraded.\n",
            "Need to get 43.5 MB of archives.\n",
            "After this operation, 163 MB of additional disk space will be used.\n",
            "Get:1 http://archive.ubuntu.com/ubuntu bionic/main amd64 libxxf86dga1 amd64 2:1.1.4-1 [13.7 kB]\n",
            "Get:2 http://archive.ubuntu.com/ubuntu bionic/main amd64 fonts-dejavu-core all 2.37-1 [1,041 kB]\n",
            "Get:3 http://archive.ubuntu.com/ubuntu bionic/main amd64 fonts-dejavu-extra all 2.37-1 [1,953 kB]\n",
            "Get:4 http://archive.ubuntu.com/ubuntu bionic/main amd64 x11-utils amd64 7.7+3build1 [196 kB]\n",
            "Get:5 http://archive.ubuntu.com/ubuntu bionic/main amd64 libatk-wrapper-java all 0.33.3-20ubuntu0.1 [34.7 kB]\n",
            "Get:6 http://archive.ubuntu.com/ubuntu bionic/main amd64 libatk-wrapper-java-jni amd64 0.33.3-20ubuntu0.1 [28.3 kB]\n",
            "Get:7 http://archive.ubuntu.com/ubuntu bionic/main amd64 libgtk2.0-common all 2.24.32-1ubuntu1 [125 kB]\n",
            "Get:8 http://archive.ubuntu.com/ubuntu bionic/main amd64 libgtk2.0-0 amd64 2.24.32-1ubuntu1 [1,769 kB]\n",
            "Get:9 http://archive.ubuntu.com/ubuntu bionic/main amd64 libgail18 amd64 2.24.32-1ubuntu1 [14.2 kB]\n",
            "Get:10 http://archive.ubuntu.com/ubuntu bionic/main amd64 libgail-common amd64 2.24.32-1ubuntu1 [112 kB]\n",
            "Get:11 http://archive.ubuntu.com/ubuntu bionic/main amd64 libgtk2.0-bin amd64 2.24.32-1ubuntu1 [7,536 B]\n",
            "Get:12 http://archive.ubuntu.com/ubuntu bionic-updates/universe amd64 openjdk-8-jre-headless amd64 8u312-b07-0ubuntu1~18.04 [28.2 MB]\n",
            "Get:13 http://archive.ubuntu.com/ubuntu bionic-updates/universe amd64 openjdk-8-jre amd64 8u312-b07-0ubuntu1~18.04 [69.6 kB]\n",
            "Get:14 http://archive.ubuntu.com/ubuntu bionic-updates/universe amd64 openjdk-8-jdk-headless amd64 8u312-b07-0ubuntu1~18.04 [8,298 kB]\n",
            "Get:15 http://archive.ubuntu.com/ubuntu bionic-updates/universe amd64 openjdk-8-jdk amd64 8u312-b07-0ubuntu1~18.04 [1,625 kB]\n",
            "Fetched 43.5 MB in 2s (19.6 MB/s)\n",
            "Selecting previously unselected package libxxf86dga1:amd64.\r\n",
            "(Reading database ... \r(Reading database ... 5%\r(Reading database ... 10%\r(Reading database ... 15%\r(Reading database ... 20%\r(Reading database ... 25%\r(Reading database ... 30%\r(Reading database ... 35%\r(Reading database ... 40%\r(Reading database ... 45%\r(Reading database ... 50%\r(Reading database ... 55%\r(Reading database ... 60%\r(Reading database ... 65%\r(Reading database ... 70%\r(Reading database ... 75%\r(Reading database ... 80%\r(Reading database ... 85%\r(Reading database ... 90%\r(Reading database ... 95%\r(Reading database ... 100%\r(Reading database ... 155455 files and directories currently installed.)\r\n",
            "Preparing to unpack .../00-libxxf86dga1_2%3a1.1.4-1_amd64.deb ...\r\n",
            "Unpacking libxxf86dga1:amd64 (2:1.1.4-1) ...\r\n",
            "Selecting previously unselected package fonts-dejavu-core.\r\n",
            "Preparing to unpack .../01-fonts-dejavu-core_2.37-1_all.deb ...\r\n",
            "Unpacking fonts-dejavu-core (2.37-1) ...\r\n",
            "Selecting previously unselected package fonts-dejavu-extra.\r\n",
            "Preparing to unpack .../02-fonts-dejavu-extra_2.37-1_all.deb ...\r\n",
            "Unpacking fonts-dejavu-extra (2.37-1) ...\r\n",
            "Selecting previously unselected package x11-utils.\r\n",
            "Preparing to unpack .../03-x11-utils_7.7+3build1_amd64.deb ...\r\n",
            "Unpacking x11-utils (7.7+3build1) ...\r\n",
            "Selecting previously unselected package libatk-wrapper-java.\r\n",
            "Preparing to unpack .../04-libatk-wrapper-java_0.33.3-20ubuntu0.1_all.deb ...\r\n",
            "Unpacking libatk-wrapper-java (0.33.3-20ubuntu0.1) ...\r\n",
            "Selecting previously unselected package libatk-wrapper-java-jni:amd64.\r\n",
            "Preparing to unpack .../05-libatk-wrapper-java-jni_0.33.3-20ubuntu0.1_amd64.deb ...\r\n",
            "Unpacking libatk-wrapper-java-jni:amd64 (0.33.3-20ubuntu0.1) ...\r\n",
            "Selecting previously unselected package libgtk2.0-common.\r\n",
            "Preparing to unpack .../06-libgtk2.0-common_2.24.32-1ubuntu1_all.deb ...\r\n",
            "Unpacking libgtk2.0-common (2.24.32-1ubuntu1) ...\r\n",
            "Selecting previously unselected package libgtk2.0-0:amd64.\r\n",
            "Preparing to unpack .../07-libgtk2.0-0_2.24.32-1ubuntu1_amd64.deb ...\r\n",
            "Unpacking libgtk2.0-0:amd64 (2.24.32-1ubuntu1) ...\r\n",
            "Selecting previously unselected package libgail18:amd64.\r\n",
            "Preparing to unpack .../08-libgail18_2.24.32-1ubuntu1_amd64.deb ...\r\n",
            "Unpacking libgail18:amd64 (2.24.32-1ubuntu1) ...\r\n",
            "Selecting previously unselected package libgail-common:amd64.\r\n",
            "Preparing to unpack .../09-libgail-common_2.24.32-1ubuntu1_amd64.deb ...\r\n",
            "Unpacking libgail-common:amd64 (2.24.32-1ubuntu1) ...\r\n",
            "Selecting previously unselected package libgtk2.0-bin.\r\n",
            "Preparing to unpack .../10-libgtk2.0-bin_2.24.32-1ubuntu1_amd64.deb ...\r\n",
            "Unpacking libgtk2.0-bin (2.24.32-1ubuntu1) ...\r\n",
            "Selecting previously unselected package openjdk-8-jre-headless:amd64.\r\n",
            "Preparing to unpack .../11-openjdk-8-jre-headless_8u312-b07-0ubuntu1~18.04_amd64.deb ...\r\n",
            "Unpacking openjdk-8-jre-headless:amd64 (8u312-b07-0ubuntu1~18.04) ...\r\n",
            "Selecting previously unselected package openjdk-8-jre:amd64.\r\n",
            "Preparing to unpack .../12-openjdk-8-jre_8u312-b07-0ubuntu1~18.04_amd64.deb ...\r\n",
            "Unpacking openjdk-8-jre:amd64 (8u312-b07-0ubuntu1~18.04) ...\r\n",
            "Selecting previously unselected package openjdk-8-jdk-headless:amd64.\r\n",
            "Preparing to unpack .../13-openjdk-8-jdk-headless_8u312-b07-0ubuntu1~18.04_amd64.deb ...\r\n",
            "Unpacking openjdk-8-jdk-headless:amd64 (8u312-b07-0ubuntu1~18.04) ...\r\n",
            "Selecting previously unselected package openjdk-8-jdk:amd64.\r\n",
            "Preparing to unpack .../14-openjdk-8-jdk_8u312-b07-0ubuntu1~18.04_amd64.deb ...\r\n",
            "Unpacking openjdk-8-jdk:amd64 (8u312-b07-0ubuntu1~18.04) ...\r\n",
            "Setting up libgtk2.0-common (2.24.32-1ubuntu1) ...\r\n",
            "Setting up fonts-dejavu-core (2.37-1) ...\r\n",
            "Setting up libxxf86dga1:amd64 (2:1.1.4-1) ...\r\n",
            "Setting up fonts-dejavu-extra (2.37-1) ...\r\n",
            "Setting up openjdk-8-jre-headless:amd64 (8u312-b07-0ubuntu1~18.04) ...\r\n",
            "update-alternatives: using /usr/lib/jvm/java-8-openjdk-amd64/jre/bin/orbd to provide /usr/bin/orbd (orbd) in auto mode\r\n",
            "update-alternatives: using /usr/lib/jvm/java-8-openjdk-amd64/jre/bin/servertool to provide /usr/bin/servertool (servertool) in auto mode\r\n",
            "update-alternatives: using /usr/lib/jvm/java-8-openjdk-amd64/jre/bin/tnameserv to provide /usr/bin/tnameserv (tnameserv) in auto mode\r\n",
            "Setting up libgtk2.0-0:amd64 (2.24.32-1ubuntu1) ...\r\n",
            "Setting up libgail18:amd64 (2.24.32-1ubuntu1) ...\r\n",
            "Setting up openjdk-8-jdk-headless:amd64 (8u312-b07-0ubuntu1~18.04) ...\r\n",
            "update-alternatives: using /usr/lib/jvm/java-8-openjdk-amd64/bin/idlj to provide /usr/bin/idlj (idlj) in auto mode\r\n",
            "update-alternatives: using /usr/lib/jvm/java-8-openjdk-amd64/bin/wsimport to provide /usr/bin/wsimport (wsimport) in auto mode\r\n",
            "update-alternatives: using /usr/lib/jvm/java-8-openjdk-amd64/bin/jsadebugd to provide /usr/bin/jsadebugd (jsadebugd) in auto mode\r\n",
            "update-alternatives: using /usr/lib/jvm/java-8-openjdk-amd64/bin/native2ascii to provide /usr/bin/native2ascii (native2ascii) in auto mode\r\n",
            "update-alternatives: using /usr/lib/jvm/java-8-openjdk-amd64/bin/javah to provide /usr/bin/javah (javah) in auto mode\r\n",
            "update-alternatives: using /usr/lib/jvm/java-8-openjdk-amd64/bin/hsdb to provide /usr/bin/hsdb (hsdb) in auto mode\r\n",
            "update-alternatives: using /usr/lib/jvm/java-8-openjdk-amd64/bin/clhsdb to provide /usr/bin/clhsdb (clhsdb) in auto mode\r\n",
            "update-alternatives: using /usr/lib/jvm/java-8-openjdk-amd64/bin/xjc to provide /usr/bin/xjc (xjc) in auto mode\r\n",
            "update-alternatives: using /usr/lib/jvm/java-8-openjdk-amd64/bin/schemagen to provide /usr/bin/schemagen (schemagen) in auto mode\r\n",
            "update-alternatives: using /usr/lib/jvm/java-8-openjdk-amd64/bin/extcheck to provide /usr/bin/extcheck (extcheck) in auto mode\r\n",
            "update-alternatives: using /usr/lib/jvm/java-8-openjdk-amd64/bin/jhat to provide /usr/bin/jhat (jhat) in auto mode\r\n",
            "update-alternatives: using /usr/lib/jvm/java-8-openjdk-amd64/bin/wsgen to provide /usr/bin/wsgen (wsgen) in auto mode\r\n",
            "Setting up x11-utils (7.7+3build1) ...\r\n",
            "Setting up libgail-common:amd64 (2.24.32-1ubuntu1) ...\r\n",
            "Setting up libatk-wrapper-java (0.33.3-20ubuntu0.1) ...\r\n",
            "Setting up libgtk2.0-bin (2.24.32-1ubuntu1) ...\r\n",
            "Setting up libatk-wrapper-java-jni:amd64 (0.33.3-20ubuntu0.1) ...\r\n",
            "Setting up openjdk-8-jre:amd64 (8u312-b07-0ubuntu1~18.04) ...\r\n",
            "update-alternatives: using /usr/lib/jvm/java-8-openjdk-amd64/jre/bin/policytool to provide /usr/bin/policytool (policytool) in auto mode\r\n",
            "Setting up openjdk-8-jdk:amd64 (8u312-b07-0ubuntu1~18.04) ...\r\n",
            "update-alternatives: using /usr/lib/jvm/java-8-openjdk-amd64/bin/appletviewer to provide /usr/bin/appletviewer (appletviewer) in auto mode\r\n",
            "update-alternatives: using /usr/lib/jvm/java-8-openjdk-amd64/bin/jconsole to provide /usr/bin/jconsole (jconsole) in auto mode\r\n",
            "Processing triggers for man-db (2.8.3-2ubuntu0.1) ...\r\n",
            "Processing triggers for hicolor-icon-theme (0.17-2) ...\r\n",
            "Processing triggers for fontconfig (2.12.6-0ubuntu2) ...\r\n",
            "Processing triggers for mime-support (3.60ubuntu1) ...\r\n",
            "Processing triggers for libc-bin (2.27-3ubuntu1.3) ...\r\n",
            "/sbin/ldconfig.real: /usr/local/lib/python3.7/dist-packages/ideep4py/lib/libmkldnn.so.0 is not a symbolic link\r\n",
            "\r\n",
            "Collecting JPype1\n",
            "  Downloading JPype1-1.3.0-cp37-cp37m-manylinux_2_5_x86_64.manylinux1_x86_64.whl (448 kB)\n",
            "Requirement already satisfied: typing-extensions in /usr/local/lib/python3.7/dist-packages (from JPype1) (4.1.1)\n",
            "Installing collected packages: JPype1\n",
            "Successfully installed JPype1-1.3.0\n",
            "Collecting konlpy\n",
            "  Downloading konlpy-0.6.0-py2.py3-none-any.whl (19.4 MB)\n",
            "Requirement already satisfied: JPype1>=0.7.0 in /usr/local/lib/python3.7/dist-packages (from konlpy) (1.3.0)\n",
            "Requirement already satisfied: numpy>=1.6 in /usr/local/lib/python3.7/dist-packages (from konlpy) (1.21.5)\n",
            "Requirement already satisfied: lxml>=4.1.0 in /usr/local/lib/python3.7/dist-packages (from konlpy) (4.2.6)\n",
            "Requirement already satisfied: typing-extensions in /usr/local/lib/python3.7/dist-packages (from JPype1>=0.7.0->konlpy) (4.1.1)\n",
            "Installing collected packages: konlpy\n",
            "Successfully installed konlpy-0.6.0\n"
          ]
        }
      ]
    },
    {
      "cell_type": "code",
      "source": [
        "%env JAVA_HOME \"/usr/lib/jvm/java-8-openjdk-amd64\""
      ],
      "metadata": {
        "colab": {
          "base_uri": "https://localhost:8080/"
        },
        "id": "7DWJASCqhvMq",
        "outputId": "68b89313-6dd9-48ac-a2cc-b36cc7ef67ef"
      },
      "execution_count": 16,
      "outputs": [
        {
          "output_type": "stream",
          "name": "stdout",
          "text": [
            "env: JAVA_HOME=\"/usr/lib/jvm/java-8-openjdk-amd64\"\n"
          ]
        }
      ]
    },
    {
      "cell_type": "code",
      "source": [
        "%%bash\n",
        "bash <(curl -s https://raw.githubusercontent.com/konlpy/konlpy/master/scripts/mecab.sh)\n",
        "pip3 install /tmp/mecab-python-0.996"
      ],
      "metadata": {
        "colab": {
          "base_uri": "https://localhost:8080/"
        },
        "id": "J-JwH6lZhvCi",
        "outputId": "52813da5-f8ff-409e-a21a-8f8edac6a438"
      },
      "execution_count": 17,
      "outputs": [
        {
          "output_type": "stream",
          "name": "stdout",
          "text": [
            "Installing automake (A dependency for mecab-ko)\n",
            "Hit:1 http://security.ubuntu.com/ubuntu bionic-security InRelease\n",
            "Hit:2 https://cloud.r-project.org/bin/linux/ubuntu bionic-cran40/ InRelease\n",
            "Ign:3 https://developer.download.nvidia.com/compute/cuda/repos/ubuntu1804/x86_64  InRelease\n",
            "Hit:4 http://ppa.launchpad.net/c2d4u.team/c2d4u4.0+/ubuntu bionic InRelease\n",
            "Ign:5 https://developer.download.nvidia.com/compute/machine-learning/repos/ubuntu1804/x86_64  InRelease\n",
            "Hit:6 http://archive.ubuntu.com/ubuntu bionic InRelease\n",
            "Hit:7 https://developer.download.nvidia.com/compute/cuda/repos/ubuntu1804/x86_64  Release\n",
            "Hit:8 https://developer.download.nvidia.com/compute/machine-learning/repos/ubuntu1804/x86_64  Release\n",
            "Hit:9 http://archive.ubuntu.com/ubuntu bionic-updates InRelease\n",
            "Hit:10 http://ppa.launchpad.net/cran/libgit2/ubuntu bionic InRelease\n",
            "Hit:11 http://archive.ubuntu.com/ubuntu bionic-backports InRelease\n",
            "Hit:14 http://ppa.launchpad.net/deadsnakes/ppa/ubuntu bionic InRelease\n",
            "Hit:15 http://ppa.launchpad.net/graphics-drivers/ppa/ubuntu bionic InRelease\n",
            "Reading package lists...\n",
            "Reading package lists...\n",
            "Building dependency tree...\n",
            "Reading state information...\n",
            "The following additional packages will be installed:\n",
            "  autoconf autotools-dev libsigsegv2 m4\n",
            "Suggested packages:\n",
            "  autoconf-archive gnu-standards autoconf-doc libtool gettext m4-doc\n",
            "The following NEW packages will be installed:\n",
            "  autoconf automake autotools-dev libsigsegv2 m4\n",
            "0 upgraded, 5 newly installed, 0 to remove and 45 not upgraded.\n",
            "Need to get 1,082 kB of archives.\n",
            "After this operation, 3,994 kB of additional disk space will be used.\n",
            "Get:1 http://archive.ubuntu.com/ubuntu bionic/main amd64 libsigsegv2 amd64 2.12-1 [14.7 kB]\n",
            "Get:2 http://archive.ubuntu.com/ubuntu bionic/main amd64 m4 amd64 1.4.18-1 [197 kB]\n",
            "Get:3 http://archive.ubuntu.com/ubuntu bionic/main amd64 autoconf all 2.69-11 [322 kB]\n",
            "Get:4 http://archive.ubuntu.com/ubuntu bionic/main amd64 autotools-dev all 20180224.1 [39.6 kB]\n",
            "Get:5 http://archive.ubuntu.com/ubuntu bionic/main amd64 automake all 1:1.15.1-3ubuntu2 [509 kB]\n",
            "Fetched 1,082 kB in 1s (1,226 kB/s)\n",
            "Selecting previously unselected package libsigsegv2:amd64.\r\n",
            "(Reading database ... \r(Reading database ... 5%\r(Reading database ... 10%\r(Reading database ... 15%\r(Reading database ... 20%\r(Reading database ... 25%\r(Reading database ... 30%\r(Reading database ... 35%\r(Reading database ... 40%\r(Reading database ... 45%\r(Reading database ... 50%\r(Reading database ... 55%\r(Reading database ... 60%\r(Reading database ... 65%\r(Reading database ... 70%\r(Reading database ... 75%\r(Reading database ... 80%\r(Reading database ... 85%\r(Reading database ... 90%\r(Reading database ... 95%\r(Reading database ... 100%\r(Reading database ... 156031 files and directories currently installed.)\r\n",
            "Preparing to unpack .../libsigsegv2_2.12-1_amd64.deb ...\r\n",
            "Unpacking libsigsegv2:amd64 (2.12-1) ...\r\n",
            "Selecting previously unselected package m4.\r\n",
            "Preparing to unpack .../archives/m4_1.4.18-1_amd64.deb ...\r\n",
            "Unpacking m4 (1.4.18-1) ...\r\n",
            "Selecting previously unselected package autoconf.\r\n",
            "Preparing to unpack .../autoconf_2.69-11_all.deb ...\r\n",
            "Unpacking autoconf (2.69-11) ...\r\n",
            "Selecting previously unselected package autotools-dev.\r\n",
            "Preparing to unpack .../autotools-dev_20180224.1_all.deb ...\r\n",
            "Unpacking autotools-dev (20180224.1) ...\r\n",
            "Selecting previously unselected package automake.\r\n",
            "Preparing to unpack .../automake_1%3a1.15.1-3ubuntu2_all.deb ...\r\n",
            "Unpacking automake (1:1.15.1-3ubuntu2) ...\r\n",
            "Setting up libsigsegv2:amd64 (2.12-1) ...\r\n",
            "Setting up m4 (1.4.18-1) ...\r\n",
            "Setting up autotools-dev (20180224.1) ...\r\n",
            "Setting up autoconf (2.69-11) ...\r\n",
            "Setting up automake (1:1.15.1-3ubuntu2) ...\r\n",
            "update-alternatives: using /usr/bin/automake-1.15 to provide /usr/bin/automake (automake) in auto mode\r\n",
            "Processing triggers for libc-bin (2.27-3ubuntu1.3) ...\r\n",
            "/sbin/ldconfig.real: /usr/local/lib/python3.7/dist-packages/ideep4py/lib/libmkldnn.so.0 is not a symbolic link\r\n",
            "\r\n",
            "Processing triggers for man-db (2.8.3-2ubuntu0.1) ...\r\n",
            "Install mecab-ko\n",
            "mecab-0.996-ko-0.9.2/\n",
            "mecab-0.996-ko-0.9.2/example/\n",
            "mecab-0.996-ko-0.9.2/example/example.cpp\n",
            "mecab-0.996-ko-0.9.2/example/example_lattice.cpp\n",
            "mecab-0.996-ko-0.9.2/example/example_lattice.c\n",
            "mecab-0.996-ko-0.9.2/example/example.c\n",
            "mecab-0.996-ko-0.9.2/example/thread_test.cpp\n",
            "mecab-0.996-ko-0.9.2/mecab-config.in\n",
            "mecab-0.996-ko-0.9.2/man/\n",
            "mecab-0.996-ko-0.9.2/man/Makefile.am\n",
            "mecab-0.996-ko-0.9.2/man/mecab.1\n",
            "mecab-0.996-ko-0.9.2/man/Makefile.in\n",
            "mecab-0.996-ko-0.9.2/mecab.iss.in\n",
            "mecab-0.996-ko-0.9.2/config.guess\n",
            "mecab-0.996-ko-0.9.2/README\n",
            "mecab-0.996-ko-0.9.2/COPYING\n",
            "mecab-0.996-ko-0.9.2/CHANGES.md\n",
            "mecab-0.996-ko-0.9.2/README.md\n",
            "mecab-0.996-ko-0.9.2/INSTALL\n",
            "mecab-0.996-ko-0.9.2/config.sub\n",
            "mecab-0.996-ko-0.9.2/configure.in\n",
            "mecab-0.996-ko-0.9.2/swig/\n",
            "mecab-0.996-ko-0.9.2/swig/Makefile\n",
            "mecab-0.996-ko-0.9.2/swig/version.h.in\n",
            "mecab-0.996-ko-0.9.2/swig/version.h\n",
            "mecab-0.996-ko-0.9.2/swig/MeCab.i\n",
            "mecab-0.996-ko-0.9.2/aclocal.m4\n",
            "mecab-0.996-ko-0.9.2/LGPL\n",
            "mecab-0.996-ko-0.9.2/Makefile.am\n",
            "mecab-0.996-ko-0.9.2/configure\n",
            "mecab-0.996-ko-0.9.2/tests/\n",
            "mecab-0.996-ko-0.9.2/tests/autolink/\n",
            "mecab-0.996-ko-0.9.2/tests/autolink/unk.def\n",
            "mecab-0.996-ko-0.9.2/tests/autolink/dicrc\n",
            "mecab-0.996-ko-0.9.2/tests/autolink/dic.csv\n",
            "mecab-0.996-ko-0.9.2/tests/autolink/test\n",
            "mecab-0.996-ko-0.9.2/tests/autolink/char.def\n",
            "mecab-0.996-ko-0.9.2/tests/autolink/matrix.def\n",
            "mecab-0.996-ko-0.9.2/tests/autolink/test.gld\n",
            "mecab-0.996-ko-0.9.2/tests/t9/\n",
            "mecab-0.996-ko-0.9.2/tests/t9/unk.def\n",
            "mecab-0.996-ko-0.9.2/tests/t9/ipadic.pl\n",
            "mecab-0.996-ko-0.9.2/tests/t9/dicrc\n",
            "mecab-0.996-ko-0.9.2/tests/t9/dic.csv\n",
            "mecab-0.996-ko-0.9.2/tests/t9/test\n",
            "mecab-0.996-ko-0.9.2/tests/t9/char.def\n",
            "mecab-0.996-ko-0.9.2/tests/t9/matrix.def\n",
            "mecab-0.996-ko-0.9.2/tests/t9/mkdic.pl\n",
            "mecab-0.996-ko-0.9.2/tests/t9/test.gld\n",
            "mecab-0.996-ko-0.9.2/tests/cost-train/\n",
            "mecab-0.996-ko-0.9.2/tests/cost-train/ipa.train\n",
            "mecab-0.996-ko-0.9.2/tests/cost-train/ipa.test\n",
            "mecab-0.996-ko-0.9.2/tests/cost-train/seed/\n",
            "mecab-0.996-ko-0.9.2/tests/cost-train/seed/rewrite.def\n",
            "mecab-0.996-ko-0.9.2/tests/cost-train/seed/feature.def\n",
            "mecab-0.996-ko-0.9.2/tests/cost-train/seed/unk.def\n",
            "mecab-0.996-ko-0.9.2/tests/cost-train/seed/dicrc\n",
            "mecab-0.996-ko-0.9.2/tests/cost-train/seed/dic.csv\n",
            "mecab-0.996-ko-0.9.2/tests/cost-train/seed/char.def\n",
            "mecab-0.996-ko-0.9.2/tests/cost-train/seed/matrix.def\n",
            "mecab-0.996-ko-0.9.2/tests/run-eval.sh\n",
            "mecab-0.996-ko-0.9.2/tests/run-cost-train.sh\n",
            "mecab-0.996-ko-0.9.2/tests/Makefile.am\n",
            "mecab-0.996-ko-0.9.2/tests/katakana/\n",
            "mecab-0.996-ko-0.9.2/tests/katakana/unk.def\n",
            "mecab-0.996-ko-0.9.2/tests/katakana/dicrc\n",
            "mecab-0.996-ko-0.9.2/tests/katakana/dic.csv\n",
            "mecab-0.996-ko-0.9.2/tests/katakana/test\n",
            "mecab-0.996-ko-0.9.2/tests/katakana/char.def\n",
            "mecab-0.996-ko-0.9.2/tests/katakana/matrix.def\n",
            "mecab-0.996-ko-0.9.2/tests/katakana/test.gld\n",
            "mecab-0.996-ko-0.9.2/tests/eval/\n",
            "mecab-0.996-ko-0.9.2/tests/eval/answer\n",
            "mecab-0.996-ko-0.9.2/tests/eval/system\n",
            "mecab-0.996-ko-0.9.2/tests/eval/test.gld\n",
            "mecab-0.996-ko-0.9.2/tests/shiin/\n",
            "mecab-0.996-ko-0.9.2/tests/shiin/unk.def\n",
            "mecab-0.996-ko-0.9.2/tests/shiin/dicrc\n",
            "mecab-0.996-ko-0.9.2/tests/shiin/dic.csv\n",
            "mecab-0.996-ko-0.9.2/tests/shiin/test\n",
            "mecab-0.996-ko-0.9.2/tests/shiin/char.def\n",
            "mecab-0.996-ko-0.9.2/tests/shiin/matrix.def\n",
            "mecab-0.996-ko-0.9.2/tests/shiin/mkdic.pl\n",
            "mecab-0.996-ko-0.9.2/tests/shiin/test.gld\n",
            "mecab-0.996-ko-0.9.2/tests/latin/\n",
            "mecab-0.996-ko-0.9.2/tests/latin/unk.def\n",
            "mecab-0.996-ko-0.9.2/tests/latin/dicrc\n",
            "mecab-0.996-ko-0.9.2/tests/latin/dic.csv\n",
            "mecab-0.996-ko-0.9.2/tests/latin/test\n",
            "mecab-0.996-ko-0.9.2/tests/latin/char.def\n",
            "mecab-0.996-ko-0.9.2/tests/latin/matrix.def\n",
            "mecab-0.996-ko-0.9.2/tests/latin/test.gld\n",
            "mecab-0.996-ko-0.9.2/tests/chartype/\n",
            "mecab-0.996-ko-0.9.2/tests/chartype/unk.def\n",
            "mecab-0.996-ko-0.9.2/tests/chartype/dicrc\n",
            "mecab-0.996-ko-0.9.2/tests/chartype/dic.csv\n",
            "mecab-0.996-ko-0.9.2/tests/chartype/test\n",
            "mecab-0.996-ko-0.9.2/tests/chartype/char.def\n",
            "mecab-0.996-ko-0.9.2/tests/chartype/matrix.def\n",
            "mecab-0.996-ko-0.9.2/tests/chartype/test.gld\n",
            "mecab-0.996-ko-0.9.2/tests/run-dics.sh\n",
            "mecab-0.996-ko-0.9.2/tests/ngram/\n",
            "mecab-0.996-ko-0.9.2/tests/ngram/unk.def\n",
            "mecab-0.996-ko-0.9.2/tests/ngram/dicrc\n",
            "mecab-0.996-ko-0.9.2/tests/ngram/dic.csv\n",
            "mecab-0.996-ko-0.9.2/tests/ngram/test\n",
            "mecab-0.996-ko-0.9.2/tests/ngram/char.def\n",
            "mecab-0.996-ko-0.9.2/tests/ngram/matrix.def\n",
            "mecab-0.996-ko-0.9.2/tests/ngram/test.gld\n",
            "mecab-0.996-ko-0.9.2/tests/Makefile.in\n",
            "mecab-0.996-ko-0.9.2/ltmain.sh\n",
            "mecab-0.996-ko-0.9.2/config.rpath\n",
            "mecab-0.996-ko-0.9.2/config.h.in\n",
            "mecab-0.996-ko-0.9.2/mecabrc.in\n",
            "mecab-0.996-ko-0.9.2/GPL\n",
            "mecab-0.996-ko-0.9.2/Makefile.train\n",
            "mecab-0.996-ko-0.9.2/ChangeLog\n",
            "mecab-0.996-ko-0.9.2/install-sh\n",
            "mecab-0.996-ko-0.9.2/AUTHORS\n",
            "mecab-0.996-ko-0.9.2/doc/\n",
            "mecab-0.996-ko-0.9.2/doc/bindings.html\n",
            "mecab-0.996-ko-0.9.2/doc/posid.html\n",
            "mecab-0.996-ko-0.9.2/doc/unk.html\n",
            "mecab-0.996-ko-0.9.2/doc/learn.html\n",
            "mecab-0.996-ko-0.9.2/doc/format.html\n",
            "mecab-0.996-ko-0.9.2/doc/libmecab.html\n",
            "mecab-0.996-ko-0.9.2/doc/mecab.css\n",
            "mecab-0.996-ko-0.9.2/doc/feature.html\n",
            "mecab-0.996-ko-0.9.2/doc/Makefile.am\n",
            "mecab-0.996-ko-0.9.2/doc/soft.html\n",
            "mecab-0.996-ko-0.9.2/doc/en/\n",
            "mecab-0.996-ko-0.9.2/doc/en/bindings.html\n",
            "mecab-0.996-ko-0.9.2/doc/dic-detail.html\n",
            "mecab-0.996-ko-0.9.2/doc/flow.png\n",
            "mecab-0.996-ko-0.9.2/doc/mecab.html\n",
            "mecab-0.996-ko-0.9.2/doc/index.html\n",
            "mecab-0.996-ko-0.9.2/doc/result.png\n",
            "mecab-0.996-ko-0.9.2/doc/doxygen/\n",
            "mecab-0.996-ko-0.9.2/doc/doxygen/tab_a.png\n",
            "mecab-0.996-ko-0.9.2/doc/doxygen/globals_eval.html\n",
            "mecab-0.996-ko-0.9.2/doc/doxygen/classMeCab_1_1Tagger-members.html\n",
            "mecab-0.996-ko-0.9.2/doc/doxygen/functions_vars.html\n",
            "mecab-0.996-ko-0.9.2/doc/doxygen/doxygen.css\n",
            "mecab-0.996-ko-0.9.2/doc/doxygen/tab_r.gif\n",
            "mecab-0.996-ko-0.9.2/doc/doxygen/classMeCab_1_1Lattice.html\n",
            "mecab-0.996-ko-0.9.2/doc/doxygen/functions.html\n",
            "mecab-0.996-ko-0.9.2/doc/doxygen/classMeCab_1_1Tagger.html\n",
            "mecab-0.996-ko-0.9.2/doc/doxygen/mecab_8h_source.html\n",
            "mecab-0.996-ko-0.9.2/doc/doxygen/tabs.css\n",
            "mecab-0.996-ko-0.9.2/doc/doxygen/nav_f.png\n",
            "mecab-0.996-ko-0.9.2/doc/doxygen/tab_b.png\n",
            "mecab-0.996-ko-0.9.2/doc/doxygen/globals.html\n",
            "mecab-0.996-ko-0.9.2/doc/doxygen/nav_h.png\n",
            "mecab-0.996-ko-0.9.2/doc/doxygen/tab_h.png\n",
            "mecab-0.996-ko-0.9.2/doc/doxygen/classMeCab_1_1Model.html\n",
            "mecab-0.996-ko-0.9.2/doc/doxygen/globals_func.html\n",
            "mecab-0.996-ko-0.9.2/doc/doxygen/closed.png\n",
            "mecab-0.996-ko-0.9.2/doc/doxygen/tab_l.gif\n",
            "mecab-0.996-ko-0.9.2/doc/doxygen/structmecab__path__t-members.html\n",
            "mecab-0.996-ko-0.9.2/doc/doxygen/functions_func.html\n",
            "mecab-0.996-ko-0.9.2/doc/doxygen/globals_type.html\n",
            "mecab-0.996-ko-0.9.2/doc/doxygen/classMeCab_1_1Lattice-members.html\n",
            "mecab-0.996-ko-0.9.2/doc/doxygen/structmecab__node__t.html\n",
            "mecab-0.996-ko-0.9.2/doc/doxygen/namespacemembers_func.html\n",
            "mecab-0.996-ko-0.9.2/doc/doxygen/tab_s.png\n",
            "mecab-0.996-ko-0.9.2/doc/doxygen/structmecab__dictionary__info__t-members.html\n",
            "mecab-0.996-ko-0.9.2/doc/doxygen/namespacemembers_type.html\n",
            "mecab-0.996-ko-0.9.2/doc/doxygen/classMeCab_1_1Model-members.html\n",
            "mecab-0.996-ko-0.9.2/doc/doxygen/structmecab__dictionary__info__t.html\n",
            "mecab-0.996-ko-0.9.2/doc/doxygen/namespaces.html\n",
            "mecab-0.996-ko-0.9.2/doc/doxygen/namespacemembers.html\n",
            "mecab-0.996-ko-0.9.2/doc/doxygen/namespaceMeCab.html\n",
            "mecab-0.996-ko-0.9.2/doc/doxygen/structmecab__path__t.html\n",
            "mecab-0.996-ko-0.9.2/doc/doxygen/files.html\n",
            "mecab-0.996-ko-0.9.2/doc/doxygen/structmecab__node__t-members.html\n",
            "mecab-0.996-ko-0.9.2/doc/doxygen/index.html\n",
            "mecab-0.996-ko-0.9.2/doc/doxygen/annotated.html\n",
            "mecab-0.996-ko-0.9.2/doc/doxygen/globals_defs.html\n",
            "mecab-0.996-ko-0.9.2/doc/doxygen/classes.html\n",
            "mecab-0.996-ko-0.9.2/doc/doxygen/mecab_8h-source.html\n",
            "mecab-0.996-ko-0.9.2/doc/doxygen/doxygen.png\n",
            "mecab-0.996-ko-0.9.2/doc/doxygen/tab_b.gif\n",
            "mecab-0.996-ko-0.9.2/doc/doxygen/bc_s.png\n",
            "mecab-0.996-ko-0.9.2/doc/doxygen/open.png\n",
            "mecab-0.996-ko-0.9.2/doc/doxygen/mecab_8h.html\n",
            "mecab-0.996-ko-0.9.2/doc/dic.html\n",
            "mecab-0.996-ko-0.9.2/doc/partial.html\n",
            "mecab-0.996-ko-0.9.2/doc/feature.png\n",
            "mecab-0.996-ko-0.9.2/doc/Makefile.in\n",
            "mecab-0.996-ko-0.9.2/missing\n",
            "mecab-0.996-ko-0.9.2/BSD\n",
            "mecab-0.996-ko-0.9.2/NEWS\n",
            "mecab-0.996-ko-0.9.2/mkinstalldirs\n",
            "mecab-0.996-ko-0.9.2/src/\n",
            "mecab-0.996-ko-0.9.2/src/dictionary.h\n",
            "mecab-0.996-ko-0.9.2/src/writer.h\n",
            "mecab-0.996-ko-0.9.2/src/utils.h\n",
            "mecab-0.996-ko-0.9.2/src/string_buffer.cpp\n",
            "mecab-0.996-ko-0.9.2/src/tokenizer.cpp\n",
            "mecab-0.996-ko-0.9.2/src/make.bat\n",
            "mecab-0.996-ko-0.9.2/src/mecab.h\n",
            "mecab-0.996-ko-0.9.2/src/freelist.h\n",
            "mecab-0.996-ko-0.9.2/src/string_buffer.h\n",
            "mecab-0.996-ko-0.9.2/src/learner_tagger.h\n",
            "mecab-0.996-ko-0.9.2/src/dictionary_compiler.cpp\n",
            "mecab-0.996-ko-0.9.2/src/eval.cpp\n",
            "mecab-0.996-ko-0.9.2/src/mecab-system-eval.cpp\n",
            "mecab-0.996-ko-0.9.2/src/darts.h\n",
            "mecab-0.996-ko-0.9.2/src/param.h\n",
            "mecab-0.996-ko-0.9.2/src/char_property.h\n",
            "mecab-0.996-ko-0.9.2/src/learner_node.h\n",
            "mecab-0.996-ko-0.9.2/src/mecab-dict-gen.cpp\n",
            "mecab-0.996-ko-0.9.2/src/mecab-dict-index.cpp\n",
            "mecab-0.996-ko-0.9.2/src/winmain.h\n",
            "mecab-0.996-ko-0.9.2/src/thread.h\n",
            "mecab-0.996-ko-0.9.2/src/context_id.cpp\n",
            "mecab-0.996-ko-0.9.2/src/Makefile.am\n",
            "mecab-0.996-ko-0.9.2/src/connector.h\n",
            "mecab-0.996-ko-0.9.2/src/common.h\n",
            "mecab-0.996-ko-0.9.2/src/dictionary_rewriter.cpp\n",
            "mecab-0.996-ko-0.9.2/src/Makefile.msvc.in\n",
            "mecab-0.996-ko-0.9.2/src/dictionary_rewriter.h\n",
            "mecab-0.996-ko-0.9.2/src/feature_index.h\n",
            "mecab-0.996-ko-0.9.2/src/iconv_utils.cpp\n",
            "mecab-0.996-ko-0.9.2/src/char_property.cpp\n",
            "mecab-0.996-ko-0.9.2/src/mecab-test-gen.cpp\n",
            "mecab-0.996-ko-0.9.2/src/tagger.cpp\n",
            "mecab-0.996-ko-0.9.2/src/mecab-cost-train.cpp\n",
            "mecab-0.996-ko-0.9.2/src/learner.cpp\n",
            "mecab-0.996-ko-0.9.2/src/dictionary.cpp\n",
            "mecab-0.996-ko-0.9.2/src/lbfgs.cpp\n",
            "mecab-0.996-ko-0.9.2/src/ucs.h\n",
            "mecab-0.996-ko-0.9.2/src/writer.cpp\n",
            "mecab-0.996-ko-0.9.2/src/learner_tagger.cpp\n",
            "mecab-0.996-ko-0.9.2/src/lbfgs.h\n",
            "mecab-0.996-ko-0.9.2/src/libmecab.cpp\n",
            "mecab-0.996-ko-0.9.2/src/tokenizer.h\n",
            "mecab-0.996-ko-0.9.2/src/mecab.cpp\n",
            "mecab-0.996-ko-0.9.2/src/utils.cpp\n",
            "mecab-0.996-ko-0.9.2/src/dictionary_generator.cpp\n",
            "mecab-0.996-ko-0.9.2/src/param.cpp\n",
            "mecab-0.996-ko-0.9.2/src/context_id.h\n",
            "mecab-0.996-ko-0.9.2/src/mmap.h\n",
            "mecab-0.996-ko-0.9.2/src/viterbi.h\n",
            "mecab-0.996-ko-0.9.2/src/viterbi.cpp\n",
            "mecab-0.996-ko-0.9.2/src/stream_wrapper.h\n",
            "mecab-0.996-ko-0.9.2/src/feature_index.cpp\n",
            "mecab-0.996-ko-0.9.2/src/nbest_generator.h\n",
            "mecab-0.996-ko-0.9.2/src/ucstable.h\n",
            "mecab-0.996-ko-0.9.2/src/nbest_generator.cpp\n",
            "mecab-0.996-ko-0.9.2/src/iconv_utils.h\n",
            "mecab-0.996-ko-0.9.2/src/connector.cpp\n",
            "mecab-0.996-ko-0.9.2/src/Makefile.in\n",
            "mecab-0.996-ko-0.9.2/src/scoped_ptr.h\n",
            "mecab-0.996-ko-0.9.2/Makefile.in\n",
            "checking for a BSD-compatible install... /usr/bin/install -c\n",
            "checking whether build environment is sane... yes\n",
            "checking for a thread-safe mkdir -p... /bin/mkdir -p\n",
            "checking for gawk... no\n",
            "checking for mawk... mawk\n",
            "checking whether make sets $(MAKE)... yes\n",
            "checking for gcc... gcc\n",
            "checking whether the C compiler works... yes\n",
            "checking for C compiler default output file name... a.out\n",
            "checking for suffix of executables... \n",
            "checking whether we are cross compiling... no\n",
            "checking for suffix of object files... o\n",
            "checking whether we are using the GNU C compiler... yes\n",
            "checking whether gcc accepts -g... yes\n",
            "checking for gcc option to accept ISO C89... none needed\n",
            "checking for style of include used by make... GNU\n",
            "checking dependency style of gcc... none\n",
            "checking for g++... g++\n",
            "checking whether we are using the GNU C++ compiler... yes\n",
            "checking whether g++ accepts -g... yes\n",
            "checking dependency style of g++... none\n",
            "checking how to run the C preprocessor... gcc -E\n",
            "checking for grep that handles long lines and -e... /bin/grep\n",
            "checking for egrep... /bin/grep -E\n",
            "checking whether gcc needs -traditional... no\n",
            "checking whether make sets $(MAKE)... (cached) yes\n",
            "checking build system type... x86_64-unknown-linux-gnu\n",
            "checking host system type... x86_64-unknown-linux-gnu\n",
            "checking how to print strings... printf\n",
            "checking for a sed that does not truncate output... /bin/sed\n",
            "checking for fgrep... /bin/grep -F\n",
            "checking for ld used by gcc... /usr/bin/ld\n",
            "checking if the linker (/usr/bin/ld) is GNU ld... yes\n",
            "checking for BSD- or MS-compatible name lister (nm)... /usr/bin/nm -B\n",
            "checking the name lister (/usr/bin/nm -B) interface... BSD nm\n",
            "checking whether ln -s works... yes\n",
            "checking the maximum length of command line arguments... 1572864\n",
            "checking whether the shell understands some XSI constructs... yes\n",
            "checking whether the shell understands \"+=\"... yes\n",
            "checking how to convert x86_64-unknown-linux-gnu file names to x86_64-unknown-linux-gnu format... func_convert_file_noop\n",
            "checking how to convert x86_64-unknown-linux-gnu file names to toolchain format... func_convert_file_noop\n",
            "checking for /usr/bin/ld option to reload object files... -r\n",
            "checking for objdump... objdump\n",
            "checking how to recognize dependent libraries... pass_all\n",
            "checking for dlltool... dlltool\n",
            "checking how to associate runtime and link libraries... printf %s\\n\n",
            "checking for ar... ar\n",
            "checking for archiver @FILE support... @\n",
            "checking for strip... strip\n",
            "checking for ranlib... ranlib\n",
            "checking command to parse /usr/bin/nm -B output from gcc object... ok\n",
            "checking for sysroot... no\n",
            "checking for mt... no\n",
            "checking if : is a manifest tool... no\n",
            "checking for ANSI C header files... yes\n",
            "checking for sys/types.h... yes\n",
            "checking for sys/stat.h... yes\n",
            "checking for stdlib.h... yes\n",
            "checking for string.h... yes\n",
            "checking for memory.h... yes\n",
            "checking for strings.h... yes\n",
            "checking for inttypes.h... yes\n",
            "checking for stdint.h... yes\n",
            "checking for unistd.h... yes\n",
            "checking for dlfcn.h... yes\n",
            "checking for objdir... .libs\n",
            "checking if gcc supports -fno-rtti -fno-exceptions... no\n",
            "checking for gcc option to produce PIC... -fPIC -DPIC\n",
            "checking if gcc PIC flag -fPIC -DPIC works... yes\n",
            "checking if gcc static flag -static works... yes\n",
            "checking if gcc supports -c -o file.o... yes\n",
            "checking if gcc supports -c -o file.o... (cached) yes\n",
            "checking whether the gcc linker (/usr/bin/ld) supports shared libraries... yes\n",
            "checking whether -lc should be explicitly linked in... no\n",
            "checking dynamic linker characteristics... GNU/Linux ld.so\n",
            "checking how to hardcode library paths into programs... immediate\n",
            "checking whether stripping libraries is possible... yes\n",
            "checking if libtool supports shared libraries... yes\n",
            "checking whether to build shared libraries... yes\n",
            "checking whether to build static libraries... yes\n",
            "checking how to run the C++ preprocessor... g++ -E\n",
            "checking for ld used by g++... /usr/bin/ld\n",
            "checking if the linker (/usr/bin/ld) is GNU ld... yes\n",
            "checking whether the g++ linker (/usr/bin/ld) supports shared libraries... yes\n",
            "checking for g++ option to produce PIC... -fPIC -DPIC\n",
            "checking if g++ PIC flag -fPIC -DPIC works... yes\n",
            "checking if g++ static flag -static works... yes\n",
            "checking if g++ supports -c -o file.o... yes\n",
            "checking if g++ supports -c -o file.o... (cached) yes\n",
            "checking whether the g++ linker (/usr/bin/ld) supports shared libraries... yes\n",
            "checking dynamic linker characteristics... (cached) GNU/Linux ld.so\n",
            "checking how to hardcode library paths into programs... immediate\n",
            "checking for library containing strerror... none required\n",
            "checking whether byte ordering is bigendian... no\n",
            "checking for ld used by GCC... /usr/bin/ld\n",
            "checking if the linker (/usr/bin/ld) is GNU ld... yes\n",
            "checking for shared library run path origin... done\n",
            "checking for iconv... yes\n",
            "checking for working iconv... yes\n",
            "checking for iconv declaration... \n",
            "         extern size_t iconv (iconv_t cd, char * *inbuf, size_t *inbytesleft, char * *outbuf, size_t *outbytesleft);\n",
            "checking for ANSI C header files... (cached) yes\n",
            "checking for an ANSI C-conforming const... yes\n",
            "checking whether byte ordering is bigendian... (cached) no\n",
            "checking for string.h... (cached) yes\n",
            "checking for stdlib.h... (cached) yes\n",
            "checking for unistd.h... (cached) yes\n",
            "checking fcntl.h usability... yes\n",
            "checking fcntl.h presence... yes\n",
            "checking for fcntl.h... yes\n",
            "checking for stdint.h... (cached) yes\n",
            "checking for sys/stat.h... (cached) yes\n",
            "checking sys/mman.h usability... yes\n",
            "checking sys/mman.h presence... yes\n",
            "checking for sys/mman.h... yes\n",
            "checking sys/times.h usability... yes\n",
            "checking sys/times.h presence... yes\n",
            "checking for sys/times.h... yes\n",
            "checking for sys/types.h... (cached) yes\n",
            "checking dirent.h usability... yes\n",
            "checking dirent.h presence... yes\n",
            "checking for dirent.h... yes\n",
            "checking ctype.h usability... yes\n",
            "checking ctype.h presence... yes\n",
            "checking for ctype.h... yes\n",
            "checking for sys/types.h... (cached) yes\n",
            "checking io.h usability... no\n",
            "checking io.h presence... no\n",
            "checking for io.h... no\n",
            "checking windows.h usability... no\n",
            "checking windows.h presence... no\n",
            "checking for windows.h... no\n",
            "checking pthread.h usability... yes\n",
            "checking pthread.h presence... yes\n",
            "checking for pthread.h... yes\n",
            "checking for off_t... yes\n",
            "checking for size_t... yes\n",
            "checking size of char... 1\n",
            "checking size of short... 2\n",
            "checking size of int... 4\n",
            "checking size of long... 8\n",
            "checking size of long long... 8\n",
            "checking size of size_t... 8\n",
            "checking for size_t... (cached) yes\n",
            "checking for unsigned long long int... yes\n",
            "checking for stdlib.h... (cached) yes\n",
            "checking for unistd.h... (cached) yes\n",
            "checking for sys/param.h... yes\n",
            "checking for getpagesize... yes\n",
            "checking for working mmap... yes\n",
            "checking for main in -lstdc++... yes\n",
            "checking for pthread_create in -lpthread... yes\n",
            "checking for pthread_join in -lpthread... yes\n",
            "checking for getenv... yes\n",
            "checking for opendir... yes\n",
            "checking whether make is GNU Make... yes\n",
            "checking if g++ supports stl <vector> (required)... yes\n",
            "checking if g++ supports stl <list> (required)... yes\n",
            "checking if g++ supports stl <map> (required)... yes\n",
            "checking if g++ supports stl <set> (required)... yes\n",
            "checking if g++ supports stl <queue> (required)... yes\n",
            "checking if g++ supports stl <functional> (required)... yes\n",
            "checking if g++ supports stl <algorithm> (required)... yes\n",
            "checking if g++ supports stl <string> (required)... yes\n",
            "checking if g++ supports stl <iostream> (required)... yes\n",
            "checking if g++ supports stl <sstream> (required)... yes\n",
            "checking if g++ supports stl <fstream> (required)... yes\n",
            "checking if g++ supports template <class T> (required)... yes\n",
            "checking if g++ supports const_cast<> (required)... yes\n",
            "checking if g++ supports static_cast<> (required)... yes\n",
            "checking if g++ supports reinterpret_cast<> (required)... yes\n",
            "checking if g++ supports namespaces (required) ... yes\n",
            "checking if g++ supports __thread (optional)... yes\n",
            "checking if g++ supports template <class T> (required)... yes\n",
            "checking if g++ supports GCC native atomic operations (optional)... yes\n",
            "checking if g++ supports OSX native atomic operations (optional)... no\n",
            "checking if g++ environment provides all required features... yes\n",
            "configure: creating ./config.status\n",
            "config.status: creating Makefile\n",
            "config.status: creating src/Makefile\n",
            "config.status: creating src/Makefile.msvc\n",
            "config.status: creating man/Makefile\n",
            "config.status: creating doc/Makefile\n",
            "config.status: creating tests/Makefile\n",
            "config.status: creating swig/version.h\n",
            "config.status: creating mecab.iss\n",
            "config.status: creating mecab-config\n",
            "config.status: creating mecabrc\n",
            "config.status: creating config.h\n",
            "config.status: executing depfiles commands\n",
            "config.status: executing libtool commands\n",
            "config.status: executing default commands\n",
            "make  all-recursive\n",
            "make[1]: Entering directory '/tmp/mecab-0.996-ko-0.9.2'\n",
            "Making all in src\n",
            "make[2]: Entering directory '/tmp/mecab-0.996-ko-0.9.2/src'\n",
            "/bin/bash ../libtool --tag=CXX   --mode=compile g++ -DHAVE_CONFIG_H -I. -I.. -DDIC_VERSION=102   -DMECAB_DEFAULT_RC=\"\\\"/usr/local/etc/mecabrc\\\"\"    -O3 -Wall  -c -o viterbi.lo viterbi.cpp\n",
            "libtool: compile:  g++ -DHAVE_CONFIG_H -I. -I.. -DDIC_VERSION=102 -DMECAB_DEFAULT_RC=\\\"/usr/local/etc/mecabrc\\\" -O3 -Wall -c viterbi.cpp  -fPIC -DPIC -o .libs/viterbi.o\n",
            "libtool: compile:  g++ -DHAVE_CONFIG_H -I. -I.. -DDIC_VERSION=102 -DMECAB_DEFAULT_RC=\\\"/usr/local/etc/mecabrc\\\" -O3 -Wall -c viterbi.cpp -o viterbi.o >/dev/null 2>&1\n",
            "/bin/bash ../libtool --tag=CXX   --mode=compile g++ -DHAVE_CONFIG_H -I. -I.. -DDIC_VERSION=102   -DMECAB_DEFAULT_RC=\"\\\"/usr/local/etc/mecabrc\\\"\"    -O3 -Wall  -c -o tagger.lo tagger.cpp\n",
            "libtool: compile:  g++ -DHAVE_CONFIG_H -I. -I.. -DDIC_VERSION=102 -DMECAB_DEFAULT_RC=\\\"/usr/local/etc/mecabrc\\\" -O3 -Wall -c tagger.cpp  -fPIC -DPIC -o .libs/tagger.o\n",
            "libtool: compile:  g++ -DHAVE_CONFIG_H -I. -I.. -DDIC_VERSION=102 -DMECAB_DEFAULT_RC=\\\"/usr/local/etc/mecabrc\\\" -O3 -Wall -c tagger.cpp -o tagger.o >/dev/null 2>&1\n",
            "/bin/bash ../libtool --tag=CXX   --mode=compile g++ -DHAVE_CONFIG_H -I. -I.. -DDIC_VERSION=102   -DMECAB_DEFAULT_RC=\"\\\"/usr/local/etc/mecabrc\\\"\"    -O3 -Wall  -c -o utils.lo utils.cpp\n",
            "libtool: compile:  g++ -DHAVE_CONFIG_H -I. -I.. -DDIC_VERSION=102 -DMECAB_DEFAULT_RC=\\\"/usr/local/etc/mecabrc\\\" -O3 -Wall -c utils.cpp  -fPIC -DPIC -o .libs/utils.o\n",
            "libtool: compile:  g++ -DHAVE_CONFIG_H -I. -I.. -DDIC_VERSION=102 -DMECAB_DEFAULT_RC=\\\"/usr/local/etc/mecabrc\\\" -O3 -Wall -c utils.cpp -o utils.o >/dev/null 2>&1\n",
            "/bin/bash ../libtool --tag=CXX   --mode=compile g++ -DHAVE_CONFIG_H -I. -I.. -DDIC_VERSION=102   -DMECAB_DEFAULT_RC=\"\\\"/usr/local/etc/mecabrc\\\"\"    -O3 -Wall  -c -o eval.lo eval.cpp\n",
            "libtool: compile:  g++ -DHAVE_CONFIG_H -I. -I.. -DDIC_VERSION=102 -DMECAB_DEFAULT_RC=\\\"/usr/local/etc/mecabrc\\\" -O3 -Wall -c eval.cpp  -fPIC -DPIC -o .libs/eval.o\n",
            "libtool: compile:  g++ -DHAVE_CONFIG_H -I. -I.. -DDIC_VERSION=102 -DMECAB_DEFAULT_RC=\\\"/usr/local/etc/mecabrc\\\" -O3 -Wall -c eval.cpp -o eval.o >/dev/null 2>&1\n",
            "/bin/bash ../libtool --tag=CXX   --mode=compile g++ -DHAVE_CONFIG_H -I. -I.. -DDIC_VERSION=102   -DMECAB_DEFAULT_RC=\"\\\"/usr/local/etc/mecabrc\\\"\"    -O3 -Wall  -c -o iconv_utils.lo iconv_utils.cpp\n",
            "libtool: compile:  g++ -DHAVE_CONFIG_H -I. -I.. -DDIC_VERSION=102 -DMECAB_DEFAULT_RC=\\\"/usr/local/etc/mecabrc\\\" -O3 -Wall -c iconv_utils.cpp  -fPIC -DPIC -o .libs/iconv_utils.o\n",
            "libtool: compile:  g++ -DHAVE_CONFIG_H -I. -I.. -DDIC_VERSION=102 -DMECAB_DEFAULT_RC=\\\"/usr/local/etc/mecabrc\\\" -O3 -Wall -c iconv_utils.cpp -o iconv_utils.o >/dev/null 2>&1\n",
            "/bin/bash ../libtool --tag=CXX   --mode=compile g++ -DHAVE_CONFIG_H -I. -I.. -DDIC_VERSION=102   -DMECAB_DEFAULT_RC=\"\\\"/usr/local/etc/mecabrc\\\"\"    -O3 -Wall  -c -o dictionary_rewriter.lo dictionary_rewriter.cpp\n",
            "libtool: compile:  g++ -DHAVE_CONFIG_H -I. -I.. -DDIC_VERSION=102 -DMECAB_DEFAULT_RC=\\\"/usr/local/etc/mecabrc\\\" -O3 -Wall -c dictionary_rewriter.cpp  -fPIC -DPIC -o .libs/dictionary_rewriter.o\n",
            "libtool: compile:  g++ -DHAVE_CONFIG_H -I. -I.. -DDIC_VERSION=102 -DMECAB_DEFAULT_RC=\\\"/usr/local/etc/mecabrc\\\" -O3 -Wall -c dictionary_rewriter.cpp -o dictionary_rewriter.o >/dev/null 2>&1\n",
            "/bin/bash ../libtool --tag=CXX   --mode=compile g++ -DHAVE_CONFIG_H -I. -I.. -DDIC_VERSION=102   -DMECAB_DEFAULT_RC=\"\\\"/usr/local/etc/mecabrc\\\"\"    -O3 -Wall  -c -o dictionary_generator.lo dictionary_generator.cpp\n",
            "libtool: compile:  g++ -DHAVE_CONFIG_H -I. -I.. -DDIC_VERSION=102 -DMECAB_DEFAULT_RC=\\\"/usr/local/etc/mecabrc\\\" -O3 -Wall -c dictionary_generator.cpp  -fPIC -DPIC -o .libs/dictionary_generator.o\n",
            "libtool: compile:  g++ -DHAVE_CONFIG_H -I. -I.. -DDIC_VERSION=102 -DMECAB_DEFAULT_RC=\\\"/usr/local/etc/mecabrc\\\" -O3 -Wall -c dictionary_generator.cpp -o dictionary_generator.o >/dev/null 2>&1\n",
            "/bin/bash ../libtool --tag=CXX   --mode=compile g++ -DHAVE_CONFIG_H -I. -I.. -DDIC_VERSION=102   -DMECAB_DEFAULT_RC=\"\\\"/usr/local/etc/mecabrc\\\"\"    -O3 -Wall  -c -o dictionary_compiler.lo dictionary_compiler.cpp\n",
            "libtool: compile:  g++ -DHAVE_CONFIG_H -I. -I.. -DDIC_VERSION=102 -DMECAB_DEFAULT_RC=\\\"/usr/local/etc/mecabrc\\\" -O3 -Wall -c dictionary_compiler.cpp  -fPIC -DPIC -o .libs/dictionary_compiler.o\n",
            "libtool: compile:  g++ -DHAVE_CONFIG_H -I. -I.. -DDIC_VERSION=102 -DMECAB_DEFAULT_RC=\\\"/usr/local/etc/mecabrc\\\" -O3 -Wall -c dictionary_compiler.cpp -o dictionary_compiler.o >/dev/null 2>&1\n",
            "/bin/bash ../libtool --tag=CXX   --mode=compile g++ -DHAVE_CONFIG_H -I. -I.. -DDIC_VERSION=102   -DMECAB_DEFAULT_RC=\"\\\"/usr/local/etc/mecabrc\\\"\"    -O3 -Wall  -c -o context_id.lo context_id.cpp\n",
            "libtool: compile:  g++ -DHAVE_CONFIG_H -I. -I.. -DDIC_VERSION=102 -DMECAB_DEFAULT_RC=\\\"/usr/local/etc/mecabrc\\\" -O3 -Wall -c context_id.cpp  -fPIC -DPIC -o .libs/context_id.o\n",
            "libtool: compile:  g++ -DHAVE_CONFIG_H -I. -I.. -DDIC_VERSION=102 -DMECAB_DEFAULT_RC=\\\"/usr/local/etc/mecabrc\\\" -O3 -Wall -c context_id.cpp -o context_id.o >/dev/null 2>&1\n",
            "/bin/bash ../libtool --tag=CXX   --mode=compile g++ -DHAVE_CONFIG_H -I. -I.. -DDIC_VERSION=102   -DMECAB_DEFAULT_RC=\"\\\"/usr/local/etc/mecabrc\\\"\"    -O3 -Wall  -c -o connector.lo connector.cpp\n",
            "libtool: compile:  g++ -DHAVE_CONFIG_H -I. -I.. -DDIC_VERSION=102 -DMECAB_DEFAULT_RC=\\\"/usr/local/etc/mecabrc\\\" -O3 -Wall -c connector.cpp  -fPIC -DPIC -o .libs/connector.o\n",
            "libtool: compile:  g++ -DHAVE_CONFIG_H -I. -I.. -DDIC_VERSION=102 -DMECAB_DEFAULT_RC=\\\"/usr/local/etc/mecabrc\\\" -O3 -Wall -c connector.cpp -o connector.o >/dev/null 2>&1\n",
            "/bin/bash ../libtool --tag=CXX   --mode=compile g++ -DHAVE_CONFIG_H -I. -I.. -DDIC_VERSION=102   -DMECAB_DEFAULT_RC=\"\\\"/usr/local/etc/mecabrc\\\"\"    -O3 -Wall  -c -o nbest_generator.lo nbest_generator.cpp\n",
            "libtool: compile:  g++ -DHAVE_CONFIG_H -I. -I.. -DDIC_VERSION=102 -DMECAB_DEFAULT_RC=\\\"/usr/local/etc/mecabrc\\\" -O3 -Wall -c nbest_generator.cpp  -fPIC -DPIC -o .libs/nbest_generator.o\n",
            "libtool: compile:  g++ -DHAVE_CONFIG_H -I. -I.. -DDIC_VERSION=102 -DMECAB_DEFAULT_RC=\\\"/usr/local/etc/mecabrc\\\" -O3 -Wall -c nbest_generator.cpp -o nbest_generator.o >/dev/null 2>&1\n",
            "/bin/bash ../libtool --tag=CXX   --mode=compile g++ -DHAVE_CONFIG_H -I. -I.. -DDIC_VERSION=102   -DMECAB_DEFAULT_RC=\"\\\"/usr/local/etc/mecabrc\\\"\"    -O3 -Wall  -c -o writer.lo writer.cpp\n",
            "libtool: compile:  g++ -DHAVE_CONFIG_H -I. -I.. -DDIC_VERSION=102 -DMECAB_DEFAULT_RC=\\\"/usr/local/etc/mecabrc\\\" -O3 -Wall -c writer.cpp  -fPIC -DPIC -o .libs/writer.o\n",
            "libtool: compile:  g++ -DHAVE_CONFIG_H -I. -I.. -DDIC_VERSION=102 -DMECAB_DEFAULT_RC=\\\"/usr/local/etc/mecabrc\\\" -O3 -Wall -c writer.cpp -o writer.o >/dev/null 2>&1\n",
            "/bin/bash ../libtool --tag=CXX   --mode=compile g++ -DHAVE_CONFIG_H -I. -I.. -DDIC_VERSION=102   -DMECAB_DEFAULT_RC=\"\\\"/usr/local/etc/mecabrc\\\"\"    -O3 -Wall  -c -o string_buffer.lo string_buffer.cpp\n",
            "libtool: compile:  g++ -DHAVE_CONFIG_H -I. -I.. -DDIC_VERSION=102 -DMECAB_DEFAULT_RC=\\\"/usr/local/etc/mecabrc\\\" -O3 -Wall -c string_buffer.cpp  -fPIC -DPIC -o .libs/string_buffer.o\n",
            "libtool: compile:  g++ -DHAVE_CONFIG_H -I. -I.. -DDIC_VERSION=102 -DMECAB_DEFAULT_RC=\\\"/usr/local/etc/mecabrc\\\" -O3 -Wall -c string_buffer.cpp -o string_buffer.o >/dev/null 2>&1\n",
            "/bin/bash ../libtool --tag=CXX   --mode=compile g++ -DHAVE_CONFIG_H -I. -I.. -DDIC_VERSION=102   -DMECAB_DEFAULT_RC=\"\\\"/usr/local/etc/mecabrc\\\"\"    -O3 -Wall  -c -o param.lo param.cpp\n",
            "libtool: compile:  g++ -DHAVE_CONFIG_H -I. -I.. -DDIC_VERSION=102 -DMECAB_DEFAULT_RC=\\\"/usr/local/etc/mecabrc\\\" -O3 -Wall -c param.cpp  -fPIC -DPIC -o .libs/param.o\n",
            "libtool: compile:  g++ -DHAVE_CONFIG_H -I. -I.. -DDIC_VERSION=102 -DMECAB_DEFAULT_RC=\\\"/usr/local/etc/mecabrc\\\" -O3 -Wall -c param.cpp -o param.o >/dev/null 2>&1\n",
            "/bin/bash ../libtool --tag=CXX   --mode=compile g++ -DHAVE_CONFIG_H -I. -I.. -DDIC_VERSION=102   -DMECAB_DEFAULT_RC=\"\\\"/usr/local/etc/mecabrc\\\"\"    -O3 -Wall  -c -o tokenizer.lo tokenizer.cpp\n",
            "libtool: compile:  g++ -DHAVE_CONFIG_H -I. -I.. -DDIC_VERSION=102 -DMECAB_DEFAULT_RC=\\\"/usr/local/etc/mecabrc\\\" -O3 -Wall -c tokenizer.cpp  -fPIC -DPIC -o .libs/tokenizer.o\n",
            "libtool: compile:  g++ -DHAVE_CONFIG_H -I. -I.. -DDIC_VERSION=102 -DMECAB_DEFAULT_RC=\\\"/usr/local/etc/mecabrc\\\" -O3 -Wall -c tokenizer.cpp -o tokenizer.o >/dev/null 2>&1\n",
            "/bin/bash ../libtool --tag=CXX   --mode=compile g++ -DHAVE_CONFIG_H -I. -I.. -DDIC_VERSION=102   -DMECAB_DEFAULT_RC=\"\\\"/usr/local/etc/mecabrc\\\"\"    -O3 -Wall  -c -o char_property.lo char_property.cpp\n",
            "libtool: compile:  g++ -DHAVE_CONFIG_H -I. -I.. -DDIC_VERSION=102 -DMECAB_DEFAULT_RC=\\\"/usr/local/etc/mecabrc\\\" -O3 -Wall -c char_property.cpp  -fPIC -DPIC -o .libs/char_property.o\n",
            "libtool: compile:  g++ -DHAVE_CONFIG_H -I. -I.. -DDIC_VERSION=102 -DMECAB_DEFAULT_RC=\\\"/usr/local/etc/mecabrc\\\" -O3 -Wall -c char_property.cpp -o char_property.o >/dev/null 2>&1\n",
            "/bin/bash ../libtool --tag=CXX   --mode=compile g++ -DHAVE_CONFIG_H -I. -I.. -DDIC_VERSION=102   -DMECAB_DEFAULT_RC=\"\\\"/usr/local/etc/mecabrc\\\"\"    -O3 -Wall  -c -o dictionary.lo dictionary.cpp\n",
            "libtool: compile:  g++ -DHAVE_CONFIG_H -I. -I.. -DDIC_VERSION=102 -DMECAB_DEFAULT_RC=\\\"/usr/local/etc/mecabrc\\\" -O3 -Wall -c dictionary.cpp  -fPIC -DPIC -o .libs/dictionary.o\n",
            "libtool: compile:  g++ -DHAVE_CONFIG_H -I. -I.. -DDIC_VERSION=102 -DMECAB_DEFAULT_RC=\\\"/usr/local/etc/mecabrc\\\" -O3 -Wall -c dictionary.cpp -o dictionary.o >/dev/null 2>&1\n",
            "/bin/bash ../libtool --tag=CXX   --mode=compile g++ -DHAVE_CONFIG_H -I. -I.. -DDIC_VERSION=102   -DMECAB_DEFAULT_RC=\"\\\"/usr/local/etc/mecabrc\\\"\"    -O3 -Wall  -c -o feature_index.lo feature_index.cpp\n",
            "libtool: compile:  g++ -DHAVE_CONFIG_H -I. -I.. -DDIC_VERSION=102 -DMECAB_DEFAULT_RC=\\\"/usr/local/etc/mecabrc\\\" -O3 -Wall -c feature_index.cpp  -fPIC -DPIC -o .libs/feature_index.o\n",
            "libtool: compile:  g++ -DHAVE_CONFIG_H -I. -I.. -DDIC_VERSION=102 -DMECAB_DEFAULT_RC=\\\"/usr/local/etc/mecabrc\\\" -O3 -Wall -c feature_index.cpp -o feature_index.o >/dev/null 2>&1\n",
            "/bin/bash ../libtool --tag=CXX   --mode=compile g++ -DHAVE_CONFIG_H -I. -I.. -DDIC_VERSION=102   -DMECAB_DEFAULT_RC=\"\\\"/usr/local/etc/mecabrc\\\"\"    -O3 -Wall  -c -o lbfgs.lo lbfgs.cpp\n",
            "libtool: compile:  g++ -DHAVE_CONFIG_H -I. -I.. -DDIC_VERSION=102 -DMECAB_DEFAULT_RC=\\\"/usr/local/etc/mecabrc\\\" -O3 -Wall -c lbfgs.cpp  -fPIC -DPIC -o .libs/lbfgs.o\n",
            "libtool: compile:  g++ -DHAVE_CONFIG_H -I. -I.. -DDIC_VERSION=102 -DMECAB_DEFAULT_RC=\\\"/usr/local/etc/mecabrc\\\" -O3 -Wall -c lbfgs.cpp -o lbfgs.o >/dev/null 2>&1\n",
            "/bin/bash ../libtool --tag=CXX   --mode=compile g++ -DHAVE_CONFIG_H -I. -I.. -DDIC_VERSION=102   -DMECAB_DEFAULT_RC=\"\\\"/usr/local/etc/mecabrc\\\"\"    -O3 -Wall  -c -o learner_tagger.lo learner_tagger.cpp\n",
            "libtool: compile:  g++ -DHAVE_CONFIG_H -I. -I.. -DDIC_VERSION=102 -DMECAB_DEFAULT_RC=\\\"/usr/local/etc/mecabrc\\\" -O3 -Wall -c learner_tagger.cpp  -fPIC -DPIC -o .libs/learner_tagger.o\n",
            "libtool: compile:  g++ -DHAVE_CONFIG_H -I. -I.. -DDIC_VERSION=102 -DMECAB_DEFAULT_RC=\\\"/usr/local/etc/mecabrc\\\" -O3 -Wall -c learner_tagger.cpp -o learner_tagger.o >/dev/null 2>&1\n",
            "/bin/bash ../libtool --tag=CXX   --mode=compile g++ -DHAVE_CONFIG_H -I. -I.. -DDIC_VERSION=102   -DMECAB_DEFAULT_RC=\"\\\"/usr/local/etc/mecabrc\\\"\"    -O3 -Wall  -c -o learner.lo learner.cpp\n",
            "libtool: compile:  g++ -DHAVE_CONFIG_H -I. -I.. -DDIC_VERSION=102 -DMECAB_DEFAULT_RC=\\\"/usr/local/etc/mecabrc\\\" -O3 -Wall -c learner.cpp  -fPIC -DPIC -o .libs/learner.o\n",
            "libtool: compile:  g++ -DHAVE_CONFIG_H -I. -I.. -DDIC_VERSION=102 -DMECAB_DEFAULT_RC=\\\"/usr/local/etc/mecabrc\\\" -O3 -Wall -c learner.cpp -o learner.o >/dev/null 2>&1\n",
            "/bin/bash ../libtool --tag=CXX   --mode=compile g++ -DHAVE_CONFIG_H -I. -I.. -DDIC_VERSION=102   -DMECAB_DEFAULT_RC=\"\\\"/usr/local/etc/mecabrc\\\"\"    -O3 -Wall  -c -o libmecab.lo libmecab.cpp\n",
            "libtool: compile:  g++ -DHAVE_CONFIG_H -I. -I.. -DDIC_VERSION=102 -DMECAB_DEFAULT_RC=\\\"/usr/local/etc/mecabrc\\\" -O3 -Wall -c libmecab.cpp  -fPIC -DPIC -o .libs/libmecab.o\n",
            "libtool: compile:  g++ -DHAVE_CONFIG_H -I. -I.. -DDIC_VERSION=102 -DMECAB_DEFAULT_RC=\\\"/usr/local/etc/mecabrc\\\" -O3 -Wall -c libmecab.cpp -o libmecab.o >/dev/null 2>&1\n",
            "/bin/bash ../libtool --tag=CXX   --mode=link g++  -O3 -Wall  -no-undefined -version-info 2:0:0  -o libmecab.la -rpath /usr/local/lib viterbi.lo tagger.lo utils.lo eval.lo iconv_utils.lo dictionary_rewriter.lo dictionary_generator.lo dictionary_compiler.lo context_id.lo connector.lo nbest_generator.lo writer.lo string_buffer.lo param.lo tokenizer.lo char_property.lo dictionary.lo feature_index.lo lbfgs.lo learner_tagger.lo learner.lo libmecab.lo  -lpthread -lpthread  -lstdc++ \n",
            "libtool: link: g++  -fPIC -DPIC -shared -nostdlib /usr/lib/gcc/x86_64-linux-gnu/7/../../../x86_64-linux-gnu/crti.o /usr/lib/gcc/x86_64-linux-gnu/7/crtbeginS.o  .libs/viterbi.o .libs/tagger.o .libs/utils.o .libs/eval.o .libs/iconv_utils.o .libs/dictionary_rewriter.o .libs/dictionary_generator.o .libs/dictionary_compiler.o .libs/context_id.o .libs/connector.o .libs/nbest_generator.o .libs/writer.o .libs/string_buffer.o .libs/param.o .libs/tokenizer.o .libs/char_property.o .libs/dictionary.o .libs/feature_index.o .libs/lbfgs.o .libs/learner_tagger.o .libs/learner.o .libs/libmecab.o   -lpthread -L/usr/lib/gcc/x86_64-linux-gnu/7 -L/usr/lib/gcc/x86_64-linux-gnu/7/../../../x86_64-linux-gnu -L/usr/lib/gcc/x86_64-linux-gnu/7/../../../../lib -L/lib/x86_64-linux-gnu -L/lib/../lib -L/usr/lib/x86_64-linux-gnu -L/usr/lib/../lib -L/usr/local/cuda/lib64/stubs -L/usr/lib/gcc/x86_64-linux-gnu/7/../../.. -lstdc++ -lm -lc -lgcc_s /usr/lib/gcc/x86_64-linux-gnu/7/crtendS.o /usr/lib/gcc/x86_64-linux-gnu/7/../../../x86_64-linux-gnu/crtn.o  -O3   -Wl,-soname -Wl,libmecab.so.2 -o .libs/libmecab.so.2.0.0\n",
            "libtool: link: (cd \".libs\" && rm -f \"libmecab.so.2\" && ln -s \"libmecab.so.2.0.0\" \"libmecab.so.2\")\n",
            "libtool: link: (cd \".libs\" && rm -f \"libmecab.so\" && ln -s \"libmecab.so.2.0.0\" \"libmecab.so\")\n",
            "libtool: link: ar cru .libs/libmecab.a  viterbi.o tagger.o utils.o eval.o iconv_utils.o dictionary_rewriter.o dictionary_generator.o dictionary_compiler.o context_id.o connector.o nbest_generator.o writer.o string_buffer.o param.o tokenizer.o char_property.o dictionary.o feature_index.o lbfgs.o learner_tagger.o learner.o libmecab.o\n",
            "libtool: link: ranlib .libs/libmecab.a\n",
            "libtool: link: ( cd \".libs\" && rm -f \"libmecab.la\" && ln -s \"../libmecab.la\" \"libmecab.la\" )\n",
            "g++ -DHAVE_CONFIG_H -I. -I.. -DDIC_VERSION=102   -DMECAB_DEFAULT_RC=\"\\\"/usr/local/etc/mecabrc\\\"\"    -O3 -Wall  -c -o mecab.o mecab.cpp\n",
            "/bin/bash ../libtool --tag=CXX   --mode=link g++  -O3 -Wall    -o mecab mecab.o libmecab.la -lpthread -lpthread  -lstdc++ \n",
            "libtool: link: g++ -O3 -Wall -o .libs/mecab mecab.o  ./.libs/libmecab.so -lpthread -lstdc++\n",
            "g++ -DHAVE_CONFIG_H -I. -I.. -DDIC_VERSION=102   -DMECAB_DEFAULT_RC=\"\\\"/usr/local/etc/mecabrc\\\"\"    -O3 -Wall  -c -o mecab-dict-index.o mecab-dict-index.cpp\n",
            "/bin/bash ../libtool --tag=CXX   --mode=link g++  -O3 -Wall    -o mecab-dict-index mecab-dict-index.o libmecab.la -lpthread -lpthread  -lstdc++ \n",
            "libtool: link: g++ -O3 -Wall -o .libs/mecab-dict-index mecab-dict-index.o  ./.libs/libmecab.so -lpthread -lstdc++\n",
            "g++ -DHAVE_CONFIG_H -I. -I.. -DDIC_VERSION=102   -DMECAB_DEFAULT_RC=\"\\\"/usr/local/etc/mecabrc\\\"\"    -O3 -Wall  -c -o mecab-dict-gen.o mecab-dict-gen.cpp\n",
            "/bin/bash ../libtool --tag=CXX   --mode=link g++  -O3 -Wall    -o mecab-dict-gen mecab-dict-gen.o libmecab.la -lpthread -lpthread  -lstdc++ \n",
            "libtool: link: g++ -O3 -Wall -o .libs/mecab-dict-gen mecab-dict-gen.o  ./.libs/libmecab.so -lpthread -lstdc++\n",
            "g++ -DHAVE_CONFIG_H -I. -I.. -DDIC_VERSION=102   -DMECAB_DEFAULT_RC=\"\\\"/usr/local/etc/mecabrc\\\"\"    -O3 -Wall  -c -o mecab-cost-train.o mecab-cost-train.cpp\n",
            "/bin/bash ../libtool --tag=CXX   --mode=link g++  -O3 -Wall    -o mecab-cost-train mecab-cost-train.o libmecab.la -lpthread -lpthread  -lstdc++ \n",
            "libtool: link: g++ -O3 -Wall -o .libs/mecab-cost-train mecab-cost-train.o  ./.libs/libmecab.so -lpthread -lstdc++\n",
            "g++ -DHAVE_CONFIG_H -I. -I.. -DDIC_VERSION=102   -DMECAB_DEFAULT_RC=\"\\\"/usr/local/etc/mecabrc\\\"\"    -O3 -Wall  -c -o mecab-system-eval.o mecab-system-eval.cpp\n",
            "/bin/bash ../libtool --tag=CXX   --mode=link g++  -O3 -Wall    -o mecab-system-eval mecab-system-eval.o libmecab.la -lpthread -lpthread  -lstdc++ \n",
            "libtool: link: g++ -O3 -Wall -o .libs/mecab-system-eval mecab-system-eval.o  ./.libs/libmecab.so -lpthread -lstdc++\n",
            "g++ -DHAVE_CONFIG_H -I. -I.. -DDIC_VERSION=102   -DMECAB_DEFAULT_RC=\"\\\"/usr/local/etc/mecabrc\\\"\"    -O3 -Wall  -c -o mecab-test-gen.o mecab-test-gen.cpp\n",
            "/bin/bash ../libtool --tag=CXX   --mode=link g++  -O3 -Wall    -o mecab-test-gen mecab-test-gen.o libmecab.la -lpthread -lpthread  -lstdc++ \n",
            "libtool: link: g++ -O3 -Wall -o .libs/mecab-test-gen mecab-test-gen.o  ./.libs/libmecab.so -lpthread -lstdc++\n",
            "make[2]: Leaving directory '/tmp/mecab-0.996-ko-0.9.2/src'\n",
            "Making all in man\n",
            "make[2]: Entering directory '/tmp/mecab-0.996-ko-0.9.2/man'\n",
            "make[2]: Nothing to be done for 'all'.\n",
            "make[2]: Leaving directory '/tmp/mecab-0.996-ko-0.9.2/man'\n",
            "Making all in doc\n",
            "make[2]: Entering directory '/tmp/mecab-0.996-ko-0.9.2/doc'\n",
            "make[2]: Nothing to be done for 'all'.\n",
            "make[2]: Leaving directory '/tmp/mecab-0.996-ko-0.9.2/doc'\n",
            "Making all in tests\n",
            "make[2]: Entering directory '/tmp/mecab-0.996-ko-0.9.2/tests'\n",
            "make[2]: Nothing to be done for 'all'.\n",
            "make[2]: Leaving directory '/tmp/mecab-0.996-ko-0.9.2/tests'\n",
            "make[2]: Entering directory '/tmp/mecab-0.996-ko-0.9.2'\n",
            "make[2]: Leaving directory '/tmp/mecab-0.996-ko-0.9.2'\n",
            "make[1]: Leaving directory '/tmp/mecab-0.996-ko-0.9.2'\n",
            "Making check in src\n",
            "make[1]: Entering directory '/tmp/mecab-0.996-ko-0.9.2/src'\n",
            "make[1]: Nothing to be done for 'check'.\n",
            "make[1]: Leaving directory '/tmp/mecab-0.996-ko-0.9.2/src'\n",
            "Making check in man\n",
            "make[1]: Entering directory '/tmp/mecab-0.996-ko-0.9.2/man'\n",
            "make[1]: Nothing to be done for 'check'.\n",
            "make[1]: Leaving directory '/tmp/mecab-0.996-ko-0.9.2/man'\n",
            "Making check in doc\n",
            "make[1]: Entering directory '/tmp/mecab-0.996-ko-0.9.2/doc'\n",
            "make[1]: Nothing to be done for 'check'.\n",
            "make[1]: Leaving directory '/tmp/mecab-0.996-ko-0.9.2/doc'\n",
            "Making check in tests\n",
            "make[1]: Entering directory '/tmp/mecab-0.996-ko-0.9.2/tests'\n",
            "make  check-TESTS\n",
            "make[2]: Entering directory '/tmp/mecab-0.996-ko-0.9.2/tests'\n",
            "reading ./unk.def ... 2\n",
            "emitting double-array:  50% |#####################                      | \remitting double-array: 100% |###########################################| \n",
            "./model.def is not found. skipped.\n",
            "reading ./dic.csv ... 177\n",
            "emitting double-array:   1% |                                           | \remitting double-array:   3% |#                                          | \remitting double-array:   5% |##                                         | \remitting double-array:   7% |###                                        | \remitting double-array:   9% |###                                        | \remitting double-array:  11% |####                                       | \remitting double-array:  12% |#####                                      | \remitting double-array:  14% |######                                     | \remitting double-array:  16% |#######                                    | \remitting double-array:  18% |#######                                    | \remitting double-array:  20% |########                                   | \remitting double-array:  22% |#########                                  | \remitting double-array:  24% |##########                                 | \remitting double-array:  25% |###########                                | \remitting double-array:  27% |###########                                | \remitting double-array:  29% |############                               | \remitting double-array:  31% |#############                              | \remitting double-array:  33% |##############                             | \remitting double-array:  35% |###############                            | \remitting double-array:  37% |###############                            | \remitting double-array:  38% |################                           | \remitting double-array:  40% |#################                          | \remitting double-array:  42% |##################                         | \remitting double-array:  44% |###################                        | \remitting double-array:  46% |###################                        | \remitting double-array:  48% |####################                       | \remitting double-array:  50% |#####################                      | \remitting double-array:  51% |######################                     | \remitting double-array:  53% |#######################                    | \remitting double-array:  55% |#######################                    | \remitting double-array:  57% |########################                   | \remitting double-array:  59% |#########################                  | \remitting double-array:  61% |##########################                 | \remitting double-array:  62% |###########################                | \remitting double-array:  64% |###########################                | \remitting double-array:  66% |############################               | \remitting double-array:  68% |#############################              | \remitting double-array:  70% |##############################             | \remitting double-array:  72% |###############################            | \remitting double-array:  74% |###############################            | \remitting double-array:  75% |################################           | \remitting double-array:  77% |#################################          | \remitting double-array:  79% |##################################         | \remitting double-array:  81% |###################################        | \remitting double-array:  83% |###################################        | \remitting double-array:  85% |####################################       | \remitting double-array:  87% |#####################################      | \remitting double-array:  88% |######################################     | \remitting double-array:  90% |#######################################    | \remitting double-array:  92% |#######################################    | \remitting double-array:  94% |########################################   | \remitting double-array:  96% |#########################################  | \remitting double-array:  98% |########################################## | \remitting double-array: 100% |###########################################| \n",
            "reading ./matrix.def ... 178x178\n",
            "emitting matrix      :   0% |                                           | \remitting matrix      :   1% |                                           | \remitting matrix      :   2% |                                           | \remitting matrix      :   3% |#                                          | \remitting matrix      :   4% |#                                          | \remitting matrix      :   5% |##                                         | \remitting matrix      :   6% |##                                         | \remitting matrix      :   7% |###                                        | \remitting matrix      :   8% |###                                        | \remitting matrix      :   9% |####                                       | \remitting matrix      :  10% |####                                       | \remitting matrix      :  11% |####                                       | \remitting matrix      :  12% |#####                                      | \remitting matrix      :  13% |#####                                      | \remitting matrix      :  14% |######                                     | \remitting matrix      :  15% |######                                     | \remitting matrix      :  16% |#######                                    | \remitting matrix      :  17% |#######                                    | \remitting matrix      :  18% |#######                                    | \remitting matrix      :  19% |########                                   | \remitting matrix      :  20% |########                                   | \remitting matrix      :  21% |#########                                  | \remitting matrix      :  22% |#########                                  | \remitting matrix      :  23% |#########                                  | \remitting matrix      :  24% |##########                                 | \remitting matrix      :  25% |##########                                 | \remitting matrix      :  26% |###########                                | \remitting matrix      :  27% |###########                                | \remitting matrix      :  28% |############                               | \remitting matrix      :  29% |############                               | \remitting matrix      :  30% |#############                              | \remitting matrix      :  31% |#############                              | \remitting matrix      :  32% |#############                              | \remitting matrix      :  33% |##############                             | \remitting matrix      :  34% |##############                             | \remitting matrix      :  35% |###############                            | \remitting matrix      :  36% |###############                            | \remitting matrix      :  37% |###############                            | \remitting matrix      :  38% |################                           | \remitting matrix      :  39% |################                           | \remitting matrix      :  40% |#################                          | \remitting matrix      :  41% |#################                          | \remitting matrix      :  42% |##################                         | \remitting matrix      :  43% |##################                         | \remitting matrix      :  44% |###################                        | \remitting matrix      :  45% |###################                        | \remitting matrix      :  46% |###################                        | \remitting matrix      :  47% |####################                       | \remitting matrix      :  48% |####################                       | \remitting matrix      :  49% |#####################                      | \remitting matrix      :  50% |#####################                      | \remitting matrix      :  51% |#####################                      | \remitting matrix      :  52% |######################                     | \remitting matrix      :  53% |######################                     | \remitting matrix      :  54% |#######################                    | \remitting matrix      :  55% |#######################                    | \remitting matrix      :  56% |########################                   | \remitting matrix      :  57% |########################                   | \remitting matrix      :  58% |#########################                  | \remitting matrix      :  59% |#########################                  | \remitting matrix      :  60% |#########################                  | \remitting matrix      :  61% |##########################                 | \remitting matrix      :  62% |##########################                 | \remitting matrix      :  63% |###########################                | \remitting matrix      :  64% |###########################                | \remitting matrix      :  65% |############################               | \remitting matrix      :  66% |############################               | \remitting matrix      :  67% |############################               | \remitting matrix      :  68% |#############################              | \remitting matrix      :  69% |#############################              | \remitting matrix      :  70% |##############################             | \remitting matrix      :  71% |##############################             | \remitting matrix      :  72% |###############################            | \remitting matrix      :  73% |###############################            | \remitting matrix      :  74% |###############################            | \remitting matrix      :  75% |################################           | \remitting matrix      :  76% |################################           | \remitting matrix      :  77% |#################################          | \remitting matrix      :  78% |#################################          | \remitting matrix      :  79% |##################################         | \remitting matrix      :  80% |##################################         | \remitting matrix      :  81% |###################################        | \remitting matrix      :  82% |###################################        | \remitting matrix      :  83% |###################################        | \remitting matrix      :  84% |####################################       | \remitting matrix      :  85% |####################################       | \remitting matrix      :  86% |#####################################      | \remitting matrix      :  87% |#####################################      | \remitting matrix      :  88% |#####################################      | \remitting matrix      :  89% |######################################     | \remitting matrix      :  90% |######################################     | \remitting matrix      :  91% |#######################################    | \remitting matrix      :  92% |#######################################    | \remitting matrix      :  93% |########################################   | \remitting matrix      :  94% |########################################   | \remitting matrix      :  95% |#########################################  | \remitting matrix      :  96% |#########################################  | \remitting matrix      :  97% |#########################################  | \remitting matrix      :  98% |########################################## | \remitting matrix      :  99% |########################################## | \remitting matrix      : 100% |###########################################| \n",
            "\n",
            "done!\n",
            "reading ./unk.def ... 2\n",
            "emitting double-array:  50% |#####################                      | \remitting double-array: 100% |###########################################| \n",
            "./model.def is not found. skipped.\n",
            "reading ./dic.csv ... 83\n",
            "emitting double-array:  10% |####                                       | \remitting double-array:  20% |########                                   | \remitting double-array:  30% |############                               | \remitting double-array:  40% |#################                          | \remitting double-array:  50% |#####################                      | \remitting double-array:  60% |#########################                  | \remitting double-array:  70% |##############################             | \remitting double-array:  80% |##################################         | \remitting double-array:  90% |######################################     | \remitting double-array: 100% |###########################################| \n",
            "reading ./matrix.def ... 84x84\n",
            "emitting matrix      :   1% |                                           | \remitting matrix      :   2% |#                                          | \remitting matrix      :   3% |#                                          | \remitting matrix      :   4% |##                                         | \remitting matrix      :   5% |##                                         | \remitting matrix      :   7% |###                                        | \remitting matrix      :   8% |###                                        | \remitting matrix      :   9% |####                                       | \remitting matrix      :  10% |####                                       | \remitting matrix      :  11% |#####                                      | \remitting matrix      :  13% |#####                                      | \remitting matrix      :  14% |######                                     | \remitting matrix      :  15% |######                                     | \remitting matrix      :  16% |#######                                    | \remitting matrix      :  17% |#######                                    | \remitting matrix      :  19% |########                                   | \remitting matrix      :  20% |########                                   | \remitting matrix      :  21% |#########                                  | \remitting matrix      :  22% |#########                                  | \remitting matrix      :  23% |##########                                 | \remitting matrix      :  25% |##########                                 | \remitting matrix      :  26% |###########                                | \remitting matrix      :  27% |###########                                | \remitting matrix      :  28% |############                               | \remitting matrix      :  29% |############                               | \remitting matrix      :  30% |#############                              | \remitting matrix      :  32% |#############                              | \remitting matrix      :  33% |##############                             | \remitting matrix      :  34% |##############                             | \remitting matrix      :  35% |###############                            | \remitting matrix      :  36% |###############                            | \remitting matrix      :  38% |################                           | \remitting matrix      :  39% |################                           | \remitting matrix      :  40% |#################                          | \remitting matrix      :  41% |#################                          | \remitting matrix      :  42% |##################                         | \remitting matrix      :  44% |##################                         | \remitting matrix      :  45% |###################                        | \remitting matrix      :  46% |###################                        | \remitting matrix      :  47% |####################                       | \remitting matrix      :  48% |####################                       | \remitting matrix      :  50% |#####################                      | \remitting matrix      :  51% |######################                     | \remitting matrix      :  52% |######################                     | \remitting matrix      :  53% |#######################                    | \remitting matrix      :  54% |#######################                    | \remitting matrix      :  55% |########################                   | \remitting matrix      :  57% |########################                   | \remitting matrix      :  58% |#########################                  | \remitting matrix      :  59% |#########################                  | \remitting matrix      :  60% |##########################                 | \remitting matrix      :  61% |##########################                 | \remitting matrix      :  63% |###########################                | \remitting matrix      :  64% |###########################                | \remitting matrix      :  65% |############################               | \remitting matrix      :  66% |############################               | \remitting matrix      :  67% |#############################              | \remitting matrix      :  69% |#############################              | \remitting matrix      :  70% |##############################             | \remitting matrix      :  71% |##############################             | \remitting matrix      :  72% |###############################            | \remitting matrix      :  73% |###############################            | \remitting matrix      :  75% |################################           | \remitting matrix      :  76% |################################           | \remitting matrix      :  77% |#################################          | \remitting matrix      :  78% |#################################          | \remitting matrix      :  79% |##################################         | \remitting matrix      :  80% |##################################         | \remitting matrix      :  82% |###################################        | \remitting matrix      :  83% |###################################        | \remitting matrix      :  84% |####################################       | \remitting matrix      :  85% |####################################       | \remitting matrix      :  86% |#####################################      | \remitting matrix      :  88% |#####################################      | \remitting matrix      :  89% |######################################     | \remitting matrix      :  90% |######################################     | \remitting matrix      :  91% |#######################################    | \remitting matrix      :  92% |#######################################    | \remitting matrix      :  94% |########################################   | \remitting matrix      :  95% |########################################   | \remitting matrix      :  96% |#########################################  | \remitting matrix      :  97% |#########################################  | \remitting matrix      :  98% |########################################## | \remitting matrix      : 100% |###########################################| \n",
            "\n",
            "done!\n",
            "reading ./unk.def ... 2\n",
            "emitting double-array:  50% |#####################                      | \remitting double-array: 100% |###########################################| \n",
            "./model.def is not found. skipped.\n",
            "reading ./dic.csv ... 450\n",
            "emitting double-array:   0% |                                           | \remitting double-array:   1% |                                           | \remitting double-array:   2% |                                           | \remitting double-array:   3% |#                                          | \remitting double-array:   4% |#                                          | \remitting double-array:   5% |##                                         | \remitting double-array:   6% |##                                         | \remitting double-array:   7% |###                                        | \remitting double-array:   8% |###                                        | \remitting double-array:   9% |###                                        | \remitting double-array:  10% |####                                       | \remitting double-array:  11% |####                                       | \remitting double-array:  12% |#####                                      | \remitting double-array:  13% |#####                                      | \remitting double-array:  14% |######                                     | \remitting double-array:  15% |######                                     | \remitting double-array:  16% |######                                     | \remitting double-array:  17% |#######                                    | \remitting double-array:  18% |#######                                    | \remitting double-array:  19% |########                                   | \remitting double-array:  20% |########                                   | \remitting double-array:  21% |#########                                  | \remitting double-array:  22% |#########                                  | \remitting double-array:  23% |#########                                  | \remitting double-array:  24% |##########                                 | \remitting double-array:  25% |##########                                 | \remitting double-array:  26% |###########                                | \remitting double-array:  27% |###########                                | \remitting double-array:  28% |############                               | \remitting double-array:  29% |############                               | \remitting double-array:  30% |############                               | \remitting double-array:  31% |#############                              | \remitting double-array:  32% |#############                              | \remitting double-array:  33% |##############                             | \remitting double-array:  34% |##############                             | \remitting double-array:  35% |###############                            | \remitting double-array:  36% |###############                            | \remitting double-array:  37% |###############                            | \remitting double-array:  38% |################                           | \remitting double-array:  39% |################                           | \remitting double-array:  40% |#################                          | \remitting double-array:  41% |#################                          | \remitting double-array:  42% |##################                         | \remitting double-array:  43% |##################                         | \remitting double-array:  44% |##################                         | \remitting double-array:  45% |###################                        | \remitting double-array:  46% |###################                        | \remitting double-array:  47% |####################                       | \remitting double-array:  48% |####################                       | \remitting double-array:  49% |#####################                      | \remitting double-array:  50% |#####################                      | \remitting double-array:  51% |#####################                      | \remitting double-array:  52% |######################                     | \remitting double-array:  53% |######################                     | \remitting double-array:  54% |#######################                    | \remitting double-array:  55% |#######################                    | \remitting double-array:  56% |########################                   | \remitting double-array:  57% |########################                   | \remitting double-array:  58% |#########################                  | \remitting double-array:  59% |#########################                  | \remitting double-array:  60% |#########################                  | \remitting double-array:  61% |##########################                 | \remitting double-array:  62% |##########################                 | \remitting double-array:  63% |###########################                | \remitting double-array:  64% |###########################                | \remitting double-array:  65% |###########################                | \remitting double-array:  66% |############################               | \remitting double-array:  67% |############################               | \remitting double-array:  68% |#############################              | \remitting double-array:  69% |#############################              | \remitting double-array:  70% |##############################             | \remitting double-array:  71% |##############################             | \remitting double-array:  72% |##############################             | \remitting double-array:  73% |###############################            | \remitting double-array:  74% |###############################            | \remitting double-array:  75% |################################           | \remitting double-array:  76% |################################           | \remitting double-array:  77% |#################################          | \remitting double-array:  78% |#################################          | \remitting double-array:  79% |##################################         | \remitting double-array:  80% |##################################         | \remitting double-array:  81% |##################################         | \remitting double-array:  82% |###################################        | \remitting double-array:  83% |###################################        | \remitting double-array:  84% |####################################       | \remitting double-array:  85% |####################################       | \remitting double-array:  86% |#####################################      | \remitting double-array:  87% |#####################################      | \remitting double-array:  88% |#####################################      | \remitting double-array:  89% |######################################     | \remitting double-array:  90% |######################################     | \remitting double-array:  91% |#######################################    | \remitting double-array:  92% |#######################################    | \remitting double-array:  93% |########################################   | \remitting double-array:  94% |########################################   | \remitting double-array:  95% |########################################   | \remitting double-array:  96% |#########################################  | \remitting double-array:  97% |#########################################  | \remitting double-array:  98% |########################################## | \remitting double-array:  99% |########################################## | \remitting double-array: 100% |###########################################| \n",
            "reading ./matrix.def ... 1x1\n",
            "\n",
            "done!\n",
            "reading ./unk.def ... 2\n",
            "emitting double-array:  50% |#####################                      | \remitting double-array: 100% |###########################################| \n",
            "./model.def is not found. skipped.\n",
            "reading ./dic.csv ... 162\n",
            "emitting double-array:   1% |                                           | \remitting double-array:   2% |#                                          | \remitting double-array:   3% |#                                          | \remitting double-array:   4% |##                                         | \remitting double-array:   6% |##                                         | \remitting double-array:   7% |###                                        | \remitting double-array:   8% |###                                        | \remitting double-array:   9% |####                                       | \remitting double-array:  11% |####                                       | \remitting double-array:  12% |#####                                      | \remitting double-array:  13% |#####                                      | \remitting double-array:  14% |######                                     | \remitting double-array:  16% |######                                     | \remitting double-array:  17% |#######                                    | \remitting double-array:  18% |#######                                    | \remitting double-array:  19% |########                                   | \remitting double-array:  20% |#########                                  | \remitting double-array:  22% |#########                                  | \remitting double-array:  23% |##########                                 | \remitting double-array:  24% |##########                                 | \remitting double-array:  25% |###########                                | \remitting double-array:  27% |###########                                | \remitting double-array:  28% |############                               | \remitting double-array:  29% |############                               | \remitting double-array:  30% |#############                              | \remitting double-array:  32% |#############                              | \remitting double-array:  33% |##############                             | \remitting double-array:  34% |##############                             | \remitting double-array:  35% |###############                            | \remitting double-array:  37% |###############                            | \remitting double-array:  38% |################                           | \remitting double-array:  39% |################                           | \remitting double-array:  40% |#################                          | \remitting double-array:  41% |##################                         | \remitting double-array:  43% |##################                         | \remitting double-array:  44% |###################                        | \remitting double-array:  45% |###################                        | \remitting double-array:  46% |####################                       | \remitting double-array:  48% |####################                       | \remitting double-array:  49% |#####################                      | \remitting double-array:  50% |#####################                      | \remitting double-array:  51% |######################                     | \remitting double-array:  53% |######################                     | \remitting double-array:  54% |#######################                    | \remitting double-array:  55% |#######################                    | \remitting double-array:  56% |########################                   | \remitting double-array:  58% |########################                   | \remitting double-array:  59% |#########################                  | \remitting double-array:  60% |##########################                 | \remitting double-array:  61% |##########################                 | \remitting double-array:  62% |###########################                | \remitting double-array:  64% |###########################                | \remitting double-array:  65% |############################               | \remitting double-array:  66% |############################               | \remitting double-array:  67% |#############################              | \remitting double-array:  69% |#############################              | \remitting double-array:  70% |##############################             | \remitting double-array:  71% |##############################             | \remitting double-array:  72% |###############################            | \remitting double-array:  74% |###############################            | \remitting double-array:  75% |################################           | \remitting double-array:  76% |################################           | \remitting double-array:  77% |#################################          | \remitting double-array:  79% |#################################          | \remitting double-array:  80% |##################################         | \remitting double-array:  81% |###################################        | \remitting double-array:  82% |###################################        | \remitting double-array:  83% |####################################       | \remitting double-array:  85% |####################################       | \remitting double-array:  86% |#####################################      | \remitting double-array:  87% |#####################################      | \remitting double-array:  88% |######################################     | \remitting double-array:  90% |######################################     | \remitting double-array:  91% |#######################################    | \remitting double-array:  92% |#######################################    | \remitting double-array:  93% |########################################   | \remitting double-array:  95% |########################################   | \remitting double-array:  96% |#########################################  | \remitting double-array:  97% |#########################################  | \remitting double-array:  98% |########################################## | \remitting double-array: 100% |###########################################| \n",
            "reading ./matrix.def ... 3x3\n",
            "emitting matrix      :  33% |##############                             | \remitting matrix      :  66% |############################               | \remitting matrix      : 100% |###########################################| \n",
            "\n",
            "done!\n",
            "reading ./unk.def ... 2\n",
            "emitting double-array:  50% |#####################                      | \remitting double-array: 100% |###########################################| \n",
            "./model.def is not found. skipped.\n",
            "reading ./dic.csv ... 4\n",
            "emitting double-array:  25% |##########                                 | \remitting double-array:  50% |#####################                      | \remitting double-array:  75% |################################           | \remitting double-array: 100% |###########################################| \n",
            "reading ./matrix.def ... 1x1\n",
            "\n",
            "done!\n",
            "reading ./unk.def ... 11\n",
            "emitting double-array:   9% |###                                        | \remitting double-array:  18% |#######                                    | \remitting double-array:  27% |###########                                | \remitting double-array:  36% |###############                            | \remitting double-array:  45% |###################                        | \remitting double-array:  54% |#######################                    | \remitting double-array:  63% |###########################                | \remitting double-array:  72% |###############################            | \remitting double-array:  81% |###################################        | \remitting double-array:  90% |#######################################    | \remitting double-array: 100% |###########################################| \n",
            "./model.def is not found. skipped.\n",
            "reading ./dic.csv ... 1\n",
            "reading ./matrix.def ... 1x1\n",
            "\n",
            "done!\n",
            "reading ./unk.def ... 2\n",
            "emitting double-array:  50% |#####################                      | \remitting double-array: 100% |###########################################| \n",
            "./model.def is not found. skipped.\n",
            "reading ./dic.csv ... 1\n",
            "reading ./matrix.def ... 1x1\n",
            "\n",
            "done!\n",
            "PASS: run-dics.sh\n",
            "PASS: run-eval.sh\n",
            "reading seed/unk.def ... 40\n",
            "emitting double-array:   9% |###                                        | \remitting double-array:  18% |#######                                    | \remitting double-array:  27% |###########                                | \remitting double-array:  36% |###############                            | \remitting double-array:  45% |###################                        | \remitting double-array:  54% |#######################                    | \remitting double-array:  63% |###########################                | \remitting double-array:  72% |###############################            | \remitting double-array:  81% |###################################        | \remitting double-array:  90% |#######################################    | \remitting double-array: 100% |###########################################| \n",
            "seed/model.def is not found. skipped.\n",
            "reading seed/dic.csv ... 4335\n",
            "emitting double-array:   0% |                                           | \remitting double-array:   1% |                                           | \remitting double-array:   2% |                                           | \remitting double-array:   3% |#                                          | \remitting double-array:   4% |#                                          | \remitting double-array:   5% |##                                         | \remitting double-array:   6% |##                                         | \remitting double-array:   7% |###                                        | \remitting double-array:   8% |###                                        | \remitting double-array:   9% |###                                        | \remitting double-array:  10% |####                                       | \remitting double-array:  11% |####                                       | \remitting double-array:  12% |#####                                      | \remitting double-array:  13% |#####                                      | \remitting double-array:  14% |######                                     | \remitting double-array:  15% |######                                     | \remitting double-array:  16% |######                                     | \remitting double-array:  17% |#######                                    | \remitting double-array:  18% |#######                                    | \remitting double-array:  19% |########                                   | \remitting double-array:  20% |########                                   | \remitting double-array:  21% |#########                                  | \remitting double-array:  22% |#########                                  | \remitting double-array:  23% |#########                                  | \remitting double-array:  24% |##########                                 | \remitting double-array:  25% |##########                                 | \remitting double-array:  26% |###########                                | \remitting double-array:  27% |###########                                | \remitting double-array:  28% |############                               | \remitting double-array:  29% |############                               | \remitting double-array:  30% |############                               | \remitting double-array:  31% |#############                              | \remitting double-array:  32% |#############                              | \remitting double-array:  33% |##############                             | \remitting double-array:  34% |##############                             | \remitting double-array:  35% |###############                            | \remitting double-array:  36% |###############                            | \remitting double-array:  37% |###############                            | \remitting double-array:  38% |################                           | \remitting double-array:  39% |################                           | \remitting double-array:  40% |#################                          | \remitting double-array:  41% |#################                          | \remitting double-array:  42% |##################                         | \remitting double-array:  43% |##################                         | \remitting double-array:  44% |##################                         | \remitting double-array:  45% |###################                        | \remitting double-array:  46% |###################                        | \remitting double-array:  47% |####################                       | \remitting double-array:  48% |####################                       | \remitting double-array:  49% |#####################                      | \remitting double-array:  50% |#####################                      | \remitting double-array:  51% |#####################                      | \remitting double-array:  52% |######################                     | \remitting double-array:  53% |######################                     | \remitting double-array:  54% |#######################                    | \remitting double-array:  55% |#######################                    | \remitting double-array:  56% |########################                   | \remitting double-array:  57% |########################                   | \remitting double-array:  58% |########################                   | \remitting double-array:  59% |#########################                  | \remitting double-array:  60% |#########################                  | \remitting double-array:  61% |##########################                 | \remitting double-array:  62% |##########################                 | \remitting double-array:  63% |###########################                | \remitting double-array:  64% |###########################                | \remitting double-array:  65% |###########################                | \remitting double-array:  66% |############################               | \remitting double-array:  67% |############################               | \remitting double-array:  68% |#############################              | \remitting double-array:  69% |#############################              | \remitting double-array:  70% |##############################             | \remitting double-array:  71% |##############################             | \remitting double-array:  72% |##############################             | \remitting double-array:  73% |###############################            | \remitting double-array:  74% |###############################            | \remitting double-array:  75% |################################           | \remitting double-array:  76% |################################           | \remitting double-array:  77% |#################################          | \remitting double-array:  78% |#################################          | \remitting double-array:  79% |#################################          | \remitting double-array:  80% |##################################         | \remitting double-array:  81% |##################################         | \remitting double-array:  82% |###################################        | \remitting double-array:  83% |###################################        | \remitting double-array:  84% |####################################       | \remitting double-array:  85% |####################################       | \remitting double-array:  86% |#####################################      | \remitting double-array:  87% |#####################################      | \remitting double-array:  88% |#####################################      | \remitting double-array:  89% |######################################     | \remitting double-array:  90% |######################################     | \remitting double-array:  91% |#######################################    | \remitting double-array:  92% |#######################################    | \remitting double-array:  93% |########################################   | \remitting double-array:  94% |########################################   | \remitting double-array:  95% |########################################   | \remitting double-array:  96% |#########################################  | \remitting double-array:  97% |#########################################  | \remitting double-array:  98% |########################################## | \remitting double-array:  99% |########################################## | \remitting double-array: 100% |###########################################| \n",
            "reading seed/matrix.def ... 1x1\n",
            "\n",
            "done!\n",
            "reading corpus ...\n",
            "Number of sentences: 34\n",
            "Number of features:  64108\n",
            "eta:                 0.00005\n",
            "freq:                1\n",
            "eval-size:           6\n",
            "unk-eval-size:       4\n",
            "threads:             1\n",
            "charset:             EUC-JP\n",
            "C(sigma^2):          1.00000\n",
            "\n",
            "iter=0 err=1.00000 F=0.35771 target=2406.28355 diff=1.00000\n",
            "iter=1 err=0.97059 F=0.65652 target=1484.25231 diff=0.38318\n",
            "iter=2 err=0.91176 F=0.79331 target=863.32765 diff=0.41834\n",
            "iter=3 err=0.85294 F=0.89213 target=596.72480 diff=0.30881\n",
            "iter=4 err=0.61765 F=0.95467 target=336.30744 diff=0.43641\n",
            "iter=5 err=0.50000 F=0.96702 target=246.53039 diff=0.26695\n",
            "iter=6 err=0.35294 F=0.95472 target=188.93963 diff=0.23361\n",
            "iter=7 err=0.20588 F=0.99106 target=168.62665 diff=0.10751\n",
            "iter=8 err=0.05882 F=0.99777 target=158.64865 diff=0.05917\n",
            "iter=9 err=0.08824 F=0.99665 target=154.14530 diff=0.02839\n",
            "iter=10 err=0.08824 F=0.99665 target=151.94257 diff=0.01429\n",
            "iter=11 err=0.02941 F=0.99888 target=147.20825 diff=0.03116\n",
            "iter=12 err=0.00000 F=1.00000 target=147.34956 diff=0.00096\n",
            "iter=13 err=0.02941 F=0.99888 target=146.32592 diff=0.00695\n",
            "iter=14 err=0.00000 F=1.00000 target=145.77299 diff=0.00378\n",
            "iter=15 err=0.02941 F=0.99888 target=145.24641 diff=0.00361\n",
            "iter=16 err=0.00000 F=1.00000 target=144.96490 diff=0.00194\n",
            "iter=17 err=0.02941 F=0.99888 target=144.90246 diff=0.00043\n",
            "iter=18 err=0.00000 F=1.00000 target=144.75959 diff=0.00099\n",
            "iter=19 err=0.00000 F=1.00000 target=144.71727 diff=0.00029\n",
            "iter=20 err=0.00000 F=1.00000 target=144.66337 diff=0.00037\n",
            "iter=21 err=0.00000 F=1.00000 target=144.61349 diff=0.00034\n",
            "iter=22 err=0.00000 F=1.00000 target=144.62987 diff=0.00011\n",
            "iter=23 err=0.00000 F=1.00000 target=144.60060 diff=0.00020\n",
            "iter=24 err=0.00000 F=1.00000 target=144.59125 diff=0.00006\n",
            "iter=25 err=0.00000 F=1.00000 target=144.58619 diff=0.00004\n",
            "iter=26 err=0.00000 F=1.00000 target=144.58219 diff=0.00003\n",
            "iter=27 err=0.00000 F=1.00000 target=144.58059 diff=0.00001\n",
            "\n",
            "Done! writing model file ... \n",
            "model-ipadic.c1.0.f1.model is not a binary model. reopen it as text mode...\n",
            "reading seed/unk.def ... 40\n",
            "reading seed/dic.csv ... 4335\n",
            "emitting model-ipadic.c1.0.f1.dic/left-id.def/ model-ipadic.c1.0.f1.dic/right-id.def\n",
            "emitting model-ipadic.c1.0.f1.dic/unk.def ... 40\n",
            "emitting model-ipadic.c1.0.f1.dic/dic.csv ... 4335\n",
            "emitting matrix      :   1% |                                           | \remitting matrix      :   2% |                                           | \remitting matrix      :   3% |#                                          | \remitting matrix      :   4% |#                                          | \remitting matrix      :   5% |##                                         | \remitting matrix      :   6% |##                                         | \remitting matrix      :   7% |###                                        | \remitting matrix      :   8% |###                                        | \remitting matrix      :   9% |###                                        | \remitting matrix      :  10% |####                                       | \remitting matrix      :  11% |####                                       | \remitting matrix      :  12% |#####                                      | \remitting matrix      :  13% |#####                                      | \remitting matrix      :  14% |######                                     | \remitting matrix      :  15% |######                                     | \remitting matrix      :  16% |######                                     | \remitting matrix      :  17% |#######                                    | \remitting matrix      :  18% |#######                                    | \remitting matrix      :  19% |########                                   | \remitting matrix      :  20% |########                                   | \remitting matrix      :  21% |#########                                  | \remitting matrix      :  22% |#########                                  | \remitting matrix      :  23% |#########                                  | \remitting matrix      :  24% |##########                                 | \remitting matrix      :  25% |##########                                 | \remitting matrix      :  26% |###########                                | \remitting matrix      :  27% |###########                                | \remitting matrix      :  28% |############                               | \remitting matrix      :  29% |############                               | \remitting matrix      :  30% |############                               | \remitting matrix      :  31% |#############                              | \remitting matrix      :  32% |#############                              | \remitting matrix      :  33% |##############                             | \remitting matrix      :  34% |##############                             | \remitting matrix      :  35% |###############                            | \remitting matrix      :  36% |###############                            | \remitting matrix      :  37% |################                           | \remitting matrix      :  38% |################                           | \remitting matrix      :  39% |################                           | \remitting matrix      :  40% |#################                          | \remitting matrix      :  41% |#################                          | \remitting matrix      :  42% |##################                         | \remitting matrix      :  43% |##################                         | \remitting matrix      :  44% |###################                        | \remitting matrix      :  45% |###################                        | \remitting matrix      :  46% |###################                        | \remitting matrix      :  47% |####################                       | \remitting matrix      :  48% |####################                       | \remitting matrix      :  49% |#####################                      | \remitting matrix      :  50% |#####################                      | \remitting matrix      :  51% |#####################                      | \remitting matrix      :  52% |######################                     | \remitting matrix      :  53% |######################                     | \remitting matrix      :  54% |#######################                    | \remitting matrix      :  55% |#######################                    | \remitting matrix      :  56% |########################                   | \remitting matrix      :  57% |########################                   | \remitting matrix      :  58% |########################                   | \remitting matrix      :  59% |#########################                  | \remitting matrix      :  60% |#########################                  | \remitting matrix      :  61% |##########################                 | \remitting matrix      :  62% |##########################                 | \remitting matrix      :  63% |###########################                | \remitting matrix      :  64% |###########################                | \remitting matrix      :  65% |###########################                | \remitting matrix      :  66% |############################               | \remitting matrix      :  67% |############################               | \remitting matrix      :  68% |#############################              | \remitting matrix      :  69% |#############################              | \remitting matrix      :  70% |##############################             | \remitting matrix      :  71% |##############################             | \remitting matrix      :  72% |###############################            | \remitting matrix      :  73% |###############################            | \remitting matrix      :  74% |###############################            | \remitting matrix      :  75% |################################           | \remitting matrix      :  76% |################################           | \remitting matrix      :  77% |#################################          | \remitting matrix      :  78% |#################################          | \remitting matrix      :  79% |##################################         | \remitting matrix      :  80% |##################################         | \remitting matrix      :  81% |##################################         | \remitting matrix      :  82% |###################################        | \remitting matrix      :  83% |###################################        | \remitting matrix      :  84% |####################################       | \remitting matrix      :  85% |####################################       | \remitting matrix      :  86% |#####################################      | \remitting matrix      :  87% |#####################################      | \remitting matrix      :  88% |#####################################      | \remitting matrix      :  89% |######################################     | \remitting matrix      :  90% |######################################     | \remitting matrix      :  91% |#######################################    | \remitting matrix      :  92% |#######################################    | \remitting matrix      :  93% |########################################   | \remitting matrix      :  94% |########################################   | \remitting matrix      :  95% |########################################   | \remitting matrix      :  96% |#########################################  | \remitting matrix      :  97% |#########################################  | \remitting matrix      :  98% |########################################## | \remitting matrix      :  99% |########################################## | \remitting matrix      : 100% |###########################################| \n",
            "copying seed/char.def to model-ipadic.c1.0.f1.dic/char.def\n",
            "copying seed/rewrite.def to model-ipadic.c1.0.f1.dic/rewrite.def\n",
            "copying seed/dicrc to model-ipadic.c1.0.f1.dic/dicrc\n",
            "copying seed/feature.def to model-ipadic.c1.0.f1.dic/feature.def\n",
            "copying model-ipadic.c1.0.f1.model to model-ipadic.c1.0.f1.dic/model.def\n",
            "\n",
            "done!\n",
            "reading model-ipadic.c1.0.f1.dic/unk.def ... 40\n",
            "emitting double-array:   9% |###                                        | \remitting double-array:  18% |#######                                    | \remitting double-array:  27% |###########                                | \remitting double-array:  36% |###############                            | \remitting double-array:  45% |###################                        | \remitting double-array:  54% |#######################                    | \remitting double-array:  63% |###########################                | \remitting double-array:  72% |###############################            | \remitting double-array:  81% |###################################        | \remitting double-array:  90% |#######################################    | \remitting double-array: 100% |###########################################| \n",
            "reading model-ipadic.c1.0.f1.dic/dic.csv ... 4335\n",
            "emitting double-array:   0% |                                           | \remitting double-array:   1% |                                           | \remitting double-array:   2% |                                           | \remitting double-array:   3% |#                                          | \remitting double-array:   4% |#                                          | \remitting double-array:   5% |##                                         | \remitting double-array:   6% |##                                         | \remitting double-array:   7% |###                                        | \remitting double-array:   8% |###                                        | \remitting double-array:   9% |###                                        | \remitting double-array:  10% |####                                       | \remitting double-array:  11% |####                                       | \remitting double-array:  12% |#####                                      | \remitting double-array:  13% |#####                                      | \remitting double-array:  14% |######                                     | \remitting double-array:  15% |######                                     | \remitting double-array:  16% |######                                     | \remitting double-array:  17% |#######                                    | \remitting double-array:  18% |#######                                    | \remitting double-array:  19% |########                                   | \remitting double-array:  20% |########                                   | \remitting double-array:  21% |#########                                  | \remitting double-array:  22% |#########                                  | \remitting double-array:  23% |#########                                  | \remitting double-array:  24% |##########                                 | \remitting double-array:  25% |##########                                 | \remitting double-array:  26% |###########                                | \remitting double-array:  27% |###########                                | \remitting double-array:  28% |############                               | \remitting double-array:  29% |############                               | \remitting double-array:  30% |############                               | \remitting double-array:  31% |#############                              | \remitting double-array:  32% |#############                              | \remitting double-array:  33% |##############                             | \remitting double-array:  34% |##############                             | \remitting double-array:  35% |###############                            | \remitting double-array:  36% |###############                            | \remitting double-array:  37% |###############                            | \remitting double-array:  38% |################                           | \remitting double-array:  39% |################                           | \remitting double-array:  40% |#################                          | \remitting double-array:  41% |#################                          | \remitting double-array:  42% |##################                         | \remitting double-array:  43% |##################                         | \remitting double-array:  44% |##################                         | \remitting double-array:  45% |###################                        | \remitting double-array:  46% |###################                        | \remitting double-array:  47% |####################                       | \remitting double-array:  48% |####################                       | \remitting double-array:  49% |#####################                      | \remitting double-array:  50% |#####################                      | \remitting double-array:  51% |#####################                      | \remitting double-array:  52% |######################                     | \remitting double-array:  53% |######################                     | \remitting double-array:  54% |#######################                    | \remitting double-array:  55% |#######################                    | \remitting double-array:  56% |########################                   | \remitting double-array:  57% |########################                   | \remitting double-array:  58% |########################                   | \remitting double-array:  59% |#########################                  | \remitting double-array:  60% |#########################                  | \remitting double-array:  61% |##########################                 | \remitting double-array:  62% |##########################                 | \remitting double-array:  63% |###########################                | \remitting double-array:  64% |###########################                | \remitting double-array:  65% |###########################                | \remitting double-array:  66% |############################               | \remitting double-array:  67% |############################               | \remitting double-array:  68% |#############################              | \remitting double-array:  69% |#############################              | \remitting double-array:  70% |##############################             | \remitting double-array:  71% |##############################             | \remitting double-array:  72% |##############################             | \remitting double-array:  73% |###############################            | \remitting double-array:  74% |###############################            | \remitting double-array:  75% |################################           | \remitting double-array:  76% |################################           | \remitting double-array:  77% |#################################          | \remitting double-array:  78% |#################################          | \remitting double-array:  79% |#################################          | \remitting double-array:  80% |##################################         | \remitting double-array:  81% |##################################         | \remitting double-array:  82% |###################################        | \remitting double-array:  83% |###################################        | \remitting double-array:  84% |####################################       | \remitting double-array:  85% |####################################       | \remitting double-array:  86% |#####################################      | \remitting double-array:  87% |#####################################      | \remitting double-array:  88% |#####################################      | \remitting double-array:  89% |######################################     | \remitting double-array:  90% |######################################     | \remitting double-array:  91% |#######################################    | \remitting double-array:  92% |#######################################    | \remitting double-array:  93% |########################################   | \remitting double-array:  94% |########################################   | \remitting double-array:  95% |########################################   | \remitting double-array:  96% |#########################################  | \remitting double-array:  97% |#########################################  | \remitting double-array:  98% |########################################## | \remitting double-array:  99% |########################################## | \remitting double-array: 100% |###########################################| \n",
            "reading model-ipadic.c1.0.f1.dic/matrix.def ... 346x346\n",
            "emitting matrix      :   0% |                                           | \remitting matrix      :   1% |                                           | \remitting matrix      :   2% |                                           | \remitting matrix      :   3% |#                                          | \remitting matrix      :   4% |#                                          | \remitting matrix      :   5% |##                                         | \remitting matrix      :   6% |##                                         | \remitting matrix      :   7% |###                                        | \remitting matrix      :   8% |###                                        | \remitting matrix      :   9% |###                                        | \remitting matrix      :  10% |####                                       | \remitting matrix      :  11% |####                                       | \remitting matrix      :  12% |#####                                      | \remitting matrix      :  13% |#####                                      | \remitting matrix      :  14% |######                                     | \remitting matrix      :  15% |######                                     | \remitting matrix      :  16% |######                                     | \remitting matrix      :  17% |#######                                    | \remitting matrix      :  18% |#######                                    | \remitting matrix      :  19% |########                                   | \remitting matrix      :  20% |########                                   | \remitting matrix      :  21% |#########                                  | \remitting matrix      :  22% |#########                                  | \remitting matrix      :  23% |#########                                  | \remitting matrix      :  24% |##########                                 | \remitting matrix      :  25% |##########                                 | \remitting matrix      :  26% |###########                                | \remitting matrix      :  27% |###########                                | \remitting matrix      :  28% |############                               | \remitting matrix      :  29% |############                               | \remitting matrix      :  30% |############                               | \remitting matrix      :  31% |#############                              | \remitting matrix      :  32% |#############                              | \remitting matrix      :  33% |##############                             | \remitting matrix      :  34% |##############                             | \remitting matrix      :  35% |###############                            | \remitting matrix      :  36% |###############                            | \remitting matrix      :  37% |################                           | \remitting matrix      :  38% |################                           | \remitting matrix      :  39% |################                           | \remitting matrix      :  40% |#################                          | \remitting matrix      :  41% |#################                          | \remitting matrix      :  42% |##################                         | \remitting matrix      :  43% |##################                         | \remitting matrix      :  44% |###################                        | \remitting matrix      :  45% |###################                        | \remitting matrix      :  46% |###################                        | \remitting matrix      :  47% |####################                       | \remitting matrix      :  48% |####################                       | \remitting matrix      :  49% |#####################                      | \remitting matrix      :  50% |#####################                      | \remitting matrix      :  51% |#####################                      | \remitting matrix      :  52% |######################                     | \remitting matrix      :  53% |######################                     | \remitting matrix      :  54% |#######################                    | \remitting matrix      :  55% |#######################                    | \remitting matrix      :  56% |########################                   | \remitting matrix      :  57% |########################                   | \remitting matrix      :  58% |########################                   | \remitting matrix      :  59% |#########################                  | \remitting matrix      :  60% |#########################                  | \remitting matrix      :  61% |##########################                 | \remitting matrix      :  62% |##########################                 | \remitting matrix      :  63% |###########################                | \remitting matrix      :  64% |###########################                | \remitting matrix      :  65% |###########################                | \remitting matrix      :  66% |############################               | \remitting matrix      :  67% |############################               | \remitting matrix      :  68% |#############################              | \remitting matrix      :  69% |#############################              | \remitting matrix      :  70% |##############################             | \remitting matrix      :  71% |##############################             | \remitting matrix      :  72% |###############################            | \remitting matrix      :  73% |###############################            | \remitting matrix      :  74% |###############################            | \remitting matrix      :  75% |################################           | \remitting matrix      :  76% |################################           | \remitting matrix      :  77% |#################################          | \remitting matrix      :  78% |#################################          | \remitting matrix      :  79% |##################################         | \remitting matrix      :  80% |##################################         | \remitting matrix      :  81% |##################################         | \remitting matrix      :  82% |###################################        | \remitting matrix      :  83% |###################################        | \remitting matrix      :  84% |####################################       | \remitting matrix      :  85% |####################################       | \remitting matrix      :  86% |#####################################      | \remitting matrix      :  87% |#####################################      | \remitting matrix      :  88% |#####################################      | \remitting matrix      :  89% |######################################     | \remitting matrix      :  90% |######################################     | \remitting matrix      :  91% |#######################################    | \remitting matrix      :  92% |#######################################    | \remitting matrix      :  93% |########################################   | \remitting matrix      :  94% |########################################   | \remitting matrix      :  95% |########################################   | \remitting matrix      :  96% |#########################################  | \remitting matrix      :  97% |#########################################  | \remitting matrix      :  98% |########################################## | \remitting matrix      :  99% |########################################## | \remitting matrix      : 100% |###########################################| \n",
            "\n",
            "done!\n",
            "              precision          recall         F\n",
            "LEVEL 0:    12.8959(57/442) 11.8998(57/479) 12.3779\n",
            "LEVEL 1:    12.2172(54/442) 11.2735(54/479) 11.7264\n",
            "LEVEL 2:    11.7647(52/442) 10.8559(52/479) 11.2921\n",
            "LEVEL 4:    11.7647(52/442) 10.8559(52/479) 11.2921\n",
            "PASS: run-cost-train.sh\n",
            "==================\n",
            "All 3 tests passed\n",
            "==================\n",
            "make[2]: Leaving directory '/tmp/mecab-0.996-ko-0.9.2/tests'\n",
            "make[1]: Leaving directory '/tmp/mecab-0.996-ko-0.9.2/tests'\n",
            "make[1]: Entering directory '/tmp/mecab-0.996-ko-0.9.2'\n",
            "make[1]: Leaving directory '/tmp/mecab-0.996-ko-0.9.2'\n",
            "Making install in src\n",
            "make[1]: Entering directory '/tmp/mecab-0.996-ko-0.9.2/src'\n",
            "make[2]: Entering directory '/tmp/mecab-0.996-ko-0.9.2/src'\n",
            "test -z \"/usr/local/lib\" || /bin/mkdir -p \"/usr/local/lib\"\n",
            " /bin/bash ../libtool   --mode=install /usr/bin/install -c   libmecab.la '/usr/local/lib'\n",
            "libtool: install: /usr/bin/install -c .libs/libmecab.so.2.0.0 /usr/local/lib/libmecab.so.2.0.0\n",
            "libtool: install: (cd /usr/local/lib && { ln -s -f libmecab.so.2.0.0 libmecab.so.2 || { rm -f libmecab.so.2 && ln -s libmecab.so.2.0.0 libmecab.so.2; }; })\n",
            "libtool: install: (cd /usr/local/lib && { ln -s -f libmecab.so.2.0.0 libmecab.so || { rm -f libmecab.so && ln -s libmecab.so.2.0.0 libmecab.so; }; })\n",
            "libtool: install: /usr/bin/install -c .libs/libmecab.lai /usr/local/lib/libmecab.la\n",
            "libtool: install: /usr/bin/install -c .libs/libmecab.a /usr/local/lib/libmecab.a\n",
            "libtool: install: chmod 644 /usr/local/lib/libmecab.a\n",
            "libtool: install: ranlib /usr/local/lib/libmecab.a\n",
            "libtool: finish: PATH=\"/usr/local/sbin:/usr/local/bin:/usr/sbin:/usr/bin:/sbin:/bin:/snap/bin:/sbin\" ldconfig -n /usr/local/lib\n",
            "----------------------------------------------------------------------\n",
            "Libraries have been installed in:\n",
            "   /usr/local/lib\n",
            "\n",
            "If you ever happen to want to link against installed libraries\n",
            "in a given directory, LIBDIR, you must either use libtool, and\n",
            "specify the full pathname of the library, or use the `-LLIBDIR'\n",
            "flag during linking and do at least one of the following:\n",
            "   - add LIBDIR to the `LD_LIBRARY_PATH' environment variable\n",
            "     during execution\n",
            "   - add LIBDIR to the `LD_RUN_PATH' environment variable\n",
            "     during linking\n",
            "   - use the `-Wl,-rpath -Wl,LIBDIR' linker flag\n",
            "   - have your system administrator add LIBDIR to `/etc/ld.so.conf'\n",
            "\n",
            "See any operating system documentation about shared libraries for\n",
            "more information, such as the ld(1) and ld.so(8) manual pages.\n",
            "----------------------------------------------------------------------\n",
            "test -z \"/usr/local/bin\" || /bin/mkdir -p \"/usr/local/bin\"\n",
            "  /bin/bash ../libtool   --mode=install /usr/bin/install -c mecab '/usr/local/bin'\n",
            "libtool: install: /usr/bin/install -c .libs/mecab /usr/local/bin/mecab\n",
            "test -z \"/usr/local/libexec/mecab\" || /bin/mkdir -p \"/usr/local/libexec/mecab\"\n",
            "  /bin/bash ../libtool   --mode=install /usr/bin/install -c mecab-dict-index mecab-dict-gen mecab-cost-train mecab-system-eval mecab-test-gen '/usr/local/libexec/mecab'\n",
            "libtool: install: /usr/bin/install -c .libs/mecab-dict-index /usr/local/libexec/mecab/mecab-dict-index\n",
            "libtool: install: /usr/bin/install -c .libs/mecab-dict-gen /usr/local/libexec/mecab/mecab-dict-gen\n",
            "libtool: install: /usr/bin/install -c .libs/mecab-cost-train /usr/local/libexec/mecab/mecab-cost-train\n",
            "libtool: install: /usr/bin/install -c .libs/mecab-system-eval /usr/local/libexec/mecab/mecab-system-eval\n",
            "libtool: install: /usr/bin/install -c .libs/mecab-test-gen /usr/local/libexec/mecab/mecab-test-gen\n",
            "test -z \"/usr/local/include\" || /bin/mkdir -p \"/usr/local/include\"\n",
            " /usr/bin/install -c -m 644 mecab.h '/usr/local/include'\n",
            "make[2]: Leaving directory '/tmp/mecab-0.996-ko-0.9.2/src'\n",
            "make[1]: Leaving directory '/tmp/mecab-0.996-ko-0.9.2/src'\n",
            "Making install in man\n",
            "make[1]: Entering directory '/tmp/mecab-0.996-ko-0.9.2/man'\n",
            "make[2]: Entering directory '/tmp/mecab-0.996-ko-0.9.2/man'\n",
            "make[2]: Nothing to be done for 'install-exec-am'.\n",
            "test -z \"/usr/local/share/man/man1\" || /bin/mkdir -p \"/usr/local/share/man/man1\"\n",
            " /usr/bin/install -c -m 644 mecab.1 '/usr/local/share/man/man1'\n",
            "make[2]: Leaving directory '/tmp/mecab-0.996-ko-0.9.2/man'\n",
            "make[1]: Leaving directory '/tmp/mecab-0.996-ko-0.9.2/man'\n",
            "Making install in doc\n",
            "make[1]: Entering directory '/tmp/mecab-0.996-ko-0.9.2/doc'\n",
            "make[2]: Entering directory '/tmp/mecab-0.996-ko-0.9.2/doc'\n",
            "make[2]: Nothing to be done for 'install-exec-am'.\n",
            "make[2]: Nothing to be done for 'install-data-am'.\n",
            "make[2]: Leaving directory '/tmp/mecab-0.996-ko-0.9.2/doc'\n",
            "make[1]: Leaving directory '/tmp/mecab-0.996-ko-0.9.2/doc'\n",
            "Making install in tests\n",
            "make[1]: Entering directory '/tmp/mecab-0.996-ko-0.9.2/tests'\n",
            "make[2]: Entering directory '/tmp/mecab-0.996-ko-0.9.2/tests'\n",
            "make[2]: Nothing to be done for 'install-exec-am'.\n",
            "make[2]: Nothing to be done for 'install-data-am'.\n",
            "make[2]: Leaving directory '/tmp/mecab-0.996-ko-0.9.2/tests'\n",
            "make[1]: Leaving directory '/tmp/mecab-0.996-ko-0.9.2/tests'\n",
            "make[1]: Entering directory '/tmp/mecab-0.996-ko-0.9.2'\n",
            "make[2]: Entering directory '/tmp/mecab-0.996-ko-0.9.2'\n",
            "test -z \"/usr/local/bin\" || /bin/mkdir -p \"/usr/local/bin\"\n",
            " /usr/bin/install -c mecab-config '/usr/local/bin'\n",
            "test -z \"/usr/local/etc\" || /bin/mkdir -p \"/usr/local/etc\"\n",
            " /usr/bin/install -c -m 644 mecabrc '/usr/local/etc'\n",
            "make[2]: Leaving directory '/tmp/mecab-0.996-ko-0.9.2'\n",
            "make[1]: Leaving directory '/tmp/mecab-0.996-ko-0.9.2'\n",
            "Install mecab-ko-dic\n",
            "Install mecab-ko-dic\n",
            "mecab-ko-dic-2.1.1-20180720/\n",
            "mecab-ko-dic-2.1.1-20180720/configure\n",
            "mecab-ko-dic-2.1.1-20180720/COPYING\n",
            "mecab-ko-dic-2.1.1-20180720/autogen.sh\n",
            "mecab-ko-dic-2.1.1-20180720/Place-station.csv\n",
            "mecab-ko-dic-2.1.1-20180720/NNG.csv\n",
            "mecab-ko-dic-2.1.1-20180720/README\n",
            "mecab-ko-dic-2.1.1-20180720/EF.csv\n",
            "mecab-ko-dic-2.1.1-20180720/MAG.csv\n",
            "mecab-ko-dic-2.1.1-20180720/Preanalysis.csv\n",
            "mecab-ko-dic-2.1.1-20180720/NNB.csv\n",
            "mecab-ko-dic-2.1.1-20180720/Person-actor.csv\n",
            "mecab-ko-dic-2.1.1-20180720/VV.csv\n",
            "mecab-ko-dic-2.1.1-20180720/Makefile.in\n",
            "mecab-ko-dic-2.1.1-20180720/matrix.def\n",
            "mecab-ko-dic-2.1.1-20180720/EC.csv\n",
            "mecab-ko-dic-2.1.1-20180720/NNBC.csv\n",
            "mecab-ko-dic-2.1.1-20180720/clean\n",
            "mecab-ko-dic-2.1.1-20180720/ChangeLog\n",
            "mecab-ko-dic-2.1.1-20180720/J.csv\n",
            "mecab-ko-dic-2.1.1-20180720/.keep\n",
            "mecab-ko-dic-2.1.1-20180720/feature.def\n",
            "mecab-ko-dic-2.1.1-20180720/Foreign.csv\n",
            "mecab-ko-dic-2.1.1-20180720/XPN.csv\n",
            "mecab-ko-dic-2.1.1-20180720/EP.csv\n",
            "mecab-ko-dic-2.1.1-20180720/NR.csv\n",
            "mecab-ko-dic-2.1.1-20180720/left-id.def\n",
            "mecab-ko-dic-2.1.1-20180720/Place.csv\n",
            "mecab-ko-dic-2.1.1-20180720/Symbol.csv\n",
            "mecab-ko-dic-2.1.1-20180720/dicrc\n",
            "mecab-ko-dic-2.1.1-20180720/NP.csv\n",
            "mecab-ko-dic-2.1.1-20180720/ETM.csv\n",
            "mecab-ko-dic-2.1.1-20180720/IC.csv\n",
            "mecab-ko-dic-2.1.1-20180720/Place-address.csv\n",
            "mecab-ko-dic-2.1.1-20180720/Group.csv\n",
            "mecab-ko-dic-2.1.1-20180720/model.def\n",
            "mecab-ko-dic-2.1.1-20180720/XSN.csv\n",
            "mecab-ko-dic-2.1.1-20180720/INSTALL\n",
            "mecab-ko-dic-2.1.1-20180720/rewrite.def\n",
            "mecab-ko-dic-2.1.1-20180720/Inflect.csv\n",
            "mecab-ko-dic-2.1.1-20180720/configure.ac\n",
            "mecab-ko-dic-2.1.1-20180720/NNP.csv\n",
            "mecab-ko-dic-2.1.1-20180720/CoinedWord.csv\n",
            "mecab-ko-dic-2.1.1-20180720/XSV.csv\n",
            "mecab-ko-dic-2.1.1-20180720/pos-id.def\n",
            "mecab-ko-dic-2.1.1-20180720/Makefile.am\n",
            "mecab-ko-dic-2.1.1-20180720/unk.def\n",
            "mecab-ko-dic-2.1.1-20180720/missing\n",
            "mecab-ko-dic-2.1.1-20180720/VCP.csv\n",
            "mecab-ko-dic-2.1.1-20180720/install-sh\n",
            "mecab-ko-dic-2.1.1-20180720/Hanja.csv\n",
            "mecab-ko-dic-2.1.1-20180720/MAJ.csv\n",
            "mecab-ko-dic-2.1.1-20180720/XSA.csv\n",
            "mecab-ko-dic-2.1.1-20180720/Wikipedia.csv\n",
            "mecab-ko-dic-2.1.1-20180720/tools/\n",
            "mecab-ko-dic-2.1.1-20180720/tools/add-userdic.sh\n",
            "mecab-ko-dic-2.1.1-20180720/tools/mecab-bestn.sh\n",
            "mecab-ko-dic-2.1.1-20180720/tools/convert_for_using_store.sh\n",
            "mecab-ko-dic-2.1.1-20180720/user-dic/\n",
            "mecab-ko-dic-2.1.1-20180720/user-dic/nnp.csv\n",
            "mecab-ko-dic-2.1.1-20180720/user-dic/place.csv\n",
            "mecab-ko-dic-2.1.1-20180720/user-dic/person.csv\n",
            "mecab-ko-dic-2.1.1-20180720/user-dic/README.md\n",
            "mecab-ko-dic-2.1.1-20180720/NorthKorea.csv\n",
            "mecab-ko-dic-2.1.1-20180720/VX.csv\n",
            "mecab-ko-dic-2.1.1-20180720/right-id.def\n",
            "mecab-ko-dic-2.1.1-20180720/VA.csv\n",
            "mecab-ko-dic-2.1.1-20180720/char.def\n",
            "mecab-ko-dic-2.1.1-20180720/NEWS\n",
            "mecab-ko-dic-2.1.1-20180720/MM.csv\n",
            "mecab-ko-dic-2.1.1-20180720/ETN.csv\n",
            "mecab-ko-dic-2.1.1-20180720/AUTHORS\n",
            "mecab-ko-dic-2.1.1-20180720/Person.csv\n",
            "mecab-ko-dic-2.1.1-20180720/XR.csv\n",
            "mecab-ko-dic-2.1.1-20180720/VCN.csv\n",
            "Looking in current directory for macros.\n",
            "checking for a BSD-compatible install... /usr/bin/install -c\n",
            "checking whether build environment is sane... yes\n",
            "checking for a thread-safe mkdir -p... /bin/mkdir -p\n",
            "checking for gawk... no\n",
            "checking for mawk... mawk\n",
            "checking whether make sets $(MAKE)... yes\n",
            "checking whether make supports nested variables... yes\n",
            "checking for mecab-config... /usr/local/bin/mecab-config\n",
            "checking that generated files are newer than configure... done\n",
            "configure: creating ./config.status\n",
            "config.status: creating Makefile\n",
            "/usr/local/lib\n",
            "/usr/local/libexec/mecab/mecab-dict-index -d . -o . -f UTF-8 -t UTF-8\n",
            "reading ./unk.def ... 13\n",
            "emitting double-array:   7% |###                                        | \remitting double-array:  15% |######                                     | \remitting double-array:  23% |#########                                  | \remitting double-array:  30% |#############                              | \remitting double-array:  38% |################                           | \remitting double-array:  46% |###################                        | \remitting double-array:  53% |#######################                    | \remitting double-array:  61% |##########################                 | \remitting double-array:  69% |#############################              | \remitting double-array:  76% |#################################          | \remitting double-array:  84% |####################################       | \remitting double-array:  92% |#######################################    | \remitting double-array: 100% |###########################################| \n",
            "reading ./VA.csv ... 2360\n",
            "reading ./ETN.csv ... 14\n",
            "reading ./ETM.csv ... 133\n",
            "reading ./NNG.csv ... 208524\n",
            "reading ./XSN.csv ... 124\n",
            "reading ./NorthKorea.csv ... 3\n",
            "reading ./IC.csv ... 1305\n",
            "reading ./CoinedWord.csv ... 148\n",
            "reading ./Place.csv ... 30303\n",
            "reading ./Person.csv ... 196459\n",
            "reading ./XSA.csv ... 19\n",
            "reading ./J.csv ... 416\n",
            "reading ./NNB.csv ... 140\n",
            "reading ./Wikipedia.csv ... 36762\n",
            "reading ./VCP.csv ... 9\n",
            "reading ./NR.csv ... 482\n",
            "reading ./EF.csv ... 1820\n",
            "reading ./VX.csv ... 125\n",
            "reading ./VV.csv ... 7331\n",
            "reading ./Hanja.csv ... 125750\n",
            "reading ./XR.csv ... 3637\n",
            "reading ./EP.csv ... 51\n",
            "reading ./MAJ.csv ... 240\n",
            "reading ./Inflect.csv ... 44820\n",
            "reading ./XSV.csv ... 23\n",
            "reading ./NNP.csv ... 2371\n",
            "reading ./Foreign.csv ... 11690\n",
            "reading ./Preanalysis.csv ... 5\n",
            "reading ./NP.csv ... 342\n",
            "reading ./NNBC.csv ... 677\n",
            "reading ./Symbol.csv ... 16\n",
            "reading ./Group.csv ... 3176\n",
            "reading ./Person-actor.csv ... 99230\n",
            "reading ./MM.csv ... 453\n",
            "reading ./MAG.csv ... 14242\n",
            "reading ./Place-address.csv ... 19301\n",
            "reading ./VCN.csv ... 7\n",
            "reading ./XPN.csv ... 83\n",
            "reading ./Place-station.csv ... 1145\n",
            "reading ./EC.csv ... 2547\n",
            "emitting double-array:   0% |                                           | \remitting double-array:   1% |                                           | \remitting double-array:   2% |                                           | \remitting double-array:   3% |#                                          | \remitting double-array:   4% |#                                          | \remitting double-array:   5% |##                                         | \remitting double-array:   6% |##                                         | \remitting double-array:   7% |###                                        | \remitting double-array:   8% |###                                        | \remitting double-array:   9% |###                                        | \remitting double-array:  10% |####                                       | \remitting double-array:  11% |####                                       | \remitting double-array:  12% |#####                                      | \remitting double-array:  13% |#####                                      | \remitting double-array:  14% |######                                     | \remitting double-array:  15% |######                                     | \remitting double-array:  16% |######                                     | \remitting double-array:  17% |#######                                    | \remitting double-array:  18% |#######                                    | \remitting double-array:  19% |########                                   | \remitting double-array:  20% |########                                   | \remitting double-array:  21% |#########                                  | \remitting double-array:  22% |#########                                  | \remitting double-array:  23% |#########                                  | \remitting double-array:  24% |##########                                 | \remitting double-array:  25% |##########                                 | \remitting double-array:  26% |###########                                | \remitting double-array:  27% |###########                                | \remitting double-array:  28% |############                               | \remitting double-array:  29% |############                               | \remitting double-array:  30% |############                               | \remitting double-array:  31% |#############                              | \remitting double-array:  32% |#############                              | \remitting double-array:  33% |##############                             | \remitting double-array:  34% |##############                             | \remitting double-array:  35% |###############                            | \remitting double-array:  36% |###############                            | \remitting double-array:  37% |###############                            | \remitting double-array:  38% |################                           | \remitting double-array:  39% |################                           | \remitting double-array:  40% |#################                          | \remitting double-array:  41% |#################                          | \remitting double-array:  42% |##################                         | \remitting double-array:  43% |##################                         | \remitting double-array:  44% |##################                         | \remitting double-array:  45% |###################                        | \remitting double-array:  46% |###################                        | \remitting double-array:  47% |####################                       | \remitting double-array:  48% |####################                       | \remitting double-array:  49% |#####################                      | \remitting double-array:  50% |#####################                      | \remitting double-array:  51% |#####################                      | \remitting double-array:  52% |######################                     | \remitting double-array:  53% |######################                     | \remitting double-array:  54% |#######################                    | \remitting double-array:  55% |#######################                    | \remitting double-array:  56% |########################                   | \remitting double-array:  57% |########################                   | \remitting double-array:  58% |########################                   | \remitting double-array:  59% |#########################                  | \remitting double-array:  60% |#########################                  | \remitting double-array:  61% |##########################                 | \remitting double-array:  62% |##########################                 | \remitting double-array:  63% |###########################                | \remitting double-array:  64% |###########################                | \remitting double-array:  65% |###########################                | \remitting double-array:  66% |############################               | \remitting double-array:  67% |############################               | \remitting double-array:  68% |#############################              | \remitting double-array:  69% |#############################              | \remitting double-array:  70% |##############################             | \remitting double-array:  71% |##############################             | \remitting double-array:  72% |##############################             | \remitting double-array:  73% |###############################            | \remitting double-array:  74% |###############################            | \remitting double-array:  75% |################################           | \remitting double-array:  76% |################################           | \remitting double-array:  77% |#################################          | \remitting double-array:  78% |#################################          | \remitting double-array:  79% |#################################          | \remitting double-array:  80% |##################################         | \remitting double-array:  81% |##################################         | \remitting double-array:  82% |###################################        | \remitting double-array:  83% |###################################        | \remitting double-array:  84% |####################################       | \remitting double-array:  85% |####################################       | \remitting double-array:  86% |####################################       | \remitting double-array:  87% |#####################################      | \remitting double-array:  88% |#####################################      | \remitting double-array:  89% |######################################     | \remitting double-array:  90% |######################################     | \remitting double-array:  91% |#######################################    | \remitting double-array:  92% |#######################################    | \remitting double-array:  93% |#######################################    | \remitting double-array:  94% |########################################   | \remitting double-array:  95% |########################################   | \remitting double-array:  96% |#########################################  | \remitting double-array:  97% |#########################################  | \remitting double-array:  98% |########################################## | \remitting double-array:  99% |########################################## | \remitting double-array: 100% |###########################################| \n",
            "reading ./matrix.def ... 3822x2693\n",
            "emitting matrix      :   0% |                                           | \remitting matrix      :   1% |                                           | \remitting matrix      :   2% |                                           | \remitting matrix      :   3% |#                                          | \remitting matrix      :   4% |#                                          | \remitting matrix      :   5% |##                                         | \remitting matrix      :   6% |##                                         | \remitting matrix      :   7% |###                                        | \remitting matrix      :   8% |###                                        | \remitting matrix      :   9% |###                                        | \remitting matrix      :  10% |####                                       | \remitting matrix      :  11% |####                                       | \remitting matrix      :  12% |#####                                      | \remitting matrix      :  13% |#####                                      | \remitting matrix      :  14% |######                                     | \remitting matrix      :  15% |######                                     | \remitting matrix      :  16% |######                                     | \remitting matrix      :  17% |#######                                    | \remitting matrix      :  18% |#######                                    | \remitting matrix      :  19% |########                                   | \remitting matrix      :  20% |########                                   | \remitting matrix      :  21% |#########                                  | \remitting matrix      :  22% |#########                                  | \remitting matrix      :  23% |#########                                  | \remitting matrix      :  24% |##########                                 | \remitting matrix      :  25% |##########                                 | \remitting matrix      :  26% |###########                                | \remitting matrix      :  27% |###########                                | \remitting matrix      :  28% |############                               | \remitting matrix      :  29% |############                               | \remitting matrix      :  30% |############                               | \remitting matrix      :  31% |#############                              | \remitting matrix      :  32% |#############                              | \remitting matrix      :  33% |##############                             | \remitting matrix      :  34% |##############                             | \remitting matrix      :  35% |###############                            | \remitting matrix      :  36% |###############                            | \remitting matrix      :  37% |###############                            | \remitting matrix      :  38% |################                           | \remitting matrix      :  39% |################                           | \remitting matrix      :  40% |#################                          | \remitting matrix      :  41% |#################                          | \remitting matrix      :  42% |##################                         | \remitting matrix      :  43% |##################                         | \remitting matrix      :  44% |##################                         | \remitting matrix      :  45% |###################                        | \remitting matrix      :  46% |###################                        | \remitting matrix      :  47% |####################                       | \remitting matrix      :  48% |####################                       | \remitting matrix      :  49% |#####################                      | \remitting matrix      :  50% |#####################                      | \remitting matrix      :  51% |#####################                      | \remitting matrix      :  52% |######################                     | \remitting matrix      :  53% |######################                     | \remitting matrix      :  54% |#######################                    | \remitting matrix      :  55% |#######################                    | \remitting matrix      :  56% |########################                   | \remitting matrix      :  57% |########################                   | \remitting matrix      :  58% |########################                   | \remitting matrix      :  59% |#########################                  | \remitting matrix      :  60% |#########################                  | \remitting matrix      :  61% |##########################                 | \remitting matrix      :  62% |##########################                 | \remitting matrix      :  63% |###########################                | \remitting matrix      :  64% |###########################                | \remitting matrix      :  65% |###########################                | \remitting matrix      :  66% |############################               | \remitting matrix      :  67% |############################               | \remitting matrix      :  68% |#############################              | \remitting matrix      :  69% |#############################              | \remitting matrix      :  70% |##############################             | \remitting matrix      :  71% |##############################             | \remitting matrix      :  72% |##############################             | \remitting matrix      :  73% |###############################            | \remitting matrix      :  74% |###############################            | \remitting matrix      :  75% |################################           | \remitting matrix      :  76% |################################           | \remitting matrix      :  77% |#################################          | \remitting matrix      :  78% |#################################          | \remitting matrix      :  79% |#################################          | \remitting matrix      :  80% |##################################         | \remitting matrix      :  81% |##################################         | \remitting matrix      :  82% |###################################        | \remitting matrix      :  83% |###################################        | \remitting matrix      :  84% |####################################       | \remitting matrix      :  85% |####################################       | \remitting matrix      :  86% |####################################       | \remitting matrix      :  87% |#####################################      | \remitting matrix      :  88% |#####################################      | \remitting matrix      :  89% |######################################     | \remitting matrix      :  90% |######################################     | \remitting matrix      :  91% |#######################################    | \remitting matrix      :  92% |#######################################    | \remitting matrix      :  93% |#######################################    | \remitting matrix      :  94% |########################################   | \remitting matrix      :  95% |########################################   | \remitting matrix      :  96% |#########################################  | \remitting matrix      :  97% |#########################################  | \remitting matrix      :  98% |########################################## | \remitting matrix      :  99% |########################################## | \remitting matrix      : 100% |###########################################| \n",
            "\n",
            "done!\n",
            "echo To enable dictionary, rewrite /usr/local/etc/mecabrc as \\\"dicdir = /usr/local/lib/mecab/dic/mecab-ko-dic\\\"\n",
            "To enable dictionary, rewrite /usr/local/etc/mecabrc as \"dicdir = /usr/local/lib/mecab/dic/mecab-ko-dic\"\n",
            "make[1]: Entering directory '/tmp/mecab-ko-dic-2.1.1-20180720'\n",
            "make[1]: Nothing to be done for 'install-exec-am'.\n",
            " /bin/mkdir -p '/usr/local/lib/mecab/dic/mecab-ko-dic'\n",
            " /usr/bin/install -c -m 644 model.bin matrix.bin char.bin sys.dic unk.dic left-id.def right-id.def rewrite.def pos-id.def dicrc '/usr/local/lib/mecab/dic/mecab-ko-dic'\n",
            "make[1]: Leaving directory '/tmp/mecab-ko-dic-2.1.1-20180720'\n",
            "Install mecab-python\n",
            "/tmp /tmp/mecab-ko-dic-2.1.1-20180720\n",
            "/tmp/mecab-ko-dic-2.1.1-20180720\n",
            "Processing /tmp/mecab-python-0.996\n",
            "Building wheels for collected packages: mecab-python\n",
            "  Building wheel for mecab-python (setup.py): started\n",
            "  Building wheel for mecab-python (setup.py): finished with status 'done'\n",
            "  Created wheel for mecab-python: filename=mecab_python-0.996_ko_0.9.2-cp37-cp37m-linux_x86_64.whl size=141812 sha256=1d99e6530bce5447d69eb83957224cac3d57bf9466dd79a3f3044b95adbb8999\n",
            "  Stored in directory: /root/.cache/pip/wheels/40/7b/9f/2922869bef86c3354ae7034f7a3647c573ee1997c2dad0290a\n",
            "Failed to build mecab-python\n",
            "Installing collected packages: mecab-python\n",
            "    Running setup.py install for mecab-python: started\n",
            "    Running setup.py install for mecab-python: finished with status 'done'\n",
            "Successfully installed mecab-python-0.996-ko-0.9.2\n",
            "Done.\n",
            "Processing /tmp/mecab-python-0.996\n",
            "Building wheels for collected packages: mecab-python\n",
            "  Building wheel for mecab-python (setup.py): started\n",
            "  Building wheel for mecab-python (setup.py): finished with status 'done'\n",
            "  Created wheel for mecab-python: filename=mecab_python-0.996_ko_0.9.2-cp37-cp37m-linux_x86_64.whl size=141804 sha256=288562e1940bb7b8b233ff66e36243469cf2d744b65dd05db42353840d6c4135\n",
            "  Stored in directory: /root/.cache/pip/wheels/40/7b/9f/2922869bef86c3354ae7034f7a3647c573ee1997c2dad0290a\n",
            "Failed to build mecab-python\n",
            "Installing collected packages: mecab-python\n",
            "  Attempting uninstall: mecab-python\n",
            "    Found existing installation: mecab-python 0.996-ko-0.9.2\n",
            "    Uninstalling mecab-python-0.996-ko-0.9.2:\n",
            "      Successfully uninstalled mecab-python-0.996-ko-0.9.2\n",
            "    Running setup.py install for mecab-python: started\n",
            "    Running setup.py install for mecab-python: finished with status 'done'\n",
            "Successfully installed mecab-python-0.996-ko-0.9.2\n"
          ]
        },
        {
          "output_type": "stream",
          "name": "stderr",
          "text": [
            "debconf: unable to initialize frontend: Dialog\n",
            "debconf: (No usable dialog-like program is installed, so the dialog based frontend cannot be used. at /usr/share/perl5/Debconf/FrontEnd/Dialog.pm line 76, <> line 5.)\n",
            "debconf: falling back to frontend: Readline\n",
            "debconf: unable to initialize frontend: Readline\n",
            "debconf: (This frontend requires a controlling tty.)\n",
            "debconf: falling back to frontend: Teletype\n",
            "dpkg-preconfigure: unable to re-open stdin: \n",
            "  % Total    % Received % Xferd  Average Speed   Time    Time     Time  Current\n",
            "                                 Dload  Upload   Total   Spent    Left  Speed\n",
            "\r  0     0    0     0    0     0      0      0 --:--:-- --:--:-- --:--:--     0\r  0     0    0     0    0     0      0      0 --:--:-- --:--:-- --:--:--     0\r  0     0    0     0    0     0      0      0 --:--:-- --:--:-- --:--:--     0\n",
            "\r100 1381k  100 1381k    0     0  3370k      0 --:--:-- --:--:-- --:--:-- 3370k\n",
            "./configure: line 7378: /usr/bin/file: No such file or directory\n",
            "In file included from viterbi.cpp:14:0:\n",
            "param.h:30:13: warning: 'Target {anonymous}::lexical_cast(Source) [with Target = std::__cxx11::basic_string<char>; Source = std::__cxx11::basic_string<char>]' defined but not used [-Wunused-function]\n",
            " std::string lexical_cast<std::string, std::string>(std::string arg) {\n",
            "             ^~~~~~~~~~~~~~~~~~~~~~~~~~~~~~~~~~~~~~\n",
            "learner_tagger.cpp:25:7: warning: 'char* MeCab::{anonymous}::mystrdup(const string&)' defined but not used [-Wunused-function]\n",
            " char *mystrdup(const std::string &str) {\n",
            "       ^~~~~~~~\n",
            "ar: `u' modifier ignored since `D' is the default (see `U')\n",
            "./pos-id.def is not found. minimum setting is used\n",
            "./pos-id.def is not found. minimum setting is used\n",
            "./pos-id.def is not found. minimum setting is used\n",
            "./pos-id.def is not found. minimum setting is used\n",
            "./pos-id.def is not found. minimum setting is used\n",
            "./pos-id.def is not found. minimum setting is used\n",
            "./pos-id.def is not found. minimum setting is used\n",
            "./pos-id.def is not found. minimum setting is used\n",
            "./pos-id.def is not found. minimum setting is used\n",
            "./pos-id.def is not found. minimum setting is used\n",
            "./pos-id.def is not found. minimum setting is used\n",
            "./pos-id.def is not found. minimum setting is used\n",
            "./pos-id.def is not found. minimum setting is used\n",
            "./pos-id.def is not found. minimum setting is used\n",
            "seed/pos-id.def is not found. minimum setting is used\n",
            "seed/pos-id.def is not found. minimum setting is used\n",
            "model-ipadic.c1.0.f1.dic/pos-id.def is not found. minimum setting is used\n",
            "model-ipadic.c1.0.f1.dic/pos-id.def is not found. minimum setting is used\n",
            "  % Total    % Received % Xferd  Average Speed   Time    Time     Time  Current\n",
            "                                 Dload  Upload   Total   Spent    Left  Speed\n",
            "\r  0     0    0     0    0     0      0      0 --:--:-- --:--:-- --:--:--     0\r  0     0    0     0    0     0      0      0 --:--:-- --:--:-- --:--:--     0\n",
            "\r 58 47.4M   58 27.6M    0     0  33.1M      0  0:00:01 --:--:--  0:00:01 33.1M\r100 47.4M  100 47.4M    0     0  33.9M      0  0:00:01  0:00:01 --:--:-- 35.2M\n",
            "configure.ac:2: warning: AM_INIT_AUTOMAKE: two- and three-arguments forms are deprecated.  For more info, see:\n",
            "configure.ac:2: http://www.gnu.org/software/automake/manual/automake.html#Modernize-AM_005fINIT_005fAUTOMAKE-invocation\n",
            "/tmp/mecab-ko-dic-2.1.1-20180720/missing: Unknown `--is-lightweight' option\n",
            "Try `/tmp/mecab-ko-dic-2.1.1-20180720/missing --help' for more information\n",
            "configure: WARNING: 'missing' script is too old or missing\n",
            "/sbin/ldconfig.real: /usr/local/lib/python3.7/dist-packages/ideep4py/lib/libmkldnn.so.0 is not a symbolic link\n",
            "\n",
            "Cloning into 'mecab-python-0.996'...\n",
            "  DEPRECATION: A future pip version will change local packages to be built in-place without first copying to a temporary directory. We recommend you use --use-feature=in-tree-build to test your packages with this new behavior before it becomes the default.\n",
            "   pip 21.3 will remove support for this functionality. You can find discussion regarding this at https://github.com/pypa/pip/issues/7555.\n",
            "  WARNING: Built wheel for mecab-python is invalid: Metadata 1.2 mandates PEP 440 version, but '0.996-ko-0.9.2' is not\n",
            "  DEPRECATION: mecab-python was installed using the legacy 'setup.py install' method, because a wheel could not be built for it. A possible replacement is to fix the wheel build issue reported above. You can find discussion regarding this at https://github.com/pypa/pip/issues/8368.\n",
            "  DEPRECATION: A future pip version will change local packages to be built in-place without first copying to a temporary directory. We recommend you use --use-feature=in-tree-build to test your packages with this new behavior before it becomes the default.\n",
            "   pip 21.3 will remove support for this functionality. You can find discussion regarding this at https://github.com/pypa/pip/issues/7555.\n",
            "  WARNING: Built wheel for mecab-python is invalid: Metadata 1.2 mandates PEP 440 version, but '0.996-ko-0.9.2' is not\n",
            "  DEPRECATION: mecab-python was installed using the legacy 'setup.py install' method, because a wheel could not be built for it. A possible replacement is to fix the wheel build issue reported above. You can find discussion regarding this at https://github.com/pypa/pip/issues/8368.\n"
          ]
        }
      ]
    },
    {
      "cell_type": "code",
      "source": [
        "from konlpy.tag import Mecab"
      ],
      "metadata": {
        "id": "j2OUCPOCgGps"
      },
      "execution_count": 18,
      "outputs": []
    },
    {
      "cell_type": "code",
      "source": [
        "def tokenize(corpus, vocab_size=50000):\n",
        "    mecab = Mecab()\n",
        "    morph = [\" \".join(mecab.morphs(sen)) for sen in corpus]\n",
        "    tokenizer = tf.keras.preprocessing.text.Tokenizer(filters='',\n",
        "                                                     num_words=vocab_size)\n",
        "    tokenizer.fit_on_texts(morph)\n",
        "\n",
        "    tensor = tokenizer.texts_to_sequences(morph)\n",
        "    tensor = tf.keras.preprocessing.sequence.pad_sequences(tensor, padding='post')\n",
        "\n",
        "        \n",
        "    return tensor, tokenizer, morph"
      ],
      "metadata": {
        "id": "DKi1uuJWhVBg"
      },
      "execution_count": 19,
      "outputs": []
    },
    {
      "cell_type": "code",
      "source": [
        "_, _, tok_input = tokenize(input_corpus)\n",
        "_, _, tok_target = tokenize(target_corpus)"
      ],
      "metadata": {
        "id": "LZ4Q0LxXzl6t"
      },
      "execution_count": 20,
      "outputs": []
    },
    {
      "cell_type": "code",
      "source": [
        "tok_input[:10]"
      ],
      "metadata": {
        "colab": {
          "base_uri": "https://localhost:8080/"
        },
        "id": "xIVKiR-y0a5L",
        "outputId": "9b2c35ea-906f-4c62-b000-5c93990f7fc1"
      },
      "execution_count": 21,
      "outputs": [
        {
          "output_type": "execute_result",
          "data": {
            "text/plain": [
              "['왔 다 갔 다',\n",
              " '학식 이제 물린다',\n",
              " '용기 내 서 새해 인사 했 네',\n",
              " '막말 쩔 어',\n",
              " '낭만 이 라고 는 없 어 가지 구',\n",
              " '대외 활동 하 다 만났 어',\n",
              " '이별 이야기 는 신중 해야 하 는 걸 아 니까 오늘 도 고민 합니다',\n",
              " '수능 어떻게 해',\n",
              " '썸 타 는 거 티 내 고 싶 진 않 아 .',\n",
              " '시어머니 가 차별 해']"
            ]
          },
          "metadata": {},
          "execution_count": 21
        }
      ]
    },
    {
      "cell_type": "code",
      "source": [
        "tok_target[:10]"
      ],
      "metadata": {
        "colab": {
          "base_uri": "https://localhost:8080/"
        },
        "id": "u_7ZPeVx1APS",
        "outputId": "fbe4da5c-c7e3-4cfe-ec70-24e47150440b"
      },
      "execution_count": 22,
      "outputs": [
        {
          "output_type": "execute_result",
          "data": {
            "text/plain": [
              "['허전 함 에 이랬 다 저랬 다 해요 .',\n",
              " '맛난 걸 드셔 보 세요 .',\n",
              " '이제 연락 하 지 마세요 .',\n",
              " '생각 없이 말 하 는 사람 이 옆 에 있 나 봐요 . 무시 하 세요 .',\n",
              " '낭만 적 인 거 좋 아 하 시 는구나 !',\n",
              " '꿩 먹 고 알 먹 고 네요 .',\n",
              " '저 는 비밀 을 보장 해요 . 답답 하 다면 저 에게 말 해 보 세요 .',\n",
              " '잘 볼 수 있 을 거 예요 .',\n",
              " '누구 에게 요 ?',\n",
              " '진실 되게 대하 면 시어머니 도 알아주 실 거 예요 .']"
            ]
          },
          "metadata": {},
          "execution_count": 22
        }
      ]
    },
    {
      "cell_type": "markdown",
      "source": [
        "# **Step 4. Augmentation**\n",
        "---\n",
        "`Lexical Substitution`을 실제로 적용해보자."
      ],
      "metadata": {
        "id": "wOWDnzZDsBlO"
      }
    },
    {
      "cell_type": "markdown",
      "source": [
        "한국어로 사전 훈련된 Embedding 모델을 다운로드한 후, 이 모델을 활용해 데이터를 Augmentation해보자."
      ],
      "metadata": {
        "id": "BXLeWvoVsqfM"
      }
    },
    {
      "cell_type": "code",
      "source": [
        "w2v_path = '/content/drive/MyDrive/AIFFEL/[GD-12]/ko.bin'"
      ],
      "metadata": {
        "id": "brg6Uff-rvKt"
      },
      "execution_count": 23,
      "outputs": []
    },
    {
      "cell_type": "code",
      "source": [
        "from gensim.models.word2vec import Word2Vec"
      ],
      "metadata": {
        "id": "XOdP4cHFtsR0"
      },
      "execution_count": 24,
      "outputs": []
    },
    {
      "cell_type": "code",
      "source": [
        "w2v_model = Word2Vec.load(w2v_path)"
      ],
      "metadata": {
        "id": "8CFpw_NVttzC"
      },
      "execution_count": 25,
      "outputs": []
    },
    {
      "cell_type": "markdown",
      "source": [
        "단어 벡터로 변환해보자."
      ],
      "metadata": {
        "id": "i8yCYYljuile"
      }
    },
    {
      "cell_type": "code",
      "source": [
        "w2v_model.wv['오늘']"
      ],
      "metadata": {
        "colab": {
          "base_uri": "https://localhost:8080/"
        },
        "id": "vukYxsNht1kw",
        "outputId": "72dfd0e6-5998-42ca-881a-45ab602ca607"
      },
      "execution_count": 26,
      "outputs": [
        {
          "output_type": "execute_result",
          "data": {
            "text/plain": [
              "array([-1.1059036 , -0.98584527,  1.8960359 , -0.34106794,  0.38498962,\n",
              "       -0.56333584,  0.39262745, -0.34532717,  0.73293006,  1.2918564 ,\n",
              "       -0.99007374, -0.23255022,  0.11140338,  0.9468523 ,  0.11374847,\n",
              "       -0.3785802 ,  0.48704836,  2.5685015 ,  1.2415222 , -1.1356351 ,\n",
              "       -1.0993221 , -0.3196903 ,  0.8298067 , -1.1164417 ,  0.19156536,\n",
              "        0.3006387 , -0.6183675 , -0.762924  , -0.23708159, -1.502345  ,\n",
              "        0.6342514 , -0.64432037,  0.8408901 , -0.67482626, -0.86358494,\n",
              "        0.5716444 , -0.12138291,  1.6880897 ,  1.318415  ,  1.5844064 ,\n",
              "       -1.3829565 , -0.1477219 ,  0.7206054 , -0.4495997 , -0.05504679,\n",
              "       -0.21900962,  0.01089218, -1.5404348 ,  0.02255861,  0.49219918,\n",
              "       -0.13918048,  0.40318212,  0.73132664, -0.24907936,  0.7307537 ,\n",
              "        0.37259933,  1.0505751 , -0.6467893 , -0.0154875 , -1.9566497 ,\n",
              "        0.19638617,  0.07844608,  1.2504076 ,  1.4382341 ,  0.16306905,\n",
              "        1.0717745 ,  0.912932  , -1.1997408 , -0.9928817 , -0.77828765,\n",
              "        1.216826  ,  0.12650634, -0.6107064 ,  1.6721529 , -1.3862746 ,\n",
              "       -0.2269519 ,  1.1200267 , -0.14440061,  1.2798091 , -0.23536444,\n",
              "        0.1943928 , -0.46112365,  1.7024479 , -0.53936785, -0.11458426,\n",
              "       -0.67716354, -0.53083974,  0.2773099 ,  0.4908194 , -1.5415611 ,\n",
              "        0.16011061,  1.5927407 , -0.2493229 , -1.9223627 , -0.632879  ,\n",
              "       -0.36991262,  0.26177758,  0.3539913 ,  1.8604133 ,  1.0020891 ,\n",
              "        0.8984531 ,  0.5649344 , -1.0457948 ,  0.46789894, -0.7999172 ,\n",
              "        1.2313187 ,  0.2670563 , -0.26228142, -1.3217692 ,  0.56027114,\n",
              "        1.4742012 ,  0.45657766,  0.11002637,  0.688966  ,  1.2851026 ,\n",
              "       -1.7513908 , -0.15832981,  2.555593  , -0.7739606 ,  0.17710583,\n",
              "       -0.31794524, -1.492247  , -0.31904098,  0.73319143, -0.412682  ,\n",
              "        1.4987081 ,  0.67396414, -1.5381482 ,  1.2780831 , -0.2984827 ,\n",
              "        0.49116042,  0.71678025,  0.5095951 ,  0.6814631 , -0.05450078,\n",
              "       -0.9675705 ,  0.33094257, -0.73728716, -0.7903952 , -0.44916615,\n",
              "       -0.25245067, -0.06435253,  0.9779639 ,  0.60759836, -0.5630567 ,\n",
              "       -0.1324076 , -0.32693917,  1.950591  ,  0.31473112, -1.0244133 ,\n",
              "       -1.2360172 ,  0.23055138, -0.15160552,  1.1405548 ,  1.2816321 ,\n",
              "       -0.55841136,  0.97053534, -0.37754008, -1.1741946 , -0.51985896,\n",
              "        0.39009947, -1.8216466 , -1.3139611 , -1.9132934 , -0.99288565,\n",
              "       -1.6323376 , -1.3508581 , -0.5738975 , -1.5696485 ,  1.1970807 ,\n",
              "       -1.1860665 , -0.27698973,  0.1808761 ,  0.30216998,  0.44199795,\n",
              "       -0.80111945, -0.78015834, -1.3451635 , -0.56837004,  1.3606834 ,\n",
              "        0.15767863,  0.11987136, -1.6530417 , -1.5855972 , -0.9532935 ,\n",
              "        0.5691603 , -0.6814568 ,  0.6048256 , -1.6201435 ,  0.4572596 ,\n",
              "        1.1022452 , -0.6579589 , -1.0656856 ,  0.8243122 ,  0.923709  ,\n",
              "       -0.2906004 ,  0.5243731 ,  0.5491661 , -1.1510572 , -0.15401947],\n",
              "      dtype=float32)"
            ]
          },
          "metadata": {},
          "execution_count": 26
        }
      ]
    },
    {
      "cell_type": "markdown",
      "source": [
        "유사한 단어를 출력해보자."
      ],
      "metadata": {
        "id": "NOaOPcNnulJQ"
      }
    },
    {
      "cell_type": "code",
      "source": [
        "w2v_model.wv.similar_by_word(\"오늘\")"
      ],
      "metadata": {
        "colab": {
          "base_uri": "https://localhost:8080/"
        },
        "id": "DiuKPHSvuDnm",
        "outputId": "396ae7ff-d4dd-459e-9e33-25fdfb0dae36"
      },
      "execution_count": 27,
      "outputs": [
        {
          "output_type": "execute_result",
          "data": {
            "text/plain": [
              "[('아침', 0.5024495124816895),\n",
              " ('저물', 0.455463707447052),\n",
              " ('내일', 0.4449270963668823),\n",
              " ('지금', 0.4403955936431885),\n",
              " ('새벽', 0.4366644620895386),\n",
              " ('토요일', 0.40253746509552),\n",
              " ('저녁', 0.3899332880973816),\n",
              " ('어제', 0.38877636194229126),\n",
              " ('매주', 0.3823928236961365),\n",
              " ('주말', 0.3814442753791809)]"
            ]
          },
          "metadata": {},
          "execution_count": 27
        }
      ]
    },
    {
      "cell_type": "code",
      "source": [
        "# Lexical Substitution 구현하기\n",
        "def lexical_sub(sentence, word2vec):\n",
        "    res = \"\"\n",
        "    toks = sentence.split()\n",
        "\n",
        "    try:\n",
        "        _from = random.choice(toks)\n",
        "        _to = word2vec.most_similar(_from)[0][0]\n",
        "        \n",
        "    except:   # 단어장에 없는 단어\n",
        "        return None\n",
        "\n",
        "    for tok in toks:\n",
        "        if tok is _from: res += _to + \" \"\n",
        "        else: res += tok + \" \"\n",
        "\n",
        "    return res"
      ],
      "metadata": {
        "id": "pl1sNMm1uc7r"
      },
      "execution_count": 28,
      "outputs": []
    },
    {
      "cell_type": "code",
      "source": [
        "from tqdm import tqdm_notebook\n",
        "\n",
        "def augment_corpus(src_corpus, tgt_corpus, wv):\n",
        "    new_src_corpus = []\n",
        "    new_tgt_corpus = []\n",
        "    corpus_size = len(src_corpus)\n",
        "    \n",
        "    for i in tqdm_notebook(range(corpus_size)):\n",
        "        old_src = src_corpus[i]\n",
        "        old_tgt = tgt_corpus[i]\n",
        "\n",
        "        new_src = lexical_sub(old_src, wv)\n",
        "        new_tgt = lexical_sub(old_tgt, wv)\n",
        "        \n",
        "\n",
        "        if new_src: \n",
        "            new_src_corpus.append(new_src)\n",
        "            new_tgt_corpus.append(old_tgt)\n",
        "            \n",
        "        if new_tgt: \n",
        "            new_src_corpus.append(old_src)\n",
        "            new_tgt_corpus.append(new_tgt)\n",
        "\n",
        "    return new_src_corpus, new_tgt_corpus"
      ],
      "metadata": {
        "id": "t0o-AU_muzp-"
      },
      "execution_count": 29,
      "outputs": []
    },
    {
      "cell_type": "code",
      "source": [
        "new_tok_input, new_tok_target = augment_corpus(tok_input, tok_target, w2v_model)"
      ],
      "metadata": {
        "colab": {
          "base_uri": "https://localhost:8080/",
          "height": 160,
          "referenced_widgets": [
            "9f89049a7e054f3ba4e255392933252f",
            "3fe2d17932bf479d97f98a2dc3ddfd9b",
            "f4f9001d4ace420c97b4b2340741e872",
            "eb190b9caf4c4afa9b17c912fbbec4df",
            "2b16f8e73ab24ca88890b926deae7357",
            "2f58c415b9cf40f6bc7dd377db27ea58",
            "1ee108d1a3864b1ca4ba6b33b922100b",
            "a5142cf7c0194954848cfbc36fdf3624",
            "61fbc53f93644a9085a26d9ccbae7c17",
            "3ca9d4e2973847329efb76ba786a2ca4",
            "9a177aaf250f4ce5ba4189120db5a237"
          ]
        },
        "id": "8HwNGjJVywXO",
        "outputId": "d1e317ff-1ec3-449f-c73f-8d1bbaa5917e"
      },
      "execution_count": 30,
      "outputs": [
        {
          "output_type": "stream",
          "name": "stderr",
          "text": [
            "/usr/local/lib/python3.7/dist-packages/ipykernel_launcher.py:8: TqdmDeprecationWarning: This function will be removed in tqdm==5.0.0\n",
            "Please use `tqdm.notebook.tqdm` instead of `tqdm.tqdm_notebook`\n",
            "  \n"
          ]
        },
        {
          "output_type": "display_data",
          "data": {
            "text/plain": [
              "  0%|          | 0/11644 [00:00<?, ?it/s]"
            ],
            "application/vnd.jupyter.widget-view+json": {
              "version_major": 2,
              "version_minor": 0,
              "model_id": "9f89049a7e054f3ba4e255392933252f"
            }
          },
          "metadata": {}
        },
        {
          "output_type": "stream",
          "name": "stderr",
          "text": [
            "/usr/local/lib/python3.7/dist-packages/ipykernel_launcher.py:8: DeprecationWarning: Call to deprecated `most_similar` (Method will be removed in 4.0.0, use self.wv.most_similar() instead).\n",
            "  \n"
          ]
        }
      ]
    },
    {
      "cell_type": "code",
      "source": [
        "print('augmentation된 소스 문장 수 : ', len(new_tok_input))\n",
        "print('augmentation된 타겟 문장 수 : ', len(new_tok_target))"
      ],
      "metadata": {
        "colab": {
          "base_uri": "https://localhost:8080/"
        },
        "id": "6JTQn9Yi1QbP",
        "outputId": "d0e38c82-f195-4a06-bc50-6e50a59a3384"
      },
      "execution_count": 31,
      "outputs": [
        {
          "output_type": "stream",
          "name": "stdout",
          "text": [
            "augmentation된 소스 문장 수 :  20135\n",
            "augmentation된 타겟 문장 수 :  20135\n"
          ]
        }
      ]
    },
    {
      "cell_type": "code",
      "source": [
        "tok_input_augmented = tok_input + new_tok_input\n",
        "tok_target_augmented = tok_target + new_tok_target"
      ],
      "metadata": {
        "id": "zrbPUiZT1YK6"
      },
      "execution_count": 32,
      "outputs": []
    },
    {
      "cell_type": "code",
      "source": [
        "print('augmentation하여 추가한 소스 문장 수 : ', len(tok_input_augmented))\n",
        "print('augmentation하여 추가한 타겟 문장 수 : ', len(tok_target_augmented))"
      ],
      "metadata": {
        "colab": {
          "base_uri": "https://localhost:8080/"
        },
        "id": "RQDk2Blh1p2t",
        "outputId": "b23b7bf3-9173-4deb-9460-75747adf7378"
      },
      "execution_count": 33,
      "outputs": [
        {
          "output_type": "stream",
          "name": "stdout",
          "text": [
            "augmentation하여 추가한 소스 문장 수 :  31779\n",
            "augmentation하여 추가한 타겟 문장 수 :  31779\n"
          ]
        }
      ]
    },
    {
      "cell_type": "code",
      "source": [
        "def build_corpus(que_data, ans_data, max_len=40):\n",
        "    questions = [preprocess_sentence(q) for q in que_data]\n",
        "    answers = [preprocess_sentence(a) for a in ans_data]\n",
        "    \n",
        "    que_tensor, que_tokenizer, _ = tokenize(questions)\n",
        "    ans_tensor, ans_tokenizer, _ = tokenize(answers)\n",
        "    \n",
        "    que_corpus = []\n",
        "    ans_corpus = []\n",
        "\n",
        "    for q, a in zip(que_tensor, ans_tensor):\n",
        "        if (len(q) <= max_len) or (len(a) <= max_len):\n",
        "            que_corpus.append(q)\n",
        "            ans_corpus.append(a)\n",
        "            \n",
        "    return que_corpus, ans_corpus, que_tokenizer, ans_tokenizer"
      ],
      "metadata": {
        "id": "3YcKpgLXGwj-"
      },
      "execution_count": 34,
      "outputs": []
    },
    {
      "cell_type": "code",
      "source": [
        "que_corpus, ans_corpus, que_tokenizer, ans_tokenizer = build_corpus(tok_input_augmented, tok_target_augmented)"
      ],
      "metadata": {
        "id": "0BOSY35LHqgO"
      },
      "execution_count": 35,
      "outputs": []
    },
    {
      "cell_type": "code",
      "source": [
        "print('questions tokeinzer size : ', len(que_corpus))\n",
        "print('answers tokeinzer size : ', len(ans_corpus))"
      ],
      "metadata": {
        "colab": {
          "base_uri": "https://localhost:8080/"
        },
        "id": "Ew_BvmV532Qo",
        "outputId": "08380ad9-a3a1-4584-d9a9-d2e53ec17dc0"
      },
      "execution_count": 36,
      "outputs": [
        {
          "output_type": "stream",
          "name": "stdout",
          "text": [
            "questions tokeinzer size :  31779\n",
            "answers tokeinzer size :  31779\n"
          ]
        }
      ]
    },
    {
      "cell_type": "code",
      "source": [
        "from sklearn.model_selection import train_test_split\n",
        "\n",
        "enc_train, enc_val, dec_train, dec_val = \\\n",
        "train_test_split(que_corpus, ans_corpus, test_size=0.01)\n",
        "\n",
        "print(\"enc_train :\", len(enc_train), \"enc_val :\", len(enc_val))\n",
        "print(\"dec_train :\", len(dec_train), \"dec_val :\",len(dec_val))"
      ],
      "metadata": {
        "colab": {
          "base_uri": "https://localhost:8080/"
        },
        "id": "3jKD7tPw4RCd",
        "outputId": "5ddecba9-1f86-4a05-bfd3-deb5e454bd7e"
      },
      "execution_count": 37,
      "outputs": [
        {
          "output_type": "stream",
          "name": "stdout",
          "text": [
            "enc_train : 31461 enc_val : 318\n",
            "dec_train : 31461 dec_val : 318\n"
          ]
        }
      ]
    },
    {
      "cell_type": "markdown",
      "source": [
        "# **Step 6. Transformer 모델 설계**\n",
        "---"
      ],
      "metadata": {
        "id": "zyC4zF0jCOFa"
      }
    },
    {
      "cell_type": "markdown",
      "source": [
        "## **6.1 Positional Encoding**"
      ],
      "metadata": {
        "id": "afSd1_UMCf-s"
      }
    },
    {
      "cell_type": "code",
      "source": [
        "def positional_encoding(pos, d_model):\n",
        "    def cal_angle(position, i):\n",
        "        return position / np.power(10000, (2*(i//2)) / np.float32(d_model))\n",
        "\n",
        "    def get_posi_angle_vec(position):\n",
        "        return [cal_angle(position, i) for i in range(d_model)]\n",
        "\n",
        "    sinusoid_table = np.array([get_posi_angle_vec(pos_i) for pos_i in range(pos)])\n",
        "\n",
        "    sinusoid_table[:, 0::2] = np.sin(sinusoid_table[:, 0::2])\n",
        "    sinusoid_table[:, 1::2] = np.cos(sinusoid_table[:, 1::2])\n",
        "\n",
        "    return sinusoid_table"
      ],
      "metadata": {
        "id": "F2wtQUaqCEl-"
      },
      "execution_count": 38,
      "outputs": []
    },
    {
      "cell_type": "markdown",
      "source": [
        "## **6.2 마스크 생성**"
      ],
      "metadata": {
        "id": "Nq-4MjT9CiJW"
      }
    },
    {
      "cell_type": "code",
      "source": [
        "def generate_padding_mask(seq):\n",
        "    seq = tf.cast(tf.math.equal(seq, 0), tf.float32)\n",
        "    return seq[:, tf.newaxis, tf.newaxis, :]\n",
        "\n",
        "def generate_lookahead_mask(size):\n",
        "    mask = 1 - tf.linalg.band_part(tf.ones((size, size)), -1, 0)\n",
        "    return mask\n",
        "\n",
        "def generate_masks(src, tgt):\n",
        "    enc_mask = generate_padding_mask(src)\n",
        "    dec_enc_mask = generate_padding_mask(src)\n",
        "\n",
        "    dec_lookahead_mask = generate_lookahead_mask(tgt.shape[1])\n",
        "    dec_tgt_padding_mask = generate_padding_mask(tgt)\n",
        "    dec_mask = tf.maximum(dec_tgt_padding_mask, dec_lookahead_mask)\n",
        "\n",
        "    return enc_mask, dec_enc_mask, dec_mask"
      ],
      "metadata": {
        "id": "m2Ze6oU8Cg_I"
      },
      "execution_count": 39,
      "outputs": []
    },
    {
      "cell_type": "markdown",
      "source": [
        "## **6.3 Multi-head Attention**"
      ],
      "metadata": {
        "id": "_sbSZKtyCkTj"
      }
    },
    {
      "cell_type": "code",
      "source": [
        "class MultiHeadAttention(tf.keras.layers.Layer):\n",
        "    def __init__(self, d_model, num_heads):\n",
        "        super(MultiHeadAttention, self).__init__()\n",
        "        self.num_heads = num_heads\n",
        "        self.d_model = d_model\n",
        "        \n",
        "        self.depth = d_model // self.num_heads\n",
        "        \n",
        "        self.W_q = tf.keras.layers.Dense(d_model)\n",
        "        self.W_k = tf.keras.layers.Dense(d_model)\n",
        "        self.W_v = tf.keras.layers.Dense(d_model)\n",
        "        \n",
        "        self.linear = tf.keras.layers.Dense(d_model)\n",
        "\n",
        "    def scaled_dot_product_attention(self, Q, K, V, mask):\n",
        "        d_k = tf.cast(K.shape[-1], tf.float32)\n",
        "        QK = tf.matmul(Q, K, transpose_b=True)\n",
        "\n",
        "        scaled_qk = QK / tf.math.sqrt(d_k)\n",
        "\n",
        "        if mask is not None: scaled_qk += (mask * -1e9)  \n",
        "\n",
        "        attentions = tf.nn.softmax(scaled_qk, axis=-1)\n",
        "        out = tf.matmul(attentions, V)\n",
        "\n",
        "        return out, attentions\n",
        "        \n",
        "\n",
        "    def split_heads(self, x):\n",
        "        bsz = x.shape[0]\n",
        "        split_x = tf.reshape(x, (bsz, -1, self.num_heads, self.depth))\n",
        "        split_x = tf.transpose(split_x, perm=[0, 2, 1, 3])\n",
        "\n",
        "        return split_x\n",
        "\n",
        "    def combine_heads(self, x):\n",
        "        bsz = x.shape[0]\n",
        "        combined_x = tf.transpose(x, perm=[0, 2, 1, 3])\n",
        "        combined_x = tf.reshape(combined_x, (bsz, -1, self.d_model))\n",
        "\n",
        "        return combined_x\n",
        "\n",
        "    \n",
        "    def call(self, Q, K, V, mask):\n",
        "        WQ = self.W_q(Q)\n",
        "        WK = self.W_k(K)\n",
        "        WV = self.W_v(V)\n",
        "        \n",
        "        WQ_splits = self.split_heads(WQ)\n",
        "        WK_splits = self.split_heads(WK)\n",
        "        WV_splits = self.split_heads(WV)\n",
        "        \n",
        "        out, attention_weights = self.scaled_dot_product_attention(\n",
        "            WQ_splits, WK_splits, WV_splits, mask)\n",
        "                        \n",
        "        out = self.combine_heads(out)\n",
        "        out = self.linear(out)\n",
        "            \n",
        "        return out, attention_weights"
      ],
      "metadata": {
        "id": "jyyXXKz-CjMt"
      },
      "execution_count": 40,
      "outputs": []
    },
    {
      "cell_type": "markdown",
      "source": [
        "## **6.4 Position-wise Feed Forward Network**"
      ],
      "metadata": {
        "id": "nWkpWjf8Cmfh"
      }
    },
    {
      "cell_type": "code",
      "source": [
        "class PoswiseFeedForwardNet(tf.keras.layers.Layer):\n",
        "    def __init__(self, d_model, d_ff):\n",
        "        super(PoswiseFeedForwardNet, self).__init__()\n",
        "        self.d_model = d_model\n",
        "        self.d_ff = d_ff\n",
        "\n",
        "        self.fc1 = tf.keras.layers.Dense(d_ff, activation='relu')\n",
        "        self.fc2 = tf.keras.layers.Dense(d_model)\n",
        "\n",
        "    def call(self, x):\n",
        "        out = self.fc1(x)\n",
        "        out = self.fc2(out)\n",
        "            \n",
        "        return out"
      ],
      "metadata": {
        "id": "EQBStwoZClW0"
      },
      "execution_count": 41,
      "outputs": []
    },
    {
      "cell_type": "markdown",
      "source": [
        "## **6.5 Encoder Layer**"
      ],
      "metadata": {
        "id": "NURCPIoJCoes"
      }
    },
    {
      "cell_type": "code",
      "source": [
        "class EncoderLayer(tf.keras.layers.Layer):\n",
        "    def __init__(self, d_model, n_heads, d_ff, dropout):\n",
        "        super(EncoderLayer, self).__init__()\n",
        "\n",
        "        self.enc_self_attn = MultiHeadAttention(d_model, n_heads)\n",
        "        self.ffn = PoswiseFeedForwardNet(d_model, d_ff)\n",
        "\n",
        "        self.norm_1 = tf.keras.layers.LayerNormalization(epsilon=1e-6)\n",
        "        self.norm_2 = tf.keras.layers.LayerNormalization(epsilon=1e-6)\n",
        "\n",
        "        self.do = tf.keras.layers.Dropout(dropout)\n",
        "        \n",
        "    def call(self, x, mask):\n",
        "        '''\n",
        "        Multi-Head Attention\n",
        "        '''\n",
        "        residual = x\n",
        "        out = self.norm_1(x)\n",
        "        out, enc_attn = self.enc_self_attn(out, out, out, mask)\n",
        "        out = self.do(out)\n",
        "        out += residual\n",
        "        \n",
        "        '''\n",
        "        Position-Wise Feed Forward Network\n",
        "        '''\n",
        "        residual = out\n",
        "        out = self.norm_2(out)\n",
        "        out = self.ffn(out)\n",
        "        out = self.do(out)\n",
        "        out += residual\n",
        "        \n",
        "        return out, enc_attn"
      ],
      "metadata": {
        "id": "_xtWc2dwCnul"
      },
      "execution_count": 42,
      "outputs": []
    },
    {
      "cell_type": "markdown",
      "source": [
        "## **6.6 Decoder Layer**"
      ],
      "metadata": {
        "id": "fn4eU4h1Cssy"
      }
    },
    {
      "cell_type": "code",
      "source": [
        "class DecoderLayer(tf.keras.layers.Layer):\n",
        "    def __init__(self, d_model, num_heads, d_ff, dropout):\n",
        "        super(DecoderLayer, self).__init__()\n",
        "\n",
        "        self.dec_self_attn = MultiHeadAttention(d_model, num_heads)\n",
        "        self.enc_dec_attn = MultiHeadAttention(d_model, num_heads)\n",
        "\n",
        "        self.ffn = PoswiseFeedForwardNet(d_model, d_ff)\n",
        "\n",
        "        self.norm_1 = tf.keras.layers.LayerNormalization(epsilon=1e-6)\n",
        "        self.norm_2 = tf.keras.layers.LayerNormalization(epsilon=1e-6)\n",
        "        self.norm_3 = tf.keras.layers.LayerNormalization(epsilon=1e-6)\n",
        "\n",
        "        self.do = tf.keras.layers.Dropout(dropout)\n",
        "    \n",
        "    def call(self, x, enc_out, dec_enc_mask, padding_mask):\n",
        "        '''\n",
        "        Masked Multi-Head Attention\n",
        "        '''\n",
        "        residual = x\n",
        "        out = self.norm_1(x)\n",
        "        out, dec_attn = self.dec_self_attn(out, out, out, padding_mask)\n",
        "        out = self.do(out)\n",
        "        out += residual\n",
        "\n",
        "        '''\n",
        "        Multi-Head Attention\n",
        "        '''\n",
        "        residual = out\n",
        "        out = self.norm_2(out)\n",
        "        # Q, K, V 순서에 주의하세요!\n",
        "        out, dec_enc_attn = self.enc_dec_attn(Q=out, K=enc_out, V=enc_out, mask=dec_enc_mask)\n",
        "        out = self.do(out)\n",
        "        out += residual\n",
        "        \n",
        "        '''\n",
        "        Position-Wise Feed Forward Network\n",
        "        '''\n",
        "        residual = out\n",
        "        out = self.norm_3(out)\n",
        "        out = self.ffn(out)\n",
        "        out = self.do(out)\n",
        "        out += residual\n",
        "\n",
        "        return out, dec_attn, dec_enc_attn"
      ],
      "metadata": {
        "id": "QpTUgxJXCrjX"
      },
      "execution_count": 43,
      "outputs": []
    },
    {
      "cell_type": "markdown",
      "source": [
        "## **6.7 Encoder**"
      ],
      "metadata": {
        "id": "rqjMggwuCvQK"
      }
    },
    {
      "cell_type": "code",
      "source": [
        "class Encoder(tf.keras.Model):\n",
        "    def __init__(self,\n",
        "                    n_layers,\n",
        "                    d_model,\n",
        "                    n_heads,\n",
        "                    d_ff,\n",
        "                    dropout):\n",
        "        super(Encoder, self).__init__()\n",
        "        self.n_layers = n_layers\n",
        "        self.enc_layers = [EncoderLayer(d_model, n_heads, d_ff, dropout) \n",
        "                        for _ in range(n_layers)]\n",
        "    \n",
        "        self.do = tf.keras.layers.Dropout(dropout)\n",
        "        \n",
        "    def call(self, x, mask):\n",
        "        out = x\n",
        "    \n",
        "        enc_attns = list()\n",
        "        for i in range(self.n_layers):\n",
        "            out, enc_attn = self.enc_layers[i](out, mask)\n",
        "            enc_attns.append(enc_attn)\n",
        "        \n",
        "        return out, enc_attns"
      ],
      "metadata": {
        "id": "EFiLWBlhCt8V"
      },
      "execution_count": 44,
      "outputs": []
    },
    {
      "cell_type": "markdown",
      "source": [
        "## **6.8 Decoder**"
      ],
      "metadata": {
        "id": "N-ig4O2LCxlJ"
      }
    },
    {
      "cell_type": "code",
      "source": [
        "class Decoder(tf.keras.Model):\n",
        "    def __init__(self,\n",
        "                    n_layers,\n",
        "                    d_model,\n",
        "                    n_heads,\n",
        "                    d_ff,\n",
        "                    dropout):\n",
        "        super(Decoder, self).__init__()\n",
        "        self.n_layers = n_layers\n",
        "        self.dec_layers = [DecoderLayer(d_model, n_heads, d_ff, dropout) \n",
        "                            for _ in range(n_layers)]\n",
        "                            \n",
        "    def call(self, x, enc_out, dec_enc_mask, padding_mask):\n",
        "        out = x\n",
        "    \n",
        "        dec_attns = list()\n",
        "        dec_enc_attns = list()\n",
        "        for i in range(self.n_layers):\n",
        "            out, dec_attn, dec_enc_attn = \\\n",
        "            self.dec_layers[i](out, enc_out, dec_enc_mask, padding_mask)\n",
        "\n",
        "            dec_attns.append(dec_attn)\n",
        "            dec_enc_attns.append(dec_enc_attn)\n",
        "\n",
        "        return out, dec_attns, dec_enc_attns"
      ],
      "metadata": {
        "id": "N5MFVTgvCwfR"
      },
      "execution_count": 45,
      "outputs": []
    },
    {
      "cell_type": "markdown",
      "source": [
        "### **6.9 Transformer 전체 모델 조립**"
      ],
      "metadata": {
        "id": "_upFxsNEC0Ub"
      }
    },
    {
      "cell_type": "code",
      "source": [
        "class Transformer(tf.keras.Model):\n",
        "    def __init__(self,\n",
        "                    n_layers,\n",
        "                    d_model,\n",
        "                    n_heads,\n",
        "                    d_ff,\n",
        "                    src_vocab_size,\n",
        "                    tgt_vocab_size,\n",
        "                    pos_len,\n",
        "                    dropout=0.2,\n",
        "                    shared_fc=True,\n",
        "                    shared_emb=False):\n",
        "        super(Transformer, self).__init__()\n",
        "        \n",
        "        self.d_model = tf.cast(d_model, tf.float32)\n",
        "\n",
        "        if shared_emb:\n",
        "            self.enc_emb = self.dec_emb = \\\n",
        "            tf.keras.layers.Embedding(src_vocab_size, d_model)\n",
        "        else:\n",
        "            self.enc_emb = tf.keras.layers.Embedding(src_vocab_size, d_model)\n",
        "            self.dec_emb = tf.keras.layers.Embedding(tgt_vocab_size, d_model)\n",
        "\n",
        "        self.pos_encoding = positional_encoding(pos_len, d_model)\n",
        "        self.do = tf.keras.layers.Dropout(dropout)\n",
        "\n",
        "        self.encoder = Encoder(n_layers, d_model, n_heads, d_ff, dropout)\n",
        "        self.decoder = Decoder(n_layers, d_model, n_heads, d_ff, dropout)\n",
        "\n",
        "        self.fc = tf.keras.layers.Dense(tgt_vocab_size)\n",
        "\n",
        "        self.shared_fc = shared_fc\n",
        "\n",
        "        if shared_fc:\n",
        "            self.fc.set_weights(tf.transpose(self.dec_emb.weights))\n",
        "\n",
        "    def embedding(self, emb, x):\n",
        "        seq_len = x.shape[1]\n",
        "\n",
        "        out = emb(x)\n",
        "\n",
        "        if self.shared_fc: out *= tf.math.sqrt(self.d_model)\n",
        "\n",
        "        out += self.pos_encoding[np.newaxis, ...][:, :seq_len, :]\n",
        "        out = self.do(out)\n",
        "\n",
        "        return out\n",
        "\n",
        "        \n",
        "    def call(self, enc_in, dec_in, enc_mask, dec_enc_mask, dec_mask):\n",
        "        enc_in = self.embedding(self.enc_emb, enc_in)\n",
        "        dec_in = self.embedding(self.dec_emb, dec_in)\n",
        "\n",
        "        enc_out, enc_attns = self.encoder(enc_in, enc_mask)\n",
        "        \n",
        "        dec_out, dec_attns, dec_enc_attns = \\\n",
        "        self.decoder(dec_in, enc_out, dec_enc_mask, dec_mask)\n",
        "        \n",
        "        logits = self.fc(dec_out)\n",
        "        \n",
        "        return logits, enc_attns, dec_attns, dec_enc_attns"
      ],
      "metadata": {
        "id": "Bn59SQvwCzTf"
      },
      "execution_count": 46,
      "outputs": []
    },
    {
      "cell_type": "markdown",
      "source": [
        "## **6.10 모델 인스턴스 생성**"
      ],
      "metadata": {
        "id": "kYDpx8jFC2-5"
      }
    },
    {
      "cell_type": "code",
      "source": [
        "VOCAB_SIZE = 20000\n",
        "\n",
        "transformer = Transformer(\n",
        "    n_layers=2,\n",
        "    d_model=512,\n",
        "    n_heads=8,\n",
        "    d_ff=2048,\n",
        "    src_vocab_size=VOCAB_SIZE,\n",
        "    tgt_vocab_size=VOCAB_SIZE,\n",
        "    pos_len=200,\n",
        "    dropout=0.3,\n",
        "    shared_fc=True,\n",
        "    shared_emb=True)\n",
        "\n",
        "d_model = 512"
      ],
      "metadata": {
        "id": "a72t0FYrC1rN"
      },
      "execution_count": 47,
      "outputs": []
    },
    {
      "cell_type": "markdown",
      "source": [
        "# **Step 7. 모델 학습하기**\n",
        "---"
      ],
      "metadata": {
        "id": "DL0Is-kDDdcu"
      }
    },
    {
      "cell_type": "markdown",
      "source": [
        "## **7.1 Learning Rate Scheduler**"
      ],
      "metadata": {
        "id": "qJCI9Ke6DgF4"
      }
    },
    {
      "cell_type": "code",
      "source": [
        "# Learning Rate Scheduler 구현\n",
        "class LearningRateScheduler(tf.keras.optimizers.schedules.LearningRateSchedule):\n",
        "    def __init__(self, d_model, warmup_steps=4000):\n",
        "        super(LearningRateScheduler, self).__init__()\n",
        "        \n",
        "        self.d_model = d_model\n",
        "        self.warmup_steps = warmup_steps\n",
        "    \n",
        "    def __call__(self, step):\n",
        "        arg1 = step ** -0.5\n",
        "        arg2 = step * (self.warmup_steps ** -1.5)\n",
        "        \n",
        "        return (self.d_model ** -0.5) * tf.math.minimum(arg1, arg2)"
      ],
      "metadata": {
        "id": "9AXoGREgC5kX"
      },
      "execution_count": 48,
      "outputs": []
    },
    {
      "cell_type": "markdown",
      "source": [
        "## **7.2 Learning Rage & Optimizer**"
      ],
      "metadata": {
        "id": "Vp8tGzuTDjpG"
      }
    },
    {
      "cell_type": "code",
      "source": [
        "# Learning Rate 인스턴스 선언 & Optimizer 구현\n",
        "learning_rate = LearningRateScheduler(d_model)\n",
        "\n",
        "optimizer = tf.keras.optimizers.Adam(learning_rate,\n",
        "                                        beta_1=0.9,\n",
        "                                        beta_2=0.98, \n",
        "                                        epsilon=1e-9)"
      ],
      "metadata": {
        "id": "0VcGSujFDjC-"
      },
      "execution_count": 49,
      "outputs": []
    },
    {
      "cell_type": "markdown",
      "source": [
        "## **7.3 Loss Function 정의**"
      ],
      "metadata": {
        "id": "cVRA6IqgDrSB"
      }
    },
    {
      "cell_type": "code",
      "source": [
        "loss_object = tf.keras.losses.SparseCategoricalCrossentropy(\n",
        "    from_logits=True, reduction='none')\n",
        "\n",
        "def loss_function(real, pred):\n",
        "    mask = tf.math.logical_not(tf.math.equal(real, 0))\n",
        "    loss_ = loss_object(real, pred)\n",
        "\n",
        "    mask = tf.cast(mask, dtype=loss_.dtype)\n",
        "    loss_ *= mask\n",
        "\n",
        "    return tf.reduce_sum(loss_)/tf.reduce_sum(mask)"
      ],
      "metadata": {
        "id": "gCNv8VreDmdr"
      },
      "execution_count": 50,
      "outputs": []
    },
    {
      "cell_type": "markdown",
      "source": [
        "## **7.4 Train Step 정의**"
      ],
      "metadata": {
        "id": "NpYegaYKDuqN"
      }
    },
    {
      "cell_type": "code",
      "source": [
        "@tf.function()\n",
        "def train_step(src, tgt, model, optimizer):\n",
        "    tgt_in = tgt[:, :-1]  \n",
        "    gold = tgt[:, 1:]     \n",
        "\n",
        "    enc_mask, dec_enc_mask, dec_mask = generate_masks(src, tgt_in)\n",
        "\n",
        "    with tf.GradientTape() as tape:\n",
        "        predictions, enc_attns, dec_attns, dec_enc_attns = \\\n",
        "        model(src, tgt_in, enc_mask, dec_enc_mask, dec_mask)\n",
        "        loss = loss_function(gold, predictions)\n",
        "\n",
        "    gradients = tape.gradient(loss, model.trainable_variables)    \n",
        "    optimizer.apply_gradients(zip(gradients, model.trainable_variables))\n",
        "\n",
        "    return loss, enc_attns, dec_attns, dec_enc_attns"
      ],
      "metadata": {
        "id": "sSXuZiaaDtj9"
      },
      "execution_count": 51,
      "outputs": []
    },
    {
      "cell_type": "markdown",
      "source": [
        "## **7.5 모델 훈련하기**"
      ],
      "metadata": {
        "id": "yC5k5RleEfPn"
      }
    },
    {
      "cell_type": "code",
      "source": [
        "# from tqdm import tqdm_notebook \n",
        "\n",
        "# BATCH_SIZE = 64\n",
        "# EPOCHS = 30\n",
        "\n",
        "# for epoch in range(EPOCHS):\n",
        "#     total_loss = 0\n",
        "\n",
        "#     idx_list = list(range(0, enc_train.shape[0], BATCH_SIZE))\n",
        "#     random.shuffle(idx_list)\n",
        "#     t = tqdm_notebook(idx_list)\n",
        "\n",
        "#     for (batch, idx) in enumerate(t):\n",
        "#         batch_loss, enc_attns, dec_attns, dec_enc_attns = \\\n",
        "#         train_step(enc_train[idx:idx+BATCH_SIZE],\n",
        "#                     dec_train[idx:idx+BATCH_SIZE],\n",
        "#                     transformer,\n",
        "#                     optimizer)\n",
        "\n",
        "#         total_loss += batch_loss\n",
        "\n",
        "#         t.set_description_str('Epoch %2d' % (epoch + 1))\n",
        "#         t.set_postfix_str('Loss %.4f' % (total_loss.numpy() / (batch + 1)))"
      ],
      "metadata": {
        "id": "fcKQFqY-RAxz"
      },
      "execution_count": null,
      "outputs": []
    },
    {
      "cell_type": "markdown",
      "source": [
        "# **🌞 회고**\n",
        "---"
      ],
      "metadata": {
        "id": "BSr_c6XYRCRG"
      }
    },
    {
      "cell_type": "markdown",
      "source": [
        "## **1) 결과**\n",
        "- 학습까지 시키고 싶었으나,,, 아쉽게도 학습을 시키지 못하였다.\n",
        "- 어떤 코드가 문제인지, 다른 분의 코드를 참고했음에도 해결하지 못하였다ㅠ_ㅠ..."
      ],
      "metadata": {
        "id": "fxoVzbb4RHlW"
      }
    },
    {
      "cell_type": "markdown",
      "source": [
        "## **2) 후기**\n",
        "- 이번 프로젝트를 통해 번역과 챗봇이 유사하다는 것을 알게 되었다.\n",
        "- 번역을 구현시키는 코드로 챗봇의 결과까지 낼 수 있었으면 좋았을 텐데...너무 아쉽다..!\n",
        "- 다시 한번 찬찬히 해서 결과물을 내봐야겠다."
      ],
      "metadata": {
        "id": "9IAePLJxRaOz"
      }
    }
  ]
}